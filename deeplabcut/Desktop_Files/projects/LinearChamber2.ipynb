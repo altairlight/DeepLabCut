{
 "cells": [
  {
   "cell_type": "markdown",
   "metadata": {
    "colab_type": "text",
    "id": "RK255E7YoEIt"
   },
   "source": [
    "# DeepLabCut Toolbox\n",
    "https://github.com/AlexEMG/DeepLabCut\n",
    "\n",
    "Nath\\*, Mathis\\* et al. *Using DeepLabCut for markerless pose estimation during behavior across species*, (under revision).\n",
    "\n",
    "This notebook demonstrates the necessary steps to use DeepLabCut for your own project.\n",
    "This shows the most simple code to do so, but many of the functions have additional features, so please check out the overview & the protocol paper!\n",
    "\n",
    "This notebook illustrates how to:\n",
    "- create a project\n",
    "- extract training frames\n",
    "- label the frames\n",
    "- plot the labeled images\n",
    "- create a training set\n",
    "- train a network\n",
    "- evaluate a network\n",
    "- analyze a novel video\n",
    "- create an automatically labeled video \n",
    "- plot the trajectories\n",
    "\n",
    "*Note*: Refine a network based after the network was trained on just a few labeled images is illustrated in \"Demo-labeledexample-MouseReaching.ipynb\". This demo also contains an already labeled data set and is perhaps the best starting point for brand new users."
   ]
  },
  {
   "cell_type": "markdown",
   "metadata": {
    "colab_type": "text",
    "id": "9Uoz9mdPoEIy"
   },
   "source": [
    "## Create a new project\n",
    "\n",
    "It is always good idea to keep the projects seperate. This function creates a new project with subdirectories and a basic configuration file in the user defined directory otherwise the project is created in the current working directory.\n",
    "\n",
    "You can always add new videos to the project at any stage of the project. "
   ]
  },
  {
   "cell_type": "code",
   "execution_count": 1,
   "metadata": {
    "colab": {},
    "colab_type": "code",
    "id": "jqLZhp7EoEI0",
    "scrolled": false
   },
   "outputs": [],
   "source": [
    "import deeplabcut"
   ]
  },
  {
   "cell_type": "code",
   "execution_count": 2,
   "metadata": {
    "colab": {},
    "colab_type": "code",
    "id": "c9DjG55FoEI7",
    "scrolled": true
   },
   "outputs": [
    {
     "name": "stdout",
     "output_type": "stream",
     "text": [
      "Project \"C:\\Users\\user\\Desktop\\LinearChamber2-KAIST-2019-01-07\" already exists!\n"
     ]
    }
   ],
   "source": [
    "task='LinearChamber2' # Enter the name of your experiment Task\n",
    "experimenter='KAIST' # Enter the name of the experimenter\n",
    "video=['C:\\\\Users\\\\user\\\\Desktop\\\\Video_files_Deeplabcut\\\\LinearChamber\\\\20180906\\\\20180906_Trial2.mpg'] # Enter the paths of your videos you want to grab frames from.\n",
    "deeplabcut.create_new_project(task,experimenter,video, working_directory='C:\\\\Users\\\\user\\\\Desktop',copy_videos=False) #change the working directory to where you want the folders created."
   ]
  },
  {
   "cell_type": "markdown",
   "metadata": {
    "colab_type": "text",
    "id": "0yXW0bx1oEJA"
   },
   "source": [
    "## Extract frames from videos \n",
    "A key point for a successful feature detector is to select diverse frames, which are typical for the behavior you study that should be labeled.\n",
    "\n",
    "This function selects N frames either uniformly sampled from a particular video (or folder) (algo=='uniform'). Note: this might not yield diverse frames, if the behavior is sparsely distributed (consider using kmeans), and/or select frames manually etc.\n",
    "\n",
    "Also make sure to get select data from different (behavioral) sessions and different animals if those vary substantially (to train an invariant feature detector).\n",
    "\n",
    "Individual images should not be too big (i.e. < 850 x 850 pixel). Although this can be taken care of later as well, it is advisable to crop the frames, to remove unnecessary parts of the frame as much as possible.\n",
    "\n",
    "Always check the output of cropping. If you are happy with the results proceed to labeling."
   ]
  },
  {
   "cell_type": "code",
   "execution_count": 2,
   "metadata": {
    "colab": {},
    "colab_type": "code",
    "id": "t1ulumCuoEJC"
   },
   "outputs": [],
   "source": [
    "%matplotlib inline\n",
    "path_config_file = 'C:\\\\Users\\\\user\\\\Desktop\\\\LinearChamber2-KAIST-2019-01-07\\\\config.yaml'"
   ]
  },
  {
   "cell_type": "code",
   "execution_count": null,
   "metadata": {
    "colab": {},
    "colab_type": "code",
    "id": "t1ulumCuoEJC",
    "scrolled": true
   },
   "outputs": [
    {
     "name": "stdout",
     "output_type": "stream",
     "text": [
      "Reading config file successfully...\n",
      "Make sure you change the crop parameters in the config.yaml file. The default parameters are set to the video dimensions.\n",
      "Extracting frames based on kmeans ...\n",
      "Kmeans-quantization based extracting of frames from 0.0  seconds to 600.21  seconds.\n",
      "Extracting and downsampling... 17959  frames from the video.\n"
     ]
    },
    {
     "name": "stderr",
     "output_type": "stream",
     "text": [
      "11192it [00:12, 868.64it/s]"
     ]
    }
   ],
   "source": [
    "deeplabcut.extract_frames(path_config_file,'automatic','kmeans',crop=True, checkcropping=False) #there are other ways to grab frames, such as by clustering 'kmeans'; please see the paper. \n",
    "#You can change the cropping to false, then delete the checkcropping part!"
   ]
  },
  {
   "cell_type": "markdown",
   "metadata": {
    "colab_type": "text",
    "id": "Gjn6ZDonoEJH"
   },
   "source": [
    "## Label the extracted frames\n",
    "Only videos in the config file can be used to extract the frames. Extracted labels for each video are stored in the project directory under the subdirectory **'labeled-data'**. Each subdirectory is named after the name of the video. The toolbox has a labeling toolbox which could be used for labeling. "
   ]
  },
  {
   "cell_type": "code",
   "execution_count": 3,
   "metadata": {
    "colab": {},
    "colab_type": "code",
    "id": "iyROSOiEoEJI",
    "scrolled": true
   },
   "outputs": [
    {
     "ename": "RuntimeError",
     "evalue": "wrapped C/C++ object of type DirDialog has been deleted",
     "output_type": "error",
     "traceback": [
      "\u001b[1;31m---------------------------------------------------------------------------\u001b[0m",
      "\u001b[1;31mRuntimeError\u001b[0m                              Traceback (most recent call last)",
      "\u001b[1;32mC:\\Users\\user\\Anaconda3\\envs\\DLC2_COPY\\lib\\site-packages\\deeplabcut\\generate_training_dataset\\labeling_toolbox.py\u001b[0m in \u001b[0;36mbrowseDir\u001b[1;34m(self, event)\u001b[0m\n\u001b[0;32m    221\u001b[0m             \u001b[0mdlg\u001b[0m\u001b[1;33m.\u001b[0m\u001b[0mDestroy\u001b[0m\u001b[1;33m(\u001b[0m\u001b[1;33m)\u001b[0m\u001b[1;33m\u001b[0m\u001b[1;33m\u001b[0m\u001b[0m\n\u001b[0;32m    222\u001b[0m             \u001b[0mself\u001b[0m\u001b[1;33m.\u001b[0m\u001b[0mClose\u001b[0m\u001b[1;33m(\u001b[0m\u001b[1;32mTrue\u001b[0m\u001b[1;33m)\u001b[0m\u001b[1;33m\u001b[0m\u001b[1;33m\u001b[0m\u001b[0m\n\u001b[1;32m--> 223\u001b[1;33m         \u001b[0mdlg\u001b[0m\u001b[1;33m.\u001b[0m\u001b[0mDestroy\u001b[0m\u001b[1;33m(\u001b[0m\u001b[1;33m)\u001b[0m\u001b[1;33m\u001b[0m\u001b[1;33m\u001b[0m\u001b[0m\n\u001b[0m\u001b[0;32m    224\u001b[0m         \u001b[1;32mwith\u001b[0m \u001b[0mopen\u001b[0m\u001b[1;33m(\u001b[0m\u001b[0mstr\u001b[0m\u001b[1;33m(\u001b[0m\u001b[0mself\u001b[0m\u001b[1;33m.\u001b[0m\u001b[0mconfig_file\u001b[0m\u001b[1;33m)\u001b[0m\u001b[1;33m,\u001b[0m \u001b[1;34m'r'\u001b[0m\u001b[1;33m)\u001b[0m \u001b[1;32mas\u001b[0m \u001b[0mymlfile\u001b[0m\u001b[1;33m:\u001b[0m\u001b[1;33m\u001b[0m\u001b[1;33m\u001b[0m\u001b[0m\n\u001b[0;32m    225\u001b[0m             \u001b[0mself\u001b[0m\u001b[1;33m.\u001b[0m\u001b[0mcfg\u001b[0m \u001b[1;33m=\u001b[0m \u001b[0myaml\u001b[0m\u001b[1;33m.\u001b[0m\u001b[0mload\u001b[0m\u001b[1;33m(\u001b[0m\u001b[0mymlfile\u001b[0m\u001b[1;33m)\u001b[0m\u001b[1;33m\u001b[0m\u001b[1;33m\u001b[0m\u001b[0m\n",
      "\u001b[1;31mRuntimeError\u001b[0m: wrapped C/C++ object of type DirDialog has been deleted"
     ]
    }
   ],
   "source": [
    "%gui wx\n",
    "deeplabcut.label_frames(path_config_file, Screens=2, winHack=0.5)"
   ]
  },
  {
   "cell_type": "markdown",
   "metadata": {
    "colab_type": "text",
    "id": "vim95ZvkPSeN"
   },
   "source": [
    "**Check the labels**\n",
    "\n",
    "Checking if the labels were created and stored correctly is beneficial for training, since labeling is one of the most critical parts for creating the training dataset. The DeepLabCut toolbox provides a function `check\\_labels'  to do so. It is used as follows:"
   ]
  },
  {
   "cell_type": "code",
   "execution_count": 4,
   "metadata": {
    "colab": {},
    "colab_type": "code",
    "id": "NwvgPJouPP2O"
   },
   "outputs": [
    {
     "name": "stdout",
     "output_type": "stream",
     "text": [
      "Creating images with labels by KAIST.\n",
      "They are stored in the following folder: C:\\Users\\user\\Desktop\\LinearChamber2-KAIST-2019-01-07\\labeled-data\\20180906_Trial2_labeled.\n",
      "If all the labels are ok, then use the function 'create_training_dataset' to create the training dataset!\n"
     ]
    }
   ],
   "source": [
    "deeplabcut.check_labels(path_config_file) #this creates a subdirectory with the frames + your labels"
   ]
  },
  {
   "cell_type": "markdown",
   "metadata": {
    "colab_type": "text",
    "id": "of87fOjgPqzH"
   },
   "source": [
    "If the labels need adjusted, you can use the refinement GUI to move them around! Check that out below."
   ]
  },
  {
   "cell_type": "markdown",
   "metadata": {
    "colab_type": "text",
    "id": "xNi9s1dboEJN"
   },
   "source": [
    "## Create a training dataset\n",
    "This function generates the training data information for DeepCut (which requires a mat file) based on the pandas dataframes that hold label information. The user can set the fraction of the training set size (from all labeled image in the hd5 file) in the config.yaml file. While creating the dataset, the user can create multiple shuffles. \n",
    "\n",
    "After running this script the training dataset is created and saved in the project directory under the subdirectory **'training-datasets'**\n",
    "\n",
    "This function also creates new subdirectories under **dlc-models** and appends the project config.yaml file with the correct path to the training and testing pose configuration file. These files hold the parameters for training the network. Such an example file is provided with the toolbox and named as **pose_cfg.yaml**.\n",
    "\n",
    "Now it is the time to start training the network!"
   ]
  },
  {
   "cell_type": "code",
   "execution_count": 5,
   "metadata": {
    "colab": {},
    "colab_type": "code",
    "id": "eMeUwgxPoEJP",
    "scrolled": false
   },
   "outputs": [
    {
     "name": "stdout",
     "output_type": "stream",
     "text": [
      "The training dataset is successfully created. Use the function 'train_network' to start training. Happy training!\n"
     ]
    }
   ],
   "source": [
    "deeplabcut.create_training_dataset(path_config_file)"
   ]
  },
  {
   "cell_type": "markdown",
   "metadata": {
    "colab_type": "text",
    "id": "c4FczXGDoEJU"
   },
   "source": [
    "## Start training - If you want to use a CPU, continue. \n",
    "### If you want to use your GPU, you need to exit here and either work from the Docker container, your own TensorFlow installation in an Anaconda env\n",
    "\n",
    "This function trains the network for a specific shuffle of the training dataset. "
   ]
  },
  {
   "cell_type": "code",
   "execution_count": 5,
   "metadata": {
    "colab": {},
    "colab_type": "code",
    "id": "_pOvDq_2oEJW",
    "scrolled": true
   },
   "outputs": [
    {
     "name": "stderr",
     "output_type": "stream",
     "text": [
      "Config:\n",
      "{'all_joints': [[0],\n",
      "                [1],\n",
      "                [2],\n",
      "                [3],\n",
      "                [4],\n",
      "                [5],\n",
      "                [6],\n",
      "                [7],\n",
      "                [8],\n",
      "                [9],\n",
      "                [10],\n",
      "                [11],\n",
      "                [12]],\n",
      " 'all_joints_names': ['L1',\n",
      "                      'L2',\n",
      "                      'L3',\n",
      "                      'L4',\n",
      "                      'R1',\n",
      "                      'R2',\n",
      "                      'R3',\n",
      "                      'R4',\n",
      "                      'Tether',\n",
      "                      'Nose',\n",
      "                      'LeftEar',\n",
      "                      'RightEar',\n",
      "                      'TailBase'],\n",
      " 'batch_size': 1,\n",
      " 'bottomheight': 400,\n",
      " 'crop': True,\n",
      " 'crop_pad': 0,\n",
      " 'cropratio': 0.4,\n",
      " 'dataset': 'training-datasets\\\\iteration-3\\\\UnaugmentedDataSet_LinearChamber2Jan7\\\\LinearChamber2_KAIST80shuffle1.mat',\n",
      " 'dataset_type': 'default',\n",
      " 'display_iters': 1000,\n",
      " 'fg_fraction': 0.25,\n",
      " 'global_scale': 0.8,\n",
      " 'init_weights': 'D:\\\\Users\\\\user\\\\Desktop\\\\LinearChamber-KAIST-2018-11-19\\\\dlc-models\\\\iteration-3\\\\LinearChamberNov19-trainset80shuffle1\\\\train\\\\snapshot-195000',\n",
      " 'intermediate_supervision': False,\n",
      " 'intermediate_supervision_layer': 12,\n",
      " 'leftwidth': 400,\n",
      " 'location_refinement': True,\n",
      " 'locref_huber_loss': True,\n",
      " 'locref_loss_weight': 0.05,\n",
      " 'locref_stdev': 7.2801,\n",
      " 'log_dir': 'log',\n",
      " 'max_input_size': 1000,\n",
      " 'mean_pixel': [123.68, 116.779, 103.939],\n",
      " 'metadataset': 'training-datasets\\\\iteration-3\\\\UnaugmentedDataSet_LinearChamber2Jan7\\\\Documentation_data-LinearChamber2_80shuffle1.pickle',\n",
      " 'minsize': 100,\n",
      " 'mirror': False,\n",
      " 'multi_step': [[0.005, 10000],\n",
      "                [0.02, 430000],\n",
      "                [0.002, 730000],\n",
      "                [0.001, 1030000]],\n",
      " 'net_type': 'resnet_101',\n",
      " 'num_joints': 13,\n",
      " 'optimizer': 'sgd',\n",
      " 'pos_dist_thresh': 17,\n",
      " 'project_path': 'D:\\\\Users\\\\user\\\\Desktop\\\\LinearChamber2-KAIST-2019-01-07',\n",
      " 'regularize': False,\n",
      " 'rightwidth': 400,\n",
      " 'save_iters': 50000,\n",
      " 'scale_jitter_lo': 0.5,\n",
      " 'scale_jitter_up': 1.25,\n",
      " 'scoremap_dir': 'test',\n",
      " 'shuffle': True,\n",
      " 'snapshot_prefix': 'D:\\\\Users\\\\user\\\\Desktop\\\\LinearChamber2-KAIST-2019-01-07\\\\dlc-models\\\\iteration-3\\\\LinearChamber2Jan7-trainset80shuffle1\\\\train\\\\snapshot',\n",
      " 'stride': 8.0,\n",
      " 'topheight': 400,\n",
      " 'use_gt_segm': False,\n",
      " 'video': False,\n",
      " 'video_batch': False,\n",
      " 'weigh_negatives': False,\n",
      " 'weigh_only_present_joints': False,\n",
      " 'weigh_part_predictions': False,\n",
      " 'weight_decay': 0.0001}\n"
     ]
    },
    {
     "name": "stdout",
     "output_type": "stream",
     "text": [
      "INFO:tensorflow:Restoring parameters from D:\\Users\\user\\Desktop\\LinearChamber-KAIST-2018-11-19\\dlc-models\\iteration-3\\LinearChamberNov19-trainset80shuffle1\\train\\snapshot-195000\n"
     ]
    },
    {
     "name": "stderr",
     "output_type": "stream",
     "text": [
      "Restoring parameters from D:\\Users\\user\\Desktop\\LinearChamber-KAIST-2018-11-19\\dlc-models\\iteration-3\\LinearChamberNov19-trainset80shuffle1\\train\\snapshot-195000\n"
     ]
    },
    {
     "name": "stdout",
     "output_type": "stream",
     "text": [
      "Training parameter:\n",
      "{'stride': 8.0, 'weigh_part_predictions': False, 'weigh_negatives': False, 'fg_fraction': 0.25, 'weigh_only_present_joints': False, 'mean_pixel': [123.68, 116.779, 103.939], 'shuffle': True, 'snapshot_prefix': 'D:\\\\Users\\\\user\\\\Desktop\\\\LinearChamber2-KAIST-2019-01-07\\\\dlc-models\\\\iteration-3\\\\LinearChamber2Jan7-trainset80shuffle1\\\\train\\\\snapshot', 'log_dir': 'log', 'global_scale': 0.8, 'location_refinement': True, 'locref_stdev': 7.2801, 'locref_loss_weight': 0.05, 'locref_huber_loss': True, 'optimizer': 'sgd', 'intermediate_supervision': True, 'intermediate_supervision_layer': 12, 'regularize': True, 'weight_decay': 0.001, 'mirror': False, 'crop_pad': 0, 'scoremap_dir': 'test', 'dataset_type': 'default', 'use_gt_segm': False, 'batch_size': 1, 'video': False, 'video_batch': False, 'crop': True, 'cropratio': 0.4, 'minsize': 100, 'leftwidth': 400, 'rightwidth': 400, 'topheight': 400, 'bottomheight': 400, 'all_joints': [[0], [1], [2], [3], [4], [5], [6], [7], [8], [9], [10], [11], [12]], 'all_joints_names': ['L1', 'L2', 'L3', 'L4', 'R1', 'R2', 'R3', 'R4', 'Tether', 'Nose', 'LeftEar', 'RightEar', 'TailBase'], 'dataset': 'training-datasets\\\\iteration-3\\\\UnaugmentedDataSet_LinearChamber2Jan7\\\\LinearChamber2_KAIST80shuffle1.mat', 'display_iters': 5000, 'init_weights': 'D:\\\\Users\\\\user\\\\Desktop\\\\LinearChamber-KAIST-2018-11-19\\\\dlc-models\\\\iteration-3\\\\LinearChamberNov19-trainset80shuffle1\\\\train\\\\snapshot-195000', 'max_input_size': 1000, 'metadataset': 'training-datasets\\\\iteration-3\\\\UnaugmentedDataSet_LinearChamber2Jan7\\\\Documentation_data-LinearChamber2_80shuffle1.pickle', 'multi_step': [[0.001, 300000]], 'net_type': 'resnet_101', 'num_joints': 13, 'pos_dist_thresh': 17, 'project_path': 'D:\\\\Users\\\\user\\\\Desktop\\\\LinearChamber2-KAIST-2019-01-07', 'save_iters': 5000, 'scale_jitter_lo': 0.5, 'scale_jitter_up': 1.25}\n",
      "Starting training....\n"
     ]
    },
    {
     "name": "stderr",
     "output_type": "stream",
     "text": [
      "iteration: 5000 loss: 0.0260 lr: 0.001\n"
     ]
    },
    {
     "name": "stdout",
     "output_type": "stream",
     "text": [
      "INFO:tensorflow:D:\\Users\\user\\Desktop\\LinearChamber2-KAIST-2019-01-07\\dlc-models\\iteration-3\\LinearChamber2Jan7-trainset80shuffle1\\train\\snapshot-5000 is not in all_model_checkpoint_paths. Manually adding it.\n"
     ]
    },
    {
     "name": "stderr",
     "output_type": "stream",
     "text": [
      "D:\\Users\\user\\Desktop\\LinearChamber2-KAIST-2019-01-07\\dlc-models\\iteration-3\\LinearChamber2Jan7-trainset80shuffle1\\train\\snapshot-5000 is not in all_model_checkpoint_paths. Manually adding it.\n",
      "iteration: 10000 loss: 0.0138 lr: 0.001\n"
     ]
    },
    {
     "name": "stdout",
     "output_type": "stream",
     "text": [
      "INFO:tensorflow:D:\\Users\\user\\Desktop\\LinearChamber2-KAIST-2019-01-07\\dlc-models\\iteration-3\\LinearChamber2Jan7-trainset80shuffle1\\train\\snapshot-10000 is not in all_model_checkpoint_paths. Manually adding it.\n"
     ]
    },
    {
     "name": "stderr",
     "output_type": "stream",
     "text": [
      "D:\\Users\\user\\Desktop\\LinearChamber2-KAIST-2019-01-07\\dlc-models\\iteration-3\\LinearChamber2Jan7-trainset80shuffle1\\train\\snapshot-10000 is not in all_model_checkpoint_paths. Manually adding it.\n",
      "iteration: 15000 loss: 0.0117 lr: 0.001\n"
     ]
    },
    {
     "name": "stdout",
     "output_type": "stream",
     "text": [
      "INFO:tensorflow:D:\\Users\\user\\Desktop\\LinearChamber2-KAIST-2019-01-07\\dlc-models\\iteration-3\\LinearChamber2Jan7-trainset80shuffle1\\train\\snapshot-15000 is not in all_model_checkpoint_paths. Manually adding it.\n"
     ]
    },
    {
     "name": "stderr",
     "output_type": "stream",
     "text": [
      "D:\\Users\\user\\Desktop\\LinearChamber2-KAIST-2019-01-07\\dlc-models\\iteration-3\\LinearChamber2Jan7-trainset80shuffle1\\train\\snapshot-15000 is not in all_model_checkpoint_paths. Manually adding it.\n",
      "iteration: 20000 loss: 0.0105 lr: 0.001\n"
     ]
    },
    {
     "name": "stdout",
     "output_type": "stream",
     "text": [
      "INFO:tensorflow:D:\\Users\\user\\Desktop\\LinearChamber2-KAIST-2019-01-07\\dlc-models\\iteration-3\\LinearChamber2Jan7-trainset80shuffle1\\train\\snapshot-20000 is not in all_model_checkpoint_paths. Manually adding it.\n"
     ]
    },
    {
     "name": "stderr",
     "output_type": "stream",
     "text": [
      "D:\\Users\\user\\Desktop\\LinearChamber2-KAIST-2019-01-07\\dlc-models\\iteration-3\\LinearChamber2Jan7-trainset80shuffle1\\train\\snapshot-20000 is not in all_model_checkpoint_paths. Manually adding it.\n",
      "iteration: 25000 loss: 0.0098 lr: 0.001\n"
     ]
    },
    {
     "name": "stdout",
     "output_type": "stream",
     "text": [
      "INFO:tensorflow:D:\\Users\\user\\Desktop\\LinearChamber2-KAIST-2019-01-07\\dlc-models\\iteration-3\\LinearChamber2Jan7-trainset80shuffle1\\train\\snapshot-25000 is not in all_model_checkpoint_paths. Manually adding it.\n"
     ]
    },
    {
     "name": "stderr",
     "output_type": "stream",
     "text": [
      "D:\\Users\\user\\Desktop\\LinearChamber2-KAIST-2019-01-07\\dlc-models\\iteration-3\\LinearChamber2Jan7-trainset80shuffle1\\train\\snapshot-25000 is not in all_model_checkpoint_paths. Manually adding it.\n",
      "iteration: 30000 loss: 0.0091 lr: 0.001\n"
     ]
    },
    {
     "name": "stdout",
     "output_type": "stream",
     "text": [
      "INFO:tensorflow:D:\\Users\\user\\Desktop\\LinearChamber2-KAIST-2019-01-07\\dlc-models\\iteration-3\\LinearChamber2Jan7-trainset80shuffle1\\train\\snapshot-30000 is not in all_model_checkpoint_paths. Manually adding it.\n"
     ]
    },
    {
     "name": "stderr",
     "output_type": "stream",
     "text": [
      "D:\\Users\\user\\Desktop\\LinearChamber2-KAIST-2019-01-07\\dlc-models\\iteration-3\\LinearChamber2Jan7-trainset80shuffle1\\train\\snapshot-30000 is not in all_model_checkpoint_paths. Manually adding it.\n",
      "iteration: 35000 loss: 0.0086 lr: 0.001\n"
     ]
    },
    {
     "name": "stdout",
     "output_type": "stream",
     "text": [
      "INFO:tensorflow:D:\\Users\\user\\Desktop\\LinearChamber2-KAIST-2019-01-07\\dlc-models\\iteration-3\\LinearChamber2Jan7-trainset80shuffle1\\train\\snapshot-35000 is not in all_model_checkpoint_paths. Manually adding it.\n"
     ]
    },
    {
     "name": "stderr",
     "output_type": "stream",
     "text": [
      "D:\\Users\\user\\Desktop\\LinearChamber2-KAIST-2019-01-07\\dlc-models\\iteration-3\\LinearChamber2Jan7-trainset80shuffle1\\train\\snapshot-35000 is not in all_model_checkpoint_paths. Manually adding it.\n",
      "iteration: 40000 loss: 0.0083 lr: 0.001\n"
     ]
    },
    {
     "name": "stdout",
     "output_type": "stream",
     "text": [
      "INFO:tensorflow:D:\\Users\\user\\Desktop\\LinearChamber2-KAIST-2019-01-07\\dlc-models\\iteration-3\\LinearChamber2Jan7-trainset80shuffle1\\train\\snapshot-40000 is not in all_model_checkpoint_paths. Manually adding it.\n"
     ]
    },
    {
     "name": "stderr",
     "output_type": "stream",
     "text": [
      "D:\\Users\\user\\Desktop\\LinearChamber2-KAIST-2019-01-07\\dlc-models\\iteration-3\\LinearChamber2Jan7-trainset80shuffle1\\train\\snapshot-40000 is not in all_model_checkpoint_paths. Manually adding it.\n",
      "iteration: 45000 loss: 0.0079 lr: 0.001\n"
     ]
    },
    {
     "name": "stdout",
     "output_type": "stream",
     "text": [
      "INFO:tensorflow:D:\\Users\\user\\Desktop\\LinearChamber2-KAIST-2019-01-07\\dlc-models\\iteration-3\\LinearChamber2Jan7-trainset80shuffle1\\train\\snapshot-45000 is not in all_model_checkpoint_paths. Manually adding it.\n"
     ]
    },
    {
     "name": "stderr",
     "output_type": "stream",
     "text": [
      "D:\\Users\\user\\Desktop\\LinearChamber2-KAIST-2019-01-07\\dlc-models\\iteration-3\\LinearChamber2Jan7-trainset80shuffle1\\train\\snapshot-45000 is not in all_model_checkpoint_paths. Manually adding it.\n",
      "iteration: 50000 loss: 0.0077 lr: 0.001\n"
     ]
    },
    {
     "name": "stdout",
     "output_type": "stream",
     "text": [
      "INFO:tensorflow:D:\\Users\\user\\Desktop\\LinearChamber2-KAIST-2019-01-07\\dlc-models\\iteration-3\\LinearChamber2Jan7-trainset80shuffle1\\train\\snapshot-50000 is not in all_model_checkpoint_paths. Manually adding it.\n"
     ]
    },
    {
     "name": "stderr",
     "output_type": "stream",
     "text": [
      "D:\\Users\\user\\Desktop\\LinearChamber2-KAIST-2019-01-07\\dlc-models\\iteration-3\\LinearChamber2Jan7-trainset80shuffle1\\train\\snapshot-50000 is not in all_model_checkpoint_paths. Manually adding it.\n",
      "iteration: 55000 loss: 0.0073 lr: 0.001\n"
     ]
    },
    {
     "name": "stdout",
     "output_type": "stream",
     "text": [
      "INFO:tensorflow:D:\\Users\\user\\Desktop\\LinearChamber2-KAIST-2019-01-07\\dlc-models\\iteration-3\\LinearChamber2Jan7-trainset80shuffle1\\train\\snapshot-55000 is not in all_model_checkpoint_paths. Manually adding it.\n"
     ]
    },
    {
     "name": "stderr",
     "output_type": "stream",
     "text": [
      "D:\\Users\\user\\Desktop\\LinearChamber2-KAIST-2019-01-07\\dlc-models\\iteration-3\\LinearChamber2Jan7-trainset80shuffle1\\train\\snapshot-55000 is not in all_model_checkpoint_paths. Manually adding it.\n",
      "iteration: 60000 loss: 0.0071 lr: 0.001\n"
     ]
    },
    {
     "name": "stdout",
     "output_type": "stream",
     "text": [
      "INFO:tensorflow:D:\\Users\\user\\Desktop\\LinearChamber2-KAIST-2019-01-07\\dlc-models\\iteration-3\\LinearChamber2Jan7-trainset80shuffle1\\train\\snapshot-60000 is not in all_model_checkpoint_paths. Manually adding it.\n"
     ]
    },
    {
     "name": "stderr",
     "output_type": "stream",
     "text": [
      "D:\\Users\\user\\Desktop\\LinearChamber2-KAIST-2019-01-07\\dlc-models\\iteration-3\\LinearChamber2Jan7-trainset80shuffle1\\train\\snapshot-60000 is not in all_model_checkpoint_paths. Manually adding it.\n",
      "iteration: 65000 loss: 0.0068 lr: 0.001\n"
     ]
    },
    {
     "name": "stdout",
     "output_type": "stream",
     "text": [
      "INFO:tensorflow:D:\\Users\\user\\Desktop\\LinearChamber2-KAIST-2019-01-07\\dlc-models\\iteration-3\\LinearChamber2Jan7-trainset80shuffle1\\train\\snapshot-65000 is not in all_model_checkpoint_paths. Manually adding it.\n"
     ]
    },
    {
     "name": "stderr",
     "output_type": "stream",
     "text": [
      "D:\\Users\\user\\Desktop\\LinearChamber2-KAIST-2019-01-07\\dlc-models\\iteration-3\\LinearChamber2Jan7-trainset80shuffle1\\train\\snapshot-65000 is not in all_model_checkpoint_paths. Manually adding it.\n",
      "iteration: 70000 loss: 0.0066 lr: 0.001\n"
     ]
    },
    {
     "name": "stdout",
     "output_type": "stream",
     "text": [
      "INFO:tensorflow:D:\\Users\\user\\Desktop\\LinearChamber2-KAIST-2019-01-07\\dlc-models\\iteration-3\\LinearChamber2Jan7-trainset80shuffle1\\train\\snapshot-70000 is not in all_model_checkpoint_paths. Manually adding it.\n"
     ]
    },
    {
     "name": "stderr",
     "output_type": "stream",
     "text": [
      "D:\\Users\\user\\Desktop\\LinearChamber2-KAIST-2019-01-07\\dlc-models\\iteration-3\\LinearChamber2Jan7-trainset80shuffle1\\train\\snapshot-70000 is not in all_model_checkpoint_paths. Manually adding it.\n",
      "iteration: 75000 loss: 0.0066 lr: 0.001\n"
     ]
    },
    {
     "name": "stdout",
     "output_type": "stream",
     "text": [
      "INFO:tensorflow:D:\\Users\\user\\Desktop\\LinearChamber2-KAIST-2019-01-07\\dlc-models\\iteration-3\\LinearChamber2Jan7-trainset80shuffle1\\train\\snapshot-75000 is not in all_model_checkpoint_paths. Manually adding it.\n"
     ]
    },
    {
     "name": "stderr",
     "output_type": "stream",
     "text": [
      "D:\\Users\\user\\Desktop\\LinearChamber2-KAIST-2019-01-07\\dlc-models\\iteration-3\\LinearChamber2Jan7-trainset80shuffle1\\train\\snapshot-75000 is not in all_model_checkpoint_paths. Manually adding it.\n",
      "iteration: 80000 loss: 0.0063 lr: 0.001\n"
     ]
    },
    {
     "name": "stdout",
     "output_type": "stream",
     "text": [
      "INFO:tensorflow:D:\\Users\\user\\Desktop\\LinearChamber2-KAIST-2019-01-07\\dlc-models\\iteration-3\\LinearChamber2Jan7-trainset80shuffle1\\train\\snapshot-80000 is not in all_model_checkpoint_paths. Manually adding it.\n"
     ]
    },
    {
     "name": "stderr",
     "output_type": "stream",
     "text": [
      "D:\\Users\\user\\Desktop\\LinearChamber2-KAIST-2019-01-07\\dlc-models\\iteration-3\\LinearChamber2Jan7-trainset80shuffle1\\train\\snapshot-80000 is not in all_model_checkpoint_paths. Manually adding it.\n",
      "iteration: 85000 loss: 0.0062 lr: 0.001\n"
     ]
    },
    {
     "name": "stdout",
     "output_type": "stream",
     "text": [
      "INFO:tensorflow:D:\\Users\\user\\Desktop\\LinearChamber2-KAIST-2019-01-07\\dlc-models\\iteration-3\\LinearChamber2Jan7-trainset80shuffle1\\train\\snapshot-85000 is not in all_model_checkpoint_paths. Manually adding it.\n"
     ]
    },
    {
     "name": "stderr",
     "output_type": "stream",
     "text": [
      "D:\\Users\\user\\Desktop\\LinearChamber2-KAIST-2019-01-07\\dlc-models\\iteration-3\\LinearChamber2Jan7-trainset80shuffle1\\train\\snapshot-85000 is not in all_model_checkpoint_paths. Manually adding it.\n",
      "iteration: 90000 loss: 0.0060 lr: 0.001\n"
     ]
    },
    {
     "name": "stdout",
     "output_type": "stream",
     "text": [
      "INFO:tensorflow:D:\\Users\\user\\Desktop\\LinearChamber2-KAIST-2019-01-07\\dlc-models\\iteration-3\\LinearChamber2Jan7-trainset80shuffle1\\train\\snapshot-90000 is not in all_model_checkpoint_paths. Manually adding it.\n"
     ]
    },
    {
     "name": "stderr",
     "output_type": "stream",
     "text": [
      "D:\\Users\\user\\Desktop\\LinearChamber2-KAIST-2019-01-07\\dlc-models\\iteration-3\\LinearChamber2Jan7-trainset80shuffle1\\train\\snapshot-90000 is not in all_model_checkpoint_paths. Manually adding it.\n",
      "iteration: 95000 loss: 0.0059 lr: 0.001\n"
     ]
    },
    {
     "name": "stdout",
     "output_type": "stream",
     "text": [
      "INFO:tensorflow:D:\\Users\\user\\Desktop\\LinearChamber2-KAIST-2019-01-07\\dlc-models\\iteration-3\\LinearChamber2Jan7-trainset80shuffle1\\train\\snapshot-95000 is not in all_model_checkpoint_paths. Manually adding it.\n"
     ]
    },
    {
     "name": "stderr",
     "output_type": "stream",
     "text": [
      "D:\\Users\\user\\Desktop\\LinearChamber2-KAIST-2019-01-07\\dlc-models\\iteration-3\\LinearChamber2Jan7-trainset80shuffle1\\train\\snapshot-95000 is not in all_model_checkpoint_paths. Manually adding it.\n",
      "iteration: 100000 loss: 0.0057 lr: 0.001\n"
     ]
    },
    {
     "name": "stdout",
     "output_type": "stream",
     "text": [
      "INFO:tensorflow:D:\\Users\\user\\Desktop\\LinearChamber2-KAIST-2019-01-07\\dlc-models\\iteration-3\\LinearChamber2Jan7-trainset80shuffle1\\train\\snapshot-100000 is not in all_model_checkpoint_paths. Manually adding it.\n"
     ]
    },
    {
     "name": "stderr",
     "output_type": "stream",
     "text": [
      "D:\\Users\\user\\Desktop\\LinearChamber2-KAIST-2019-01-07\\dlc-models\\iteration-3\\LinearChamber2Jan7-trainset80shuffle1\\train\\snapshot-100000 is not in all_model_checkpoint_paths. Manually adding it.\n",
      "iteration: 105000 loss: 0.0056 lr: 0.001\n"
     ]
    },
    {
     "name": "stdout",
     "output_type": "stream",
     "text": [
      "INFO:tensorflow:D:\\Users\\user\\Desktop\\LinearChamber2-KAIST-2019-01-07\\dlc-models\\iteration-3\\LinearChamber2Jan7-trainset80shuffle1\\train\\snapshot-105000 is not in all_model_checkpoint_paths. Manually adding it.\n"
     ]
    },
    {
     "name": "stderr",
     "output_type": "stream",
     "text": [
      "D:\\Users\\user\\Desktop\\LinearChamber2-KAIST-2019-01-07\\dlc-models\\iteration-3\\LinearChamber2Jan7-trainset80shuffle1\\train\\snapshot-105000 is not in all_model_checkpoint_paths. Manually adding it.\n",
      "iteration: 110000 loss: 0.0054 lr: 0.001\n"
     ]
    },
    {
     "name": "stdout",
     "output_type": "stream",
     "text": [
      "INFO:tensorflow:D:\\Users\\user\\Desktop\\LinearChamber2-KAIST-2019-01-07\\dlc-models\\iteration-3\\LinearChamber2Jan7-trainset80shuffle1\\train\\snapshot-110000 is not in all_model_checkpoint_paths. Manually adding it.\n"
     ]
    },
    {
     "name": "stderr",
     "output_type": "stream",
     "text": [
      "D:\\Users\\user\\Desktop\\LinearChamber2-KAIST-2019-01-07\\dlc-models\\iteration-3\\LinearChamber2Jan7-trainset80shuffle1\\train\\snapshot-110000 is not in all_model_checkpoint_paths. Manually adding it.\n",
      "iteration: 115000 loss: 0.0054 lr: 0.001\n"
     ]
    },
    {
     "name": "stdout",
     "output_type": "stream",
     "text": [
      "INFO:tensorflow:D:\\Users\\user\\Desktop\\LinearChamber2-KAIST-2019-01-07\\dlc-models\\iteration-3\\LinearChamber2Jan7-trainset80shuffle1\\train\\snapshot-115000 is not in all_model_checkpoint_paths. Manually adding it.\n"
     ]
    },
    {
     "name": "stderr",
     "output_type": "stream",
     "text": [
      "D:\\Users\\user\\Desktop\\LinearChamber2-KAIST-2019-01-07\\dlc-models\\iteration-3\\LinearChamber2Jan7-trainset80shuffle1\\train\\snapshot-115000 is not in all_model_checkpoint_paths. Manually adding it.\n",
      "iteration: 120000 loss: 0.0054 lr: 0.001\n"
     ]
    },
    {
     "name": "stdout",
     "output_type": "stream",
     "text": [
      "INFO:tensorflow:D:\\Users\\user\\Desktop\\LinearChamber2-KAIST-2019-01-07\\dlc-models\\iteration-3\\LinearChamber2Jan7-trainset80shuffle1\\train\\snapshot-120000 is not in all_model_checkpoint_paths. Manually adding it.\n"
     ]
    },
    {
     "name": "stderr",
     "output_type": "stream",
     "text": [
      "D:\\Users\\user\\Desktop\\LinearChamber2-KAIST-2019-01-07\\dlc-models\\iteration-3\\LinearChamber2Jan7-trainset80shuffle1\\train\\snapshot-120000 is not in all_model_checkpoint_paths. Manually adding it.\n",
      "iteration: 125000 loss: 0.0052 lr: 0.001\n"
     ]
    },
    {
     "name": "stdout",
     "output_type": "stream",
     "text": [
      "INFO:tensorflow:D:\\Users\\user\\Desktop\\LinearChamber2-KAIST-2019-01-07\\dlc-models\\iteration-3\\LinearChamber2Jan7-trainset80shuffle1\\train\\snapshot-125000 is not in all_model_checkpoint_paths. Manually adding it.\n"
     ]
    },
    {
     "name": "stderr",
     "output_type": "stream",
     "text": [
      "D:\\Users\\user\\Desktop\\LinearChamber2-KAIST-2019-01-07\\dlc-models\\iteration-3\\LinearChamber2Jan7-trainset80shuffle1\\train\\snapshot-125000 is not in all_model_checkpoint_paths. Manually adding it.\n",
      "iteration: 130000 loss: 0.0051 lr: 0.001\n"
     ]
    },
    {
     "name": "stdout",
     "output_type": "stream",
     "text": [
      "INFO:tensorflow:D:\\Users\\user\\Desktop\\LinearChamber2-KAIST-2019-01-07\\dlc-models\\iteration-3\\LinearChamber2Jan7-trainset80shuffle1\\train\\snapshot-130000 is not in all_model_checkpoint_paths. Manually adding it.\n"
     ]
    },
    {
     "name": "stderr",
     "output_type": "stream",
     "text": [
      "D:\\Users\\user\\Desktop\\LinearChamber2-KAIST-2019-01-07\\dlc-models\\iteration-3\\LinearChamber2Jan7-trainset80shuffle1\\train\\snapshot-130000 is not in all_model_checkpoint_paths. Manually adding it.\n",
      "iteration: 135000 loss: 0.0051 lr: 0.001\n"
     ]
    },
    {
     "name": "stdout",
     "output_type": "stream",
     "text": [
      "INFO:tensorflow:D:\\Users\\user\\Desktop\\LinearChamber2-KAIST-2019-01-07\\dlc-models\\iteration-3\\LinearChamber2Jan7-trainset80shuffle1\\train\\snapshot-135000 is not in all_model_checkpoint_paths. Manually adding it.\n"
     ]
    },
    {
     "name": "stderr",
     "output_type": "stream",
     "text": [
      "D:\\Users\\user\\Desktop\\LinearChamber2-KAIST-2019-01-07\\dlc-models\\iteration-3\\LinearChamber2Jan7-trainset80shuffle1\\train\\snapshot-135000 is not in all_model_checkpoint_paths. Manually adding it.\n",
      "iteration: 140000 loss: 0.0050 lr: 0.001\n"
     ]
    },
    {
     "name": "stdout",
     "output_type": "stream",
     "text": [
      "INFO:tensorflow:D:\\Users\\user\\Desktop\\LinearChamber2-KAIST-2019-01-07\\dlc-models\\iteration-3\\LinearChamber2Jan7-trainset80shuffle1\\train\\snapshot-140000 is not in all_model_checkpoint_paths. Manually adding it.\n"
     ]
    },
    {
     "name": "stderr",
     "output_type": "stream",
     "text": [
      "D:\\Users\\user\\Desktop\\LinearChamber2-KAIST-2019-01-07\\dlc-models\\iteration-3\\LinearChamber2Jan7-trainset80shuffle1\\train\\snapshot-140000 is not in all_model_checkpoint_paths. Manually adding it.\n",
      "iteration: 145000 loss: 0.0049 lr: 0.001\n"
     ]
    },
    {
     "name": "stdout",
     "output_type": "stream",
     "text": [
      "INFO:tensorflow:D:\\Users\\user\\Desktop\\LinearChamber2-KAIST-2019-01-07\\dlc-models\\iteration-3\\LinearChamber2Jan7-trainset80shuffle1\\train\\snapshot-145000 is not in all_model_checkpoint_paths. Manually adding it.\n"
     ]
    },
    {
     "name": "stderr",
     "output_type": "stream",
     "text": [
      "D:\\Users\\user\\Desktop\\LinearChamber2-KAIST-2019-01-07\\dlc-models\\iteration-3\\LinearChamber2Jan7-trainset80shuffle1\\train\\snapshot-145000 is not in all_model_checkpoint_paths. Manually adding it.\n",
      "iteration: 150000 loss: 0.0048 lr: 0.001\n"
     ]
    },
    {
     "name": "stdout",
     "output_type": "stream",
     "text": [
      "INFO:tensorflow:D:\\Users\\user\\Desktop\\LinearChamber2-KAIST-2019-01-07\\dlc-models\\iteration-3\\LinearChamber2Jan7-trainset80shuffle1\\train\\snapshot-150000 is not in all_model_checkpoint_paths. Manually adding it.\n"
     ]
    },
    {
     "name": "stderr",
     "output_type": "stream",
     "text": [
      "D:\\Users\\user\\Desktop\\LinearChamber2-KAIST-2019-01-07\\dlc-models\\iteration-3\\LinearChamber2Jan7-trainset80shuffle1\\train\\snapshot-150000 is not in all_model_checkpoint_paths. Manually adding it.\n",
      "iteration: 155000 loss: 0.0048 lr: 0.001\n"
     ]
    },
    {
     "name": "stdout",
     "output_type": "stream",
     "text": [
      "INFO:tensorflow:D:\\Users\\user\\Desktop\\LinearChamber2-KAIST-2019-01-07\\dlc-models\\iteration-3\\LinearChamber2Jan7-trainset80shuffle1\\train\\snapshot-155000 is not in all_model_checkpoint_paths. Manually adding it.\n"
     ]
    },
    {
     "name": "stderr",
     "output_type": "stream",
     "text": [
      "D:\\Users\\user\\Desktop\\LinearChamber2-KAIST-2019-01-07\\dlc-models\\iteration-3\\LinearChamber2Jan7-trainset80shuffle1\\train\\snapshot-155000 is not in all_model_checkpoint_paths. Manually adding it.\n",
      "iteration: 160000 loss: 0.0047 lr: 0.001\n"
     ]
    },
    {
     "name": "stdout",
     "output_type": "stream",
     "text": [
      "INFO:tensorflow:D:\\Users\\user\\Desktop\\LinearChamber2-KAIST-2019-01-07\\dlc-models\\iteration-3\\LinearChamber2Jan7-trainset80shuffle1\\train\\snapshot-160000 is not in all_model_checkpoint_paths. Manually adding it.\n"
     ]
    },
    {
     "name": "stderr",
     "output_type": "stream",
     "text": [
      "D:\\Users\\user\\Desktop\\LinearChamber2-KAIST-2019-01-07\\dlc-models\\iteration-3\\LinearChamber2Jan7-trainset80shuffle1\\train\\snapshot-160000 is not in all_model_checkpoint_paths. Manually adding it.\n",
      "iteration: 165000 loss: 0.0047 lr: 0.001\n"
     ]
    },
    {
     "name": "stdout",
     "output_type": "stream",
     "text": [
      "INFO:tensorflow:D:\\Users\\user\\Desktop\\LinearChamber2-KAIST-2019-01-07\\dlc-models\\iteration-3\\LinearChamber2Jan7-trainset80shuffle1\\train\\snapshot-165000 is not in all_model_checkpoint_paths. Manually adding it.\n"
     ]
    },
    {
     "name": "stderr",
     "output_type": "stream",
     "text": [
      "D:\\Users\\user\\Desktop\\LinearChamber2-KAIST-2019-01-07\\dlc-models\\iteration-3\\LinearChamber2Jan7-trainset80shuffle1\\train\\snapshot-165000 is not in all_model_checkpoint_paths. Manually adding it.\n",
      "iteration: 170000 loss: 0.0046 lr: 0.001\n"
     ]
    },
    {
     "name": "stdout",
     "output_type": "stream",
     "text": [
      "INFO:tensorflow:D:\\Users\\user\\Desktop\\LinearChamber2-KAIST-2019-01-07\\dlc-models\\iteration-3\\LinearChamber2Jan7-trainset80shuffle1\\train\\snapshot-170000 is not in all_model_checkpoint_paths. Manually adding it.\n"
     ]
    },
    {
     "name": "stderr",
     "output_type": "stream",
     "text": [
      "D:\\Users\\user\\Desktop\\LinearChamber2-KAIST-2019-01-07\\dlc-models\\iteration-3\\LinearChamber2Jan7-trainset80shuffle1\\train\\snapshot-170000 is not in all_model_checkpoint_paths. Manually adding it.\n",
      "iteration: 175000 loss: 0.0044 lr: 0.001\n"
     ]
    },
    {
     "name": "stdout",
     "output_type": "stream",
     "text": [
      "INFO:tensorflow:D:\\Users\\user\\Desktop\\LinearChamber2-KAIST-2019-01-07\\dlc-models\\iteration-3\\LinearChamber2Jan7-trainset80shuffle1\\train\\snapshot-175000 is not in all_model_checkpoint_paths. Manually adding it.\n"
     ]
    },
    {
     "name": "stderr",
     "output_type": "stream",
     "text": [
      "D:\\Users\\user\\Desktop\\LinearChamber2-KAIST-2019-01-07\\dlc-models\\iteration-3\\LinearChamber2Jan7-trainset80shuffle1\\train\\snapshot-175000 is not in all_model_checkpoint_paths. Manually adding it.\n",
      "iteration: 180000 loss: 0.0045 lr: 0.001\n"
     ]
    },
    {
     "name": "stdout",
     "output_type": "stream",
     "text": [
      "INFO:tensorflow:D:\\Users\\user\\Desktop\\LinearChamber2-KAIST-2019-01-07\\dlc-models\\iteration-3\\LinearChamber2Jan7-trainset80shuffle1\\train\\snapshot-180000 is not in all_model_checkpoint_paths. Manually adding it.\n"
     ]
    },
    {
     "name": "stderr",
     "output_type": "stream",
     "text": [
      "D:\\Users\\user\\Desktop\\LinearChamber2-KAIST-2019-01-07\\dlc-models\\iteration-3\\LinearChamber2Jan7-trainset80shuffle1\\train\\snapshot-180000 is not in all_model_checkpoint_paths. Manually adding it.\n",
      "iteration: 185000 loss: 0.0046 lr: 0.001\n"
     ]
    },
    {
     "name": "stdout",
     "output_type": "stream",
     "text": [
      "INFO:tensorflow:D:\\Users\\user\\Desktop\\LinearChamber2-KAIST-2019-01-07\\dlc-models\\iteration-3\\LinearChamber2Jan7-trainset80shuffle1\\train\\snapshot-185000 is not in all_model_checkpoint_paths. Manually adding it.\n"
     ]
    },
    {
     "name": "stderr",
     "output_type": "stream",
     "text": [
      "D:\\Users\\user\\Desktop\\LinearChamber2-KAIST-2019-01-07\\dlc-models\\iteration-3\\LinearChamber2Jan7-trainset80shuffle1\\train\\snapshot-185000 is not in all_model_checkpoint_paths. Manually adding it.\n",
      "iteration: 190000 loss: 0.0044 lr: 0.001\n"
     ]
    },
    {
     "name": "stdout",
     "output_type": "stream",
     "text": [
      "INFO:tensorflow:D:\\Users\\user\\Desktop\\LinearChamber2-KAIST-2019-01-07\\dlc-models\\iteration-3\\LinearChamber2Jan7-trainset80shuffle1\\train\\snapshot-190000 is not in all_model_checkpoint_paths. Manually adding it.\n"
     ]
    },
    {
     "name": "stderr",
     "output_type": "stream",
     "text": [
      "D:\\Users\\user\\Desktop\\LinearChamber2-KAIST-2019-01-07\\dlc-models\\iteration-3\\LinearChamber2Jan7-trainset80shuffle1\\train\\snapshot-190000 is not in all_model_checkpoint_paths. Manually adding it.\n",
      "iteration: 195000 loss: 0.0043 lr: 0.001\n"
     ]
    },
    {
     "name": "stdout",
     "output_type": "stream",
     "text": [
      "INFO:tensorflow:D:\\Users\\user\\Desktop\\LinearChamber2-KAIST-2019-01-07\\dlc-models\\iteration-3\\LinearChamber2Jan7-trainset80shuffle1\\train\\snapshot-195000 is not in all_model_checkpoint_paths. Manually adding it.\n"
     ]
    },
    {
     "name": "stderr",
     "output_type": "stream",
     "text": [
      "D:\\Users\\user\\Desktop\\LinearChamber2-KAIST-2019-01-07\\dlc-models\\iteration-3\\LinearChamber2Jan7-trainset80shuffle1\\train\\snapshot-195000 is not in all_model_checkpoint_paths. Manually adding it.\n",
      "iteration: 200000 loss: 0.0042 lr: 0.001\n"
     ]
    },
    {
     "name": "stdout",
     "output_type": "stream",
     "text": [
      "INFO:tensorflow:D:\\Users\\user\\Desktop\\LinearChamber2-KAIST-2019-01-07\\dlc-models\\iteration-3\\LinearChamber2Jan7-trainset80shuffle1\\train\\snapshot-200000 is not in all_model_checkpoint_paths. Manually adding it.\n"
     ]
    },
    {
     "name": "stderr",
     "output_type": "stream",
     "text": [
      "D:\\Users\\user\\Desktop\\LinearChamber2-KAIST-2019-01-07\\dlc-models\\iteration-3\\LinearChamber2Jan7-trainset80shuffle1\\train\\snapshot-200000 is not in all_model_checkpoint_paths. Manually adding it.\n",
      "iteration: 205000 loss: 0.0043 lr: 0.001\n"
     ]
    },
    {
     "name": "stdout",
     "output_type": "stream",
     "text": [
      "INFO:tensorflow:D:\\Users\\user\\Desktop\\LinearChamber2-KAIST-2019-01-07\\dlc-models\\iteration-3\\LinearChamber2Jan7-trainset80shuffle1\\train\\snapshot-205000 is not in all_model_checkpoint_paths. Manually adding it.\n"
     ]
    },
    {
     "name": "stderr",
     "output_type": "stream",
     "text": [
      "D:\\Users\\user\\Desktop\\LinearChamber2-KAIST-2019-01-07\\dlc-models\\iteration-3\\LinearChamber2Jan7-trainset80shuffle1\\train\\snapshot-205000 is not in all_model_checkpoint_paths. Manually adding it.\n",
      "iteration: 210000 loss: 0.0041 lr: 0.001\n"
     ]
    },
    {
     "name": "stdout",
     "output_type": "stream",
     "text": [
      "INFO:tensorflow:D:\\Users\\user\\Desktop\\LinearChamber2-KAIST-2019-01-07\\dlc-models\\iteration-3\\LinearChamber2Jan7-trainset80shuffle1\\train\\snapshot-210000 is not in all_model_checkpoint_paths. Manually adding it.\n"
     ]
    },
    {
     "name": "stderr",
     "output_type": "stream",
     "text": [
      "D:\\Users\\user\\Desktop\\LinearChamber2-KAIST-2019-01-07\\dlc-models\\iteration-3\\LinearChamber2Jan7-trainset80shuffle1\\train\\snapshot-210000 is not in all_model_checkpoint_paths. Manually adding it.\n",
      "iteration: 215000 loss: 0.0041 lr: 0.001\n"
     ]
    },
    {
     "name": "stdout",
     "output_type": "stream",
     "text": [
      "INFO:tensorflow:D:\\Users\\user\\Desktop\\LinearChamber2-KAIST-2019-01-07\\dlc-models\\iteration-3\\LinearChamber2Jan7-trainset80shuffle1\\train\\snapshot-215000 is not in all_model_checkpoint_paths. Manually adding it.\n"
     ]
    },
    {
     "name": "stderr",
     "output_type": "stream",
     "text": [
      "D:\\Users\\user\\Desktop\\LinearChamber2-KAIST-2019-01-07\\dlc-models\\iteration-3\\LinearChamber2Jan7-trainset80shuffle1\\train\\snapshot-215000 is not in all_model_checkpoint_paths. Manually adding it.\n",
      "iteration: 220000 loss: 0.0042 lr: 0.001\n"
     ]
    },
    {
     "name": "stdout",
     "output_type": "stream",
     "text": [
      "INFO:tensorflow:D:\\Users\\user\\Desktop\\LinearChamber2-KAIST-2019-01-07\\dlc-models\\iteration-3\\LinearChamber2Jan7-trainset80shuffle1\\train\\snapshot-220000 is not in all_model_checkpoint_paths. Manually adding it.\n"
     ]
    },
    {
     "name": "stderr",
     "output_type": "stream",
     "text": [
      "D:\\Users\\user\\Desktop\\LinearChamber2-KAIST-2019-01-07\\dlc-models\\iteration-3\\LinearChamber2Jan7-trainset80shuffle1\\train\\snapshot-220000 is not in all_model_checkpoint_paths. Manually adding it.\n",
      "iteration: 225000 loss: 0.0041 lr: 0.001\n"
     ]
    },
    {
     "name": "stdout",
     "output_type": "stream",
     "text": [
      "INFO:tensorflow:D:\\Users\\user\\Desktop\\LinearChamber2-KAIST-2019-01-07\\dlc-models\\iteration-3\\LinearChamber2Jan7-trainset80shuffle1\\train\\snapshot-225000 is not in all_model_checkpoint_paths. Manually adding it.\n"
     ]
    },
    {
     "name": "stderr",
     "output_type": "stream",
     "text": [
      "D:\\Users\\user\\Desktop\\LinearChamber2-KAIST-2019-01-07\\dlc-models\\iteration-3\\LinearChamber2Jan7-trainset80shuffle1\\train\\snapshot-225000 is not in all_model_checkpoint_paths. Manually adding it.\n",
      "iteration: 230000 loss: 0.0042 lr: 0.001\n"
     ]
    },
    {
     "name": "stdout",
     "output_type": "stream",
     "text": [
      "INFO:tensorflow:D:\\Users\\user\\Desktop\\LinearChamber2-KAIST-2019-01-07\\dlc-models\\iteration-3\\LinearChamber2Jan7-trainset80shuffle1\\train\\snapshot-230000 is not in all_model_checkpoint_paths. Manually adding it.\n"
     ]
    },
    {
     "name": "stderr",
     "output_type": "stream",
     "text": [
      "D:\\Users\\user\\Desktop\\LinearChamber2-KAIST-2019-01-07\\dlc-models\\iteration-3\\LinearChamber2Jan7-trainset80shuffle1\\train\\snapshot-230000 is not in all_model_checkpoint_paths. Manually adding it.\n",
      "iteration: 235000 loss: 0.0040 lr: 0.001\n"
     ]
    },
    {
     "name": "stdout",
     "output_type": "stream",
     "text": [
      "INFO:tensorflow:D:\\Users\\user\\Desktop\\LinearChamber2-KAIST-2019-01-07\\dlc-models\\iteration-3\\LinearChamber2Jan7-trainset80shuffle1\\train\\snapshot-235000 is not in all_model_checkpoint_paths. Manually adding it.\n"
     ]
    },
    {
     "name": "stderr",
     "output_type": "stream",
     "text": [
      "D:\\Users\\user\\Desktop\\LinearChamber2-KAIST-2019-01-07\\dlc-models\\iteration-3\\LinearChamber2Jan7-trainset80shuffle1\\train\\snapshot-235000 is not in all_model_checkpoint_paths. Manually adding it.\n",
      "iteration: 240000 loss: 0.0040 lr: 0.001\n"
     ]
    },
    {
     "name": "stdout",
     "output_type": "stream",
     "text": [
      "INFO:tensorflow:D:\\Users\\user\\Desktop\\LinearChamber2-KAIST-2019-01-07\\dlc-models\\iteration-3\\LinearChamber2Jan7-trainset80shuffle1\\train\\snapshot-240000 is not in all_model_checkpoint_paths. Manually adding it.\n"
     ]
    },
    {
     "name": "stderr",
     "output_type": "stream",
     "text": [
      "D:\\Users\\user\\Desktop\\LinearChamber2-KAIST-2019-01-07\\dlc-models\\iteration-3\\LinearChamber2Jan7-trainset80shuffle1\\train\\snapshot-240000 is not in all_model_checkpoint_paths. Manually adding it.\n",
      "iteration: 245000 loss: 0.0040 lr: 0.001\n"
     ]
    },
    {
     "name": "stdout",
     "output_type": "stream",
     "text": [
      "INFO:tensorflow:D:\\Users\\user\\Desktop\\LinearChamber2-KAIST-2019-01-07\\dlc-models\\iteration-3\\LinearChamber2Jan7-trainset80shuffle1\\train\\snapshot-245000 is not in all_model_checkpoint_paths. Manually adding it.\n"
     ]
    },
    {
     "name": "stderr",
     "output_type": "stream",
     "text": [
      "D:\\Users\\user\\Desktop\\LinearChamber2-KAIST-2019-01-07\\dlc-models\\iteration-3\\LinearChamber2Jan7-trainset80shuffle1\\train\\snapshot-245000 is not in all_model_checkpoint_paths. Manually adding it.\n",
      "iteration: 250000 loss: 0.0040 lr: 0.001\n"
     ]
    },
    {
     "name": "stdout",
     "output_type": "stream",
     "text": [
      "INFO:tensorflow:D:\\Users\\user\\Desktop\\LinearChamber2-KAIST-2019-01-07\\dlc-models\\iteration-3\\LinearChamber2Jan7-trainset80shuffle1\\train\\snapshot-250000 is not in all_model_checkpoint_paths. Manually adding it.\n"
     ]
    },
    {
     "name": "stderr",
     "output_type": "stream",
     "text": [
      "D:\\Users\\user\\Desktop\\LinearChamber2-KAIST-2019-01-07\\dlc-models\\iteration-3\\LinearChamber2Jan7-trainset80shuffle1\\train\\snapshot-250000 is not in all_model_checkpoint_paths. Manually adding it.\n",
      "iteration: 255000 loss: 0.0039 lr: 0.001\n"
     ]
    },
    {
     "name": "stdout",
     "output_type": "stream",
     "text": [
      "INFO:tensorflow:D:\\Users\\user\\Desktop\\LinearChamber2-KAIST-2019-01-07\\dlc-models\\iteration-3\\LinearChamber2Jan7-trainset80shuffle1\\train\\snapshot-255000 is not in all_model_checkpoint_paths. Manually adding it.\n"
     ]
    },
    {
     "name": "stderr",
     "output_type": "stream",
     "text": [
      "D:\\Users\\user\\Desktop\\LinearChamber2-KAIST-2019-01-07\\dlc-models\\iteration-3\\LinearChamber2Jan7-trainset80shuffle1\\train\\snapshot-255000 is not in all_model_checkpoint_paths. Manually adding it.\n",
      "iteration: 260000 loss: 0.0039 lr: 0.001\n"
     ]
    },
    {
     "name": "stdout",
     "output_type": "stream",
     "text": [
      "INFO:tensorflow:D:\\Users\\user\\Desktop\\LinearChamber2-KAIST-2019-01-07\\dlc-models\\iteration-3\\LinearChamber2Jan7-trainset80shuffle1\\train\\snapshot-260000 is not in all_model_checkpoint_paths. Manually adding it.\n"
     ]
    },
    {
     "name": "stderr",
     "output_type": "stream",
     "text": [
      "D:\\Users\\user\\Desktop\\LinearChamber2-KAIST-2019-01-07\\dlc-models\\iteration-3\\LinearChamber2Jan7-trainset80shuffle1\\train\\snapshot-260000 is not in all_model_checkpoint_paths. Manually adding it.\n",
      "iteration: 265000 loss: 0.0039 lr: 0.001\n"
     ]
    },
    {
     "name": "stdout",
     "output_type": "stream",
     "text": [
      "INFO:tensorflow:D:\\Users\\user\\Desktop\\LinearChamber2-KAIST-2019-01-07\\dlc-models\\iteration-3\\LinearChamber2Jan7-trainset80shuffle1\\train\\snapshot-265000 is not in all_model_checkpoint_paths. Manually adding it.\n"
     ]
    },
    {
     "name": "stderr",
     "output_type": "stream",
     "text": [
      "D:\\Users\\user\\Desktop\\LinearChamber2-KAIST-2019-01-07\\dlc-models\\iteration-3\\LinearChamber2Jan7-trainset80shuffle1\\train\\snapshot-265000 is not in all_model_checkpoint_paths. Manually adding it.\n",
      "iteration: 270000 loss: 0.0038 lr: 0.001\n"
     ]
    },
    {
     "name": "stdout",
     "output_type": "stream",
     "text": [
      "INFO:tensorflow:D:\\Users\\user\\Desktop\\LinearChamber2-KAIST-2019-01-07\\dlc-models\\iteration-3\\LinearChamber2Jan7-trainset80shuffle1\\train\\snapshot-270000 is not in all_model_checkpoint_paths. Manually adding it.\n"
     ]
    },
    {
     "name": "stderr",
     "output_type": "stream",
     "text": [
      "D:\\Users\\user\\Desktop\\LinearChamber2-KAIST-2019-01-07\\dlc-models\\iteration-3\\LinearChamber2Jan7-trainset80shuffle1\\train\\snapshot-270000 is not in all_model_checkpoint_paths. Manually adding it.\n",
      "iteration: 275000 loss: 0.0038 lr: 0.001\n"
     ]
    },
    {
     "name": "stdout",
     "output_type": "stream",
     "text": [
      "INFO:tensorflow:D:\\Users\\user\\Desktop\\LinearChamber2-KAIST-2019-01-07\\dlc-models\\iteration-3\\LinearChamber2Jan7-trainset80shuffle1\\train\\snapshot-275000 is not in all_model_checkpoint_paths. Manually adding it.\n"
     ]
    },
    {
     "name": "stderr",
     "output_type": "stream",
     "text": [
      "D:\\Users\\user\\Desktop\\LinearChamber2-KAIST-2019-01-07\\dlc-models\\iteration-3\\LinearChamber2Jan7-trainset80shuffle1\\train\\snapshot-275000 is not in all_model_checkpoint_paths. Manually adding it.\n",
      "iteration: 280000 loss: 0.0038 lr: 0.001\n"
     ]
    },
    {
     "name": "stdout",
     "output_type": "stream",
     "text": [
      "INFO:tensorflow:D:\\Users\\user\\Desktop\\LinearChamber2-KAIST-2019-01-07\\dlc-models\\iteration-3\\LinearChamber2Jan7-trainset80shuffle1\\train\\snapshot-280000 is not in all_model_checkpoint_paths. Manually adding it.\n"
     ]
    },
    {
     "name": "stderr",
     "output_type": "stream",
     "text": [
      "D:\\Users\\user\\Desktop\\LinearChamber2-KAIST-2019-01-07\\dlc-models\\iteration-3\\LinearChamber2Jan7-trainset80shuffle1\\train\\snapshot-280000 is not in all_model_checkpoint_paths. Manually adding it.\n",
      "iteration: 285000 loss: 0.0037 lr: 0.001\n"
     ]
    },
    {
     "name": "stdout",
     "output_type": "stream",
     "text": [
      "INFO:tensorflow:D:\\Users\\user\\Desktop\\LinearChamber2-KAIST-2019-01-07\\dlc-models\\iteration-3\\LinearChamber2Jan7-trainset80shuffle1\\train\\snapshot-285000 is not in all_model_checkpoint_paths. Manually adding it.\n"
     ]
    },
    {
     "name": "stderr",
     "output_type": "stream",
     "text": [
      "D:\\Users\\user\\Desktop\\LinearChamber2-KAIST-2019-01-07\\dlc-models\\iteration-3\\LinearChamber2Jan7-trainset80shuffle1\\train\\snapshot-285000 is not in all_model_checkpoint_paths. Manually adding it.\n",
      "iteration: 290000 loss: 0.0037 lr: 0.001\n"
     ]
    },
    {
     "name": "stdout",
     "output_type": "stream",
     "text": [
      "INFO:tensorflow:D:\\Users\\user\\Desktop\\LinearChamber2-KAIST-2019-01-07\\dlc-models\\iteration-3\\LinearChamber2Jan7-trainset80shuffle1\\train\\snapshot-290000 is not in all_model_checkpoint_paths. Manually adding it.\n"
     ]
    },
    {
     "name": "stderr",
     "output_type": "stream",
     "text": [
      "D:\\Users\\user\\Desktop\\LinearChamber2-KAIST-2019-01-07\\dlc-models\\iteration-3\\LinearChamber2Jan7-trainset80shuffle1\\train\\snapshot-290000 is not in all_model_checkpoint_paths. Manually adding it.\n",
      "iteration: 295000 loss: 0.0037 lr: 0.001\n"
     ]
    },
    {
     "name": "stdout",
     "output_type": "stream",
     "text": [
      "INFO:tensorflow:D:\\Users\\user\\Desktop\\LinearChamber2-KAIST-2019-01-07\\dlc-models\\iteration-3\\LinearChamber2Jan7-trainset80shuffle1\\train\\snapshot-295000 is not in all_model_checkpoint_paths. Manually adding it.\n"
     ]
    },
    {
     "name": "stderr",
     "output_type": "stream",
     "text": [
      "D:\\Users\\user\\Desktop\\LinearChamber2-KAIST-2019-01-07\\dlc-models\\iteration-3\\LinearChamber2Jan7-trainset80shuffle1\\train\\snapshot-295000 is not in all_model_checkpoint_paths. Manually adding it.\n",
      "iteration: 300000 loss: 0.0037 lr: 0.001\n"
     ]
    },
    {
     "name": "stdout",
     "output_type": "stream",
     "text": [
      "INFO:tensorflow:D:\\Users\\user\\Desktop\\LinearChamber2-KAIST-2019-01-07\\dlc-models\\iteration-3\\LinearChamber2Jan7-trainset80shuffle1\\train\\snapshot-300000 is not in all_model_checkpoint_paths. Manually adding it.\n"
     ]
    },
    {
     "name": "stderr",
     "output_type": "stream",
     "text": [
      "D:\\Users\\user\\Desktop\\LinearChamber2-KAIST-2019-01-07\\dlc-models\\iteration-3\\LinearChamber2Jan7-trainset80shuffle1\\train\\snapshot-300000 is not in all_model_checkpoint_paths. Manually adding it.\n",
      "Exception in thread Thread-6:\n",
      "Traceback (most recent call last):\n",
      "  File \"D:\\Users\\user\\Anaconda3\\envs\\DLC2_copy\\lib\\site-packages\\tensorflow\\python\\client\\session.py\", line 1322, in _do_call\n",
      "    return fn(*args)\n",
      "  File \"D:\\Users\\user\\Anaconda3\\envs\\DLC2_copy\\lib\\site-packages\\tensorflow\\python\\client\\session.py\", line 1307, in _run_fn\n",
      "    options, feed_dict, fetch_list, target_list, run_metadata)\n",
      "  File \"D:\\Users\\user\\Anaconda3\\envs\\DLC2_copy\\lib\\site-packages\\tensorflow\\python\\client\\session.py\", line 1409, in _call_tf_sessionrun\n",
      "    run_metadata)\n",
      "tensorflow.python.framework.errors_impl.CancelledError: Enqueue operation was cancelled\n",
      "\t [[Node: fifo_queue_enqueue = QueueEnqueueV2[Tcomponents=[DT_FLOAT, DT_FLOAT, DT_FLOAT, DT_FLOAT, DT_FLOAT], timeout_ms=-1, _device=\"/job:localhost/replica:0/task:0/device:CPU:0\"](fifo_queue, _arg_Placeholder_0_0, _arg_Placeholder_1_0_1, _arg_Placeholder_2_0_2, _arg_Placeholder_3_0_3, _arg_Placeholder_4_0_4)]]\n",
      "\n",
      "During handling of the above exception, another exception occurred:\n",
      "\n",
      "Traceback (most recent call last):\n",
      "  File \"D:\\Users\\user\\Anaconda3\\envs\\DLC2_copy\\lib\\threading.py\", line 916, in _bootstrap_inner\n",
      "    self.run()\n",
      "  File \"D:\\Users\\user\\Anaconda3\\envs\\DLC2_copy\\lib\\threading.py\", line 864, in run\n",
      "    self._target(*self._args, **self._kwargs)\n",
      "  File \"D:\\Users\\user\\Anaconda3\\envs\\DLC2_copy\\lib\\site-packages\\deeplabcut\\pose_estimation_tensorflow\\train.py\", line 53, in load_and_enqueue\n",
      "    sess.run(enqueue_op, feed_dict=food)\n",
      "  File \"D:\\Users\\user\\Anaconda3\\envs\\DLC2_copy\\lib\\site-packages\\tensorflow\\python\\client\\session.py\", line 900, in run\n",
      "    run_metadata_ptr)\n",
      "  File \"D:\\Users\\user\\Anaconda3\\envs\\DLC2_copy\\lib\\site-packages\\tensorflow\\python\\client\\session.py\", line 1135, in _run\n",
      "    feed_dict_tensor, options, run_metadata)\n",
      "  File \"D:\\Users\\user\\Anaconda3\\envs\\DLC2_copy\\lib\\site-packages\\tensorflow\\python\\client\\session.py\", line 1316, in _do_run\n",
      "    run_metadata)\n",
      "  File \"D:\\Users\\user\\Anaconda3\\envs\\DLC2_copy\\lib\\site-packages\\tensorflow\\python\\client\\session.py\", line 1335, in _do_call\n",
      "    raise type(e)(node_def, op, message)\n",
      "tensorflow.python.framework.errors_impl.CancelledError: Enqueue operation was cancelled\n",
      "\t [[Node: fifo_queue_enqueue = QueueEnqueueV2[Tcomponents=[DT_FLOAT, DT_FLOAT, DT_FLOAT, DT_FLOAT, DT_FLOAT], timeout_ms=-1, _device=\"/job:localhost/replica:0/task:0/device:CPU:0\"](fifo_queue, _arg_Placeholder_0_0, _arg_Placeholder_1_0_1, _arg_Placeholder_2_0_2, _arg_Placeholder_3_0_3, _arg_Placeholder_4_0_4)]]\n",
      "\n",
      "Caused by op 'fifo_queue_enqueue', defined at:\n",
      "  File \"D:\\Users\\user\\Anaconda3\\envs\\DLC2_copy\\lib\\runpy.py\", line 193, in _run_module_as_main\n",
      "    \"__main__\", mod_spec)\n",
      "  File \"D:\\Users\\user\\Anaconda3\\envs\\DLC2_copy\\lib\\runpy.py\", line 85, in _run_code\n",
      "    exec(code, run_globals)\n",
      "  File \"D:\\Users\\user\\Anaconda3\\envs\\DLC2_copy\\lib\\site-packages\\ipykernel_launcher.py\", line 16, in <module>\n",
      "    app.launch_new_instance()\n",
      "  File \"D:\\Users\\user\\Anaconda3\\envs\\DLC2_copy\\lib\\site-packages\\traitlets\\config\\application.py\", line 658, in launch_instance\n",
      "    app.start()\n",
      "  File \"D:\\Users\\user\\Anaconda3\\envs\\DLC2_copy\\lib\\site-packages\\ipykernel\\kernelapp.py\", line 505, in start\n",
      "    self.io_loop.start()\n",
      "  File \"D:\\Users\\user\\Anaconda3\\envs\\DLC2_copy\\lib\\site-packages\\tornado\\platform\\asyncio.py\", line 132, in start\n",
      "    self.asyncio_loop.run_forever()\n",
      "  File \"D:\\Users\\user\\Anaconda3\\envs\\DLC2_copy\\lib\\asyncio\\base_events.py\", line 427, in run_forever\n",
      "    self._run_once()\n",
      "  File \"D:\\Users\\user\\Anaconda3\\envs\\DLC2_copy\\lib\\asyncio\\base_events.py\", line 1440, in _run_once\n",
      "    handle._run()\n",
      "  File \"D:\\Users\\user\\Anaconda3\\envs\\DLC2_copy\\lib\\asyncio\\events.py\", line 145, in _run\n",
      "    self._callback(*self._args)\n",
      "  File \"D:\\Users\\user\\Anaconda3\\envs\\DLC2_copy\\lib\\site-packages\\tornado\\ioloop.py\", line 758, in _run_callback\n",
      "    ret = callback()\n",
      "  File \"D:\\Users\\user\\Anaconda3\\envs\\DLC2_copy\\lib\\site-packages\\tornado\\stack_context.py\", line 300, in null_wrapper\n",
      "    return fn(*args, **kwargs)\n",
      "  File \"D:\\Users\\user\\Anaconda3\\envs\\DLC2_copy\\lib\\site-packages\\tornado\\gen.py\", line 1233, in inner\n",
      "    self.run()\n",
      "  File \"D:\\Users\\user\\Anaconda3\\envs\\DLC2_copy\\lib\\site-packages\\tornado\\gen.py\", line 1147, in run\n",
      "    yielded = self.gen.send(value)\n",
      "  File \"D:\\Users\\user\\Anaconda3\\envs\\DLC2_copy\\lib\\site-packages\\ipykernel\\kernelbase.py\", line 357, in process_one\n",
      "    yield gen.maybe_future(dispatch(*args))\n",
      "  File \"D:\\Users\\user\\Anaconda3\\envs\\DLC2_copy\\lib\\site-packages\\tornado\\gen.py\", line 326, in wrapper\n",
      "    yielded = next(result)\n",
      "  File \"D:\\Users\\user\\Anaconda3\\envs\\DLC2_copy\\lib\\site-packages\\ipykernel\\kernelbase.py\", line 267, in dispatch_shell\n",
      "    yield gen.maybe_future(handler(stream, idents, msg))\n",
      "  File \"D:\\Users\\user\\Anaconda3\\envs\\DLC2_copy\\lib\\site-packages\\tornado\\gen.py\", line 326, in wrapper\n",
      "    yielded = next(result)\n",
      "  File \"D:\\Users\\user\\Anaconda3\\envs\\DLC2_copy\\lib\\site-packages\\ipykernel\\kernelbase.py\", line 534, in execute_request\n",
      "    user_expressions, allow_stdin,\n",
      "  File \"D:\\Users\\user\\Anaconda3\\envs\\DLC2_copy\\lib\\site-packages\\tornado\\gen.py\", line 326, in wrapper\n",
      "    yielded = next(result)\n",
      "  File \"D:\\Users\\user\\Anaconda3\\envs\\DLC2_copy\\lib\\site-packages\\ipykernel\\ipkernel.py\", line 294, in do_execute\n",
      "    res = shell.run_cell(code, store_history=store_history, silent=silent)\n",
      "  File \"D:\\Users\\user\\Anaconda3\\envs\\DLC2_copy\\lib\\site-packages\\ipykernel\\zmqshell.py\", line 536, in run_cell\n",
      "    return super(ZMQInteractiveShell, self).run_cell(*args, **kwargs)\n",
      "  File \"D:\\Users\\user\\Anaconda3\\envs\\DLC2_copy\\lib\\site-packages\\IPython\\core\\interactiveshell.py\", line 2683, in run_cell\n",
      "    interactivity=interactivity, compiler=compiler, result=result)\n",
      "  File \"D:\\Users\\user\\Anaconda3\\envs\\DLC2_copy\\lib\\site-packages\\IPython\\core\\interactiveshell.py\", line 2793, in run_ast_nodes\n",
      "    if self.run_code(code, result):\n",
      "  File \"D:\\Users\\user\\Anaconda3\\envs\\DLC2_copy\\lib\\site-packages\\IPython\\core\\interactiveshell.py\", line 2847, in run_code\n",
      "    exec(code_obj, self.user_global_ns, self.user_ns)\n",
      "  File \"<ipython-input-5-7024abd2eaa7>\", line 6, in <module>\n",
      "    deeplabcut.train_network(path_config_file, gputouse=0, max_snapshots_to_keep=None)\n",
      "  File \"D:\\Users\\user\\Anaconda3\\envs\\DLC2_copy\\lib\\site-packages\\deeplabcut\\pose_estimation_tensorflow\\training.py\", line 79, in train_network\n",
      "    train(str(poseconfigfile),displayiters,saveiters,maxiters,max_to_keep=max_snapshots_to_keep) #pass on path and file name for pose_cfg.yaml!\n",
      "  File \"D:\\Users\\user\\Anaconda3\\envs\\DLC2_copy\\lib\\site-packages\\deeplabcut\\pose_estimation_tensorflow\\train.py\", line 103, in train\n",
      "    batch, enqueue_op, placeholders = setup_preloading(batch_spec)\n",
      "  File \"D:\\Users\\user\\Anaconda3\\envs\\DLC2_copy\\lib\\site-packages\\deeplabcut\\pose_estimation_tensorflow\\train.py\", line 39, in setup_preloading\n",
      "    enqueue_op = q.enqueue(placeholders_list)\n",
      "  File \"D:\\Users\\user\\Anaconda3\\envs\\DLC2_copy\\lib\\site-packages\\tensorflow\\python\\ops\\data_flow_ops.py\", line 346, in enqueue\n",
      "    self._queue_ref, vals, name=scope)\n",
      "  File \"D:\\Users\\user\\Anaconda3\\envs\\DLC2_copy\\lib\\site-packages\\tensorflow\\python\\ops\\gen_data_flow_ops.py\", line 4373, in queue_enqueue_v2\n",
      "    timeout_ms=timeout_ms, name=name)\n",
      "  File \"D:\\Users\\user\\Anaconda3\\envs\\DLC2_copy\\lib\\site-packages\\tensorflow\\python\\framework\\op_def_library.py\", line 787, in _apply_op_helper\n",
      "    op_def=op_def)\n",
      "  File \"D:\\Users\\user\\Anaconda3\\envs\\DLC2_copy\\lib\\site-packages\\tensorflow\\python\\framework\\ops.py\", line 3392, in create_op\n",
      "    op_def=op_def)\n",
      "  File \"D:\\Users\\user\\Anaconda3\\envs\\DLC2_copy\\lib\\site-packages\\tensorflow\\python\\framework\\ops.py\", line 1718, in __init__\n",
      "    self._traceback = self._graph._extract_stack()  # pylint: disable=protected-access\n",
      "\n",
      "CancelledError (see above for traceback): Enqueue operation was cancelled\n",
      "\t [[Node: fifo_queue_enqueue = QueueEnqueueV2[Tcomponents=[DT_FLOAT, DT_FLOAT, DT_FLOAT, DT_FLOAT, DT_FLOAT], timeout_ms=-1, _device=\"/job:localhost/replica:0/task:0/device:CPU:0\"](fifo_queue, _arg_Placeholder_0_0, _arg_Placeholder_1_0_1, _arg_Placeholder_2_0_2, _arg_Placeholder_3_0_3, _arg_Placeholder_4_0_4)]]\n",
      "\n"
     ]
    },
    {
     "name": "stderr",
     "output_type": "stream",
     "text": [
      "\n"
     ]
    },
    {
     "name": "stdout",
     "output_type": "stream",
     "text": [
      "The network is now trained and ready to evaluate. Use the function 'evaluate_network' to evaluate the network.\n"
     ]
    }
   ],
   "source": [
    "#max_iter: c:\\users\\user\\Anaconda3\\envs\\DLC2\\Lib\\site-packages\\deeplabcut\\pose_estimation_tensorflow\\train.py에서 수정 가능.\n",
    "#snapshot 위치: C:\\Users\\user\\Desktop\\LinearChamber-KAIST-2018-11-19\\dlc-models\\iteration-0\\LinearChamberNov19-trainset95shuffle1\\train\n",
    "#중간부터 retraining 하고 싶은 경우\n",
    "#C:\\Users\\user\\Desktop\\LinearChamber-KAIST-2018-11-19\\dlc-models\\iteration-0\\LinearChamberNov19-trainset95shuffle1\\train에서 pose_cfg.yaml을 찾아 init_weights를 다음과 같이 바꾼다.\n",
    "#C:\\Users\\user\\Anaconda3\\envs\\DLC2\\lib\\sitepackages\\deeplabcut\\pose_estimation_tensorflow\\models\\pretrained\\resnet_v1_50.ckpt\n",
    "deeplabcut.train_network(path_config_file, gputouse=0, max_snapshots_to_keep=None)"
   ]
  },
  {
   "cell_type": "markdown",
   "metadata": {
    "colab_type": "text",
    "id": "xZygsb2DoEJc"
   },
   "source": [
    "## Start evaluating\n",
    "This funtion evaluates a trained model for a specific shuffle/shuffles at a particular state or all the states on the data set (images)\n",
    "and stores the results as .csv file in a subdirectory under **evaluation-results**"
   ]
  },
  {
   "cell_type": "code",
   "execution_count": 6,
   "metadata": {
    "colab": {},
    "colab_type": "code",
    "id": "nv4zlbrnoEJg",
    "scrolled": true
   },
   "outputs": [
    {
     "name": "stdout",
     "output_type": "stream",
     "text": [
      "D:\\Users\\user\\Desktop\\LinearChamber2-KAIST-2019-01-07/evaluation-results/  already exists!\n"
     ]
    },
    {
     "name": "stderr",
     "output_type": "stream",
     "text": [
      "Config:\n",
      "{'all_joints': [[0],\n",
      "                [1],\n",
      "                [2],\n",
      "                [3],\n",
      "                [4],\n",
      "                [5],\n",
      "                [6],\n",
      "                [7],\n",
      "                [8],\n",
      "                [9],\n",
      "                [10],\n",
      "                [11],\n",
      "                [12]],\n",
      " 'all_joints_names': ['L1',\n",
      "                      'L2',\n",
      "                      'L3',\n",
      "                      'L4',\n",
      "                      'R1',\n",
      "                      'R2',\n",
      "                      'R3',\n",
      "                      'R4',\n",
      "                      'Tether',\n",
      "                      'Nose',\n",
      "                      'LeftEar',\n",
      "                      'RightEar',\n",
      "                      'TailBase'],\n",
      " 'batch_size': 1,\n",
      " 'bottomheight': 400,\n",
      " 'crop': True,\n",
      " 'crop_pad': 0,\n",
      " 'cropratio': 0.4,\n",
      " 'dataset': 'training-datasets\\\\iteration-3\\\\UnaugmentedDataSet_LinearChamber2Jan7\\\\LinearChamber2_KAIST80shuffle1.mat',\n",
      " 'dataset_type': 'default',\n",
      " 'display_iters': 5000,\n",
      " 'fg_fraction': 0.25,\n",
      " 'global_scale': 0.8,\n",
      " 'init_weights': 'C:\\\\Users\\\\user\\\\Anaconda3\\\\envs\\\\DLC2_COPY\\\\lib\\\\site-packages\\\\deeplabcut\\\\Pose_Estimation_Tensorflow\\\\models\\\\pretrained\\\\resnet_v1_101.ckpt',\n",
      " 'intermediate_supervision': True,\n",
      " 'intermediate_supervision_layer': 12,\n",
      " 'leftwidth': 400,\n",
      " 'location_refinement': True,\n",
      " 'locref_huber_loss': True,\n",
      " 'locref_loss_weight': 0.05,\n",
      " 'locref_stdev': 7.2801,\n",
      " 'log_dir': 'log',\n",
      " 'max_input_size': 1000,\n",
      " 'mean_pixel': [123.68, 116.779, 103.939],\n",
      " 'metadataset': 'training-datasets\\\\iteration-3\\\\UnaugmentedDataSet_LinearChamber2Jan7\\\\Documentation_data-LinearChamber2_80shuffle1.pickle',\n",
      " 'minsize': 100,\n",
      " 'mirror': False,\n",
      " 'multi_step': [[0.001, 300000]],\n",
      " 'net_type': 'resnet_101',\n",
      " 'num_joints': 13,\n",
      " 'optimizer': 'sgd',\n",
      " 'pos_dist_thresh': 17,\n",
      " 'project_path': 'D:\\\\Users\\\\user\\\\Desktop\\\\LinearChamber2-KAIST-2019-01-07',\n",
      " 'regularize': True,\n",
      " 'rightwidth': 400,\n",
      " 'save_iters': 5000,\n",
      " 'scale_jitter_lo': 0.5,\n",
      " 'scale_jitter_up': 1.25,\n",
      " 'scoremap_dir': 'test',\n",
      " 'shuffle': True,\n",
      " 'snapshot_prefix': 'D:\\\\Users\\\\user\\\\Desktop\\\\LinearChamber2-KAIST-2019-01-07\\\\dlc-models\\\\iteration-3\\\\LinearChamber2Jan7-trainset80shuffle1\\\\test\\\\snapshot',\n",
      " 'stride': 8.0,\n",
      " 'topheight': 400,\n",
      " 'use_gt_segm': False,\n",
      " 'video': False,\n",
      " 'video_batch': False,\n",
      " 'weigh_negatives': False,\n",
      " 'weigh_only_present_joints': False,\n",
      " 'weigh_part_predictions': False,\n",
      " 'weight_decay': 0.001}\n"
     ]
    },
    {
     "name": "stdout",
     "output_type": "stream",
     "text": [
      "Running  DeepCut_resnet101_LinearChamber2Jan7shuffle1_5000  with # of trainingiterations: 5000\n",
      "INFO:tensorflow:Restoring parameters from D:\\Users\\user\\Desktop\\LinearChamber2-KAIST-2019-01-07\\dlc-models\\iteration-3\\LinearChamber2Jan7-trainset80shuffle1\\train\\snapshot-5000\n"
     ]
    },
    {
     "name": "stderr",
     "output_type": "stream",
     "text": [
      "Restoring parameters from D:\\Users\\user\\Desktop\\LinearChamber2-KAIST-2019-01-07\\dlc-models\\iteration-3\\LinearChamber2Jan7-trainset80shuffle1\\train\\snapshot-5000\n"
     ]
    },
    {
     "name": "stdout",
     "output_type": "stream",
     "text": [
      "Analyzing data...\n"
     ]
    },
    {
     "name": "stderr",
     "output_type": "stream",
     "text": [
      "656it [00:32, 18.58it/s]\n"
     ]
    },
    {
     "name": "stdout",
     "output_type": "stream",
     "text": [
      "Done and results stored for snapshot:  snapshot-5000\n",
      "Results for 5000  training iterations: 80 1 train error: 8.07 pixels. Test error: 8.64  pixels.\n",
      "With pcutoff of 0.1  train error: 7.03 pixels. Test error: 8.04 pixels\n",
      "Thereby, the errors are given by the average distances between the labels by DLC and the scorer.\n",
      "Running  DeepCut_resnet101_LinearChamber2Jan7shuffle1_10000  with # of trainingiterations: 10000\n",
      "INFO:tensorflow:Restoring parameters from D:\\Users\\user\\Desktop\\LinearChamber2-KAIST-2019-01-07\\dlc-models\\iteration-3\\LinearChamber2Jan7-trainset80shuffle1\\train\\snapshot-10000\n"
     ]
    },
    {
     "name": "stderr",
     "output_type": "stream",
     "text": [
      "Restoring parameters from D:\\Users\\user\\Desktop\\LinearChamber2-KAIST-2019-01-07\\dlc-models\\iteration-3\\LinearChamber2Jan7-trainset80shuffle1\\train\\snapshot-10000\n"
     ]
    },
    {
     "name": "stdout",
     "output_type": "stream",
     "text": [
      "Analyzing data...\n"
     ]
    },
    {
     "name": "stderr",
     "output_type": "stream",
     "text": [
      "656it [00:33, 19.48it/s]\n"
     ]
    },
    {
     "name": "stdout",
     "output_type": "stream",
     "text": [
      "Done and results stored for snapshot:  snapshot-10000\n",
      "Results for 10000  training iterations: 80 1 train error: 4.93 pixels. Test error: 5.37  pixels.\n",
      "With pcutoff of 0.1  train error: 4.81 pixels. Test error: 5.34 pixels\n",
      "Thereby, the errors are given by the average distances between the labels by DLC and the scorer.\n",
      "Running  DeepCut_resnet101_LinearChamber2Jan7shuffle1_15000  with # of trainingiterations: 15000\n",
      "INFO:tensorflow:Restoring parameters from D:\\Users\\user\\Desktop\\LinearChamber2-KAIST-2019-01-07\\dlc-models\\iteration-3\\LinearChamber2Jan7-trainset80shuffle1\\train\\snapshot-15000\n"
     ]
    },
    {
     "name": "stderr",
     "output_type": "stream",
     "text": [
      "Restoring parameters from D:\\Users\\user\\Desktop\\LinearChamber2-KAIST-2019-01-07\\dlc-models\\iteration-3\\LinearChamber2Jan7-trainset80shuffle1\\train\\snapshot-15000\n"
     ]
    },
    {
     "name": "stdout",
     "output_type": "stream",
     "text": [
      "Analyzing data...\n"
     ]
    },
    {
     "name": "stderr",
     "output_type": "stream",
     "text": [
      "656it [00:33, 18.26it/s]\n"
     ]
    },
    {
     "name": "stdout",
     "output_type": "stream",
     "text": [
      "Done and results stored for snapshot:  snapshot-15000\n",
      "Results for 15000  training iterations: 80 1 train error: 4.5 pixels. Test error: 5.11  pixels.\n",
      "With pcutoff of 0.1  train error: 4.49 pixels. Test error: 5.08 pixels\n",
      "Thereby, the errors are given by the average distances between the labels by DLC and the scorer.\n",
      "Running  DeepCut_resnet101_LinearChamber2Jan7shuffle1_20000  with # of trainingiterations: 20000\n",
      "INFO:tensorflow:Restoring parameters from D:\\Users\\user\\Desktop\\LinearChamber2-KAIST-2019-01-07\\dlc-models\\iteration-3\\LinearChamber2Jan7-trainset80shuffle1\\train\\snapshot-20000\n"
     ]
    },
    {
     "name": "stderr",
     "output_type": "stream",
     "text": [
      "Restoring parameters from D:\\Users\\user\\Desktop\\LinearChamber2-KAIST-2019-01-07\\dlc-models\\iteration-3\\LinearChamber2Jan7-trainset80shuffle1\\train\\snapshot-20000\n"
     ]
    },
    {
     "name": "stdout",
     "output_type": "stream",
     "text": [
      "Analyzing data...\n"
     ]
    },
    {
     "name": "stderr",
     "output_type": "stream",
     "text": [
      "656it [00:33, 17.70it/s]\n"
     ]
    },
    {
     "name": "stdout",
     "output_type": "stream",
     "text": [
      "Done and results stored for snapshot:  snapshot-20000\n",
      "Results for 20000  training iterations: 80 1 train error: 4.28 pixels. Test error: 4.86  pixels.\n",
      "With pcutoff of 0.1  train error: 4.28 pixels. Test error: 4.84 pixels\n",
      "Thereby, the errors are given by the average distances between the labels by DLC and the scorer.\n",
      "Running  DeepCut_resnet101_LinearChamber2Jan7shuffle1_25000  with # of trainingiterations: 25000\n",
      "INFO:tensorflow:Restoring parameters from D:\\Users\\user\\Desktop\\LinearChamber2-KAIST-2019-01-07\\dlc-models\\iteration-3\\LinearChamber2Jan7-trainset80shuffle1\\train\\snapshot-25000\n"
     ]
    },
    {
     "name": "stderr",
     "output_type": "stream",
     "text": [
      "Restoring parameters from D:\\Users\\user\\Desktop\\LinearChamber2-KAIST-2019-01-07\\dlc-models\\iteration-3\\LinearChamber2Jan7-trainset80shuffle1\\train\\snapshot-25000\n"
     ]
    },
    {
     "name": "stdout",
     "output_type": "stream",
     "text": [
      "Analyzing data...\n"
     ]
    },
    {
     "name": "stderr",
     "output_type": "stream",
     "text": [
      "656it [00:33, 19.53it/s]\n"
     ]
    },
    {
     "name": "stdout",
     "output_type": "stream",
     "text": [
      "Done and results stored for snapshot:  snapshot-25000\n",
      "Results for 25000  training iterations: 80 1 train error: 3.85 pixels. Test error: 4.61  pixels.\n",
      "With pcutoff of 0.1  train error: 3.85 pixels. Test error: 4.59 pixels\n",
      "Thereby, the errors are given by the average distances between the labels by DLC and the scorer.\n",
      "Running  DeepCut_resnet101_LinearChamber2Jan7shuffle1_30000  with # of trainingiterations: 30000\n",
      "INFO:tensorflow:Restoring parameters from D:\\Users\\user\\Desktop\\LinearChamber2-KAIST-2019-01-07\\dlc-models\\iteration-3\\LinearChamber2Jan7-trainset80shuffle1\\train\\snapshot-30000\n"
     ]
    },
    {
     "name": "stderr",
     "output_type": "stream",
     "text": [
      "Restoring parameters from D:\\Users\\user\\Desktop\\LinearChamber2-KAIST-2019-01-07\\dlc-models\\iteration-3\\LinearChamber2Jan7-trainset80shuffle1\\train\\snapshot-30000\n"
     ]
    },
    {
     "name": "stdout",
     "output_type": "stream",
     "text": [
      "Analyzing data...\n"
     ]
    },
    {
     "name": "stderr",
     "output_type": "stream",
     "text": [
      "656it [00:33, 19.85it/s]\n"
     ]
    },
    {
     "name": "stdout",
     "output_type": "stream",
     "text": [
      "Done and results stored for snapshot:  snapshot-30000\n",
      "Results for 30000  training iterations: 80 1 train error: 3.66 pixels. Test error: 4.42  pixels.\n",
      "With pcutoff of 0.1  train error: 3.66 pixels. Test error: 4.34 pixels\n",
      "Thereby, the errors are given by the average distances between the labels by DLC and the scorer.\n",
      "Running  DeepCut_resnet101_LinearChamber2Jan7shuffle1_35000  with # of trainingiterations: 35000\n",
      "INFO:tensorflow:Restoring parameters from D:\\Users\\user\\Desktop\\LinearChamber2-KAIST-2019-01-07\\dlc-models\\iteration-3\\LinearChamber2Jan7-trainset80shuffle1\\train\\snapshot-35000\n"
     ]
    },
    {
     "name": "stderr",
     "output_type": "stream",
     "text": [
      "Restoring parameters from D:\\Users\\user\\Desktop\\LinearChamber2-KAIST-2019-01-07\\dlc-models\\iteration-3\\LinearChamber2Jan7-trainset80shuffle1\\train\\snapshot-35000\n"
     ]
    },
    {
     "name": "stdout",
     "output_type": "stream",
     "text": [
      "Analyzing data...\n"
     ]
    },
    {
     "name": "stderr",
     "output_type": "stream",
     "text": [
      "656it [00:34, 17.57it/s]\n"
     ]
    },
    {
     "name": "stdout",
     "output_type": "stream",
     "text": [
      "Done and results stored for snapshot:  snapshot-35000\n",
      "Results for 35000  training iterations: 80 1 train error: 3.43 pixels. Test error: 4.14  pixels.\n",
      "With pcutoff of 0.1  train error: 3.43 pixels. Test error: 4.04 pixels\n",
      "Thereby, the errors are given by the average distances between the labels by DLC and the scorer.\n",
      "Running  DeepCut_resnet101_LinearChamber2Jan7shuffle1_40000  with # of trainingiterations: 40000\n",
      "INFO:tensorflow:Restoring parameters from D:\\Users\\user\\Desktop\\LinearChamber2-KAIST-2019-01-07\\dlc-models\\iteration-3\\LinearChamber2Jan7-trainset80shuffle1\\train\\snapshot-40000\n"
     ]
    },
    {
     "name": "stderr",
     "output_type": "stream",
     "text": [
      "Restoring parameters from D:\\Users\\user\\Desktop\\LinearChamber2-KAIST-2019-01-07\\dlc-models\\iteration-3\\LinearChamber2Jan7-trainset80shuffle1\\train\\snapshot-40000\n"
     ]
    },
    {
     "name": "stdout",
     "output_type": "stream",
     "text": [
      "Analyzing data...\n"
     ]
    },
    {
     "name": "stderr",
     "output_type": "stream",
     "text": [
      "656it [00:34, 17.38it/s]\n"
     ]
    },
    {
     "name": "stdout",
     "output_type": "stream",
     "text": [
      "Done and results stored for snapshot:  snapshot-40000\n",
      "Results for 40000  training iterations: 80 1 train error: 3.43 pixels. Test error: 4.32  pixels.\n",
      "With pcutoff of 0.1  train error: 3.42 pixels. Test error: 4.22 pixels\n",
      "Thereby, the errors are given by the average distances between the labels by DLC and the scorer.\n",
      "Running  DeepCut_resnet101_LinearChamber2Jan7shuffle1_45000  with # of trainingiterations: 45000\n",
      "INFO:tensorflow:Restoring parameters from D:\\Users\\user\\Desktop\\LinearChamber2-KAIST-2019-01-07\\dlc-models\\iteration-3\\LinearChamber2Jan7-trainset80shuffle1\\train\\snapshot-45000\n"
     ]
    },
    {
     "name": "stderr",
     "output_type": "stream",
     "text": [
      "Restoring parameters from D:\\Users\\user\\Desktop\\LinearChamber2-KAIST-2019-01-07\\dlc-models\\iteration-3\\LinearChamber2Jan7-trainset80shuffle1\\train\\snapshot-45000\n"
     ]
    },
    {
     "name": "stdout",
     "output_type": "stream",
     "text": [
      "Analyzing data...\n"
     ]
    },
    {
     "name": "stderr",
     "output_type": "stream",
     "text": [
      "656it [00:34, 17.67it/s]\n"
     ]
    },
    {
     "name": "stdout",
     "output_type": "stream",
     "text": [
      "Done and results stored for snapshot:  snapshot-45000\n",
      "Results for 45000  training iterations: 80 1 train error: 3.26 pixels. Test error: 4.0  pixels.\n",
      "With pcutoff of 0.1  train error: 3.26 pixels. Test error: 3.89 pixels\n",
      "Thereby, the errors are given by the average distances between the labels by DLC and the scorer.\n",
      "Running  DeepCut_resnet101_LinearChamber2Jan7shuffle1_50000  with # of trainingiterations: 50000\n",
      "INFO:tensorflow:Restoring parameters from D:\\Users\\user\\Desktop\\LinearChamber2-KAIST-2019-01-07\\dlc-models\\iteration-3\\LinearChamber2Jan7-trainset80shuffle1\\train\\snapshot-50000\n"
     ]
    },
    {
     "name": "stderr",
     "output_type": "stream",
     "text": [
      "Restoring parameters from D:\\Users\\user\\Desktop\\LinearChamber2-KAIST-2019-01-07\\dlc-models\\iteration-3\\LinearChamber2Jan7-trainset80shuffle1\\train\\snapshot-50000\n"
     ]
    },
    {
     "name": "stdout",
     "output_type": "stream",
     "text": [
      "Analyzing data...\n"
     ]
    },
    {
     "name": "stderr",
     "output_type": "stream",
     "text": [
      "656it [00:34, 19.24it/s]\n"
     ]
    },
    {
     "name": "stdout",
     "output_type": "stream",
     "text": [
      "Done and results stored for snapshot:  snapshot-50000\n",
      "Results for 50000  training iterations: 80 1 train error: 3.16 pixels. Test error: 4.14  pixels.\n",
      "With pcutoff of 0.1  train error: 3.16 pixels. Test error: 4.06 pixels\n",
      "Thereby, the errors are given by the average distances between the labels by DLC and the scorer.\n",
      "Running  DeepCut_resnet101_LinearChamber2Jan7shuffle1_55000  with # of trainingiterations: 55000\n",
      "INFO:tensorflow:Restoring parameters from D:\\Users\\user\\Desktop\\LinearChamber2-KAIST-2019-01-07\\dlc-models\\iteration-3\\LinearChamber2Jan7-trainset80shuffle1\\train\\snapshot-55000\n"
     ]
    },
    {
     "name": "stderr",
     "output_type": "stream",
     "text": [
      "Restoring parameters from D:\\Users\\user\\Desktop\\LinearChamber2-KAIST-2019-01-07\\dlc-models\\iteration-3\\LinearChamber2Jan7-trainset80shuffle1\\train\\snapshot-55000\n"
     ]
    },
    {
     "name": "stdout",
     "output_type": "stream",
     "text": [
      "Analyzing data...\n"
     ]
    },
    {
     "name": "stderr",
     "output_type": "stream",
     "text": [
      "656it [00:33, 19.45it/s]\n"
     ]
    },
    {
     "name": "stdout",
     "output_type": "stream",
     "text": [
      "Done and results stored for snapshot:  snapshot-55000\n",
      "Results for 55000  training iterations: 80 1 train error: 3.04 pixels. Test error: 4.56  pixels.\n",
      "With pcutoff of 0.1  train error: 3.04 pixels. Test error: 3.94 pixels\n",
      "Thereby, the errors are given by the average distances between the labels by DLC and the scorer.\n",
      "Running  DeepCut_resnet101_LinearChamber2Jan7shuffle1_60000  with # of trainingiterations: 60000\n",
      "INFO:tensorflow:Restoring parameters from D:\\Users\\user\\Desktop\\LinearChamber2-KAIST-2019-01-07\\dlc-models\\iteration-3\\LinearChamber2Jan7-trainset80shuffle1\\train\\snapshot-60000\n"
     ]
    },
    {
     "name": "stderr",
     "output_type": "stream",
     "text": [
      "Restoring parameters from D:\\Users\\user\\Desktop\\LinearChamber2-KAIST-2019-01-07\\dlc-models\\iteration-3\\LinearChamber2Jan7-trainset80shuffle1\\train\\snapshot-60000\n"
     ]
    },
    {
     "name": "stdout",
     "output_type": "stream",
     "text": [
      "Analyzing data...\n"
     ]
    },
    {
     "name": "stderr",
     "output_type": "stream",
     "text": [
      "656it [00:32, 19.96it/s]\n"
     ]
    },
    {
     "name": "stdout",
     "output_type": "stream",
     "text": [
      "Done and results stored for snapshot:  snapshot-60000\n",
      "Results for 60000  training iterations: 80 1 train error: 3.05 pixels. Test error: 4.17  pixels.\n",
      "With pcutoff of 0.1  train error: 2.93 pixels. Test error: 3.57 pixels\n",
      "Thereby, the errors are given by the average distances between the labels by DLC and the scorer.\n",
      "Running  DeepCut_resnet101_LinearChamber2Jan7shuffle1_65000  with # of trainingiterations: 65000\n",
      "INFO:tensorflow:Restoring parameters from D:\\Users\\user\\Desktop\\LinearChamber2-KAIST-2019-01-07\\dlc-models\\iteration-3\\LinearChamber2Jan7-trainset80shuffle1\\train\\snapshot-65000\n"
     ]
    },
    {
     "name": "stderr",
     "output_type": "stream",
     "text": [
      "Restoring parameters from D:\\Users\\user\\Desktop\\LinearChamber2-KAIST-2019-01-07\\dlc-models\\iteration-3\\LinearChamber2Jan7-trainset80shuffle1\\train\\snapshot-65000\n"
     ]
    },
    {
     "name": "stdout",
     "output_type": "stream",
     "text": [
      "Analyzing data...\n"
     ]
    },
    {
     "name": "stderr",
     "output_type": "stream",
     "text": [
      "656it [00:34, 16.39it/s]\n"
     ]
    },
    {
     "name": "stdout",
     "output_type": "stream",
     "text": [
      "Done and results stored for snapshot:  snapshot-65000\n",
      "Results for 65000  training iterations: 80 1 train error: 3.45 pixels. Test error: 4.94  pixels.\n",
      "With pcutoff of 0.1  train error: 3.44 pixels. Test error: 4.31 pixels\n",
      "Thereby, the errors are given by the average distances between the labels by DLC and the scorer.\n",
      "Running  DeepCut_resnet101_LinearChamber2Jan7shuffle1_70000  with # of trainingiterations: 70000\n",
      "INFO:tensorflow:Restoring parameters from D:\\Users\\user\\Desktop\\LinearChamber2-KAIST-2019-01-07\\dlc-models\\iteration-3\\LinearChamber2Jan7-trainset80shuffle1\\train\\snapshot-70000\n"
     ]
    },
    {
     "name": "stderr",
     "output_type": "stream",
     "text": [
      "Restoring parameters from D:\\Users\\user\\Desktop\\LinearChamber2-KAIST-2019-01-07\\dlc-models\\iteration-3\\LinearChamber2Jan7-trainset80shuffle1\\train\\snapshot-70000\n"
     ]
    },
    {
     "name": "stdout",
     "output_type": "stream",
     "text": [
      "Analyzing data...\n"
     ]
    },
    {
     "name": "stderr",
     "output_type": "stream",
     "text": [
      "656it [00:33, 19.44it/s]\n"
     ]
    },
    {
     "name": "stdout",
     "output_type": "stream",
     "text": [
      "Done and results stored for snapshot:  snapshot-70000\n",
      "Results for 70000  training iterations: 80 1 train error: 3.02 pixels. Test error: 4.48  pixels.\n",
      "With pcutoff of 0.1  train error: 3.02 pixels. Test error: 3.93 pixels\n",
      "Thereby, the errors are given by the average distances between the labels by DLC and the scorer.\n",
      "Running  DeepCut_resnet101_LinearChamber2Jan7shuffle1_75000  with # of trainingiterations: 75000\n",
      "INFO:tensorflow:Restoring parameters from D:\\Users\\user\\Desktop\\LinearChamber2-KAIST-2019-01-07\\dlc-models\\iteration-3\\LinearChamber2Jan7-trainset80shuffle1\\train\\snapshot-75000\n"
     ]
    },
    {
     "name": "stderr",
     "output_type": "stream",
     "text": [
      "Restoring parameters from D:\\Users\\user\\Desktop\\LinearChamber2-KAIST-2019-01-07\\dlc-models\\iteration-3\\LinearChamber2Jan7-trainset80shuffle1\\train\\snapshot-75000\n"
     ]
    },
    {
     "name": "stdout",
     "output_type": "stream",
     "text": [
      "Analyzing data...\n"
     ]
    },
    {
     "name": "stderr",
     "output_type": "stream",
     "text": [
      "656it [00:34, 19.24it/s]\n"
     ]
    },
    {
     "name": "stdout",
     "output_type": "stream",
     "text": [
      "Done and results stored for snapshot:  snapshot-75000\n",
      "Results for 75000  training iterations: 80 1 train error: 2.86 pixels. Test error: 4.65  pixels.\n",
      "With pcutoff of 0.1  train error: 2.85 pixels. Test error: 3.54 pixels\n",
      "Thereby, the errors are given by the average distances between the labels by DLC and the scorer.\n",
      "Running  DeepCut_resnet101_LinearChamber2Jan7shuffle1_80000  with # of trainingiterations: 80000\n",
      "INFO:tensorflow:Restoring parameters from D:\\Users\\user\\Desktop\\LinearChamber2-KAIST-2019-01-07\\dlc-models\\iteration-3\\LinearChamber2Jan7-trainset80shuffle1\\train\\snapshot-80000\n"
     ]
    },
    {
     "name": "stderr",
     "output_type": "stream",
     "text": [
      "Restoring parameters from D:\\Users\\user\\Desktop\\LinearChamber2-KAIST-2019-01-07\\dlc-models\\iteration-3\\LinearChamber2Jan7-trainset80shuffle1\\train\\snapshot-80000\n"
     ]
    },
    {
     "name": "stdout",
     "output_type": "stream",
     "text": [
      "Analyzing data...\n"
     ]
    },
    {
     "name": "stderr",
     "output_type": "stream",
     "text": [
      "656it [00:32, 19.89it/s]\n"
     ]
    },
    {
     "name": "stdout",
     "output_type": "stream",
     "text": [
      "Done and results stored for snapshot:  snapshot-80000\n",
      "Results for 80000  training iterations: 80 1 train error: 2.99 pixels. Test error: 4.99  pixels.\n",
      "With pcutoff of 0.1  train error: 2.99 pixels. Test error: 3.87 pixels\n",
      "Thereby, the errors are given by the average distances between the labels by DLC and the scorer.\n",
      "Running  DeepCut_resnet101_LinearChamber2Jan7shuffle1_85000  with # of trainingiterations: 85000\n",
      "INFO:tensorflow:Restoring parameters from D:\\Users\\user\\Desktop\\LinearChamber2-KAIST-2019-01-07\\dlc-models\\iteration-3\\LinearChamber2Jan7-trainset80shuffle1\\train\\snapshot-85000\n"
     ]
    },
    {
     "name": "stderr",
     "output_type": "stream",
     "text": [
      "Restoring parameters from D:\\Users\\user\\Desktop\\LinearChamber2-KAIST-2019-01-07\\dlc-models\\iteration-3\\LinearChamber2Jan7-trainset80shuffle1\\train\\snapshot-85000\n"
     ]
    },
    {
     "name": "stdout",
     "output_type": "stream",
     "text": [
      "Analyzing data...\n"
     ]
    },
    {
     "name": "stderr",
     "output_type": "stream",
     "text": [
      "656it [00:33, 16.77it/s]\n"
     ]
    },
    {
     "name": "stdout",
     "output_type": "stream",
     "text": [
      "Done and results stored for snapshot:  snapshot-85000\n",
      "Results for 85000  training iterations: 80 1 train error: 2.98 pixels. Test error: 4.29  pixels.\n",
      "With pcutoff of 0.1  train error: 2.98 pixels. Test error: 3.67 pixels\n",
      "Thereby, the errors are given by the average distances between the labels by DLC and the scorer.\n",
      "Running  DeepCut_resnet101_LinearChamber2Jan7shuffle1_90000  with # of trainingiterations: 90000\n",
      "INFO:tensorflow:Restoring parameters from D:\\Users\\user\\Desktop\\LinearChamber2-KAIST-2019-01-07\\dlc-models\\iteration-3\\LinearChamber2Jan7-trainset80shuffle1\\train\\snapshot-90000\n"
     ]
    },
    {
     "name": "stderr",
     "output_type": "stream",
     "text": [
      "Restoring parameters from D:\\Users\\user\\Desktop\\LinearChamber2-KAIST-2019-01-07\\dlc-models\\iteration-3\\LinearChamber2Jan7-trainset80shuffle1\\train\\snapshot-90000\n"
     ]
    },
    {
     "name": "stdout",
     "output_type": "stream",
     "text": [
      "Analyzing data...\n"
     ]
    },
    {
     "name": "stderr",
     "output_type": "stream",
     "text": [
      "656it [00:32, 16.31it/s]\n"
     ]
    },
    {
     "name": "stdout",
     "output_type": "stream",
     "text": [
      "Done and results stored for snapshot:  snapshot-90000\n",
      "Results for 90000  training iterations: 80 1 train error: 3.2 pixels. Test error: 4.9  pixels.\n",
      "With pcutoff of 0.1  train error: 3.2 pixels. Test error: 3.79 pixels\n",
      "Thereby, the errors are given by the average distances between the labels by DLC and the scorer.\n",
      "Running  DeepCut_resnet101_LinearChamber2Jan7shuffle1_95000  with # of trainingiterations: 95000\n",
      "INFO:tensorflow:Restoring parameters from D:\\Users\\user\\Desktop\\LinearChamber2-KAIST-2019-01-07\\dlc-models\\iteration-3\\LinearChamber2Jan7-trainset80shuffle1\\train\\snapshot-95000\n"
     ]
    },
    {
     "name": "stderr",
     "output_type": "stream",
     "text": [
      "Restoring parameters from D:\\Users\\user\\Desktop\\LinearChamber2-KAIST-2019-01-07\\dlc-models\\iteration-3\\LinearChamber2Jan7-trainset80shuffle1\\train\\snapshot-95000\n"
     ]
    },
    {
     "name": "stdout",
     "output_type": "stream",
     "text": [
      "Analyzing data...\n"
     ]
    },
    {
     "name": "stderr",
     "output_type": "stream",
     "text": [
      "656it [00:35, 16.31it/s]\n"
     ]
    },
    {
     "name": "stdout",
     "output_type": "stream",
     "text": [
      "Done and results stored for snapshot:  snapshot-95000\n",
      "Results for 95000  training iterations: 80 1 train error: 3.0 pixels. Test error: 4.79  pixels.\n",
      "With pcutoff of 0.1  train error: 3.0 pixels. Test error: 3.66 pixels\n",
      "Thereby, the errors are given by the average distances between the labels by DLC and the scorer.\n",
      "Running  DeepCut_resnet101_LinearChamber2Jan7shuffle1_100000  with # of trainingiterations: 100000\n",
      "INFO:tensorflow:Restoring parameters from D:\\Users\\user\\Desktop\\LinearChamber2-KAIST-2019-01-07\\dlc-models\\iteration-3\\LinearChamber2Jan7-trainset80shuffle1\\train\\snapshot-100000\n"
     ]
    },
    {
     "name": "stderr",
     "output_type": "stream",
     "text": [
      "Restoring parameters from D:\\Users\\user\\Desktop\\LinearChamber2-KAIST-2019-01-07\\dlc-models\\iteration-3\\LinearChamber2Jan7-trainset80shuffle1\\train\\snapshot-100000\n"
     ]
    },
    {
     "name": "stdout",
     "output_type": "stream",
     "text": [
      "Analyzing data...\n"
     ]
    },
    {
     "name": "stderr",
     "output_type": "stream",
     "text": [
      "656it [00:35, 16.66it/s]\n"
     ]
    },
    {
     "name": "stdout",
     "output_type": "stream",
     "text": [
      "Done and results stored for snapshot:  snapshot-100000\n",
      "Results for 100000  training iterations: 80 1 train error: 3.19 pixels. Test error: 5.18  pixels.\n",
      "With pcutoff of 0.1  train error: 3.19 pixels. Test error: 4.03 pixels\n",
      "Thereby, the errors are given by the average distances between the labels by DLC and the scorer.\n",
      "Running  DeepCut_resnet101_LinearChamber2Jan7shuffle1_105000  with # of trainingiterations: 105000\n",
      "INFO:tensorflow:Restoring parameters from D:\\Users\\user\\Desktop\\LinearChamber2-KAIST-2019-01-07\\dlc-models\\iteration-3\\LinearChamber2Jan7-trainset80shuffle1\\train\\snapshot-105000\n"
     ]
    },
    {
     "name": "stderr",
     "output_type": "stream",
     "text": [
      "Restoring parameters from D:\\Users\\user\\Desktop\\LinearChamber2-KAIST-2019-01-07\\dlc-models\\iteration-3\\LinearChamber2Jan7-trainset80shuffle1\\train\\snapshot-105000\n"
     ]
    },
    {
     "name": "stdout",
     "output_type": "stream",
     "text": [
      "Analyzing data...\n"
     ]
    },
    {
     "name": "stderr",
     "output_type": "stream",
     "text": [
      "656it [00:34, 17.35it/s]\n"
     ]
    },
    {
     "name": "stdout",
     "output_type": "stream",
     "text": [
      "Done and results stored for snapshot:  snapshot-105000\n",
      "Results for 105000  training iterations: 80 1 train error: 3.22 pixels. Test error: 4.96  pixels.\n",
      "With pcutoff of 0.1  train error: 3.22 pixels. Test error: 3.84 pixels\n",
      "Thereby, the errors are given by the average distances between the labels by DLC and the scorer.\n",
      "Running  DeepCut_resnet101_LinearChamber2Jan7shuffle1_110000  with # of trainingiterations: 110000\n",
      "INFO:tensorflow:Restoring parameters from D:\\Users\\user\\Desktop\\LinearChamber2-KAIST-2019-01-07\\dlc-models\\iteration-3\\LinearChamber2Jan7-trainset80shuffle1\\train\\snapshot-110000\n"
     ]
    },
    {
     "name": "stderr",
     "output_type": "stream",
     "text": [
      "Restoring parameters from D:\\Users\\user\\Desktop\\LinearChamber2-KAIST-2019-01-07\\dlc-models\\iteration-3\\LinearChamber2Jan7-trainset80shuffle1\\train\\snapshot-110000\n"
     ]
    },
    {
     "name": "stdout",
     "output_type": "stream",
     "text": [
      "Analyzing data...\n"
     ]
    },
    {
     "name": "stderr",
     "output_type": "stream",
     "text": [
      "656it [00:34, 18.86it/s]\n"
     ]
    },
    {
     "name": "stdout",
     "output_type": "stream",
     "text": [
      "Done and results stored for snapshot:  snapshot-110000\n",
      "Results for 110000  training iterations: 80 1 train error: 2.6 pixels. Test error: 4.45  pixels.\n",
      "With pcutoff of 0.1  train error: 2.6 pixels. Test error: 3.34 pixels\n",
      "Thereby, the errors are given by the average distances between the labels by DLC and the scorer.\n",
      "Running  DeepCut_resnet101_LinearChamber2Jan7shuffle1_115000  with # of trainingiterations: 115000\n",
      "INFO:tensorflow:Restoring parameters from D:\\Users\\user\\Desktop\\LinearChamber2-KAIST-2019-01-07\\dlc-models\\iteration-3\\LinearChamber2Jan7-trainset80shuffle1\\train\\snapshot-115000\n"
     ]
    },
    {
     "name": "stderr",
     "output_type": "stream",
     "text": [
      "Restoring parameters from D:\\Users\\user\\Desktop\\LinearChamber2-KAIST-2019-01-07\\dlc-models\\iteration-3\\LinearChamber2Jan7-trainset80shuffle1\\train\\snapshot-115000\n"
     ]
    },
    {
     "name": "stdout",
     "output_type": "stream",
     "text": [
      "Analyzing data...\n"
     ]
    },
    {
     "name": "stderr",
     "output_type": "stream",
     "text": [
      "656it [00:34, 16.84it/s]\n"
     ]
    },
    {
     "name": "stdout",
     "output_type": "stream",
     "text": [
      "Done and results stored for snapshot:  snapshot-115000\n",
      "Results for 115000  training iterations: 80 1 train error: 3.14 pixels. Test error: 3.9  pixels.\n",
      "With pcutoff of 0.1  train error: 3.13 pixels. Test error: 3.82 pixels\n",
      "Thereby, the errors are given by the average distances between the labels by DLC and the scorer.\n",
      "Running  DeepCut_resnet101_LinearChamber2Jan7shuffle1_120000  with # of trainingiterations: 120000\n",
      "INFO:tensorflow:Restoring parameters from D:\\Users\\user\\Desktop\\LinearChamber2-KAIST-2019-01-07\\dlc-models\\iteration-3\\LinearChamber2Jan7-trainset80shuffle1\\train\\snapshot-120000\n"
     ]
    },
    {
     "name": "stderr",
     "output_type": "stream",
     "text": [
      "Restoring parameters from D:\\Users\\user\\Desktop\\LinearChamber2-KAIST-2019-01-07\\dlc-models\\iteration-3\\LinearChamber2Jan7-trainset80shuffle1\\train\\snapshot-120000\n"
     ]
    },
    {
     "name": "stdout",
     "output_type": "stream",
     "text": [
      "Analyzing data...\n"
     ]
    },
    {
     "name": "stderr",
     "output_type": "stream",
     "text": [
      "656it [00:33, 19.42it/s]\n"
     ]
    },
    {
     "name": "stdout",
     "output_type": "stream",
     "text": [
      "Done and results stored for snapshot:  snapshot-120000\n",
      "Results for 120000  training iterations: 80 1 train error: 2.88 pixels. Test error: 4.63  pixels.\n",
      "With pcutoff of 0.1  train error: 2.88 pixels. Test error: 3.51 pixels\n",
      "Thereby, the errors are given by the average distances between the labels by DLC and the scorer.\n",
      "Running  DeepCut_resnet101_LinearChamber2Jan7shuffle1_125000  with # of trainingiterations: 125000\n",
      "INFO:tensorflow:Restoring parameters from D:\\Users\\user\\Desktop\\LinearChamber2-KAIST-2019-01-07\\dlc-models\\iteration-3\\LinearChamber2Jan7-trainset80shuffle1\\train\\snapshot-125000\n"
     ]
    },
    {
     "name": "stderr",
     "output_type": "stream",
     "text": [
      "Restoring parameters from D:\\Users\\user\\Desktop\\LinearChamber2-KAIST-2019-01-07\\dlc-models\\iteration-3\\LinearChamber2Jan7-trainset80shuffle1\\train\\snapshot-125000\n"
     ]
    },
    {
     "name": "stdout",
     "output_type": "stream",
     "text": [
      "Analyzing data...\n"
     ]
    },
    {
     "name": "stderr",
     "output_type": "stream",
     "text": [
      "656it [00:35, 18.55it/s]\n"
     ]
    },
    {
     "name": "stdout",
     "output_type": "stream",
     "text": [
      "Done and results stored for snapshot:  snapshot-125000\n",
      "Results for 125000  training iterations: 80 1 train error: 2.61 pixels. Test error: 4.58  pixels.\n",
      "With pcutoff of 0.1  train error: 2.61 pixels. Test error: 3.44 pixels\n",
      "Thereby, the errors are given by the average distances between the labels by DLC and the scorer.\n",
      "Running  DeepCut_resnet101_LinearChamber2Jan7shuffle1_130000  with # of trainingiterations: 130000\n",
      "INFO:tensorflow:Restoring parameters from D:\\Users\\user\\Desktop\\LinearChamber2-KAIST-2019-01-07\\dlc-models\\iteration-3\\LinearChamber2Jan7-trainset80shuffle1\\train\\snapshot-130000\n"
     ]
    },
    {
     "name": "stderr",
     "output_type": "stream",
     "text": [
      "Restoring parameters from D:\\Users\\user\\Desktop\\LinearChamber2-KAIST-2019-01-07\\dlc-models\\iteration-3\\LinearChamber2Jan7-trainset80shuffle1\\train\\snapshot-130000\n"
     ]
    },
    {
     "name": "stdout",
     "output_type": "stream",
     "text": [
      "Analyzing data...\n"
     ]
    },
    {
     "name": "stderr",
     "output_type": "stream",
     "text": [
      "656it [00:34, 17.18it/s]\n"
     ]
    },
    {
     "name": "stdout",
     "output_type": "stream",
     "text": [
      "Done and results stored for snapshot:  snapshot-130000\n",
      "Results for 130000  training iterations: 80 1 train error: 2.84 pixels. Test error: 5.0  pixels.\n",
      "With pcutoff of 0.1  train error: 2.84 pixels. Test error: 3.86 pixels\n",
      "Thereby, the errors are given by the average distances between the labels by DLC and the scorer.\n",
      "Running  DeepCut_resnet101_LinearChamber2Jan7shuffle1_135000  with # of trainingiterations: 135000\n",
      "INFO:tensorflow:Restoring parameters from D:\\Users\\user\\Desktop\\LinearChamber2-KAIST-2019-01-07\\dlc-models\\iteration-3\\LinearChamber2Jan7-trainset80shuffle1\\train\\snapshot-135000\n"
     ]
    },
    {
     "name": "stderr",
     "output_type": "stream",
     "text": [
      "Restoring parameters from D:\\Users\\user\\Desktop\\LinearChamber2-KAIST-2019-01-07\\dlc-models\\iteration-3\\LinearChamber2Jan7-trainset80shuffle1\\train\\snapshot-135000\n"
     ]
    },
    {
     "name": "stdout",
     "output_type": "stream",
     "text": [
      "Analyzing data...\n"
     ]
    },
    {
     "name": "stderr",
     "output_type": "stream",
     "text": [
      "656it [00:35, 18.33it/s]\n"
     ]
    },
    {
     "name": "stdout",
     "output_type": "stream",
     "text": [
      "Done and results stored for snapshot:  snapshot-135000\n",
      "Results for 135000  training iterations: 80 1 train error: 2.78 pixels. Test error: 4.71  pixels.\n",
      "With pcutoff of 0.1  train error: 2.78 pixels. Test error: 3.59 pixels\n",
      "Thereby, the errors are given by the average distances between the labels by DLC and the scorer.\n",
      "Running  DeepCut_resnet101_LinearChamber2Jan7shuffle1_140000  with # of trainingiterations: 140000\n",
      "INFO:tensorflow:Restoring parameters from D:\\Users\\user\\Desktop\\LinearChamber2-KAIST-2019-01-07\\dlc-models\\iteration-3\\LinearChamber2Jan7-trainset80shuffle1\\train\\snapshot-140000\n"
     ]
    },
    {
     "name": "stderr",
     "output_type": "stream",
     "text": [
      "Restoring parameters from D:\\Users\\user\\Desktop\\LinearChamber2-KAIST-2019-01-07\\dlc-models\\iteration-3\\LinearChamber2Jan7-trainset80shuffle1\\train\\snapshot-140000\n"
     ]
    },
    {
     "name": "stdout",
     "output_type": "stream",
     "text": [
      "Analyzing data...\n"
     ]
    },
    {
     "name": "stderr",
     "output_type": "stream",
     "text": [
      "656it [00:34, 19.10it/s]\n"
     ]
    },
    {
     "name": "stdout",
     "output_type": "stream",
     "text": [
      "Done and results stored for snapshot:  snapshot-140000\n",
      "Results for 140000  training iterations: 80 1 train error: 2.58 pixels. Test error: 4.54  pixels.\n",
      "With pcutoff of 0.1  train error: 2.58 pixels. Test error: 3.41 pixels\n",
      "Thereby, the errors are given by the average distances between the labels by DLC and the scorer.\n",
      "Running  DeepCut_resnet101_LinearChamber2Jan7shuffle1_145000  with # of trainingiterations: 145000\n",
      "INFO:tensorflow:Restoring parameters from D:\\Users\\user\\Desktop\\LinearChamber2-KAIST-2019-01-07\\dlc-models\\iteration-3\\LinearChamber2Jan7-trainset80shuffle1\\train\\snapshot-145000\n"
     ]
    },
    {
     "name": "stderr",
     "output_type": "stream",
     "text": [
      "Restoring parameters from D:\\Users\\user\\Desktop\\LinearChamber2-KAIST-2019-01-07\\dlc-models\\iteration-3\\LinearChamber2Jan7-trainset80shuffle1\\train\\snapshot-145000\n"
     ]
    },
    {
     "name": "stdout",
     "output_type": "stream",
     "text": [
      "Analyzing data...\n"
     ]
    },
    {
     "name": "stderr",
     "output_type": "stream",
     "text": [
      "656it [00:33, 18.67it/s]\n"
     ]
    },
    {
     "name": "stdout",
     "output_type": "stream",
     "text": [
      "Done and results stored for snapshot:  snapshot-145000\n",
      "Results for 145000  training iterations: 80 1 train error: 2.91 pixels. Test error: 4.78  pixels.\n",
      "With pcutoff of 0.1  train error: 2.91 pixels. Test error: 3.66 pixels\n",
      "Thereby, the errors are given by the average distances between the labels by DLC and the scorer.\n",
      "Running  DeepCut_resnet101_LinearChamber2Jan7shuffle1_150000  with # of trainingiterations: 150000\n",
      "INFO:tensorflow:Restoring parameters from D:\\Users\\user\\Desktop\\LinearChamber2-KAIST-2019-01-07\\dlc-models\\iteration-3\\LinearChamber2Jan7-trainset80shuffle1\\train\\snapshot-150000\n"
     ]
    },
    {
     "name": "stderr",
     "output_type": "stream",
     "text": [
      "Restoring parameters from D:\\Users\\user\\Desktop\\LinearChamber2-KAIST-2019-01-07\\dlc-models\\iteration-3\\LinearChamber2Jan7-trainset80shuffle1\\train\\snapshot-150000\n"
     ]
    },
    {
     "name": "stdout",
     "output_type": "stream",
     "text": [
      "Analyzing data...\n"
     ]
    },
    {
     "name": "stderr",
     "output_type": "stream",
     "text": [
      "656it [00:32, 17.06it/s]\n"
     ]
    },
    {
     "name": "stdout",
     "output_type": "stream",
     "text": [
      "Done and results stored for snapshot:  snapshot-150000\n",
      "Results for 150000  training iterations: 80 1 train error: 2.91 pixels. Test error: 4.78  pixels.\n",
      "With pcutoff of 0.1  train error: 2.91 pixels. Test error: 3.65 pixels\n",
      "Thereby, the errors are given by the average distances between the labels by DLC and the scorer.\n",
      "Running  DeepCut_resnet101_LinearChamber2Jan7shuffle1_155000  with # of trainingiterations: 155000\n",
      "INFO:tensorflow:Restoring parameters from D:\\Users\\user\\Desktop\\LinearChamber2-KAIST-2019-01-07\\dlc-models\\iteration-3\\LinearChamber2Jan7-trainset80shuffle1\\train\\snapshot-155000\n"
     ]
    },
    {
     "name": "stderr",
     "output_type": "stream",
     "text": [
      "Restoring parameters from D:\\Users\\user\\Desktop\\LinearChamber2-KAIST-2019-01-07\\dlc-models\\iteration-3\\LinearChamber2Jan7-trainset80shuffle1\\train\\snapshot-155000\n"
     ]
    },
    {
     "name": "stdout",
     "output_type": "stream",
     "text": [
      "Analyzing data...\n"
     ]
    },
    {
     "name": "stderr",
     "output_type": "stream",
     "text": [
      "656it [00:35, 18.59it/s]\n"
     ]
    },
    {
     "name": "stdout",
     "output_type": "stream",
     "text": [
      "Done and results stored for snapshot:  snapshot-155000\n",
      "Results for 155000  training iterations: 80 1 train error: 2.4 pixels. Test error: 4.33  pixels.\n",
      "With pcutoff of 0.1  train error: 2.4 pixels. Test error: 3.2 pixels\n",
      "Thereby, the errors are given by the average distances between the labels by DLC and the scorer.\n",
      "Running  DeepCut_resnet101_LinearChamber2Jan7shuffle1_160000  with # of trainingiterations: 160000\n",
      "INFO:tensorflow:Restoring parameters from D:\\Users\\user\\Desktop\\LinearChamber2-KAIST-2019-01-07\\dlc-models\\iteration-3\\LinearChamber2Jan7-trainset80shuffle1\\train\\snapshot-160000\n"
     ]
    },
    {
     "name": "stderr",
     "output_type": "stream",
     "text": [
      "Restoring parameters from D:\\Users\\user\\Desktop\\LinearChamber2-KAIST-2019-01-07\\dlc-models\\iteration-3\\LinearChamber2Jan7-trainset80shuffle1\\train\\snapshot-160000\n"
     ]
    },
    {
     "name": "stdout",
     "output_type": "stream",
     "text": [
      "Analyzing data...\n"
     ]
    },
    {
     "name": "stderr",
     "output_type": "stream",
     "text": [
      "656it [00:35, 17.21it/s]\n"
     ]
    },
    {
     "name": "stdout",
     "output_type": "stream",
     "text": [
      "Done and results stored for snapshot:  snapshot-160000\n",
      "Results for 160000  training iterations: 80 1 train error: 2.47 pixels. Test error: 4.46  pixels.\n",
      "With pcutoff of 0.1  train error: 2.47 pixels. Test error: 3.33 pixels\n",
      "Thereby, the errors are given by the average distances between the labels by DLC and the scorer.\n",
      "Running  DeepCut_resnet101_LinearChamber2Jan7shuffle1_165000  with # of trainingiterations: 165000\n",
      "INFO:tensorflow:Restoring parameters from D:\\Users\\user\\Desktop\\LinearChamber2-KAIST-2019-01-07\\dlc-models\\iteration-3\\LinearChamber2Jan7-trainset80shuffle1\\train\\snapshot-165000\n"
     ]
    },
    {
     "name": "stderr",
     "output_type": "stream",
     "text": [
      "Restoring parameters from D:\\Users\\user\\Desktop\\LinearChamber2-KAIST-2019-01-07\\dlc-models\\iteration-3\\LinearChamber2Jan7-trainset80shuffle1\\train\\snapshot-165000\n"
     ]
    },
    {
     "name": "stdout",
     "output_type": "stream",
     "text": [
      "Analyzing data...\n"
     ]
    },
    {
     "name": "stderr",
     "output_type": "stream",
     "text": [
      "656it [00:34, 16.79it/s]\n"
     ]
    },
    {
     "name": "stdout",
     "output_type": "stream",
     "text": [
      "Done and results stored for snapshot:  snapshot-165000\n",
      "Results for 165000  training iterations: 80 1 train error: 2.52 pixels. Test error: 4.49  pixels.\n",
      "With pcutoff of 0.1  train error: 2.52 pixels. Test error: 3.37 pixels\n",
      "Thereby, the errors are given by the average distances between the labels by DLC and the scorer.\n",
      "Running  DeepCut_resnet101_LinearChamber2Jan7shuffle1_170000  with # of trainingiterations: 170000\n",
      "INFO:tensorflow:Restoring parameters from D:\\Users\\user\\Desktop\\LinearChamber2-KAIST-2019-01-07\\dlc-models\\iteration-3\\LinearChamber2Jan7-trainset80shuffle1\\train\\snapshot-170000\n"
     ]
    },
    {
     "name": "stderr",
     "output_type": "stream",
     "text": [
      "Restoring parameters from D:\\Users\\user\\Desktop\\LinearChamber2-KAIST-2019-01-07\\dlc-models\\iteration-3\\LinearChamber2Jan7-trainset80shuffle1\\train\\snapshot-170000\n"
     ]
    },
    {
     "name": "stdout",
     "output_type": "stream",
     "text": [
      "Analyzing data...\n"
     ]
    },
    {
     "name": "stderr",
     "output_type": "stream",
     "text": [
      "656it [00:34, 19.10it/s]\n"
     ]
    },
    {
     "name": "stdout",
     "output_type": "stream",
     "text": [
      "Done and results stored for snapshot:  snapshot-170000\n",
      "Results for 170000  training iterations: 80 1 train error: 2.48 pixels. Test error: 4.47  pixels.\n",
      "With pcutoff of 0.1  train error: 2.48 pixels. Test error: 3.35 pixels\n",
      "Thereby, the errors are given by the average distances between the labels by DLC and the scorer.\n",
      "Running  DeepCut_resnet101_LinearChamber2Jan7shuffle1_175000  with # of trainingiterations: 175000\n",
      "INFO:tensorflow:Restoring parameters from D:\\Users\\user\\Desktop\\LinearChamber2-KAIST-2019-01-07\\dlc-models\\iteration-3\\LinearChamber2Jan7-trainset80shuffle1\\train\\snapshot-175000\n"
     ]
    },
    {
     "name": "stderr",
     "output_type": "stream",
     "text": [
      "Restoring parameters from D:\\Users\\user\\Desktop\\LinearChamber2-KAIST-2019-01-07\\dlc-models\\iteration-3\\LinearChamber2Jan7-trainset80shuffle1\\train\\snapshot-175000\n"
     ]
    },
    {
     "name": "stdout",
     "output_type": "stream",
     "text": [
      "Analyzing data...\n"
     ]
    },
    {
     "name": "stderr",
     "output_type": "stream",
     "text": [
      "656it [00:35, 18.79it/s]\n"
     ]
    },
    {
     "name": "stdout",
     "output_type": "stream",
     "text": [
      "Done and results stored for snapshot:  snapshot-175000\n",
      "Results for 175000  training iterations: 80 1 train error: 2.64 pixels. Test error: 4.57  pixels.\n",
      "With pcutoff of 0.1  train error: 2.64 pixels. Test error: 3.44 pixels\n",
      "Thereby, the errors are given by the average distances between the labels by DLC and the scorer.\n",
      "Running  DeepCut_resnet101_LinearChamber2Jan7shuffle1_180000  with # of trainingiterations: 180000\n",
      "INFO:tensorflow:Restoring parameters from D:\\Users\\user\\Desktop\\LinearChamber2-KAIST-2019-01-07\\dlc-models\\iteration-3\\LinearChamber2Jan7-trainset80shuffle1\\train\\snapshot-180000\n"
     ]
    },
    {
     "name": "stderr",
     "output_type": "stream",
     "text": [
      "Restoring parameters from D:\\Users\\user\\Desktop\\LinearChamber2-KAIST-2019-01-07\\dlc-models\\iteration-3\\LinearChamber2Jan7-trainset80shuffle1\\train\\snapshot-180000\n"
     ]
    },
    {
     "name": "stdout",
     "output_type": "stream",
     "text": [
      "Analyzing data...\n"
     ]
    },
    {
     "name": "stderr",
     "output_type": "stream",
     "text": [
      "656it [00:33, 19.69it/s]\n"
     ]
    },
    {
     "name": "stdout",
     "output_type": "stream",
     "text": [
      "Done and results stored for snapshot:  snapshot-180000\n",
      "Results for 180000  training iterations: 80 1 train error: 2.42 pixels. Test error: 4.4  pixels.\n",
      "With pcutoff of 0.1  train error: 2.42 pixels. Test error: 3.29 pixels\n",
      "Thereby, the errors are given by the average distances between the labels by DLC and the scorer.\n",
      "Running  DeepCut_resnet101_LinearChamber2Jan7shuffle1_185000  with # of trainingiterations: 185000\n",
      "INFO:tensorflow:Restoring parameters from D:\\Users\\user\\Desktop\\LinearChamber2-KAIST-2019-01-07\\dlc-models\\iteration-3\\LinearChamber2Jan7-trainset80shuffle1\\train\\snapshot-185000\n"
     ]
    },
    {
     "name": "stderr",
     "output_type": "stream",
     "text": [
      "Restoring parameters from D:\\Users\\user\\Desktop\\LinearChamber2-KAIST-2019-01-07\\dlc-models\\iteration-3\\LinearChamber2Jan7-trainset80shuffle1\\train\\snapshot-185000\n"
     ]
    },
    {
     "name": "stdout",
     "output_type": "stream",
     "text": [
      "Analyzing data...\n"
     ]
    },
    {
     "name": "stderr",
     "output_type": "stream",
     "text": [
      "656it [00:34, 17.29it/s]\n"
     ]
    },
    {
     "name": "stdout",
     "output_type": "stream",
     "text": [
      "Done and results stored for snapshot:  snapshot-185000\n",
      "Results for 185000  training iterations: 80 1 train error: 2.29 pixels. Test error: 4.36  pixels.\n",
      "With pcutoff of 0.1  train error: 2.29 pixels. Test error: 3.21 pixels\n",
      "Thereby, the errors are given by the average distances between the labels by DLC and the scorer.\n",
      "Running  DeepCut_resnet101_LinearChamber2Jan7shuffle1_190000  with # of trainingiterations: 190000\n",
      "INFO:tensorflow:Restoring parameters from D:\\Users\\user\\Desktop\\LinearChamber2-KAIST-2019-01-07\\dlc-models\\iteration-3\\LinearChamber2Jan7-trainset80shuffle1\\train\\snapshot-190000\n"
     ]
    },
    {
     "name": "stderr",
     "output_type": "stream",
     "text": [
      "Restoring parameters from D:\\Users\\user\\Desktop\\LinearChamber2-KAIST-2019-01-07\\dlc-models\\iteration-3\\LinearChamber2Jan7-trainset80shuffle1\\train\\snapshot-190000\n"
     ]
    },
    {
     "name": "stdout",
     "output_type": "stream",
     "text": [
      "Analyzing data...\n"
     ]
    },
    {
     "name": "stderr",
     "output_type": "stream",
     "text": [
      "656it [00:34, 18.89it/s]\n"
     ]
    },
    {
     "name": "stdout",
     "output_type": "stream",
     "text": [
      "Done and results stored for snapshot:  snapshot-190000\n",
      "Results for 190000  training iterations: 80 1 train error: 2.28 pixels. Test error: 4.35  pixels.\n",
      "With pcutoff of 0.1  train error: 2.28 pixels. Test error: 3.21 pixels\n",
      "Thereby, the errors are given by the average distances between the labels by DLC and the scorer.\n",
      "Running  DeepCut_resnet101_LinearChamber2Jan7shuffle1_195000  with # of trainingiterations: 195000\n",
      "INFO:tensorflow:Restoring parameters from D:\\Users\\user\\Desktop\\LinearChamber2-KAIST-2019-01-07\\dlc-models\\iteration-3\\LinearChamber2Jan7-trainset80shuffle1\\train\\snapshot-195000\n"
     ]
    },
    {
     "name": "stderr",
     "output_type": "stream",
     "text": [
      "Restoring parameters from D:\\Users\\user\\Desktop\\LinearChamber2-KAIST-2019-01-07\\dlc-models\\iteration-3\\LinearChamber2Jan7-trainset80shuffle1\\train\\snapshot-195000\n"
     ]
    },
    {
     "name": "stdout",
     "output_type": "stream",
     "text": [
      "Analyzing data...\n"
     ]
    },
    {
     "name": "stderr",
     "output_type": "stream",
     "text": [
      "656it [00:34, 18.91it/s]\n"
     ]
    },
    {
     "name": "stdout",
     "output_type": "stream",
     "text": [
      "Done and results stored for snapshot:  snapshot-195000\n",
      "Results for 195000  training iterations: 80 1 train error: 2.29 pixels. Test error: 4.36  pixels.\n",
      "With pcutoff of 0.1  train error: 2.29 pixels. Test error: 3.23 pixels\n",
      "Thereby, the errors are given by the average distances between the labels by DLC and the scorer.\n",
      "Running  DeepCut_resnet101_LinearChamber2Jan7shuffle1_200000  with # of trainingiterations: 200000\n",
      "INFO:tensorflow:Restoring parameters from D:\\Users\\user\\Desktop\\LinearChamber2-KAIST-2019-01-07\\dlc-models\\iteration-3\\LinearChamber2Jan7-trainset80shuffle1\\train\\snapshot-200000\n"
     ]
    },
    {
     "name": "stderr",
     "output_type": "stream",
     "text": [
      "Restoring parameters from D:\\Users\\user\\Desktop\\LinearChamber2-KAIST-2019-01-07\\dlc-models\\iteration-3\\LinearChamber2Jan7-trainset80shuffle1\\train\\snapshot-200000\n"
     ]
    },
    {
     "name": "stdout",
     "output_type": "stream",
     "text": [
      "Analyzing data...\n"
     ]
    },
    {
     "name": "stderr",
     "output_type": "stream",
     "text": [
      "656it [00:34, 17.21it/s]\n"
     ]
    },
    {
     "name": "stdout",
     "output_type": "stream",
     "text": [
      "Done and results stored for snapshot:  snapshot-200000\n",
      "Results for 200000  training iterations: 80 1 train error: 2.27 pixels. Test error: 4.27  pixels.\n",
      "With pcutoff of 0.1  train error: 2.27 pixels. Test error: 3.14 pixels\n",
      "Thereby, the errors are given by the average distances between the labels by DLC and the scorer.\n",
      "Running  DeepCut_resnet101_LinearChamber2Jan7shuffle1_205000  with # of trainingiterations: 205000\n",
      "INFO:tensorflow:Restoring parameters from D:\\Users\\user\\Desktop\\LinearChamber2-KAIST-2019-01-07\\dlc-models\\iteration-3\\LinearChamber2Jan7-trainset80shuffle1\\train\\snapshot-205000\n"
     ]
    },
    {
     "name": "stderr",
     "output_type": "stream",
     "text": [
      "Restoring parameters from D:\\Users\\user\\Desktop\\LinearChamber2-KAIST-2019-01-07\\dlc-models\\iteration-3\\LinearChamber2Jan7-trainset80shuffle1\\train\\snapshot-205000\n"
     ]
    },
    {
     "name": "stdout",
     "output_type": "stream",
     "text": [
      "Analyzing data...\n"
     ]
    },
    {
     "name": "stderr",
     "output_type": "stream",
     "text": [
      "656it [00:33, 18.22it/s]\n"
     ]
    },
    {
     "name": "stdout",
     "output_type": "stream",
     "text": [
      "Done and results stored for snapshot:  snapshot-205000\n",
      "Results for 205000  training iterations: 80 1 train error: 2.33 pixels. Test error: 4.35  pixels.\n",
      "With pcutoff of 0.1  train error: 2.33 pixels. Test error: 3.22 pixels\n",
      "Thereby, the errors are given by the average distances between the labels by DLC and the scorer.\n",
      "Running  DeepCut_resnet101_LinearChamber2Jan7shuffle1_210000  with # of trainingiterations: 210000\n",
      "INFO:tensorflow:Restoring parameters from D:\\Users\\user\\Desktop\\LinearChamber2-KAIST-2019-01-07\\dlc-models\\iteration-3\\LinearChamber2Jan7-trainset80shuffle1\\train\\snapshot-210000\n"
     ]
    },
    {
     "name": "stderr",
     "output_type": "stream",
     "text": [
      "Restoring parameters from D:\\Users\\user\\Desktop\\LinearChamber2-KAIST-2019-01-07\\dlc-models\\iteration-3\\LinearChamber2Jan7-trainset80shuffle1\\train\\snapshot-210000\n"
     ]
    },
    {
     "name": "stdout",
     "output_type": "stream",
     "text": [
      "Analyzing data...\n"
     ]
    },
    {
     "name": "stderr",
     "output_type": "stream",
     "text": [
      "656it [00:33, 17.02it/s]\n"
     ]
    },
    {
     "name": "stdout",
     "output_type": "stream",
     "text": [
      "Done and results stored for snapshot:  snapshot-210000\n",
      "Results for 210000  training iterations: 80 1 train error: 2.54 pixels. Test error: 4.56  pixels.\n",
      "With pcutoff of 0.1  train error: 2.54 pixels. Test error: 3.42 pixels\n",
      "Thereby, the errors are given by the average distances between the labels by DLC and the scorer.\n",
      "Running  DeepCut_resnet101_LinearChamber2Jan7shuffle1_215000  with # of trainingiterations: 215000\n",
      "INFO:tensorflow:Restoring parameters from D:\\Users\\user\\Desktop\\LinearChamber2-KAIST-2019-01-07\\dlc-models\\iteration-3\\LinearChamber2Jan7-trainset80shuffle1\\train\\snapshot-215000\n"
     ]
    },
    {
     "name": "stderr",
     "output_type": "stream",
     "text": [
      "Restoring parameters from D:\\Users\\user\\Desktop\\LinearChamber2-KAIST-2019-01-07\\dlc-models\\iteration-3\\LinearChamber2Jan7-trainset80shuffle1\\train\\snapshot-215000\n"
     ]
    },
    {
     "name": "stdout",
     "output_type": "stream",
     "text": [
      "Analyzing data...\n"
     ]
    },
    {
     "name": "stderr",
     "output_type": "stream",
     "text": [
      "656it [00:34, 16.26it/s]\n"
     ]
    },
    {
     "name": "stdout",
     "output_type": "stream",
     "text": [
      "Done and results stored for snapshot:  snapshot-215000\n",
      "Results for 215000  training iterations: 80 1 train error: 2.38 pixels. Test error: 4.4  pixels.\n",
      "With pcutoff of 0.1  train error: 2.38 pixels. Test error: 3.27 pixels\n",
      "Thereby, the errors are given by the average distances between the labels by DLC and the scorer.\n",
      "Running  DeepCut_resnet101_LinearChamber2Jan7shuffle1_220000  with # of trainingiterations: 220000\n",
      "INFO:tensorflow:Restoring parameters from D:\\Users\\user\\Desktop\\LinearChamber2-KAIST-2019-01-07\\dlc-models\\iteration-3\\LinearChamber2Jan7-trainset80shuffle1\\train\\snapshot-220000\n"
     ]
    },
    {
     "name": "stderr",
     "output_type": "stream",
     "text": [
      "Restoring parameters from D:\\Users\\user\\Desktop\\LinearChamber2-KAIST-2019-01-07\\dlc-models\\iteration-3\\LinearChamber2Jan7-trainset80shuffle1\\train\\snapshot-220000\n"
     ]
    },
    {
     "name": "stdout",
     "output_type": "stream",
     "text": [
      "Analyzing data...\n"
     ]
    },
    {
     "name": "stderr",
     "output_type": "stream",
     "text": [
      "656it [00:34, 18.75it/s]\n"
     ]
    },
    {
     "name": "stdout",
     "output_type": "stream",
     "text": [
      "Done and results stored for snapshot:  snapshot-220000\n",
      "Results for 220000  training iterations: 80 1 train error: 2.41 pixels. Test error: 4.19  pixels.\n",
      "With pcutoff of 0.1  train error: 2.12 pixels. Test error: 3.05 pixels\n",
      "Thereby, the errors are given by the average distances between the labels by DLC and the scorer.\n",
      "Running  DeepCut_resnet101_LinearChamber2Jan7shuffle1_225000  with # of trainingiterations: 225000\n",
      "INFO:tensorflow:Restoring parameters from D:\\Users\\user\\Desktop\\LinearChamber2-KAIST-2019-01-07\\dlc-models\\iteration-3\\LinearChamber2Jan7-trainset80shuffle1\\train\\snapshot-225000\n"
     ]
    },
    {
     "name": "stderr",
     "output_type": "stream",
     "text": [
      "Restoring parameters from D:\\Users\\user\\Desktop\\LinearChamber2-KAIST-2019-01-07\\dlc-models\\iteration-3\\LinearChamber2Jan7-trainset80shuffle1\\train\\snapshot-225000\n"
     ]
    },
    {
     "name": "stdout",
     "output_type": "stream",
     "text": [
      "Analyzing data...\n"
     ]
    },
    {
     "name": "stderr",
     "output_type": "stream",
     "text": [
      "656it [00:34, 19.10it/s]\n"
     ]
    },
    {
     "name": "stdout",
     "output_type": "stream",
     "text": [
      "Done and results stored for snapshot:  snapshot-225000\n",
      "Results for 225000  training iterations: 80 1 train error: 2.21 pixels. Test error: 4.28  pixels.\n",
      "With pcutoff of 0.1  train error: 2.21 pixels. Test error: 3.15 pixels\n",
      "Thereby, the errors are given by the average distances between the labels by DLC and the scorer.\n",
      "Running  DeepCut_resnet101_LinearChamber2Jan7shuffle1_230000  with # of trainingiterations: 230000\n",
      "INFO:tensorflow:Restoring parameters from D:\\Users\\user\\Desktop\\LinearChamber2-KAIST-2019-01-07\\dlc-models\\iteration-3\\LinearChamber2Jan7-trainset80shuffle1\\train\\snapshot-230000\n"
     ]
    },
    {
     "name": "stderr",
     "output_type": "stream",
     "text": [
      "Restoring parameters from D:\\Users\\user\\Desktop\\LinearChamber2-KAIST-2019-01-07\\dlc-models\\iteration-3\\LinearChamber2Jan7-trainset80shuffle1\\train\\snapshot-230000\n"
     ]
    },
    {
     "name": "stdout",
     "output_type": "stream",
     "text": [
      "Analyzing data...\n"
     ]
    },
    {
     "name": "stderr",
     "output_type": "stream",
     "text": [
      "656it [00:34, 19.01it/s]\n"
     ]
    },
    {
     "name": "stdout",
     "output_type": "stream",
     "text": [
      "Done and results stored for snapshot:  snapshot-230000\n",
      "Results for 230000  training iterations: 80 1 train error: 2.42 pixels. Test error: 4.49  pixels.\n",
      "With pcutoff of 0.1  train error: 2.42 pixels. Test error: 3.38 pixels\n",
      "Thereby, the errors are given by the average distances between the labels by DLC and the scorer.\n",
      "Running  DeepCut_resnet101_LinearChamber2Jan7shuffle1_235000  with # of trainingiterations: 235000\n",
      "INFO:tensorflow:Restoring parameters from D:\\Users\\user\\Desktop\\LinearChamber2-KAIST-2019-01-07\\dlc-models\\iteration-3\\LinearChamber2Jan7-trainset80shuffle1\\train\\snapshot-235000\n"
     ]
    },
    {
     "name": "stderr",
     "output_type": "stream",
     "text": [
      "Restoring parameters from D:\\Users\\user\\Desktop\\LinearChamber2-KAIST-2019-01-07\\dlc-models\\iteration-3\\LinearChamber2Jan7-trainset80shuffle1\\train\\snapshot-235000\n"
     ]
    },
    {
     "name": "stdout",
     "output_type": "stream",
     "text": [
      "Analyzing data...\n"
     ]
    },
    {
     "name": "stderr",
     "output_type": "stream",
     "text": [
      "656it [00:33, 18.10it/s]\n"
     ]
    },
    {
     "name": "stdout",
     "output_type": "stream",
     "text": [
      "Done and results stored for snapshot:  snapshot-235000\n",
      "Results for 235000  training iterations: 80 1 train error: 2.3 pixels. Test error: 5.48  pixels.\n",
      "With pcutoff of 0.1  train error: 2.3 pixels. Test error: 3.27 pixels\n",
      "Thereby, the errors are given by the average distances between the labels by DLC and the scorer.\n",
      "Running  DeepCut_resnet101_LinearChamber2Jan7shuffle1_240000  with # of trainingiterations: 240000\n",
      "INFO:tensorflow:Restoring parameters from D:\\Users\\user\\Desktop\\LinearChamber2-KAIST-2019-01-07\\dlc-models\\iteration-3\\LinearChamber2Jan7-trainset80shuffle1\\train\\snapshot-240000\n"
     ]
    },
    {
     "name": "stderr",
     "output_type": "stream",
     "text": [
      "Restoring parameters from D:\\Users\\user\\Desktop\\LinearChamber2-KAIST-2019-01-07\\dlc-models\\iteration-3\\LinearChamber2Jan7-trainset80shuffle1\\train\\snapshot-240000\n"
     ]
    },
    {
     "name": "stdout",
     "output_type": "stream",
     "text": [
      "Analyzing data...\n"
     ]
    },
    {
     "name": "stderr",
     "output_type": "stream",
     "text": [
      "656it [00:33, 19.48it/s]\n"
     ]
    },
    {
     "name": "stdout",
     "output_type": "stream",
     "text": [
      "Done and results stored for snapshot:  snapshot-240000\n",
      "Results for 240000  training iterations: 80 1 train error: 2.35 pixels. Test error: 4.65  pixels.\n",
      "With pcutoff of 0.1  train error: 2.35 pixels. Test error: 3.52 pixels\n",
      "Thereby, the errors are given by the average distances between the labels by DLC and the scorer.\n",
      "Running  DeepCut_resnet101_LinearChamber2Jan7shuffle1_245000  with # of trainingiterations: 245000\n",
      "INFO:tensorflow:Restoring parameters from D:\\Users\\user\\Desktop\\LinearChamber2-KAIST-2019-01-07\\dlc-models\\iteration-3\\LinearChamber2Jan7-trainset80shuffle1\\train\\snapshot-245000\n"
     ]
    },
    {
     "name": "stderr",
     "output_type": "stream",
     "text": [
      "Restoring parameters from D:\\Users\\user\\Desktop\\LinearChamber2-KAIST-2019-01-07\\dlc-models\\iteration-3\\LinearChamber2Jan7-trainset80shuffle1\\train\\snapshot-245000\n"
     ]
    },
    {
     "name": "stdout",
     "output_type": "stream",
     "text": [
      "Analyzing data...\n"
     ]
    },
    {
     "name": "stderr",
     "output_type": "stream",
     "text": [
      "656it [00:35, 16.93it/s]\n"
     ]
    },
    {
     "name": "stdout",
     "output_type": "stream",
     "text": [
      "Done and results stored for snapshot:  snapshot-245000\n",
      "Results for 245000  training iterations: 80 1 train error: 2.62 pixels. Test error: 4.7  pixels.\n",
      "With pcutoff of 0.1  train error: 2.62 pixels. Test error: 3.56 pixels\n",
      "Thereby, the errors are given by the average distances between the labels by DLC and the scorer.\n",
      "Running  DeepCut_resnet101_LinearChamber2Jan7shuffle1_250000  with # of trainingiterations: 250000\n",
      "INFO:tensorflow:Restoring parameters from D:\\Users\\user\\Desktop\\LinearChamber2-KAIST-2019-01-07\\dlc-models\\iteration-3\\LinearChamber2Jan7-trainset80shuffle1\\train\\snapshot-250000\n"
     ]
    },
    {
     "name": "stderr",
     "output_type": "stream",
     "text": [
      "Restoring parameters from D:\\Users\\user\\Desktop\\LinearChamber2-KAIST-2019-01-07\\dlc-models\\iteration-3\\LinearChamber2Jan7-trainset80shuffle1\\train\\snapshot-250000\n"
     ]
    },
    {
     "name": "stdout",
     "output_type": "stream",
     "text": [
      "Analyzing data...\n"
     ]
    },
    {
     "name": "stderr",
     "output_type": "stream",
     "text": [
      "656it [00:34, 17.14it/s]\n"
     ]
    },
    {
     "name": "stdout",
     "output_type": "stream",
     "text": [
      "Done and results stored for snapshot:  snapshot-250000\n",
      "Results for 250000  training iterations: 80 1 train error: 2.25 pixels. Test error: 4.35  pixels.\n",
      "With pcutoff of 0.1  train error: 2.25 pixels. Test error: 3.22 pixels\n",
      "Thereby, the errors are given by the average distances between the labels by DLC and the scorer.\n",
      "Running  DeepCut_resnet101_LinearChamber2Jan7shuffle1_255000  with # of trainingiterations: 255000\n",
      "INFO:tensorflow:Restoring parameters from D:\\Users\\user\\Desktop\\LinearChamber2-KAIST-2019-01-07\\dlc-models\\iteration-3\\LinearChamber2Jan7-trainset80shuffle1\\train\\snapshot-255000\n"
     ]
    },
    {
     "name": "stderr",
     "output_type": "stream",
     "text": [
      "Restoring parameters from D:\\Users\\user\\Desktop\\LinearChamber2-KAIST-2019-01-07\\dlc-models\\iteration-3\\LinearChamber2Jan7-trainset80shuffle1\\train\\snapshot-255000\n"
     ]
    },
    {
     "name": "stdout",
     "output_type": "stream",
     "text": [
      "Analyzing data...\n"
     ]
    },
    {
     "name": "stderr",
     "output_type": "stream",
     "text": [
      "656it [00:34, 16.52it/s]\n"
     ]
    },
    {
     "name": "stdout",
     "output_type": "stream",
     "text": [
      "Done and results stored for snapshot:  snapshot-255000\n",
      "Results for 255000  training iterations: 80 1 train error: 2.14 pixels. Test error: 4.24  pixels.\n",
      "With pcutoff of 0.1  train error: 2.14 pixels. Test error: 3.12 pixels\n",
      "Thereby, the errors are given by the average distances between the labels by DLC and the scorer.\n",
      "Running  DeepCut_resnet101_LinearChamber2Jan7shuffle1_260000  with # of trainingiterations: 260000\n",
      "INFO:tensorflow:Restoring parameters from D:\\Users\\user\\Desktop\\LinearChamber2-KAIST-2019-01-07\\dlc-models\\iteration-3\\LinearChamber2Jan7-trainset80shuffle1\\train\\snapshot-260000\n"
     ]
    },
    {
     "name": "stderr",
     "output_type": "stream",
     "text": [
      "Restoring parameters from D:\\Users\\user\\Desktop\\LinearChamber2-KAIST-2019-01-07\\dlc-models\\iteration-3\\LinearChamber2Jan7-trainset80shuffle1\\train\\snapshot-260000\n"
     ]
    },
    {
     "name": "stdout",
     "output_type": "stream",
     "text": [
      "Analyzing data...\n"
     ]
    },
    {
     "name": "stderr",
     "output_type": "stream",
     "text": [
      "656it [00:34, 18.81it/s]\n"
     ]
    },
    {
     "name": "stdout",
     "output_type": "stream",
     "text": [
      "Done and results stored for snapshot:  snapshot-260000\n",
      "Results for 260000  training iterations: 80 1 train error: 2.31 pixels. Test error: 4.71  pixels.\n",
      "With pcutoff of 0.1  train error: 2.31 pixels. Test error: 3.3 pixels\n",
      "Thereby, the errors are given by the average distances between the labels by DLC and the scorer.\n",
      "Running  DeepCut_resnet101_LinearChamber2Jan7shuffle1_265000  with # of trainingiterations: 265000\n",
      "INFO:tensorflow:Restoring parameters from D:\\Users\\user\\Desktop\\LinearChamber2-KAIST-2019-01-07\\dlc-models\\iteration-3\\LinearChamber2Jan7-trainset80shuffle1\\train\\snapshot-265000\n"
     ]
    },
    {
     "name": "stderr",
     "output_type": "stream",
     "text": [
      "Restoring parameters from D:\\Users\\user\\Desktop\\LinearChamber2-KAIST-2019-01-07\\dlc-models\\iteration-3\\LinearChamber2Jan7-trainset80shuffle1\\train\\snapshot-265000\n"
     ]
    },
    {
     "name": "stdout",
     "output_type": "stream",
     "text": [
      "Analyzing data...\n"
     ]
    },
    {
     "name": "stderr",
     "output_type": "stream",
     "text": [
      "656it [00:33, 18.27it/s]\n"
     ]
    },
    {
     "name": "stdout",
     "output_type": "stream",
     "text": [
      "Done and results stored for snapshot:  snapshot-265000\n",
      "Results for 265000  training iterations: 80 1 train error: 2.3 pixels. Test error: 5.48  pixels.\n",
      "With pcutoff of 0.1  train error: 2.3 pixels. Test error: 3.26 pixels\n",
      "Thereby, the errors are given by the average distances between the labels by DLC and the scorer.\n",
      "Running  DeepCut_resnet101_LinearChamber2Jan7shuffle1_270000  with # of trainingiterations: 270000\n",
      "INFO:tensorflow:Restoring parameters from D:\\Users\\user\\Desktop\\LinearChamber2-KAIST-2019-01-07\\dlc-models\\iteration-3\\LinearChamber2Jan7-trainset80shuffle1\\train\\snapshot-270000\n"
     ]
    },
    {
     "name": "stderr",
     "output_type": "stream",
     "text": [
      "Restoring parameters from D:\\Users\\user\\Desktop\\LinearChamber2-KAIST-2019-01-07\\dlc-models\\iteration-3\\LinearChamber2Jan7-trainset80shuffle1\\train\\snapshot-270000\n"
     ]
    },
    {
     "name": "stdout",
     "output_type": "stream",
     "text": [
      "Analyzing data...\n"
     ]
    },
    {
     "name": "stderr",
     "output_type": "stream",
     "text": [
      "656it [00:34, 18.76it/s]\n"
     ]
    },
    {
     "name": "stdout",
     "output_type": "stream",
     "text": [
      "Done and results stored for snapshot:  snapshot-270000\n",
      "Results for 270000  training iterations: 80 1 train error: 2.26 pixels. Test error: 4.33  pixels.\n",
      "With pcutoff of 0.1  train error: 2.26 pixels. Test error: 3.21 pixels\n",
      "Thereby, the errors are given by the average distances between the labels by DLC and the scorer.\n",
      "Running  DeepCut_resnet101_LinearChamber2Jan7shuffle1_275000  with # of trainingiterations: 275000\n",
      "INFO:tensorflow:Restoring parameters from D:\\Users\\user\\Desktop\\LinearChamber2-KAIST-2019-01-07\\dlc-models\\iteration-3\\LinearChamber2Jan7-trainset80shuffle1\\train\\snapshot-275000\n"
     ]
    },
    {
     "name": "stderr",
     "output_type": "stream",
     "text": [
      "Restoring parameters from D:\\Users\\user\\Desktop\\LinearChamber2-KAIST-2019-01-07\\dlc-models\\iteration-3\\LinearChamber2Jan7-trainset80shuffle1\\train\\snapshot-275000\n"
     ]
    },
    {
     "name": "stdout",
     "output_type": "stream",
     "text": [
      "Analyzing data...\n"
     ]
    },
    {
     "name": "stderr",
     "output_type": "stream",
     "text": [
      "656it [00:34, 17.14it/s]\n"
     ]
    },
    {
     "name": "stdout",
     "output_type": "stream",
     "text": [
      "Done and results stored for snapshot:  snapshot-275000\n",
      "Results for 275000  training iterations: 80 1 train error: 2.31 pixels. Test error: 5.45  pixels.\n",
      "With pcutoff of 0.1  train error: 2.31 pixels. Test error: 3.24 pixels\n",
      "Thereby, the errors are given by the average distances between the labels by DLC and the scorer.\n",
      "Running  DeepCut_resnet101_LinearChamber2Jan7shuffle1_280000  with # of trainingiterations: 280000\n",
      "INFO:tensorflow:Restoring parameters from D:\\Users\\user\\Desktop\\LinearChamber2-KAIST-2019-01-07\\dlc-models\\iteration-3\\LinearChamber2Jan7-trainset80shuffle1\\train\\snapshot-280000\n"
     ]
    },
    {
     "name": "stderr",
     "output_type": "stream",
     "text": [
      "Restoring parameters from D:\\Users\\user\\Desktop\\LinearChamber2-KAIST-2019-01-07\\dlc-models\\iteration-3\\LinearChamber2Jan7-trainset80shuffle1\\train\\snapshot-280000\n"
     ]
    },
    {
     "name": "stdout",
     "output_type": "stream",
     "text": [
      "Analyzing data...\n"
     ]
    },
    {
     "name": "stderr",
     "output_type": "stream",
     "text": [
      "656it [00:34, 17.44it/s]\n"
     ]
    },
    {
     "name": "stdout",
     "output_type": "stream",
     "text": [
      "Done and results stored for snapshot:  snapshot-280000\n",
      "Results for 280000  training iterations: 80 1 train error: 2.41 pixels. Test error: 4.49  pixels.\n",
      "With pcutoff of 0.1  train error: 2.41 pixels. Test error: 3.35 pixels\n",
      "Thereby, the errors are given by the average distances between the labels by DLC and the scorer.\n",
      "Running  DeepCut_resnet101_LinearChamber2Jan7shuffle1_285000  with # of trainingiterations: 285000\n",
      "INFO:tensorflow:Restoring parameters from D:\\Users\\user\\Desktop\\LinearChamber2-KAIST-2019-01-07\\dlc-models\\iteration-3\\LinearChamber2Jan7-trainset80shuffle1\\train\\snapshot-285000\n"
     ]
    },
    {
     "name": "stderr",
     "output_type": "stream",
     "text": [
      "Restoring parameters from D:\\Users\\user\\Desktop\\LinearChamber2-KAIST-2019-01-07\\dlc-models\\iteration-3\\LinearChamber2Jan7-trainset80shuffle1\\train\\snapshot-285000\n"
     ]
    },
    {
     "name": "stdout",
     "output_type": "stream",
     "text": [
      "Analyzing data...\n"
     ]
    },
    {
     "name": "stderr",
     "output_type": "stream",
     "text": [
      "656it [00:34, 18.94it/s]\n"
     ]
    },
    {
     "name": "stdout",
     "output_type": "stream",
     "text": [
      "Done and results stored for snapshot:  snapshot-285000\n",
      "Results for 285000  training iterations: 80 1 train error: 2.12 pixels. Test error: 4.29  pixels.\n",
      "With pcutoff of 0.1  train error: 2.12 pixels. Test error: 3.15 pixels\n",
      "Thereby, the errors are given by the average distances between the labels by DLC and the scorer.\n",
      "Running  DeepCut_resnet101_LinearChamber2Jan7shuffle1_290000  with # of trainingiterations: 290000\n",
      "INFO:tensorflow:Restoring parameters from D:\\Users\\user\\Desktop\\LinearChamber2-KAIST-2019-01-07\\dlc-models\\iteration-3\\LinearChamber2Jan7-trainset80shuffle1\\train\\snapshot-290000\n"
     ]
    },
    {
     "name": "stderr",
     "output_type": "stream",
     "text": [
      "Restoring parameters from D:\\Users\\user\\Desktop\\LinearChamber2-KAIST-2019-01-07\\dlc-models\\iteration-3\\LinearChamber2Jan7-trainset80shuffle1\\train\\snapshot-290000\n"
     ]
    },
    {
     "name": "stdout",
     "output_type": "stream",
     "text": [
      "Analyzing data...\n"
     ]
    },
    {
     "name": "stderr",
     "output_type": "stream",
     "text": [
      "656it [00:34, 17.65it/s]\n"
     ]
    },
    {
     "name": "stdout",
     "output_type": "stream",
     "text": [
      "Done and results stored for snapshot:  snapshot-290000\n",
      "Results for 290000  training iterations: 80 1 train error: 2.35 pixels. Test error: 4.47  pixels.\n",
      "With pcutoff of 0.1  train error: 2.35 pixels. Test error: 3.33 pixels\n",
      "Thereby, the errors are given by the average distances between the labels by DLC and the scorer.\n",
      "Running  DeepCut_resnet101_LinearChamber2Jan7shuffle1_295000  with # of trainingiterations: 295000\n",
      "INFO:tensorflow:Restoring parameters from D:\\Users\\user\\Desktop\\LinearChamber2-KAIST-2019-01-07\\dlc-models\\iteration-3\\LinearChamber2Jan7-trainset80shuffle1\\train\\snapshot-295000\n"
     ]
    },
    {
     "name": "stderr",
     "output_type": "stream",
     "text": [
      "Restoring parameters from D:\\Users\\user\\Desktop\\LinearChamber2-KAIST-2019-01-07\\dlc-models\\iteration-3\\LinearChamber2Jan7-trainset80shuffle1\\train\\snapshot-295000\n"
     ]
    },
    {
     "name": "stdout",
     "output_type": "stream",
     "text": [
      "Analyzing data...\n"
     ]
    },
    {
     "name": "stderr",
     "output_type": "stream",
     "text": [
      "656it [00:33, 19.86it/s]\n"
     ]
    },
    {
     "name": "stdout",
     "output_type": "stream",
     "text": [
      "Done and results stored for snapshot:  snapshot-295000\n",
      "Results for 295000  training iterations: 80 1 train error: 2.33 pixels. Test error: 4.41  pixels.\n",
      "With pcutoff of 0.1  train error: 2.33 pixels. Test error: 3.28 pixels\n",
      "Thereby, the errors are given by the average distances between the labels by DLC and the scorer.\n",
      "Running  DeepCut_resnet101_LinearChamber2Jan7shuffle1_300000  with # of trainingiterations: 300000\n",
      "INFO:tensorflow:Restoring parameters from D:\\Users\\user\\Desktop\\LinearChamber2-KAIST-2019-01-07\\dlc-models\\iteration-3\\LinearChamber2Jan7-trainset80shuffle1\\train\\snapshot-300000\n"
     ]
    },
    {
     "name": "stderr",
     "output_type": "stream",
     "text": [
      "Restoring parameters from D:\\Users\\user\\Desktop\\LinearChamber2-KAIST-2019-01-07\\dlc-models\\iteration-3\\LinearChamber2Jan7-trainset80shuffle1\\train\\snapshot-300000\n"
     ]
    },
    {
     "name": "stdout",
     "output_type": "stream",
     "text": [
      "Analyzing data...\n"
     ]
    },
    {
     "name": "stderr",
     "output_type": "stream",
     "text": [
      "656it [00:35, 15.92it/s]\n"
     ]
    },
    {
     "name": "stdout",
     "output_type": "stream",
     "text": [
      "Done and results stored for snapshot:  snapshot-300000\n",
      "Results for 300000  training iterations: 80 1 train error: 2.21 pixels. Test error: 4.58  pixels.\n",
      "With pcutoff of 0.1  train error: 2.21 pixels. Test error: 3.44 pixels\n",
      "Thereby, the errors are given by the average distances between the labels by DLC and the scorer.\n",
      "The network is evaluated and the results are stored in the subdirectory 'evaluation_results'.\n",
      "If it generalizes well, choose the best model for prediction and update the config file with the appropriate index for the 'snapshotindex'.\n",
      "Use the function 'analyze_video' to make predictions on new videos.\n",
      "Otherwise consider retraining the network (see DeepLabCut workflow Fig 2)\n"
     ]
    }
   ],
   "source": [
    "deeplabcut.evaluate_network(path_config_file, plotting=False, gputouse=0)"
   ]
  },
  {
   "cell_type": "markdown",
   "metadata": {
    "colab_type": "text",
    "id": "OVFLSKKfoEJk"
   },
   "source": [
    "## Start Analyzing videos\n",
    "This function analyzes the new video. The user can choose the best model from the evaluation results and specify the correct snapshot index for the variable **snapshotindex** in the **config.yaml** file. Otherwise, by default the most recent snapshot is used to analyse the video.\n",
    "\n",
    "The results are stored in hd5 file in the same directory where the video resides. "
   ]
  },
  {
   "cell_type": "code",
   "execution_count": 3,
   "metadata": {
    "colab": {},
    "colab_type": "code",
    "id": "Y_LZiS_0oEJl"
   },
   "outputs": [],
   "source": [
    "#Linear Chamber(all)\n",
    "videofile_path = [] #Enter the list of videos to analyze.\n",
    "Experiment_Days=['20180906','20180910','20180919']\n",
    "for day_index in range(len(Experiment_Days)):\n",
    "    day=Experiment_Days[day_index]\n",
    "    for i in range(1,16):\n",
    "        videofile_path.append('C:\\\\Users\\\\user\\\\Desktop\\\\Video_files_Deeplabcut\\\\LinearChamber\\\\'+day+'\\\\'+day+'_Trial'+str(i)+'.mpg')\n",
    "# videofile_path.append('C:\\\\Users\\\\user\\\\Desktop\\\\Video_files_Deeplabcut\\\\LinearChamber\\\\20180906\\\\20180906_Trial1.mpg')\n",
    "# videofile_path.append('C:\\\\Users\\\\user\\\\Desktop\\\\Video_files_Deeplabcut\\\\LinearChamber\\\\20180906\\\\20180906_Trial2.mpg')"
   ]
  },
  {
   "cell_type": "code",
   "execution_count": 3,
   "metadata": {
    "colab": {},
    "colab_type": "code",
    "id": "Y_LZiS_0oEJl"
   },
   "outputs": [],
   "source": [
    "#Linear Chamber(only 20180919)\n",
    "videofile_path = [] #Enter the list of videos to analyze.\n",
    "Experiment_Days=['20180906','20180910','20180919']\n",
    "for day_index in range(len(Experiment_Days)):\n",
    "    day=Experiment_Days[day_index]\n",
    "    for i in range(1,16):\n",
    "        if day_index==2:\n",
    "            videofile_path.append('C:\\\\Users\\\\user\\\\Desktop\\\\Video_files_Deeplabcut\\\\LinearChamber\\\\'+day+'\\\\'+day+'_Trial'+str(i)+'.mpg')"
   ]
  },
  {
   "cell_type": "code",
   "execution_count": 3,
   "metadata": {
    "colab": {},
    "colab_type": "code",
    "id": "Y_LZiS_0oEJl"
   },
   "outputs": [],
   "source": [
    "#Linear Chamber(one)\n",
    "videofile_path = [] #Enter the list of videos to analyze.\n",
    "#videofile_path.append('C:\\\\Users\\\\user\\\\Desktop\\\\Video_files_Deeplabcut\\\\LinearChamber\\\\20180906\\\\20180906_Trial1.mpg')\n",
    "videofile_path.append('C:\\\\Users\\\\user\\\\Desktop\\\\Video_files_Deeplabcut\\\\LinearChamber\\\\20180906\\\\20180906_Trial2.mpg')"
   ]
  },
  {
   "cell_type": "code",
   "execution_count": 3,
   "metadata": {
    "colab": {},
    "colab_type": "code",
    "id": "Y_LZiS_0oEJl",
    "scrolled": true
   },
   "outputs": [],
   "source": [
    "#Season 2(all)\n",
    "import os\n",
    "\n",
    "def get_full_filenames(dirname, extension='None'):\n",
    "    full_filenames=[]\n",
    "    filenames = os.listdir(dirname)\n",
    "    for filename in filenames:\n",
    "        full_filename = os.path.join(dirname, filename)\n",
    "        \n",
    "        if extension != \"None\":\n",
    "            ext = os.path.splitext(full_filename)[-1]\n",
    "            if extension==ext: \n",
    "                full_filenames.append(full_filename)\n",
    "        else:\n",
    "            full_filenames.append(full_filename)\n",
    "    return full_filenames\n",
    "\n",
    "videofile_path=[]\n",
    "full_foldernames=get_full_filenames(\"C:\\\\Users\\\\user\\\\Desktop\\\\Video_files_other\")\n",
    "for full_foldername in full_foldernames:\n",
    "    full_videonames=get_full_filenames(full_foldername, extension='.mpg')\n",
    "    videofile_path.extend(full_videonames)"
   ]
  },
  {
   "cell_type": "code",
   "execution_count": 4,
   "metadata": {
    "colab": {},
    "colab_type": "code",
    "id": "Y_LZiS_0oEJl",
    "scrolled": true
   },
   "outputs": [
    {
     "name": "stdout",
     "output_type": "stream",
     "text": [
      "['C:\\\\Users\\\\user\\\\Desktop\\\\Video_files_Deeplabcut\\\\LinearChamber\\\\20180906\\\\20180906_Trial1.mpg']\n"
     ]
    }
   ],
   "source": [
    "#Season 2(one)\n",
    "videofile_path = [] #Enter the list of videos to analyze.\n",
    "#videofile_path.append('C:\\\\Users\\\\user\\\\Desktop\\\\Video_files_Deeplabcut\\\\LinearChamber\\\\20180906\\\\20180906_Trial2.mpg')\n",
    "#videofile_path.append('C:\\\\Users\\\\user\\\\Desktop\\\\Video_files_other\\\\20171229(coh1)_WireNet\\\\20171229(coh1)_Trial5.mpg')\n",
    "#videofile_path.append('C:\\\\Users\\\\user\\\\Desktop\\\\Video_files_other\\\\20180205(coh1)_RedHat\\\\20180205(coh1)_Trial1.mpg')\n",
    "videofile_path.append('C:\\\\Users\\\\user\\\\Desktop\\\\Video_files_Deeplabcut\\\\LinearChamber\\\\20180906\\\\20180906_Trial1.mpg')\n",
    "print(videofile_path)"
   ]
  },
  {
   "cell_type": "code",
   "execution_count": 5,
   "metadata": {
    "colab": {},
    "colab_type": "code",
    "id": "Y_LZiS_0oEJl",
    "scrolled": true
   },
   "outputs": [
    {
     "name": "stdout",
     "output_type": "stream",
     "text": [
      "Using snapshot-120000 for model C:\\Users\\user\\Desktop\\LinearChamber2-KAIST-2019-01-07\\dlc-models\\iteration-3\\LinearChamber2Jan7-trainset80shuffle1\n",
      "INFO:tensorflow:Restoring parameters from C:\\Users\\user\\Desktop\\LinearChamber2-KAIST-2019-01-07\\dlc-models\\iteration-3\\LinearChamber2Jan7-trainset80shuffle1\\train\\snapshot-120000\n"
     ]
    },
    {
     "name": "stderr",
     "output_type": "stream",
     "text": [
      "INFO:tensorflow:Restoring parameters from C:\\Users\\user\\Desktop\\LinearChamber2-KAIST-2019-01-07\\dlc-models\\iteration-3\\LinearChamber2Jan7-trainset80shuffle1\\train\\snapshot-120000\n"
     ]
    },
    {
     "name": "stdout",
     "output_type": "stream",
     "text": [
      "C:\\Users\\user\\Desktop\\Video_files_Deeplabcut\\LinearChamber\\20180906\\20180906_Trial1.mpg\n",
      "Starting %  C:\\Users\\user\\Desktop\\Video_files_Deeplabcut\\LinearChamber\\20180906\\20180906_Trial1.mpg\n",
      "Loading  C:\\Users\\user\\Desktop\\Video_files_Deeplabcut\\LinearChamber\\20180906\\20180906_Trial1.mpg\n",
      "Duration of video [s]:  600.13 , recorded with  29.97 fps!\n",
      "Overall # of frames:  17986 without cropped frame dimensions:  704 480\n",
      "Starting to extract posture\n",
      "Cropping based on the x1 = 0 x2 = 640 y1 = 50 y2 = 270. You can adjust the cropping coordinates in the config.yaml file.\n"
     ]
    },
    {
     "name": "stderr",
     "output_type": "stream",
     "text": [
      "18079it [04:55, 60.75it/s]                                                                                             "
     ]
    },
    {
     "name": "stdout",
     "output_type": "stream",
     "text": [
      "Detected frames:  17986\n",
      "Saving results in C:\\Users\\user\\Desktop\\Video_files_Deeplabcut\\LinearChamber\\20180906...\n",
      "Saving csv poses!\n",
      "The videos are analyzed. Now your research can truly start! \n",
      " You can create labeled videos with 'create_labeled_video'.\n",
      "If the tracking is not satisfactory for some videos, consider expanding the training set. You can use the function 'extract_outlier_frames' to extract any outlier frames!\n"
     ]
    },
    {
     "name": "stderr",
     "output_type": "stream",
     "text": [
      "\r",
      "18079it [05:10, 60.75it/s]"
     ]
    }
   ],
   "source": [
    "deeplabcut.analyze_videos(path_config_file,videofile_path, videotype='.mpg', gputouse=0, save_as_csv=True)"
   ]
  },
  {
   "cell_type": "markdown",
   "metadata": {
    "colab_type": "text",
    "id": "iGu_PdTWoEJr"
   },
   "source": [
    "## Extract outlier frames [optional step]\n",
    "This is an optional step and is used only when the evaluation results are poor i.e. the labels are incorrectly predicted. In such a case, the user can use the following function to extract frames where the labels are incorrectly predicted. Make sure to provide the correct value of the \"iterations\" as it will be used to create the unique directory where the extracted frames will be saved."
   ]
  },
  {
   "cell_type": "code",
   "execution_count": 8,
   "metadata": {
    "colab": {},
    "colab_type": "code",
    "id": "gkbaBOJVoEJs",
    "scrolled": true
   },
   "outputs": [
    {
     "name": "stdout",
     "output_type": "stream",
     "text": [
      "network parameters: DeepCut_resnet101_LinearChamber2Jan7shuffle1_58000\n",
      "Method  fit  found  0  putative outlier frames.\n",
      "Do you want to proceed with extracting  150  of those?\n",
      "yes/non\n",
      "Nothing extracted, change parameters and start again...\n",
      "Method  fit  found  0  putative outlier frames.\n",
      "Do you want to proceed with extracting  150  of those?\n",
      "yes/non\n",
      "Nothing extracted, change parameters and start again...\n"
     ]
    }
   ],
   "source": [
    "deeplabcut.extract_outlier_frames(path_config_file,videofile_path, outlieralgorithm='fit', comparisonbodyparts='all', epsilon=20, automatic=False)"
   ]
  },
  {
   "cell_type": "code",
   "execution_count": 6,
   "metadata": {
    "colab": {},
    "colab_type": "code",
    "id": "gkbaBOJVoEJs",
    "scrolled": true
   },
   "outputs": [
    {
     "name": "stdout",
     "output_type": "stream",
     "text": [
      "network parameters: DeepCut_resnet101_LinearChamber2Jan7shuffle1_100000\n",
      "Method  jump  found  91  putative outlier frames.\n",
      "Do you want to proceed with extracting  40  of those?\n",
      "If this list is very large, perhaps consider changing the paramters (start, stop, epsilon, comparisonbodyparts) or use a different method.\n",
      "yes/noy\n",
      "Frames from video 20180906_Trial2  already extracted (more will be added)!\n",
      "Loading video...\n",
      "Duration of video [s]:  600.21 , recorded @  29.92 fps!\n",
      "Overall # of frames:  17988 with (cropped) frame dimensions:  (640, 430)\n",
      "Uniformly extracting of frames from 0.0  seconds to 600.21  seconds.\n",
      "Let's select frames indices: [5757, 1902, 1904, 16636, 5718, 16767, 3958, 16348, 3962, 1370, 1347, 17740, 3967, 16803, 16606, 1343, 16775, 1909, 16832, 3966, 8669, 8679, 16788, 3972, 3915, 573, 3744, 8685, 3388, 3743, 1344, 3741, 5765, 7344, 5759, 8907, 1320, 1944, 16615, 1406]\n",
      "Creating the symbolic link of the video\n",
      "AUTOMATIC ADDING OF VIDEO TO CONFIG FILE FAILED! You need to do this manually for including it in the config.yaml file!\n",
      "Videopath: C:\\Users\\user\\Desktop\\Video_files_Deeplabcut\\LinearChamber\\20180906\\20180906_Trial2.mpg Coordinates for cropping: (0, 640, 50, 270)\n",
      "The outlier frames are extracted. They are stored in the subdirectory labeled-data\\20180906_Trial2.\n",
      "Once you extracted frames for all videos, use 'refine_labels' to manually correct the labels.\n",
      "Method  jump  found  152  putative outlier frames.\n",
      "Do you want to proceed with extracting  40  of those?\n",
      "If this list is very large, perhaps consider changing the paramters (start, stop, epsilon, comparisonbodyparts) or use a different method.\n",
      "yes/noy\n",
      "Frames from video 20171229(coh1)_Trial5  already extracted (more will be added)!\n",
      "Loading video...\n",
      "Duration of video [s]:  600.16 , recorded @  29.97002997002997 fps!\n",
      "Overall # of frames:  17987 with (cropped) frame dimensions:  (640, 430)\n",
      "Uniformly extracting of frames from 0.0  seconds to 600.16  seconds.\n",
      "Let's select frames indices: [5355, 1003, 6496, 12525, 12549, 12537, 7119, 4275, 5411, 1210, 1631, 12535, 5400, 1632, 16633, 717, 12437, 5405, 12550, 6570, 1806, 12478, 5410, 16629, 7198, 6466, 12473, 17622, 5406, 737, 13053, 1005, 6482, 721, 791, 12475, 12532, 5420, 933, 3548]\n",
      "Creating the symbolic link of the video\n",
      "AUTOMATIC ADDING OF VIDEO TO CONFIG FILE FAILED! You need to do this manually for including it in the config.yaml file!\n",
      "Videopath: C:\\Users\\user\\Desktop\\Video_files_other\\20171229(coh1)_WireNet\\20171229(coh1)_Trial5.mpg Coordinates for cropping: (0, 640, 50, 270)\n",
      "The outlier frames are extracted. They are stored in the subdirectory labeled-data\\20171229(coh1)_Trial5.\n",
      "Once you extracted frames for all videos, use 'refine_labels' to manually correct the labels.\n",
      "Method  jump  found  433  putative outlier frames.\n",
      "Do you want to proceed with extracting  40  of those?\n",
      "If this list is very large, perhaps consider changing the paramters (start, stop, epsilon, comparisonbodyparts) or use a different method.\n",
      "yes/noy\n",
      "Frames from video 20180205(coh1)_Trial1  already extracted (more will be added)!\n",
      "Loading video...\n",
      "Duration of video [s]:  600.6 , recorded @  29.92 fps!\n",
      "Overall # of frames:  18000 with (cropped) frame dimensions:  (640, 430)\n",
      "Uniformly extracting of frames from 0.0  seconds to 600.6  seconds.\n",
      "Let's select frames indices: [3143, 17392, 700, 1873, 9454, 14267, 1169, 1914, 290, 17519, 15101, 15104, 12117, 11128, 17371, 11695, 3398, 14803, 14255, 7028, 813, 6248, 11639, 7484, 2209, 5542, 9902, 1876, 17534, 1917, 3500, 1402, 5625, 14726, 8041, 8959, 1661, 8630, 1224, 11181]\n",
      "Creating the symbolic link of the video\n",
      "AUTOMATIC ADDING OF VIDEO TO CONFIG FILE FAILED! You need to do this manually for including it in the config.yaml file!\n",
      "Videopath: C:\\Users\\user\\Desktop\\Video_files_other\\20180205(coh1)_RedHat\\20180205(coh1)_Trial1.mpg Coordinates for cropping: (0, 640, 50, 270)\n",
      "The outlier frames are extracted. They are stored in the subdirectory labeled-data\\20180205(coh1)_Trial1.\n",
      "Once you extracted frames for all videos, use 'refine_labels' to manually correct the labels.\n"
     ]
    }
   ],
   "source": [
    "deeplabcut.extract_outlier_frames(path_config_file,videofile_path, outlieralgorithm='jump', comparisonbodyparts=['Nose'], epsilon=100, automatic=False)"
   ]
  },
  {
   "cell_type": "code",
   "execution_count": 4,
   "metadata": {
    "colab": {},
    "colab_type": "code",
    "id": "gkbaBOJVoEJs"
   },
   "outputs": [
    {
     "name": "stdout",
     "output_type": "stream",
     "text": [
      "network parameters: DeepCut_resnet101_LinearChamber2Jan7shuffle1_100000\n",
      "Method  uncertain  found  4074  putative outlier frames.\n",
      "Do you want to proceed with extracting  10  of those?\n",
      "If this list is very large, perhaps consider changing the paramters (start, stop, p_bound, comparisonbodyparts) or use a different method.\n",
      "yes/noy\n",
      "Frames from video 20180906_Trial2  already extracted (more will be added)!\n",
      "Loading video...\n",
      "Duration of video [s]:  600.21 , recorded @  29.92 fps!\n",
      "Overall # of frames:  17988 with (cropped) frame dimensions:  (640, 430)\n",
      "Uniformly extracting of frames from 0.0  seconds to 600.21  seconds.\n",
      "Let's select frames indices: [1410, 9414, 7011, 9888, 8794, 10279, 14101, 5038, 1370, 9701]\n",
      "Creating the symbolic link of the video\n",
      "AUTOMATIC ADDING OF VIDEO TO CONFIG FILE FAILED! You need to do this manually for including it in the config.yaml file!\n",
      "Videopath: C:\\Users\\user\\Desktop\\Video_files_Deeplabcut\\LinearChamber\\20180906\\20180906_Trial2.mpg Coordinates for cropping: (0, 640, 50, 270)\n",
      "The outlier frames are extracted. They are stored in the subdirectory labeled-data\\20180906_Trial2.\n",
      "Once you extracted frames for all videos, use 'refine_labels' to manually correct the labels.\n",
      "Method  uncertain  found  2143  putative outlier frames.\n",
      "Do you want to proceed with extracting  10  of those?\n",
      "If this list is very large, perhaps consider changing the paramters (start, stop, p_bound, comparisonbodyparts) or use a different method.\n",
      "yes/noy\n",
      "Frames from video 20171229(coh1)_Trial5  already extracted (more will be added)!\n",
      "Loading video...\n",
      "Duration of video [s]:  600.16 , recorded @  29.97002997002997 fps!\n",
      "Overall # of frames:  17987 with (cropped) frame dimensions:  (640, 430)\n",
      "Uniformly extracting of frames from 0.0  seconds to 600.16  seconds.\n",
      "Let's select frames indices: [929, 9357, 7197, 4726, 9910, 11077, 932, 7028, 12077, 16607]\n",
      "Creating the symbolic link of the video\n",
      "AUTOMATIC ADDING OF VIDEO TO CONFIG FILE FAILED! You need to do this manually for including it in the config.yaml file!\n",
      "Videopath: C:\\Users\\user\\Desktop\\Video_files_other\\20171229(coh1)_WireNet\\20171229(coh1)_Trial5.mpg Coordinates for cropping: (0, 640, 50, 270)\n",
      "The outlier frames are extracted. They are stored in the subdirectory labeled-data\\20171229(coh1)_Trial5.\n",
      "Once you extracted frames for all videos, use 'refine_labels' to manually correct the labels.\n",
      "Method  uncertain  found  2941  putative outlier frames.\n",
      "Do you want to proceed with extracting  10  of those?\n",
      "If this list is very large, perhaps consider changing the paramters (start, stop, p_bound, comparisonbodyparts) or use a different method.\n",
      "yes/noy\n",
      "Frames from video 20180205(coh1)_Trial1  already extracted (more will be added)!\n",
      "Loading video...\n",
      "Duration of video [s]:  600.6 , recorded @  29.92 fps!\n",
      "Overall # of frames:  18000 with (cropped) frame dimensions:  (640, 430)\n",
      "Uniformly extracting of frames from 0.0  seconds to 600.6  seconds.\n",
      "Let's select frames indices: [9772, 6248, 5863, 6461, 17288, 17521, 807, 12123, 6463, 11408]\n",
      "Creating the symbolic link of the video\n",
      "AUTOMATIC ADDING OF VIDEO TO CONFIG FILE FAILED! You need to do this manually for including it in the config.yaml file!\n",
      "Videopath: C:\\Users\\user\\Desktop\\Video_files_other\\20180205(coh1)_RedHat\\20180205(coh1)_Trial1.mpg Coordinates for cropping: (0, 640, 50, 270)\n",
      "The outlier frames are extracted. They are stored in the subdirectory labeled-data\\20180205(coh1)_Trial1.\n",
      "Once you extracted frames for all videos, use 'refine_labels' to manually correct the labels.\n"
     ]
    }
   ],
   "source": [
    "deeplabcut.extract_outlier_frames(path_config_file,videofile_path, outlieralgorithm='uncertain', comparisonbodyparts=['Nose'], p_bound=0.1, automatic=False)"
   ]
  },
  {
   "cell_type": "markdown",
   "metadata": {
    "colab_type": "text",
    "id": "8ib0uvhaoEJx"
   },
   "source": [
    "## Refine Labels [optional step]\n",
    "Following the extraction of outlier frames, the user can use the following function to move the predicted labels to the correct location. Thus augmenting the training dataset."
   ]
  },
  {
   "cell_type": "code",
   "execution_count": 3,
   "metadata": {
    "colab": {},
    "colab_type": "code",
    "id": "n_FpEXtyoEJy"
   },
   "outputs": [
    {
     "name": "stdout",
     "output_type": "stream",
     "text": [
      "Closing... you did not hit save!\n"
     ]
    }
   ],
   "source": [
    "%gui wx\n",
    "deeplabcut.refine_labels(path_config_file, Screens=2, winHack=0.5)"
   ]
  },
  {
   "cell_type": "code",
   "execution_count": 3,
   "metadata": {
    "colab": {},
    "colab_type": "code",
    "id": "CHzstWr8oEJ2"
   },
   "outputs": [
    {
     "name": "stdout",
     "output_type": "stream",
     "text": [
      "Merged data sets and updated refinement iteration to 3.\n",
      "Now you can create a new training set for the expanded annotated images (use create_training_dataset).\n"
     ]
    }
   ],
   "source": [
    "#Once all folders are relabeled, check them and advance. See how to check labels, above!\n",
    "deeplabcut.merge_datasets(path_config_file)"
   ]
  },
  {
   "cell_type": "markdown",
   "metadata": {
    "colab_type": "text",
    "id": "QCHj7qyboEJ6"
   },
   "source": [
    "## Create a new iteration of training dataset [optional step]\n",
    "Following the refine labels, append these frames to the original dataset to create a new iteration of training dataset."
   ]
  },
  {
   "cell_type": "code",
   "execution_count": 4,
   "metadata": {
    "colab": {},
    "colab_type": "code",
    "id": "ytQoxIldoEJ7"
   },
   "outputs": [
    {
     "name": "stdout",
     "output_type": "stream",
     "text": [
      "The training dataset is successfully created. Use the function 'train_network' to start training. Happy training!\n"
     ]
    }
   ],
   "source": [
    "deeplabcut.create_training_dataset(path_config_file)"
   ]
  },
  {
   "cell_type": "markdown",
   "metadata": {
    "colab_type": "text",
    "id": "pCrUvQIvoEKD"
   },
   "source": [
    "## Create labeled video\n",
    "This funtion is for visualiztion purpose and can be used to create a video in .mp4 format with labels predicted by the network. This video is saved in the same directory where the original video resides. "
   ]
  },
  {
   "cell_type": "code",
   "execution_count": 4,
   "metadata": {
    "colab": {},
    "colab_type": "code",
    "id": "6aDF7Q7KoEKE",
    "scrolled": true
   },
   "outputs": [
    {
     "name": "stdout",
     "output_type": "stream",
     "text": [
      "Starting %  D:\\Users\\user\\Desktop\\Video_files_Deeplabcut\\LinearChamber\\20180906 ['D:\\\\Users\\\\user\\\\Desktop\\\\Video_files_Deeplabcut\\\\LinearChamber\\\\20180906\\\\20180906_Trial2.mpg', 'D:\\\\Users\\\\user\\\\Desktop\\\\Video_files_other\\\\20171229(coh1)_WireNet\\\\20171229(coh1)_Trial5.mpg', 'D:\\\\Users\\\\user\\\\Desktop\\\\Video_files_other\\\\20180205(coh1)_RedHat\\\\20180205(coh1)_Trial1.mpg']\n",
      "Labeled video already created.\n",
      "Starting %  D:\\Users\\user\\Desktop\\Video_files_other\\20171229(coh1)_WireNet ['D:\\\\Users\\\\user\\\\Desktop\\\\Video_files_Deeplabcut\\\\LinearChamber\\\\20180906\\\\20180906_Trial2.mpg', 'D:\\\\Users\\\\user\\\\Desktop\\\\Video_files_other\\\\20171229(coh1)_WireNet\\\\20171229(coh1)_Trial5.mpg', 'D:\\\\Users\\\\user\\\\Desktop\\\\Video_files_other\\\\20180205(coh1)_RedHat\\\\20180205(coh1)_Trial1.mpg']\n",
      "Labeled video already created.\n",
      "Starting %  D:\\Users\\user\\Desktop\\Video_files_other\\20180205(coh1)_RedHat ['D:\\\\Users\\\\user\\\\Desktop\\\\Video_files_Deeplabcut\\\\LinearChamber\\\\20180906\\\\20180906_Trial2.mpg', 'D:\\\\Users\\\\user\\\\Desktop\\\\Video_files_other\\\\20171229(coh1)_WireNet\\\\20171229(coh1)_Trial5.mpg', 'D:\\\\Users\\\\user\\\\Desktop\\\\Video_files_other\\\\20180205(coh1)_RedHat\\\\20180205(coh1)_Trial1.mpg']\n",
      "Loading  D:\\Users\\user\\Desktop\\Video_files_other\\20180205(coh1)_RedHat\\20180205(coh1)_Trial1.mpg and data.\n",
      "True 0 640 50 270\n",
      "D:\\Users\\user\\Desktop\\Video_files_other\\20180205(coh1)_RedHat\\temp-20180205(coh1)_Trial1  already exists!\n",
      "18000\n",
      "Duration of video [s]:  600.6 , recorded with  29.97 fps!\n",
      "Overall # of frames:  18000 with cropped frame dimensions:  640 220\n",
      "Generating frames\n"
     ]
    },
    {
     "name": "stderr",
     "output_type": "stream",
     "text": [
      "100%|████████████████████████████████████████████████████████████████████████████| 18000/18000 [18:23<00:00,  6.78it/s]\n"
     ]
    },
    {
     "name": "stdout",
     "output_type": "stream",
     "text": [
      "All labeled frames were created, now generating video...\n"
     ]
    }
   ],
   "source": [
    "#videofile_path=['C:\\\\Users\\\\user\\\\Desktop\\\\Video_files_Deeplabcut\\\\LinearChamber\\\\20180906\\\\20180906_Trial1.mpg']\n",
    "deeplabcut.create_labeled_video(path_config_file,videofile_path, videotype='mpg', save_frames = True, delete=False, displayedbodyparts='all')"
   ]
  },
  {
   "cell_type": "markdown",
   "metadata": {
    "colab_type": "text",
    "id": "8GTiuJESoEKH"
   },
   "source": [
    "## Plot the trajectories of the analyzed videos\n",
    "This function plots the trajectories of all the body parts across the entire video. Each body part is identified by a unique color."
   ]
  },
  {
   "cell_type": "code",
   "execution_count": 8,
   "metadata": {
    "colab": {},
    "colab_type": "code",
    "id": "gX21zZbXoEKJ",
    "scrolled": true
   },
   "outputs": [
    {
     "name": "stdout",
     "output_type": "stream",
     "text": [
      "C:\\Users\\user\\Desktop\\Video_files_Deeplabcut\\LinearChamber\\20180906\\20180906_Trial2.mpg\n",
      "Starting %  C:\\Users\\user\\Desktop\\Video_files_Deeplabcut\\LinearChamber\\20180906 ['C:\\\\Users\\\\user\\\\Desktop\\\\Video_files_Deeplabcut\\\\LinearChamber\\\\20180906\\\\20180906_Trial2.mpg']\n",
      "C:\\Users\\user\\Desktop\\Video_files_Deeplabcut\\LinearChamber\\20180906  already exists!\n",
      "C:\\Users\\user\\Desktop\\Video_files_Deeplabcut\\LinearChamber\\20180906\\plot-poses  already exists!\n",
      "C:\\Users\\user\\Desktop\\Video_files_Deeplabcut\\LinearChamber\\20180906\\plot-poses\\20180906_Trial2  already exists!\n",
      "Loading  C:\\Users\\user\\Desktop\\Video_files_Deeplabcut\\LinearChamber\\20180906\\20180906_Trial2.mpg and data.\n"
     ]
    },
    {
     "data": {
      "application/javascript": [
       "/* Put everything inside the global mpl namespace */\n",
       "window.mpl = {};\n",
       "\n",
       "\n",
       "mpl.get_websocket_type = function() {\n",
       "    if (typeof(WebSocket) !== 'undefined') {\n",
       "        return WebSocket;\n",
       "    } else if (typeof(MozWebSocket) !== 'undefined') {\n",
       "        return MozWebSocket;\n",
       "    } else {\n",
       "        alert('Your browser does not have WebSocket support.' +\n",
       "              'Please try Chrome, Safari or Firefox ≥ 6. ' +\n",
       "              'Firefox 4 and 5 are also supported but you ' +\n",
       "              'have to enable WebSockets in about:config.');\n",
       "    };\n",
       "}\n",
       "\n",
       "mpl.figure = function(figure_id, websocket, ondownload, parent_element) {\n",
       "    this.id = figure_id;\n",
       "\n",
       "    this.ws = websocket;\n",
       "\n",
       "    this.supports_binary = (this.ws.binaryType != undefined);\n",
       "\n",
       "    if (!this.supports_binary) {\n",
       "        var warnings = document.getElementById(\"mpl-warnings\");\n",
       "        if (warnings) {\n",
       "            warnings.style.display = 'block';\n",
       "            warnings.textContent = (\n",
       "                \"This browser does not support binary websocket messages. \" +\n",
       "                    \"Performance may be slow.\");\n",
       "        }\n",
       "    }\n",
       "\n",
       "    this.imageObj = new Image();\n",
       "\n",
       "    this.context = undefined;\n",
       "    this.message = undefined;\n",
       "    this.canvas = undefined;\n",
       "    this.rubberband_canvas = undefined;\n",
       "    this.rubberband_context = undefined;\n",
       "    this.format_dropdown = undefined;\n",
       "\n",
       "    this.image_mode = 'full';\n",
       "\n",
       "    this.root = $('<div/>');\n",
       "    this._root_extra_style(this.root)\n",
       "    this.root.attr('style', 'display: inline-block');\n",
       "\n",
       "    $(parent_element).append(this.root);\n",
       "\n",
       "    this._init_header(this);\n",
       "    this._init_canvas(this);\n",
       "    this._init_toolbar(this);\n",
       "\n",
       "    var fig = this;\n",
       "\n",
       "    this.waiting = false;\n",
       "\n",
       "    this.ws.onopen =  function () {\n",
       "            fig.send_message(\"supports_binary\", {value: fig.supports_binary});\n",
       "            fig.send_message(\"send_image_mode\", {});\n",
       "            if (mpl.ratio != 1) {\n",
       "                fig.send_message(\"set_dpi_ratio\", {'dpi_ratio': mpl.ratio});\n",
       "            }\n",
       "            fig.send_message(\"refresh\", {});\n",
       "        }\n",
       "\n",
       "    this.imageObj.onload = function() {\n",
       "            if (fig.image_mode == 'full') {\n",
       "                // Full images could contain transparency (where diff images\n",
       "                // almost always do), so we need to clear the canvas so that\n",
       "                // there is no ghosting.\n",
       "                fig.context.clearRect(0, 0, fig.canvas.width, fig.canvas.height);\n",
       "            }\n",
       "            fig.context.drawImage(fig.imageObj, 0, 0);\n",
       "        };\n",
       "\n",
       "    this.imageObj.onunload = function() {\n",
       "        fig.ws.close();\n",
       "    }\n",
       "\n",
       "    this.ws.onmessage = this._make_on_message_function(this);\n",
       "\n",
       "    this.ondownload = ondownload;\n",
       "}\n",
       "\n",
       "mpl.figure.prototype._init_header = function() {\n",
       "    var titlebar = $(\n",
       "        '<div class=\"ui-dialog-titlebar ui-widget-header ui-corner-all ' +\n",
       "        'ui-helper-clearfix\"/>');\n",
       "    var titletext = $(\n",
       "        '<div class=\"ui-dialog-title\" style=\"width: 100%; ' +\n",
       "        'text-align: center; padding: 3px;\"/>');\n",
       "    titlebar.append(titletext)\n",
       "    this.root.append(titlebar);\n",
       "    this.header = titletext[0];\n",
       "}\n",
       "\n",
       "\n",
       "\n",
       "mpl.figure.prototype._canvas_extra_style = function(canvas_div) {\n",
       "\n",
       "}\n",
       "\n",
       "\n",
       "mpl.figure.prototype._root_extra_style = function(canvas_div) {\n",
       "\n",
       "}\n",
       "\n",
       "mpl.figure.prototype._init_canvas = function() {\n",
       "    var fig = this;\n",
       "\n",
       "    var canvas_div = $('<div/>');\n",
       "\n",
       "    canvas_div.attr('style', 'position: relative; clear: both; outline: 0');\n",
       "\n",
       "    function canvas_keyboard_event(event) {\n",
       "        return fig.key_event(event, event['data']);\n",
       "    }\n",
       "\n",
       "    canvas_div.keydown('key_press', canvas_keyboard_event);\n",
       "    canvas_div.keyup('key_release', canvas_keyboard_event);\n",
       "    this.canvas_div = canvas_div\n",
       "    this._canvas_extra_style(canvas_div)\n",
       "    this.root.append(canvas_div);\n",
       "\n",
       "    var canvas = $('<canvas/>');\n",
       "    canvas.addClass('mpl-canvas');\n",
       "    canvas.attr('style', \"left: 0; top: 0; z-index: 0; outline: 0\")\n",
       "\n",
       "    this.canvas = canvas[0];\n",
       "    this.context = canvas[0].getContext(\"2d\");\n",
       "\n",
       "    var backingStore = this.context.backingStorePixelRatio ||\n",
       "\tthis.context.webkitBackingStorePixelRatio ||\n",
       "\tthis.context.mozBackingStorePixelRatio ||\n",
       "\tthis.context.msBackingStorePixelRatio ||\n",
       "\tthis.context.oBackingStorePixelRatio ||\n",
       "\tthis.context.backingStorePixelRatio || 1;\n",
       "\n",
       "    mpl.ratio = (window.devicePixelRatio || 1) / backingStore;\n",
       "\n",
       "    var rubberband = $('<canvas/>');\n",
       "    rubberband.attr('style', \"position: absolute; left: 0; top: 0; z-index: 1;\")\n",
       "\n",
       "    var pass_mouse_events = true;\n",
       "\n",
       "    canvas_div.resizable({\n",
       "        start: function(event, ui) {\n",
       "            pass_mouse_events = false;\n",
       "        },\n",
       "        resize: function(event, ui) {\n",
       "            fig.request_resize(ui.size.width, ui.size.height);\n",
       "        },\n",
       "        stop: function(event, ui) {\n",
       "            pass_mouse_events = true;\n",
       "            fig.request_resize(ui.size.width, ui.size.height);\n",
       "        },\n",
       "    });\n",
       "\n",
       "    function mouse_event_fn(event) {\n",
       "        if (pass_mouse_events)\n",
       "            return fig.mouse_event(event, event['data']);\n",
       "    }\n",
       "\n",
       "    rubberband.mousedown('button_press', mouse_event_fn);\n",
       "    rubberband.mouseup('button_release', mouse_event_fn);\n",
       "    // Throttle sequential mouse events to 1 every 20ms.\n",
       "    rubberband.mousemove('motion_notify', mouse_event_fn);\n",
       "\n",
       "    rubberband.mouseenter('figure_enter', mouse_event_fn);\n",
       "    rubberband.mouseleave('figure_leave', mouse_event_fn);\n",
       "\n",
       "    canvas_div.on(\"wheel\", function (event) {\n",
       "        event = event.originalEvent;\n",
       "        event['data'] = 'scroll'\n",
       "        if (event.deltaY < 0) {\n",
       "            event.step = 1;\n",
       "        } else {\n",
       "            event.step = -1;\n",
       "        }\n",
       "        mouse_event_fn(event);\n",
       "    });\n",
       "\n",
       "    canvas_div.append(canvas);\n",
       "    canvas_div.append(rubberband);\n",
       "\n",
       "    this.rubberband = rubberband;\n",
       "    this.rubberband_canvas = rubberband[0];\n",
       "    this.rubberband_context = rubberband[0].getContext(\"2d\");\n",
       "    this.rubberband_context.strokeStyle = \"#000000\";\n",
       "\n",
       "    this._resize_canvas = function(width, height) {\n",
       "        // Keep the size of the canvas, canvas container, and rubber band\n",
       "        // canvas in synch.\n",
       "        canvas_div.css('width', width)\n",
       "        canvas_div.css('height', height)\n",
       "\n",
       "        canvas.attr('width', width * mpl.ratio);\n",
       "        canvas.attr('height', height * mpl.ratio);\n",
       "        canvas.attr('style', 'width: ' + width + 'px; height: ' + height + 'px;');\n",
       "\n",
       "        rubberband.attr('width', width);\n",
       "        rubberband.attr('height', height);\n",
       "    }\n",
       "\n",
       "    // Set the figure to an initial 600x600px, this will subsequently be updated\n",
       "    // upon first draw.\n",
       "    this._resize_canvas(600, 600);\n",
       "\n",
       "    // Disable right mouse context menu.\n",
       "    $(this.rubberband_canvas).bind(\"contextmenu\",function(e){\n",
       "        return false;\n",
       "    });\n",
       "\n",
       "    function set_focus () {\n",
       "        canvas.focus();\n",
       "        canvas_div.focus();\n",
       "    }\n",
       "\n",
       "    window.setTimeout(set_focus, 100);\n",
       "}\n",
       "\n",
       "mpl.figure.prototype._init_toolbar = function() {\n",
       "    var fig = this;\n",
       "\n",
       "    var nav_element = $('<div/>')\n",
       "    nav_element.attr('style', 'width: 100%');\n",
       "    this.root.append(nav_element);\n",
       "\n",
       "    // Define a callback function for later on.\n",
       "    function toolbar_event(event) {\n",
       "        return fig.toolbar_button_onclick(event['data']);\n",
       "    }\n",
       "    function toolbar_mouse_event(event) {\n",
       "        return fig.toolbar_button_onmouseover(event['data']);\n",
       "    }\n",
       "\n",
       "    for(var toolbar_ind in mpl.toolbar_items) {\n",
       "        var name = mpl.toolbar_items[toolbar_ind][0];\n",
       "        var tooltip = mpl.toolbar_items[toolbar_ind][1];\n",
       "        var image = mpl.toolbar_items[toolbar_ind][2];\n",
       "        var method_name = mpl.toolbar_items[toolbar_ind][3];\n",
       "\n",
       "        if (!name) {\n",
       "            // put a spacer in here.\n",
       "            continue;\n",
       "        }\n",
       "        var button = $('<button/>');\n",
       "        button.addClass('ui-button ui-widget ui-state-default ui-corner-all ' +\n",
       "                        'ui-button-icon-only');\n",
       "        button.attr('role', 'button');\n",
       "        button.attr('aria-disabled', 'false');\n",
       "        button.click(method_name, toolbar_event);\n",
       "        button.mouseover(tooltip, toolbar_mouse_event);\n",
       "\n",
       "        var icon_img = $('<span/>');\n",
       "        icon_img.addClass('ui-button-icon-primary ui-icon');\n",
       "        icon_img.addClass(image);\n",
       "        icon_img.addClass('ui-corner-all');\n",
       "\n",
       "        var tooltip_span = $('<span/>');\n",
       "        tooltip_span.addClass('ui-button-text');\n",
       "        tooltip_span.html(tooltip);\n",
       "\n",
       "        button.append(icon_img);\n",
       "        button.append(tooltip_span);\n",
       "\n",
       "        nav_element.append(button);\n",
       "    }\n",
       "\n",
       "    var fmt_picker_span = $('<span/>');\n",
       "\n",
       "    var fmt_picker = $('<select/>');\n",
       "    fmt_picker.addClass('mpl-toolbar-option ui-widget ui-widget-content');\n",
       "    fmt_picker_span.append(fmt_picker);\n",
       "    nav_element.append(fmt_picker_span);\n",
       "    this.format_dropdown = fmt_picker[0];\n",
       "\n",
       "    for (var ind in mpl.extensions) {\n",
       "        var fmt = mpl.extensions[ind];\n",
       "        var option = $(\n",
       "            '<option/>', {selected: fmt === mpl.default_extension}).html(fmt);\n",
       "        fmt_picker.append(option)\n",
       "    }\n",
       "\n",
       "    // Add hover states to the ui-buttons\n",
       "    $( \".ui-button\" ).hover(\n",
       "        function() { $(this).addClass(\"ui-state-hover\");},\n",
       "        function() { $(this).removeClass(\"ui-state-hover\");}\n",
       "    );\n",
       "\n",
       "    var status_bar = $('<span class=\"mpl-message\"/>');\n",
       "    nav_element.append(status_bar);\n",
       "    this.message = status_bar[0];\n",
       "}\n",
       "\n",
       "mpl.figure.prototype.request_resize = function(x_pixels, y_pixels) {\n",
       "    // Request matplotlib to resize the figure. Matplotlib will then trigger a resize in the client,\n",
       "    // which will in turn request a refresh of the image.\n",
       "    this.send_message('resize', {'width': x_pixels, 'height': y_pixels});\n",
       "}\n",
       "\n",
       "mpl.figure.prototype.send_message = function(type, properties) {\n",
       "    properties['type'] = type;\n",
       "    properties['figure_id'] = this.id;\n",
       "    this.ws.send(JSON.stringify(properties));\n",
       "}\n",
       "\n",
       "mpl.figure.prototype.send_draw_message = function() {\n",
       "    if (!this.waiting) {\n",
       "        this.waiting = true;\n",
       "        this.ws.send(JSON.stringify({type: \"draw\", figure_id: this.id}));\n",
       "    }\n",
       "}\n",
       "\n",
       "\n",
       "mpl.figure.prototype.handle_save = function(fig, msg) {\n",
       "    var format_dropdown = fig.format_dropdown;\n",
       "    var format = format_dropdown.options[format_dropdown.selectedIndex].value;\n",
       "    fig.ondownload(fig, format);\n",
       "}\n",
       "\n",
       "\n",
       "mpl.figure.prototype.handle_resize = function(fig, msg) {\n",
       "    var size = msg['size'];\n",
       "    if (size[0] != fig.canvas.width || size[1] != fig.canvas.height) {\n",
       "        fig._resize_canvas(size[0], size[1]);\n",
       "        fig.send_message(\"refresh\", {});\n",
       "    };\n",
       "}\n",
       "\n",
       "mpl.figure.prototype.handle_rubberband = function(fig, msg) {\n",
       "    var x0 = msg['x0'] / mpl.ratio;\n",
       "    var y0 = (fig.canvas.height - msg['y0']) / mpl.ratio;\n",
       "    var x1 = msg['x1'] / mpl.ratio;\n",
       "    var y1 = (fig.canvas.height - msg['y1']) / mpl.ratio;\n",
       "    x0 = Math.floor(x0) + 0.5;\n",
       "    y0 = Math.floor(y0) + 0.5;\n",
       "    x1 = Math.floor(x1) + 0.5;\n",
       "    y1 = Math.floor(y1) + 0.5;\n",
       "    var min_x = Math.min(x0, x1);\n",
       "    var min_y = Math.min(y0, y1);\n",
       "    var width = Math.abs(x1 - x0);\n",
       "    var height = Math.abs(y1 - y0);\n",
       "\n",
       "    fig.rubberband_context.clearRect(\n",
       "        0, 0, fig.canvas.width, fig.canvas.height);\n",
       "\n",
       "    fig.rubberband_context.strokeRect(min_x, min_y, width, height);\n",
       "}\n",
       "\n",
       "mpl.figure.prototype.handle_figure_label = function(fig, msg) {\n",
       "    // Updates the figure title.\n",
       "    fig.header.textContent = msg['label'];\n",
       "}\n",
       "\n",
       "mpl.figure.prototype.handle_cursor = function(fig, msg) {\n",
       "    var cursor = msg['cursor'];\n",
       "    switch(cursor)\n",
       "    {\n",
       "    case 0:\n",
       "        cursor = 'pointer';\n",
       "        break;\n",
       "    case 1:\n",
       "        cursor = 'default';\n",
       "        break;\n",
       "    case 2:\n",
       "        cursor = 'crosshair';\n",
       "        break;\n",
       "    case 3:\n",
       "        cursor = 'move';\n",
       "        break;\n",
       "    }\n",
       "    fig.rubberband_canvas.style.cursor = cursor;\n",
       "}\n",
       "\n",
       "mpl.figure.prototype.handle_message = function(fig, msg) {\n",
       "    fig.message.textContent = msg['message'];\n",
       "}\n",
       "\n",
       "mpl.figure.prototype.handle_draw = function(fig, msg) {\n",
       "    // Request the server to send over a new figure.\n",
       "    fig.send_draw_message();\n",
       "}\n",
       "\n",
       "mpl.figure.prototype.handle_image_mode = function(fig, msg) {\n",
       "    fig.image_mode = msg['mode'];\n",
       "}\n",
       "\n",
       "mpl.figure.prototype.updated_canvas_event = function() {\n",
       "    // Called whenever the canvas gets updated.\n",
       "    this.send_message(\"ack\", {});\n",
       "}\n",
       "\n",
       "// A function to construct a web socket function for onmessage handling.\n",
       "// Called in the figure constructor.\n",
       "mpl.figure.prototype._make_on_message_function = function(fig) {\n",
       "    return function socket_on_message(evt) {\n",
       "        if (evt.data instanceof Blob) {\n",
       "            /* FIXME: We get \"Resource interpreted as Image but\n",
       "             * transferred with MIME type text/plain:\" errors on\n",
       "             * Chrome.  But how to set the MIME type?  It doesn't seem\n",
       "             * to be part of the websocket stream */\n",
       "            evt.data.type = \"image/png\";\n",
       "\n",
       "            /* Free the memory for the previous frames */\n",
       "            if (fig.imageObj.src) {\n",
       "                (window.URL || window.webkitURL).revokeObjectURL(\n",
       "                    fig.imageObj.src);\n",
       "            }\n",
       "\n",
       "            fig.imageObj.src = (window.URL || window.webkitURL).createObjectURL(\n",
       "                evt.data);\n",
       "            fig.updated_canvas_event();\n",
       "            fig.waiting = false;\n",
       "            return;\n",
       "        }\n",
       "        else if (typeof evt.data === 'string' && evt.data.slice(0, 21) == \"data:image/png;base64\") {\n",
       "            fig.imageObj.src = evt.data;\n",
       "            fig.updated_canvas_event();\n",
       "            fig.waiting = false;\n",
       "            return;\n",
       "        }\n",
       "\n",
       "        var msg = JSON.parse(evt.data);\n",
       "        var msg_type = msg['type'];\n",
       "\n",
       "        // Call the  \"handle_{type}\" callback, which takes\n",
       "        // the figure and JSON message as its only arguments.\n",
       "        try {\n",
       "            var callback = fig[\"handle_\" + msg_type];\n",
       "        } catch (e) {\n",
       "            console.log(\"No handler for the '\" + msg_type + \"' message type: \", msg);\n",
       "            return;\n",
       "        }\n",
       "\n",
       "        if (callback) {\n",
       "            try {\n",
       "                // console.log(\"Handling '\" + msg_type + \"' message: \", msg);\n",
       "                callback(fig, msg);\n",
       "            } catch (e) {\n",
       "                console.log(\"Exception inside the 'handler_\" + msg_type + \"' callback:\", e, e.stack, msg);\n",
       "            }\n",
       "        }\n",
       "    };\n",
       "}\n",
       "\n",
       "// from http://stackoverflow.com/questions/1114465/getting-mouse-location-in-canvas\n",
       "mpl.findpos = function(e) {\n",
       "    //this section is from http://www.quirksmode.org/js/events_properties.html\n",
       "    var targ;\n",
       "    if (!e)\n",
       "        e = window.event;\n",
       "    if (e.target)\n",
       "        targ = e.target;\n",
       "    else if (e.srcElement)\n",
       "        targ = e.srcElement;\n",
       "    if (targ.nodeType == 3) // defeat Safari bug\n",
       "        targ = targ.parentNode;\n",
       "\n",
       "    // jQuery normalizes the pageX and pageY\n",
       "    // pageX,Y are the mouse positions relative to the document\n",
       "    // offset() returns the position of the element relative to the document\n",
       "    var x = e.pageX - $(targ).offset().left;\n",
       "    var y = e.pageY - $(targ).offset().top;\n",
       "\n",
       "    return {\"x\": x, \"y\": y};\n",
       "};\n",
       "\n",
       "/*\n",
       " * return a copy of an object with only non-object keys\n",
       " * we need this to avoid circular references\n",
       " * http://stackoverflow.com/a/24161582/3208463\n",
       " */\n",
       "function simpleKeys (original) {\n",
       "  return Object.keys(original).reduce(function (obj, key) {\n",
       "    if (typeof original[key] !== 'object')\n",
       "        obj[key] = original[key]\n",
       "    return obj;\n",
       "  }, {});\n",
       "}\n",
       "\n",
       "mpl.figure.prototype.mouse_event = function(event, name) {\n",
       "    var canvas_pos = mpl.findpos(event)\n",
       "\n",
       "    if (name === 'button_press')\n",
       "    {\n",
       "        this.canvas.focus();\n",
       "        this.canvas_div.focus();\n",
       "    }\n",
       "\n",
       "    var x = canvas_pos.x * mpl.ratio;\n",
       "    var y = canvas_pos.y * mpl.ratio;\n",
       "\n",
       "    this.send_message(name, {x: x, y: y, button: event.button,\n",
       "                             step: event.step,\n",
       "                             guiEvent: simpleKeys(event)});\n",
       "\n",
       "    /* This prevents the web browser from automatically changing to\n",
       "     * the text insertion cursor when the button is pressed.  We want\n",
       "     * to control all of the cursor setting manually through the\n",
       "     * 'cursor' event from matplotlib */\n",
       "    event.preventDefault();\n",
       "    return false;\n",
       "}\n",
       "\n",
       "mpl.figure.prototype._key_event_extra = function(event, name) {\n",
       "    // Handle any extra behaviour associated with a key event\n",
       "}\n",
       "\n",
       "mpl.figure.prototype.key_event = function(event, name) {\n",
       "\n",
       "    // Prevent repeat events\n",
       "    if (name == 'key_press')\n",
       "    {\n",
       "        if (event.which === this._key)\n",
       "            return;\n",
       "        else\n",
       "            this._key = event.which;\n",
       "    }\n",
       "    if (name == 'key_release')\n",
       "        this._key = null;\n",
       "\n",
       "    var value = '';\n",
       "    if (event.ctrlKey && event.which != 17)\n",
       "        value += \"ctrl+\";\n",
       "    if (event.altKey && event.which != 18)\n",
       "        value += \"alt+\";\n",
       "    if (event.shiftKey && event.which != 16)\n",
       "        value += \"shift+\";\n",
       "\n",
       "    value += 'k';\n",
       "    value += event.which.toString();\n",
       "\n",
       "    this._key_event_extra(event, name);\n",
       "\n",
       "    this.send_message(name, {key: value,\n",
       "                             guiEvent: simpleKeys(event)});\n",
       "    return false;\n",
       "}\n",
       "\n",
       "mpl.figure.prototype.toolbar_button_onclick = function(name) {\n",
       "    if (name == 'download') {\n",
       "        this.handle_save(this, null);\n",
       "    } else {\n",
       "        this.send_message(\"toolbar_button\", {name: name});\n",
       "    }\n",
       "};\n",
       "\n",
       "mpl.figure.prototype.toolbar_button_onmouseover = function(tooltip) {\n",
       "    this.message.textContent = tooltip;\n",
       "};\n",
       "mpl.toolbar_items = [[\"Home\", \"Reset original view\", \"fa fa-home icon-home\", \"home\"], [\"Back\", \"Back to  previous view\", \"fa fa-arrow-left icon-arrow-left\", \"back\"], [\"Forward\", \"Forward to next view\", \"fa fa-arrow-right icon-arrow-right\", \"forward\"], [\"\", \"\", \"\", \"\"], [\"Pan\", \"Pan axes with left mouse, zoom with right\", \"fa fa-arrows icon-move\", \"pan\"], [\"Zoom\", \"Zoom to rectangle\", \"fa fa-square-o icon-check-empty\", \"zoom\"], [\"\", \"\", \"\", \"\"], [\"Download\", \"Download plot\", \"fa fa-floppy-o icon-save\", \"download\"]];\n",
       "\n",
       "mpl.extensions = [\"eps\", \"jpeg\", \"pdf\", \"png\", \"ps\", \"raw\", \"svg\", \"tif\"];\n",
       "\n",
       "mpl.default_extension = \"png\";var comm_websocket_adapter = function(comm) {\n",
       "    // Create a \"websocket\"-like object which calls the given IPython comm\n",
       "    // object with the appropriate methods. Currently this is a non binary\n",
       "    // socket, so there is still some room for performance tuning.\n",
       "    var ws = {};\n",
       "\n",
       "    ws.close = function() {\n",
       "        comm.close()\n",
       "    };\n",
       "    ws.send = function(m) {\n",
       "        //console.log('sending', m);\n",
       "        comm.send(m);\n",
       "    };\n",
       "    // Register the callback with on_msg.\n",
       "    comm.on_msg(function(msg) {\n",
       "        //console.log('receiving', msg['content']['data'], msg);\n",
       "        // Pass the mpl event to the overridden (by mpl) onmessage function.\n",
       "        ws.onmessage(msg['content']['data'])\n",
       "    });\n",
       "    return ws;\n",
       "}\n",
       "\n",
       "mpl.mpl_figure_comm = function(comm, msg) {\n",
       "    // This is the function which gets called when the mpl process\n",
       "    // starts-up an IPython Comm through the \"matplotlib\" channel.\n",
       "\n",
       "    var id = msg.content.data.id;\n",
       "    // Get hold of the div created by the display call when the Comm\n",
       "    // socket was opened in Python.\n",
       "    var element = $(\"#\" + id);\n",
       "    var ws_proxy = comm_websocket_adapter(comm)\n",
       "\n",
       "    function ondownload(figure, format) {\n",
       "        window.open(figure.imageObj.src);\n",
       "    }\n",
       "\n",
       "    var fig = new mpl.figure(id, ws_proxy,\n",
       "                           ondownload,\n",
       "                           element.get(0));\n",
       "\n",
       "    // Call onopen now - mpl needs it, as it is assuming we've passed it a real\n",
       "    // web socket which is closed, not our websocket->open comm proxy.\n",
       "    ws_proxy.onopen();\n",
       "\n",
       "    fig.parent_element = element.get(0);\n",
       "    fig.cell_info = mpl.find_output_cell(\"<div id='\" + id + \"'></div>\");\n",
       "    if (!fig.cell_info) {\n",
       "        console.error(\"Failed to find cell for figure\", id, fig);\n",
       "        return;\n",
       "    }\n",
       "\n",
       "    var output_index = fig.cell_info[2]\n",
       "    var cell = fig.cell_info[0];\n",
       "\n",
       "};\n",
       "\n",
       "mpl.figure.prototype.handle_close = function(fig, msg) {\n",
       "    var width = fig.canvas.width/mpl.ratio\n",
       "    fig.root.unbind('remove')\n",
       "\n",
       "    // Update the output cell to use the data from the current canvas.\n",
       "    fig.push_to_output();\n",
       "    var dataURL = fig.canvas.toDataURL();\n",
       "    // Re-enable the keyboard manager in IPython - without this line, in FF,\n",
       "    // the notebook keyboard shortcuts fail.\n",
       "    IPython.keyboard_manager.enable()\n",
       "    $(fig.parent_element).html('<img src=\"' + dataURL + '\" width=\"' + width + '\">');\n",
       "    fig.close_ws(fig, msg);\n",
       "}\n",
       "\n",
       "mpl.figure.prototype.close_ws = function(fig, msg){\n",
       "    fig.send_message('closing', msg);\n",
       "    // fig.ws.close()\n",
       "}\n",
       "\n",
       "mpl.figure.prototype.push_to_output = function(remove_interactive) {\n",
       "    // Turn the data on the canvas into data in the output cell.\n",
       "    var width = this.canvas.width/mpl.ratio\n",
       "    var dataURL = this.canvas.toDataURL();\n",
       "    this.cell_info[1]['text/html'] = '<img src=\"' + dataURL + '\" width=\"' + width + '\">';\n",
       "}\n",
       "\n",
       "mpl.figure.prototype.updated_canvas_event = function() {\n",
       "    // Tell IPython that the notebook contents must change.\n",
       "    IPython.notebook.set_dirty(true);\n",
       "    this.send_message(\"ack\", {});\n",
       "    var fig = this;\n",
       "    // Wait a second, then push the new image to the DOM so\n",
       "    // that it is saved nicely (might be nice to debounce this).\n",
       "    setTimeout(function () { fig.push_to_output() }, 1000);\n",
       "}\n",
       "\n",
       "mpl.figure.prototype._init_toolbar = function() {\n",
       "    var fig = this;\n",
       "\n",
       "    var nav_element = $('<div/>')\n",
       "    nav_element.attr('style', 'width: 100%');\n",
       "    this.root.append(nav_element);\n",
       "\n",
       "    // Define a callback function for later on.\n",
       "    function toolbar_event(event) {\n",
       "        return fig.toolbar_button_onclick(event['data']);\n",
       "    }\n",
       "    function toolbar_mouse_event(event) {\n",
       "        return fig.toolbar_button_onmouseover(event['data']);\n",
       "    }\n",
       "\n",
       "    for(var toolbar_ind in mpl.toolbar_items){\n",
       "        var name = mpl.toolbar_items[toolbar_ind][0];\n",
       "        var tooltip = mpl.toolbar_items[toolbar_ind][1];\n",
       "        var image = mpl.toolbar_items[toolbar_ind][2];\n",
       "        var method_name = mpl.toolbar_items[toolbar_ind][3];\n",
       "\n",
       "        if (!name) { continue; };\n",
       "\n",
       "        var button = $('<button class=\"btn btn-default\" href=\"#\" title=\"' + name + '\"><i class=\"fa ' + image + ' fa-lg\"></i></button>');\n",
       "        button.click(method_name, toolbar_event);\n",
       "        button.mouseover(tooltip, toolbar_mouse_event);\n",
       "        nav_element.append(button);\n",
       "    }\n",
       "\n",
       "    // Add the status bar.\n",
       "    var status_bar = $('<span class=\"mpl-message\" style=\"text-align:right; float: right;\"/>');\n",
       "    nav_element.append(status_bar);\n",
       "    this.message = status_bar[0];\n",
       "\n",
       "    // Add the close button to the window.\n",
       "    var buttongrp = $('<div class=\"btn-group inline pull-right\"></div>');\n",
       "    var button = $('<button class=\"btn btn-mini btn-primary\" href=\"#\" title=\"Stop Interaction\"><i class=\"fa fa-power-off icon-remove icon-large\"></i></button>');\n",
       "    button.click(function (evt) { fig.handle_close(fig, {}); } );\n",
       "    button.mouseover('Stop Interaction', toolbar_mouse_event);\n",
       "    buttongrp.append(button);\n",
       "    var titlebar = this.root.find($('.ui-dialog-titlebar'));\n",
       "    titlebar.prepend(buttongrp);\n",
       "}\n",
       "\n",
       "mpl.figure.prototype._root_extra_style = function(el){\n",
       "    var fig = this\n",
       "    el.on(\"remove\", function(){\n",
       "\tfig.close_ws(fig, {});\n",
       "    });\n",
       "}\n",
       "\n",
       "mpl.figure.prototype._canvas_extra_style = function(el){\n",
       "    // this is important to make the div 'focusable\n",
       "    el.attr('tabindex', 0)\n",
       "    // reach out to IPython and tell the keyboard manager to turn it's self\n",
       "    // off when our div gets focus\n",
       "\n",
       "    // location in version 3\n",
       "    if (IPython.notebook.keyboard_manager) {\n",
       "        IPython.notebook.keyboard_manager.register_events(el);\n",
       "    }\n",
       "    else {\n",
       "        // location in version 2\n",
       "        IPython.keyboard_manager.register_events(el);\n",
       "    }\n",
       "\n",
       "}\n",
       "\n",
       "mpl.figure.prototype._key_event_extra = function(event, name) {\n",
       "    var manager = IPython.notebook.keyboard_manager;\n",
       "    if (!manager)\n",
       "        manager = IPython.keyboard_manager;\n",
       "\n",
       "    // Check for shift+enter\n",
       "    if (event.shiftKey && event.which == 13) {\n",
       "        this.canvas_div.blur();\n",
       "        event.shiftKey = false;\n",
       "        // Send a \"J\" for go to next cell\n",
       "        event.which = 74;\n",
       "        event.keyCode = 74;\n",
       "        manager.command_mode();\n",
       "        manager.handle_keydown(event);\n",
       "    }\n",
       "}\n",
       "\n",
       "mpl.figure.prototype.handle_save = function(fig, msg) {\n",
       "    fig.ondownload(fig, null);\n",
       "}\n",
       "\n",
       "\n",
       "mpl.find_output_cell = function(html_output) {\n",
       "    // Return the cell and output element which can be found *uniquely* in the notebook.\n",
       "    // Note - this is a bit hacky, but it is done because the \"notebook_saving.Notebook\"\n",
       "    // IPython event is triggered only after the cells have been serialised, which for\n",
       "    // our purposes (turning an active figure into a static one), is too late.\n",
       "    var cells = IPython.notebook.get_cells();\n",
       "    var ncells = cells.length;\n",
       "    for (var i=0; i<ncells; i++) {\n",
       "        var cell = cells[i];\n",
       "        if (cell.cell_type === 'code'){\n",
       "            for (var j=0; j<cell.output_area.outputs.length; j++) {\n",
       "                var data = cell.output_area.outputs[j];\n",
       "                if (data.data) {\n",
       "                    // IPython >= 3 moved mimebundle to data attribute of output\n",
       "                    data = data.data;\n",
       "                }\n",
       "                if (data['text/html'] == html_output) {\n",
       "                    return [cell, data, j];\n",
       "                }\n",
       "            }\n",
       "        }\n",
       "    }\n",
       "}\n",
       "\n",
       "// Register the function which deals with the matplotlib target/channel.\n",
       "// The kernel may be null if the page has been refreshed.\n",
       "if (IPython.notebook.kernel != null) {\n",
       "    IPython.notebook.kernel.comm_manager.register_target('matplotlib', mpl.mpl_figure_comm);\n",
       "}\n"
      ],
      "text/plain": [
       "<IPython.core.display.Javascript object>"
      ]
     },
     "metadata": {},
     "output_type": "display_data"
    },
    {
     "data": {
      "text/html": [
       "<img src=\"data:image/png;base64,iVBORw0KGgoAAAANSUhEUgAAAkAAAAGwCAYAAABB4NqyAAAUPUlEQVR4Xu3WQQEAAAgCMelf2iA3GzB8sHMECBAgQIAAgZjAYnnFJUCAAAECBAicAeQJCBAgQIAAgZyAAZSrXGACBAgQIEDAAPIDBAgQIECAQE7AAMpVLjABAgQIECBgAPkBAgQIECBAICdgAOUqF5gAAQIECBAwgPwAAQIECBAgkBMwgHKVC0yAAAECBAgYQH6AAAECBAgQyAkYQLnKBSZAgAABAgQMID9AgAABAgQI5AQMoFzlAhMgQIAAAQIGkB8gQIAAAQIEcgIGUK5ygQkQIECAAAEDyA8QIECAAAECOQEDKFe5wAQIECBAgIAB5AcIECBAgACBnIABlKtcYAIECBAgQMAA8gMECBAgQIBATsAAylUuMAECBAgQIGAA+QECBAgQIEAgJ2AA5SoXmAABAgQIEDCA/AABAgQIECCQEzCAcpULTIAAAQIECBhAfoAAAQIECBDICRhAucoFJkCAAAECBAwgP0CAAAECBAjkBAygXOUCEyBAgAABAgaQHyBAgAABAgRyAgZQrnKBCRAgQIAAAQPIDxAgQIAAAQI5AQMoV7nABAgQIECAgAHkBwgQIECAAIGcgAGUq1xgAgQIECBAwADyAwQIECBAgEBOwADKVS4wAQIECBAgYAD5AQIECBAgQCAnYADlKheYAAECBAgQMID8AAECBAgQIJATMIBylQtMgAABAgQIGEB+gAABAgQIEMgJGEC5ygUmQIAAAQIEDCA/QIAAAQIECOQEDKBc5QITIECAAAECBpAfIECAAAECBHICBlCucoEJECBAgAABA8gPECBAgAABAjkBAyhXucAECBAgQICAAeQHCBAgQIAAgZyAAZSrXGACBAgQIEDAAPIDBAgQIECAQE7AAMpVLjABAgQIECBgAPkBAgQIECBAICdgAOUqF5gAAQIECBAwgPwAAQIECBAgkBMwgHKVC0yAAAECBAgYQH6AAAECBAgQyAkYQLnKBSZAgAABAgQMID9AgAABAgQI5AQMoFzlAhMgQIAAAQIGkB8gQIAAAQIEcgIGUK5ygQkQIECAAAEDyA8QIECAAAECOQEDKFe5wAQIECBAgIAB5AcIECBAgACBnIABlKtcYAIECBAgQMAA8gMECBAgQIBATsAAylUuMAECBAgQIGAA+QECBAgQIEAgJ2AA5SoXmAABAgQIEDCA/AABAgQIECCQEzCAcpULTIAAAQIECBhAfoAAAQIECBDICRhAucoFJkCAAAECBAwgP0CAAAECBAjkBAygXOUCEyBAgAABAgaQHyBAgAABAgRyAgZQrnKBCRAgQIAAAQPIDxAgQIAAAQI5AQMoV7nABAgQIECAgAHkBwgQIECAAIGcgAGUq1xgAgQIECBAwADyAwQIECBAgEBOwADKVS4wAQIECBAgYAD5AQIECBAgQCAnYADlKheYAAECBAgQMID8AAECBAgQIJATMIBylQtMgAABAgQIGEB+gAABAgQIEMgJGEC5ygUmQIAAAQIEDCA/QIAAAQIECOQEDKBc5QITIECAAAECBpAfIECAAAECBHICBlCucoEJECBAgAABA8gPECBAgAABAjkBAyhXucAECBAgQICAAeQHCBAgQIAAgZyAAZSrXGACBAgQIEDAAPIDBAgQIECAQE7AAMpVLjABAgQIECBgAPkBAgQIECBAICdgAOUqF5gAAQIECBAwgPwAAQIECBAgkBMwgHKVC0yAAAECBAgYQH6AAAECBAgQyAkYQLnKBSZAgAABAgQMID9AgAABAgQI5AQMoFzlAhMgQIAAAQIGkB8gQIAAAQIEcgIGUK5ygQkQIECAAAEDyA8QIECAAAECOQEDKFe5wAQIECBAgIAB5AcIECBAgACBnIABlKtcYAIECBAgQMAA8gMECBAgQIBATsAAylUuMAECBAgQIGAA+QECBAgQIEAgJ2AA5SoXmAABAgQIEDCA/AABAgQIECCQEzCAcpULTIAAAQIECBhAfoAAAQIECBDICRhAucoFJkCAAAECBAwgP0CAAAECBAjkBAygXOUCEyBAgAABAgaQHyBAgAABAgRyAgZQrnKBCRAgQIAAAQPIDxAgQIAAAQI5AQMoV7nABAgQIECAgAHkBwgQIECAAIGcgAGUq1xgAgQIECBAwADyAwQIECBAgEBOwADKVS4wAQIECBAgYAD5AQIECBAgQCAnYADlKheYAAECBAgQMID8AAECBAgQIJATMIBylQtMgAABAgQIGEB+gAABAgQIEMgJGEC5ygUmQIAAAQIEDCA/QIAAAQIECOQEDKBc5QITIECAAAECBpAfIECAAAECBHICBlCucoEJECBAgAABA8gPECBAgAABAjkBAyhXucAECBAgQICAAeQHCBAgQIAAgZyAAZSrXGACBAgQIEDAAPIDBAgQIECAQE7AAMpVLjABAgQIECBgAPkBAgQIECBAICdgAOUqF5gAAQIECBAwgPwAAQIECBAgkBMwgHKVC0yAAAECBAgYQH6AAAECBAgQyAkYQLnKBSZAgAABAgQMID9AgAABAgQI5AQMoFzlAhMgQIAAAQIGkB8gQIAAAQIEcgIGUK5ygQkQIECAAAEDyA8QIECAAAECOQEDKFe5wAQIECBAgIAB5AcIECBAgACBnIABlKtcYAIECBAgQMAA8gMECBAgQIBATsAAylUuMAECBAgQIGAA+QECBAgQIEAgJ2AA5SoXmAABAgQIEDCA/AABAgQIECCQEzCAcpULTIAAAQIECBhAfoAAAQIECBDICRhAucoFJkCAAAECBAwgP0CAAAECBAjkBAygXOUCEyBAgAABAgaQHyBAgAABAgRyAgZQrnKBCRAgQIAAAQPIDxAgQIAAAQI5AQMoV7nABAgQIECAgAHkBwgQIECAAIGcgAGUq1xgAgQIECBAwADyAwQIECBAgEBOwADKVS4wAQIECBAgYAD5AQIECBAgQCAnYADlKheYAAECBAgQMID8AAECBAgQIJATMIBylQtMgAABAgQIGEB+gAABAgQIEMgJGEC5ygUmQIAAAQIEDCA/QIAAAQIECOQEDKBc5QITIECAAAECBpAfIECAAAECBHICBlCucoEJECBAgAABA8gPECBAgAABAjkBAyhXucAECBAgQICAAeQHCBAgQIAAgZyAAZSrXGACBAgQIEDAAPIDBAgQIECAQE7AAMpVLjABAgQIECBgAPkBAgQIECBAICdgAOUqF5gAAQIECBAwgPwAAQIECBAgkBMwgHKVC0yAAAECBAgYQH6AAAECBAgQyAkYQLnKBSZAgAABAgQMID9AgAABAgQI5AQMoFzlAhMgQIAAAQIGkB8gQIAAAQIEcgIGUK5ygQkQIECAAAEDyA8QIECAAAECOQEDKFe5wAQIECBAgIAB5AcIECBAgACBnIABlKtcYAIECBAgQMAA8gMECBAgQIBATsAAylUuMAECBAgQIGAA+QECBAgQIEAgJ2AA5SoXmAABAgQIEDCA/AABAgQIECCQEzCAcpULTIAAAQIECBhAfoAAAQIECBDICRhAucoFJkCAAAECBAwgP0CAAAECBAjkBAygXOUCEyBAgAABAgaQHyBAgAABAgRyAgZQrnKBCRAgQIAAAQPIDxAgQIAAAQI5AQMoV7nABAgQIECAgAHkBwgQIECAAIGcgAGUq1xgAgQIECBAwADyAwQIECBAgEBOwADKVS4wAQIECBAgYAD5AQIECBAgQCAnYADlKheYAAECBAgQMID8AAECBAgQIJATMIBylQtMgAABAgQIGEB+gAABAgQIEMgJGEC5ygUmQIAAAQIEDCA/QIAAAQIECOQEDKBc5QITIECAAAECBpAfIECAAAECBHICBlCucoEJECBAgAABA8gPECBAgAABAjkBAyhXucAECBAgQICAAeQHCBAgQIAAgZyAAZSrXGACBAgQIEDAAPIDBAgQIECAQE7AAMpVLjABAgQIECBgAPkBAgQIECBAICdgAOUqF5gAAQIECBAwgPwAAQIECBAgkBMwgHKVC0yAAAECBAgYQH6AAAECBAgQyAkYQLnKBSZAgAABAgQMID9AgAABAgQI5AQMoFzlAhMgQIAAAQIGkB8gQIAAAQIEcgIGUK5ygQkQIECAAAEDyA8QIECAAAECOQEDKFe5wAQIECBAgIAB5AcIECBAgACBnIABlKtcYAIECBAgQMAA8gMECBAgQIBATsAAylUuMAECBAgQIGAA+QECBAgQIEAgJ2AA5SoXmAABAgQIEDCA/AABAgQIECCQEzCAcpULTIAAAQIECBhAfoAAAQIECBDICRhAucoFJkCAAAECBAwgP0CAAAECBAjkBAygXOUCEyBAgAABAgaQHyBAgAABAgRyAgZQrnKBCRAgQIAAAQPIDxAgQIAAAQI5AQMoV7nABAgQIECAgAHkBwgQIECAAIGcgAGUq1xgAgQIECBAwADyAwQIECBAgEBOwADKVS4wAQIECBAgYAD5AQIECBAgQCAnYADlKheYAAECBAgQMID8AAECBAgQIJATMIBylQtMgAABAgQIGEB+gAABAgQIEMgJGEC5ygUmQIAAAQIEDCA/QIAAAQIECOQEDKBc5QITIECAAAECBpAfIECAAAECBHICBlCucoEJECBAgAABA8gPECBAgAABAjkBAyhXucAECBAgQICAAeQHCBAgQIAAgZyAAZSrXGACBAgQIEDAAPIDBAgQIECAQE7AAMpVLjABAgQIECBgAPkBAgQIECBAICdgAOUqF5gAAQIECBAwgPwAAQIECBAgkBMwgHKVC0yAAAECBAgYQH6AAAECBAgQyAkYQLnKBSZAgAABAgQMID9AgAABAgQI5AQMoFzlAhMgQIAAAQIGkB8gQIAAAQIEcgIGUK5ygQkQIECAAAEDyA8QIECAAAECOQEDKFe5wAQIECBAgIAB5AcIECBAgACBnIABlKtcYAIECBAgQMAA8gMECBAgQIBATsAAylUuMAECBAgQIGAA+QECBAgQIEAgJ2AA5SoXmAABAgQIEDCA/AABAgQIECCQEzCAcpULTIAAAQIECBhAfoAAAQIECBDICRhAucoFJkCAAAECBAwgP0CAAAECBAjkBAygXOUCEyBAgAABAgaQHyBAgAABAgRyAgZQrnKBCRAgQIAAAQPIDxAgQIAAAQI5AQMoV7nABAgQIECAgAHkBwgQIECAAIGcgAGUq1xgAgQIECBAwADyAwQIECBAgEBOwADKVS4wAQIECBAgYAD5AQIECBAgQCAnYADlKheYAAECBAgQMID8AAECBAgQIJATMIBylQtMgAABAgQIGEB+gAABAgQIEMgJGEC5ygUmQIAAAQIEDCA/QIAAAQIECOQEDKBc5QITIECAAAECBpAfIECAAAECBHICBlCucoEJECBAgAABA8gPECBAgAABAjkBAyhXucAECBAgQICAAeQHCBAgQIAAgZyAAZSrXGACBAgQIEDAAPIDBAgQIECAQE7AAMpVLjABAgQIECBgAPkBAgQIECBAICdgAOUqF5gAAQIECBAwgPwAAQIECBAgkBMwgHKVC0yAAAECBAgYQH6AAAECBAgQyAkYQLnKBSZAgAABAgQMID9AgAABAgQI5AQMoFzlAhMgQIAAAQIGkB8gQIAAAQIEcgIGUK5ygQkQIECAAAEDyA8QIECAAAECOQEDKFe5wAQIECBAgIAB5AcIECBAgACBnIABlKtcYAIECBAgQMAA8gMECBAgQIBATsAAylUuMAECBAgQIGAA+QECBAgQIEAgJ2AA5SoXmAABAgQIEDCA/AABAgQIECCQEzCAcpULTIAAAQIECBhAfoAAAQIECBDICRhAucoFJkCAAAECBAwgP0CAAAECBAjkBAygXOUCEyBAgAABAgaQHyBAgAABAgRyAgZQrnKBCRAgQIAAAQPIDxAgQIAAAQI5AQMoV7nABAgQIECAgAHkBwgQIECAAIGcgAGUq1xgAgQIECBAwADyAwQIECBAgEBOwADKVS4wAQIECBAgYAD5AQIECBAgQCAnYADlKheYAAECBAgQMID8AAECBAgQIJATMIBylQtMgAABAgQIGEB+gAABAgQIEMgJGEC5ygUmQIAAAQIEDCA/QIAAAQIECOQEDKBc5QITIECAAAECBpAfIECAAAECBHICBlCucoEJECBAgAABA8gPECBAgAABAjkBAyhXucAECBAgQICAAeQHCBAgQIAAgZyAAZSrXGACBAgQIEDAAPIDBAgQIECAQE7AAMpVLjABAgQIECBgAPkBAgQIECBAICdgAOUqF5gAAQIECBAwgPwAAQIECBAgkBMwgHKVC0yAAAECBAgYQH6AAAECBAgQyAkYQLnKBSZAgAABAgQMID9AgAABAgQI5AQMoFzlAhMgQIAAAQIGkB8gQIAAAQIEcgIGUK5ygQkQIECAAAEDyA8QIECAAAECOQEDKFe5wAQIECBAgIAB5AcIECBAgACBnIABlKtcYAIECBAgQMAA8gMECBAgQIBATsAAylUuMAECBAgQIGAA+QECBAgQIEAgJ2AA5SoXmAABAgQIEDCA/AABAgQIECCQEzCAcpULTIAAAQIECBhAfoAAAQIECBDICRhAucoFJkCAAAECBAwgP0CAAAECBAjkBAygXOUCEyBAgAABAgaQHyBAgAABAgRyAgZQrnKBCRAgQIAAAQPIDxAgQIAAAQI5AQMoV7nABAgQIECAgAHkBwgQIECAAIGcgAGUq1xgAgQIECBAwADyAwQIECBAgEBOwADKVS4wAQIECBAgYAD5AQIECBAgQCAnYADlKheYAAECBAgQMID8AAECBAgQIJATMIBylQtMgAABAgQIGEB+gAABAgQIEMgJGEC5ygUmQIAAAQIEDCA/QIAAAQIECOQEDKBc5QITIECAAAECBpAfIECAAAECBHICBlCucoEJECBAgACBB3ivAbEflNHLAAAAAElFTkSuQmCC\" width=\"576\">"
      ],
      "text/plain": [
       "<IPython.core.display.HTML object>"
      ]
     },
     "metadata": {},
     "output_type": "display_data"
    },
    {
     "data": {
      "application/javascript": [
       "/* Put everything inside the global mpl namespace */\n",
       "window.mpl = {};\n",
       "\n",
       "\n",
       "mpl.get_websocket_type = function() {\n",
       "    if (typeof(WebSocket) !== 'undefined') {\n",
       "        return WebSocket;\n",
       "    } else if (typeof(MozWebSocket) !== 'undefined') {\n",
       "        return MozWebSocket;\n",
       "    } else {\n",
       "        alert('Your browser does not have WebSocket support.' +\n",
       "              'Please try Chrome, Safari or Firefox ≥ 6. ' +\n",
       "              'Firefox 4 and 5 are also supported but you ' +\n",
       "              'have to enable WebSockets in about:config.');\n",
       "    };\n",
       "}\n",
       "\n",
       "mpl.figure = function(figure_id, websocket, ondownload, parent_element) {\n",
       "    this.id = figure_id;\n",
       "\n",
       "    this.ws = websocket;\n",
       "\n",
       "    this.supports_binary = (this.ws.binaryType != undefined);\n",
       "\n",
       "    if (!this.supports_binary) {\n",
       "        var warnings = document.getElementById(\"mpl-warnings\");\n",
       "        if (warnings) {\n",
       "            warnings.style.display = 'block';\n",
       "            warnings.textContent = (\n",
       "                \"This browser does not support binary websocket messages. \" +\n",
       "                    \"Performance may be slow.\");\n",
       "        }\n",
       "    }\n",
       "\n",
       "    this.imageObj = new Image();\n",
       "\n",
       "    this.context = undefined;\n",
       "    this.message = undefined;\n",
       "    this.canvas = undefined;\n",
       "    this.rubberband_canvas = undefined;\n",
       "    this.rubberband_context = undefined;\n",
       "    this.format_dropdown = undefined;\n",
       "\n",
       "    this.image_mode = 'full';\n",
       "\n",
       "    this.root = $('<div/>');\n",
       "    this._root_extra_style(this.root)\n",
       "    this.root.attr('style', 'display: inline-block');\n",
       "\n",
       "    $(parent_element).append(this.root);\n",
       "\n",
       "    this._init_header(this);\n",
       "    this._init_canvas(this);\n",
       "    this._init_toolbar(this);\n",
       "\n",
       "    var fig = this;\n",
       "\n",
       "    this.waiting = false;\n",
       "\n",
       "    this.ws.onopen =  function () {\n",
       "            fig.send_message(\"supports_binary\", {value: fig.supports_binary});\n",
       "            fig.send_message(\"send_image_mode\", {});\n",
       "            if (mpl.ratio != 1) {\n",
       "                fig.send_message(\"set_dpi_ratio\", {'dpi_ratio': mpl.ratio});\n",
       "            }\n",
       "            fig.send_message(\"refresh\", {});\n",
       "        }\n",
       "\n",
       "    this.imageObj.onload = function() {\n",
       "            if (fig.image_mode == 'full') {\n",
       "                // Full images could contain transparency (where diff images\n",
       "                // almost always do), so we need to clear the canvas so that\n",
       "                // there is no ghosting.\n",
       "                fig.context.clearRect(0, 0, fig.canvas.width, fig.canvas.height);\n",
       "            }\n",
       "            fig.context.drawImage(fig.imageObj, 0, 0);\n",
       "        };\n",
       "\n",
       "    this.imageObj.onunload = function() {\n",
       "        fig.ws.close();\n",
       "    }\n",
       "\n",
       "    this.ws.onmessage = this._make_on_message_function(this);\n",
       "\n",
       "    this.ondownload = ondownload;\n",
       "}\n",
       "\n",
       "mpl.figure.prototype._init_header = function() {\n",
       "    var titlebar = $(\n",
       "        '<div class=\"ui-dialog-titlebar ui-widget-header ui-corner-all ' +\n",
       "        'ui-helper-clearfix\"/>');\n",
       "    var titletext = $(\n",
       "        '<div class=\"ui-dialog-title\" style=\"width: 100%; ' +\n",
       "        'text-align: center; padding: 3px;\"/>');\n",
       "    titlebar.append(titletext)\n",
       "    this.root.append(titlebar);\n",
       "    this.header = titletext[0];\n",
       "}\n",
       "\n",
       "\n",
       "\n",
       "mpl.figure.prototype._canvas_extra_style = function(canvas_div) {\n",
       "\n",
       "}\n",
       "\n",
       "\n",
       "mpl.figure.prototype._root_extra_style = function(canvas_div) {\n",
       "\n",
       "}\n",
       "\n",
       "mpl.figure.prototype._init_canvas = function() {\n",
       "    var fig = this;\n",
       "\n",
       "    var canvas_div = $('<div/>');\n",
       "\n",
       "    canvas_div.attr('style', 'position: relative; clear: both; outline: 0');\n",
       "\n",
       "    function canvas_keyboard_event(event) {\n",
       "        return fig.key_event(event, event['data']);\n",
       "    }\n",
       "\n",
       "    canvas_div.keydown('key_press', canvas_keyboard_event);\n",
       "    canvas_div.keyup('key_release', canvas_keyboard_event);\n",
       "    this.canvas_div = canvas_div\n",
       "    this._canvas_extra_style(canvas_div)\n",
       "    this.root.append(canvas_div);\n",
       "\n",
       "    var canvas = $('<canvas/>');\n",
       "    canvas.addClass('mpl-canvas');\n",
       "    canvas.attr('style', \"left: 0; top: 0; z-index: 0; outline: 0\")\n",
       "\n",
       "    this.canvas = canvas[0];\n",
       "    this.context = canvas[0].getContext(\"2d\");\n",
       "\n",
       "    var backingStore = this.context.backingStorePixelRatio ||\n",
       "\tthis.context.webkitBackingStorePixelRatio ||\n",
       "\tthis.context.mozBackingStorePixelRatio ||\n",
       "\tthis.context.msBackingStorePixelRatio ||\n",
       "\tthis.context.oBackingStorePixelRatio ||\n",
       "\tthis.context.backingStorePixelRatio || 1;\n",
       "\n",
       "    mpl.ratio = (window.devicePixelRatio || 1) / backingStore;\n",
       "\n",
       "    var rubberband = $('<canvas/>');\n",
       "    rubberband.attr('style', \"position: absolute; left: 0; top: 0; z-index: 1;\")\n",
       "\n",
       "    var pass_mouse_events = true;\n",
       "\n",
       "    canvas_div.resizable({\n",
       "        start: function(event, ui) {\n",
       "            pass_mouse_events = false;\n",
       "        },\n",
       "        resize: function(event, ui) {\n",
       "            fig.request_resize(ui.size.width, ui.size.height);\n",
       "        },\n",
       "        stop: function(event, ui) {\n",
       "            pass_mouse_events = true;\n",
       "            fig.request_resize(ui.size.width, ui.size.height);\n",
       "        },\n",
       "    });\n",
       "\n",
       "    function mouse_event_fn(event) {\n",
       "        if (pass_mouse_events)\n",
       "            return fig.mouse_event(event, event['data']);\n",
       "    }\n",
       "\n",
       "    rubberband.mousedown('button_press', mouse_event_fn);\n",
       "    rubberband.mouseup('button_release', mouse_event_fn);\n",
       "    // Throttle sequential mouse events to 1 every 20ms.\n",
       "    rubberband.mousemove('motion_notify', mouse_event_fn);\n",
       "\n",
       "    rubberband.mouseenter('figure_enter', mouse_event_fn);\n",
       "    rubberband.mouseleave('figure_leave', mouse_event_fn);\n",
       "\n",
       "    canvas_div.on(\"wheel\", function (event) {\n",
       "        event = event.originalEvent;\n",
       "        event['data'] = 'scroll'\n",
       "        if (event.deltaY < 0) {\n",
       "            event.step = 1;\n",
       "        } else {\n",
       "            event.step = -1;\n",
       "        }\n",
       "        mouse_event_fn(event);\n",
       "    });\n",
       "\n",
       "    canvas_div.append(canvas);\n",
       "    canvas_div.append(rubberband);\n",
       "\n",
       "    this.rubberband = rubberband;\n",
       "    this.rubberband_canvas = rubberband[0];\n",
       "    this.rubberband_context = rubberband[0].getContext(\"2d\");\n",
       "    this.rubberband_context.strokeStyle = \"#000000\";\n",
       "\n",
       "    this._resize_canvas = function(width, height) {\n",
       "        // Keep the size of the canvas, canvas container, and rubber band\n",
       "        // canvas in synch.\n",
       "        canvas_div.css('width', width)\n",
       "        canvas_div.css('height', height)\n",
       "\n",
       "        canvas.attr('width', width * mpl.ratio);\n",
       "        canvas.attr('height', height * mpl.ratio);\n",
       "        canvas.attr('style', 'width: ' + width + 'px; height: ' + height + 'px;');\n",
       "\n",
       "        rubberband.attr('width', width);\n",
       "        rubberband.attr('height', height);\n",
       "    }\n",
       "\n",
       "    // Set the figure to an initial 600x600px, this will subsequently be updated\n",
       "    // upon first draw.\n",
       "    this._resize_canvas(600, 600);\n",
       "\n",
       "    // Disable right mouse context menu.\n",
       "    $(this.rubberband_canvas).bind(\"contextmenu\",function(e){\n",
       "        return false;\n",
       "    });\n",
       "\n",
       "    function set_focus () {\n",
       "        canvas.focus();\n",
       "        canvas_div.focus();\n",
       "    }\n",
       "\n",
       "    window.setTimeout(set_focus, 100);\n",
       "}\n",
       "\n",
       "mpl.figure.prototype._init_toolbar = function() {\n",
       "    var fig = this;\n",
       "\n",
       "    var nav_element = $('<div/>')\n",
       "    nav_element.attr('style', 'width: 100%');\n",
       "    this.root.append(nav_element);\n",
       "\n",
       "    // Define a callback function for later on.\n",
       "    function toolbar_event(event) {\n",
       "        return fig.toolbar_button_onclick(event['data']);\n",
       "    }\n",
       "    function toolbar_mouse_event(event) {\n",
       "        return fig.toolbar_button_onmouseover(event['data']);\n",
       "    }\n",
       "\n",
       "    for(var toolbar_ind in mpl.toolbar_items) {\n",
       "        var name = mpl.toolbar_items[toolbar_ind][0];\n",
       "        var tooltip = mpl.toolbar_items[toolbar_ind][1];\n",
       "        var image = mpl.toolbar_items[toolbar_ind][2];\n",
       "        var method_name = mpl.toolbar_items[toolbar_ind][3];\n",
       "\n",
       "        if (!name) {\n",
       "            // put a spacer in here.\n",
       "            continue;\n",
       "        }\n",
       "        var button = $('<button/>');\n",
       "        button.addClass('ui-button ui-widget ui-state-default ui-corner-all ' +\n",
       "                        'ui-button-icon-only');\n",
       "        button.attr('role', 'button');\n",
       "        button.attr('aria-disabled', 'false');\n",
       "        button.click(method_name, toolbar_event);\n",
       "        button.mouseover(tooltip, toolbar_mouse_event);\n",
       "\n",
       "        var icon_img = $('<span/>');\n",
       "        icon_img.addClass('ui-button-icon-primary ui-icon');\n",
       "        icon_img.addClass(image);\n",
       "        icon_img.addClass('ui-corner-all');\n",
       "\n",
       "        var tooltip_span = $('<span/>');\n",
       "        tooltip_span.addClass('ui-button-text');\n",
       "        tooltip_span.html(tooltip);\n",
       "\n",
       "        button.append(icon_img);\n",
       "        button.append(tooltip_span);\n",
       "\n",
       "        nav_element.append(button);\n",
       "    }\n",
       "\n",
       "    var fmt_picker_span = $('<span/>');\n",
       "\n",
       "    var fmt_picker = $('<select/>');\n",
       "    fmt_picker.addClass('mpl-toolbar-option ui-widget ui-widget-content');\n",
       "    fmt_picker_span.append(fmt_picker);\n",
       "    nav_element.append(fmt_picker_span);\n",
       "    this.format_dropdown = fmt_picker[0];\n",
       "\n",
       "    for (var ind in mpl.extensions) {\n",
       "        var fmt = mpl.extensions[ind];\n",
       "        var option = $(\n",
       "            '<option/>', {selected: fmt === mpl.default_extension}).html(fmt);\n",
       "        fmt_picker.append(option)\n",
       "    }\n",
       "\n",
       "    // Add hover states to the ui-buttons\n",
       "    $( \".ui-button\" ).hover(\n",
       "        function() { $(this).addClass(\"ui-state-hover\");},\n",
       "        function() { $(this).removeClass(\"ui-state-hover\");}\n",
       "    );\n",
       "\n",
       "    var status_bar = $('<span class=\"mpl-message\"/>');\n",
       "    nav_element.append(status_bar);\n",
       "    this.message = status_bar[0];\n",
       "}\n",
       "\n",
       "mpl.figure.prototype.request_resize = function(x_pixels, y_pixels) {\n",
       "    // Request matplotlib to resize the figure. Matplotlib will then trigger a resize in the client,\n",
       "    // which will in turn request a refresh of the image.\n",
       "    this.send_message('resize', {'width': x_pixels, 'height': y_pixels});\n",
       "}\n",
       "\n",
       "mpl.figure.prototype.send_message = function(type, properties) {\n",
       "    properties['type'] = type;\n",
       "    properties['figure_id'] = this.id;\n",
       "    this.ws.send(JSON.stringify(properties));\n",
       "}\n",
       "\n",
       "mpl.figure.prototype.send_draw_message = function() {\n",
       "    if (!this.waiting) {\n",
       "        this.waiting = true;\n",
       "        this.ws.send(JSON.stringify({type: \"draw\", figure_id: this.id}));\n",
       "    }\n",
       "}\n",
       "\n",
       "\n",
       "mpl.figure.prototype.handle_save = function(fig, msg) {\n",
       "    var format_dropdown = fig.format_dropdown;\n",
       "    var format = format_dropdown.options[format_dropdown.selectedIndex].value;\n",
       "    fig.ondownload(fig, format);\n",
       "}\n",
       "\n",
       "\n",
       "mpl.figure.prototype.handle_resize = function(fig, msg) {\n",
       "    var size = msg['size'];\n",
       "    if (size[0] != fig.canvas.width || size[1] != fig.canvas.height) {\n",
       "        fig._resize_canvas(size[0], size[1]);\n",
       "        fig.send_message(\"refresh\", {});\n",
       "    };\n",
       "}\n",
       "\n",
       "mpl.figure.prototype.handle_rubberband = function(fig, msg) {\n",
       "    var x0 = msg['x0'] / mpl.ratio;\n",
       "    var y0 = (fig.canvas.height - msg['y0']) / mpl.ratio;\n",
       "    var x1 = msg['x1'] / mpl.ratio;\n",
       "    var y1 = (fig.canvas.height - msg['y1']) / mpl.ratio;\n",
       "    x0 = Math.floor(x0) + 0.5;\n",
       "    y0 = Math.floor(y0) + 0.5;\n",
       "    x1 = Math.floor(x1) + 0.5;\n",
       "    y1 = Math.floor(y1) + 0.5;\n",
       "    var min_x = Math.min(x0, x1);\n",
       "    var min_y = Math.min(y0, y1);\n",
       "    var width = Math.abs(x1 - x0);\n",
       "    var height = Math.abs(y1 - y0);\n",
       "\n",
       "    fig.rubberband_context.clearRect(\n",
       "        0, 0, fig.canvas.width, fig.canvas.height);\n",
       "\n",
       "    fig.rubberband_context.strokeRect(min_x, min_y, width, height);\n",
       "}\n",
       "\n",
       "mpl.figure.prototype.handle_figure_label = function(fig, msg) {\n",
       "    // Updates the figure title.\n",
       "    fig.header.textContent = msg['label'];\n",
       "}\n",
       "\n",
       "mpl.figure.prototype.handle_cursor = function(fig, msg) {\n",
       "    var cursor = msg['cursor'];\n",
       "    switch(cursor)\n",
       "    {\n",
       "    case 0:\n",
       "        cursor = 'pointer';\n",
       "        break;\n",
       "    case 1:\n",
       "        cursor = 'default';\n",
       "        break;\n",
       "    case 2:\n",
       "        cursor = 'crosshair';\n",
       "        break;\n",
       "    case 3:\n",
       "        cursor = 'move';\n",
       "        break;\n",
       "    }\n",
       "    fig.rubberband_canvas.style.cursor = cursor;\n",
       "}\n",
       "\n",
       "mpl.figure.prototype.handle_message = function(fig, msg) {\n",
       "    fig.message.textContent = msg['message'];\n",
       "}\n",
       "\n",
       "mpl.figure.prototype.handle_draw = function(fig, msg) {\n",
       "    // Request the server to send over a new figure.\n",
       "    fig.send_draw_message();\n",
       "}\n",
       "\n",
       "mpl.figure.prototype.handle_image_mode = function(fig, msg) {\n",
       "    fig.image_mode = msg['mode'];\n",
       "}\n",
       "\n",
       "mpl.figure.prototype.updated_canvas_event = function() {\n",
       "    // Called whenever the canvas gets updated.\n",
       "    this.send_message(\"ack\", {});\n",
       "}\n",
       "\n",
       "// A function to construct a web socket function for onmessage handling.\n",
       "// Called in the figure constructor.\n",
       "mpl.figure.prototype._make_on_message_function = function(fig) {\n",
       "    return function socket_on_message(evt) {\n",
       "        if (evt.data instanceof Blob) {\n",
       "            /* FIXME: We get \"Resource interpreted as Image but\n",
       "             * transferred with MIME type text/plain:\" errors on\n",
       "             * Chrome.  But how to set the MIME type?  It doesn't seem\n",
       "             * to be part of the websocket stream */\n",
       "            evt.data.type = \"image/png\";\n",
       "\n",
       "            /* Free the memory for the previous frames */\n",
       "            if (fig.imageObj.src) {\n",
       "                (window.URL || window.webkitURL).revokeObjectURL(\n",
       "                    fig.imageObj.src);\n",
       "            }\n",
       "\n",
       "            fig.imageObj.src = (window.URL || window.webkitURL).createObjectURL(\n",
       "                evt.data);\n",
       "            fig.updated_canvas_event();\n",
       "            fig.waiting = false;\n",
       "            return;\n",
       "        }\n",
       "        else if (typeof evt.data === 'string' && evt.data.slice(0, 21) == \"data:image/png;base64\") {\n",
       "            fig.imageObj.src = evt.data;\n",
       "            fig.updated_canvas_event();\n",
       "            fig.waiting = false;\n",
       "            return;\n",
       "        }\n",
       "\n",
       "        var msg = JSON.parse(evt.data);\n",
       "        var msg_type = msg['type'];\n",
       "\n",
       "        // Call the  \"handle_{type}\" callback, which takes\n",
       "        // the figure and JSON message as its only arguments.\n",
       "        try {\n",
       "            var callback = fig[\"handle_\" + msg_type];\n",
       "        } catch (e) {\n",
       "            console.log(\"No handler for the '\" + msg_type + \"' message type: \", msg);\n",
       "            return;\n",
       "        }\n",
       "\n",
       "        if (callback) {\n",
       "            try {\n",
       "                // console.log(\"Handling '\" + msg_type + \"' message: \", msg);\n",
       "                callback(fig, msg);\n",
       "            } catch (e) {\n",
       "                console.log(\"Exception inside the 'handler_\" + msg_type + \"' callback:\", e, e.stack, msg);\n",
       "            }\n",
       "        }\n",
       "    };\n",
       "}\n",
       "\n",
       "// from http://stackoverflow.com/questions/1114465/getting-mouse-location-in-canvas\n",
       "mpl.findpos = function(e) {\n",
       "    //this section is from http://www.quirksmode.org/js/events_properties.html\n",
       "    var targ;\n",
       "    if (!e)\n",
       "        e = window.event;\n",
       "    if (e.target)\n",
       "        targ = e.target;\n",
       "    else if (e.srcElement)\n",
       "        targ = e.srcElement;\n",
       "    if (targ.nodeType == 3) // defeat Safari bug\n",
       "        targ = targ.parentNode;\n",
       "\n",
       "    // jQuery normalizes the pageX and pageY\n",
       "    // pageX,Y are the mouse positions relative to the document\n",
       "    // offset() returns the position of the element relative to the document\n",
       "    var x = e.pageX - $(targ).offset().left;\n",
       "    var y = e.pageY - $(targ).offset().top;\n",
       "\n",
       "    return {\"x\": x, \"y\": y};\n",
       "};\n",
       "\n",
       "/*\n",
       " * return a copy of an object with only non-object keys\n",
       " * we need this to avoid circular references\n",
       " * http://stackoverflow.com/a/24161582/3208463\n",
       " */\n",
       "function simpleKeys (original) {\n",
       "  return Object.keys(original).reduce(function (obj, key) {\n",
       "    if (typeof original[key] !== 'object')\n",
       "        obj[key] = original[key]\n",
       "    return obj;\n",
       "  }, {});\n",
       "}\n",
       "\n",
       "mpl.figure.prototype.mouse_event = function(event, name) {\n",
       "    var canvas_pos = mpl.findpos(event)\n",
       "\n",
       "    if (name === 'button_press')\n",
       "    {\n",
       "        this.canvas.focus();\n",
       "        this.canvas_div.focus();\n",
       "    }\n",
       "\n",
       "    var x = canvas_pos.x * mpl.ratio;\n",
       "    var y = canvas_pos.y * mpl.ratio;\n",
       "\n",
       "    this.send_message(name, {x: x, y: y, button: event.button,\n",
       "                             step: event.step,\n",
       "                             guiEvent: simpleKeys(event)});\n",
       "\n",
       "    /* This prevents the web browser from automatically changing to\n",
       "     * the text insertion cursor when the button is pressed.  We want\n",
       "     * to control all of the cursor setting manually through the\n",
       "     * 'cursor' event from matplotlib */\n",
       "    event.preventDefault();\n",
       "    return false;\n",
       "}\n",
       "\n",
       "mpl.figure.prototype._key_event_extra = function(event, name) {\n",
       "    // Handle any extra behaviour associated with a key event\n",
       "}\n",
       "\n",
       "mpl.figure.prototype.key_event = function(event, name) {\n",
       "\n",
       "    // Prevent repeat events\n",
       "    if (name == 'key_press')\n",
       "    {\n",
       "        if (event.which === this._key)\n",
       "            return;\n",
       "        else\n",
       "            this._key = event.which;\n",
       "    }\n",
       "    if (name == 'key_release')\n",
       "        this._key = null;\n",
       "\n",
       "    var value = '';\n",
       "    if (event.ctrlKey && event.which != 17)\n",
       "        value += \"ctrl+\";\n",
       "    if (event.altKey && event.which != 18)\n",
       "        value += \"alt+\";\n",
       "    if (event.shiftKey && event.which != 16)\n",
       "        value += \"shift+\";\n",
       "\n",
       "    value += 'k';\n",
       "    value += event.which.toString();\n",
       "\n",
       "    this._key_event_extra(event, name);\n",
       "\n",
       "    this.send_message(name, {key: value,\n",
       "                             guiEvent: simpleKeys(event)});\n",
       "    return false;\n",
       "}\n",
       "\n",
       "mpl.figure.prototype.toolbar_button_onclick = function(name) {\n",
       "    if (name == 'download') {\n",
       "        this.handle_save(this, null);\n",
       "    } else {\n",
       "        this.send_message(\"toolbar_button\", {name: name});\n",
       "    }\n",
       "};\n",
       "\n",
       "mpl.figure.prototype.toolbar_button_onmouseover = function(tooltip) {\n",
       "    this.message.textContent = tooltip;\n",
       "};\n",
       "mpl.toolbar_items = [[\"Home\", \"Reset original view\", \"fa fa-home icon-home\", \"home\"], [\"Back\", \"Back to  previous view\", \"fa fa-arrow-left icon-arrow-left\", \"back\"], [\"Forward\", \"Forward to next view\", \"fa fa-arrow-right icon-arrow-right\", \"forward\"], [\"\", \"\", \"\", \"\"], [\"Pan\", \"Pan axes with left mouse, zoom with right\", \"fa fa-arrows icon-move\", \"pan\"], [\"Zoom\", \"Zoom to rectangle\", \"fa fa-square-o icon-check-empty\", \"zoom\"], [\"\", \"\", \"\", \"\"], [\"Download\", \"Download plot\", \"fa fa-floppy-o icon-save\", \"download\"]];\n",
       "\n",
       "mpl.extensions = [\"eps\", \"jpeg\", \"pdf\", \"png\", \"ps\", \"raw\", \"svg\", \"tif\"];\n",
       "\n",
       "mpl.default_extension = \"png\";var comm_websocket_adapter = function(comm) {\n",
       "    // Create a \"websocket\"-like object which calls the given IPython comm\n",
       "    // object with the appropriate methods. Currently this is a non binary\n",
       "    // socket, so there is still some room for performance tuning.\n",
       "    var ws = {};\n",
       "\n",
       "    ws.close = function() {\n",
       "        comm.close()\n",
       "    };\n",
       "    ws.send = function(m) {\n",
       "        //console.log('sending', m);\n",
       "        comm.send(m);\n",
       "    };\n",
       "    // Register the callback with on_msg.\n",
       "    comm.on_msg(function(msg) {\n",
       "        //console.log('receiving', msg['content']['data'], msg);\n",
       "        // Pass the mpl event to the overridden (by mpl) onmessage function.\n",
       "        ws.onmessage(msg['content']['data'])\n",
       "    });\n",
       "    return ws;\n",
       "}\n",
       "\n",
       "mpl.mpl_figure_comm = function(comm, msg) {\n",
       "    // This is the function which gets called when the mpl process\n",
       "    // starts-up an IPython Comm through the \"matplotlib\" channel.\n",
       "\n",
       "    var id = msg.content.data.id;\n",
       "    // Get hold of the div created by the display call when the Comm\n",
       "    // socket was opened in Python.\n",
       "    var element = $(\"#\" + id);\n",
       "    var ws_proxy = comm_websocket_adapter(comm)\n",
       "\n",
       "    function ondownload(figure, format) {\n",
       "        window.open(figure.imageObj.src);\n",
       "    }\n",
       "\n",
       "    var fig = new mpl.figure(id, ws_proxy,\n",
       "                           ondownload,\n",
       "                           element.get(0));\n",
       "\n",
       "    // Call onopen now - mpl needs it, as it is assuming we've passed it a real\n",
       "    // web socket which is closed, not our websocket->open comm proxy.\n",
       "    ws_proxy.onopen();\n",
       "\n",
       "    fig.parent_element = element.get(0);\n",
       "    fig.cell_info = mpl.find_output_cell(\"<div id='\" + id + \"'></div>\");\n",
       "    if (!fig.cell_info) {\n",
       "        console.error(\"Failed to find cell for figure\", id, fig);\n",
       "        return;\n",
       "    }\n",
       "\n",
       "    var output_index = fig.cell_info[2]\n",
       "    var cell = fig.cell_info[0];\n",
       "\n",
       "};\n",
       "\n",
       "mpl.figure.prototype.handle_close = function(fig, msg) {\n",
       "    var width = fig.canvas.width/mpl.ratio\n",
       "    fig.root.unbind('remove')\n",
       "\n",
       "    // Update the output cell to use the data from the current canvas.\n",
       "    fig.push_to_output();\n",
       "    var dataURL = fig.canvas.toDataURL();\n",
       "    // Re-enable the keyboard manager in IPython - without this line, in FF,\n",
       "    // the notebook keyboard shortcuts fail.\n",
       "    IPython.keyboard_manager.enable()\n",
       "    $(fig.parent_element).html('<img src=\"' + dataURL + '\" width=\"' + width + '\">');\n",
       "    fig.close_ws(fig, msg);\n",
       "}\n",
       "\n",
       "mpl.figure.prototype.close_ws = function(fig, msg){\n",
       "    fig.send_message('closing', msg);\n",
       "    // fig.ws.close()\n",
       "}\n",
       "\n",
       "mpl.figure.prototype.push_to_output = function(remove_interactive) {\n",
       "    // Turn the data on the canvas into data in the output cell.\n",
       "    var width = this.canvas.width/mpl.ratio\n",
       "    var dataURL = this.canvas.toDataURL();\n",
       "    this.cell_info[1]['text/html'] = '<img src=\"' + dataURL + '\" width=\"' + width + '\">';\n",
       "}\n",
       "\n",
       "mpl.figure.prototype.updated_canvas_event = function() {\n",
       "    // Tell IPython that the notebook contents must change.\n",
       "    IPython.notebook.set_dirty(true);\n",
       "    this.send_message(\"ack\", {});\n",
       "    var fig = this;\n",
       "    // Wait a second, then push the new image to the DOM so\n",
       "    // that it is saved nicely (might be nice to debounce this).\n",
       "    setTimeout(function () { fig.push_to_output() }, 1000);\n",
       "}\n",
       "\n",
       "mpl.figure.prototype._init_toolbar = function() {\n",
       "    var fig = this;\n",
       "\n",
       "    var nav_element = $('<div/>')\n",
       "    nav_element.attr('style', 'width: 100%');\n",
       "    this.root.append(nav_element);\n",
       "\n",
       "    // Define a callback function for later on.\n",
       "    function toolbar_event(event) {\n",
       "        return fig.toolbar_button_onclick(event['data']);\n",
       "    }\n",
       "    function toolbar_mouse_event(event) {\n",
       "        return fig.toolbar_button_onmouseover(event['data']);\n",
       "    }\n",
       "\n",
       "    for(var toolbar_ind in mpl.toolbar_items){\n",
       "        var name = mpl.toolbar_items[toolbar_ind][0];\n",
       "        var tooltip = mpl.toolbar_items[toolbar_ind][1];\n",
       "        var image = mpl.toolbar_items[toolbar_ind][2];\n",
       "        var method_name = mpl.toolbar_items[toolbar_ind][3];\n",
       "\n",
       "        if (!name) { continue; };\n",
       "\n",
       "        var button = $('<button class=\"btn btn-default\" href=\"#\" title=\"' + name + '\"><i class=\"fa ' + image + ' fa-lg\"></i></button>');\n",
       "        button.click(method_name, toolbar_event);\n",
       "        button.mouseover(tooltip, toolbar_mouse_event);\n",
       "        nav_element.append(button);\n",
       "    }\n",
       "\n",
       "    // Add the status bar.\n",
       "    var status_bar = $('<span class=\"mpl-message\" style=\"text-align:right; float: right;\"/>');\n",
       "    nav_element.append(status_bar);\n",
       "    this.message = status_bar[0];\n",
       "\n",
       "    // Add the close button to the window.\n",
       "    var buttongrp = $('<div class=\"btn-group inline pull-right\"></div>');\n",
       "    var button = $('<button class=\"btn btn-mini btn-primary\" href=\"#\" title=\"Stop Interaction\"><i class=\"fa fa-power-off icon-remove icon-large\"></i></button>');\n",
       "    button.click(function (evt) { fig.handle_close(fig, {}); } );\n",
       "    button.mouseover('Stop Interaction', toolbar_mouse_event);\n",
       "    buttongrp.append(button);\n",
       "    var titlebar = this.root.find($('.ui-dialog-titlebar'));\n",
       "    titlebar.prepend(buttongrp);\n",
       "}\n",
       "\n",
       "mpl.figure.prototype._root_extra_style = function(el){\n",
       "    var fig = this\n",
       "    el.on(\"remove\", function(){\n",
       "\tfig.close_ws(fig, {});\n",
       "    });\n",
       "}\n",
       "\n",
       "mpl.figure.prototype._canvas_extra_style = function(el){\n",
       "    // this is important to make the div 'focusable\n",
       "    el.attr('tabindex', 0)\n",
       "    // reach out to IPython and tell the keyboard manager to turn it's self\n",
       "    // off when our div gets focus\n",
       "\n",
       "    // location in version 3\n",
       "    if (IPython.notebook.keyboard_manager) {\n",
       "        IPython.notebook.keyboard_manager.register_events(el);\n",
       "    }\n",
       "    else {\n",
       "        // location in version 2\n",
       "        IPython.keyboard_manager.register_events(el);\n",
       "    }\n",
       "\n",
       "}\n",
       "\n",
       "mpl.figure.prototype._key_event_extra = function(event, name) {\n",
       "    var manager = IPython.notebook.keyboard_manager;\n",
       "    if (!manager)\n",
       "        manager = IPython.keyboard_manager;\n",
       "\n",
       "    // Check for shift+enter\n",
       "    if (event.shiftKey && event.which == 13) {\n",
       "        this.canvas_div.blur();\n",
       "        event.shiftKey = false;\n",
       "        // Send a \"J\" for go to next cell\n",
       "        event.which = 74;\n",
       "        event.keyCode = 74;\n",
       "        manager.command_mode();\n",
       "        manager.handle_keydown(event);\n",
       "    }\n",
       "}\n",
       "\n",
       "mpl.figure.prototype.handle_save = function(fig, msg) {\n",
       "    fig.ondownload(fig, null);\n",
       "}\n",
       "\n",
       "\n",
       "mpl.find_output_cell = function(html_output) {\n",
       "    // Return the cell and output element which can be found *uniquely* in the notebook.\n",
       "    // Note - this is a bit hacky, but it is done because the \"notebook_saving.Notebook\"\n",
       "    // IPython event is triggered only after the cells have been serialised, which for\n",
       "    // our purposes (turning an active figure into a static one), is too late.\n",
       "    var cells = IPython.notebook.get_cells();\n",
       "    var ncells = cells.length;\n",
       "    for (var i=0; i<ncells; i++) {\n",
       "        var cell = cells[i];\n",
       "        if (cell.cell_type === 'code'){\n",
       "            for (var j=0; j<cell.output_area.outputs.length; j++) {\n",
       "                var data = cell.output_area.outputs[j];\n",
       "                if (data.data) {\n",
       "                    // IPython >= 3 moved mimebundle to data attribute of output\n",
       "                    data = data.data;\n",
       "                }\n",
       "                if (data['text/html'] == html_output) {\n",
       "                    return [cell, data, j];\n",
       "                }\n",
       "            }\n",
       "        }\n",
       "    }\n",
       "}\n",
       "\n",
       "// Register the function which deals with the matplotlib target/channel.\n",
       "// The kernel may be null if the page has been refreshed.\n",
       "if (IPython.notebook.kernel != null) {\n",
       "    IPython.notebook.kernel.comm_manager.register_target('matplotlib', mpl.mpl_figure_comm);\n",
       "}\n"
      ],
      "text/plain": [
       "<IPython.core.display.Javascript object>"
      ]
     },
     "metadata": {},
     "output_type": "display_data"
    },
    {
     "data": {
      "text/html": [
       "<img src=\"data:image/png;base64,iVBORw0KGgoAAAANSUhEUgAACHAAAALQCAYAAADyoBXJAAAgAElEQVR4XuzaMREAAAwCseLfdGX8khrgLnRk5wgQIECAAAECBAgQIECAAAECBAgQIECAAAECBAgQIECAAAECBFKBpenCCRAgQIAAAQIECBAgQIAAAQIECBAgQIAAAQIECBAgQIAAAQIEzoDDExAgQIAAAQIECBAgQIAAAQIECBAgQIAAAQIECBAgQIAAAQIEYgEDjrgA8QQIECBAgAABAgQIECBAgAABAgQIECBAgAABAgQIECBAgAABAw4/QIAAAQIECBAgQIAAAQIECBAgQIAAAQIECBAgQIAAAQIECBCIBQw44gLEEyBAgAABAgQIECBAgAABAgQIECBAgAABAgQIECBAgAABAgQMOPwAAQIECBAgQIAAAQIECBAgQIAAAQIECBAgQIAAAQIECBAgQCAWMOCICxBPgAABAgQIECBAgAABAgQIECBAgAABAgQIECBAgAABAgQIEDDg8AMECBAgQIAAAQIECBAgQIAAAQIECBAgQIAAAQIECBAgQIAAgVjAgCMuQDwBAgQIECBAgAABAgQIECBAgAABAgQIECBAgAABAgQIECBAwIDDDxAgQIAAAQIECBAgQIAAAQIECBAgQIAAAQIECBAgQIAAAQIEYgEDjrgA8QQIECBAgAABAgQIECBAgAABAgQIECBAgAABAgQIECBAgAABAw4/QIAAAQIECBAgQIAAAQIECBAgQIAAAQIECBAgQIAAAQIECBCIBQw44gLEEyBAgAABAgQIECBAgAABAgQIECBAgAABAgQIECBAgAABAgQMOPwAAQIECBAgQIAAAQIECBAgQIAAAQIECBAgQIAAAQIECBAgQCAWMOCICxBPgAABAgQIECBAgAABAgQIECBAgAABAgQIECBAgAABAgQIEDDg8AMECBAgQIAAAQIECBAgQIAAAQIECBAgQIAAAQIECBAgQIAAgVjAgCMuQDwBAgQIECBAgAABAgQIECBAgAABAgQIECBAgAABAgQIECBAwIDDDxAgQIAAAQIECBAgQIAAAQIECBAgQIAAAQIECBAgQIAAAQIEYgEDjrgA8QQIECBAgAABAgQIECBAgAABAgQIECBAgAABAgQIECBAgAABAw4/QIAAAQIECBAgQIAAAQIECBAgQIAAAQIECBAgQIAAAQIECBCIBQw44gLEEyBAgAABAgQIECBAgAABAgQIECBAgAABAgQIECBAgAABAgQMOPwAAQIECBAgQIAAAQIECBAgQIAAAQIECBAgQIAAAQIECBAgQCAWMOCICxBPgAABAgQIECBAgAABAgQIECBAgAABAgQIECBAgAABAgQIEDDg8AMECBAgQIAAAQIECBAgQIAAAQIECBAgQIAAAQIECBAgQIAAgVjAgCMuQDwBAgQIECBAgAABAgQIECBAgAABAgQIECBAgAABAgQIECBAwIDDDxAgQIAAAQIECBAgQIAAAQIECBAgQIAAAQIECBAgQIAAAQIEYgEDjrgA8QQIECBAgAABAgQIECBAgAABAgQIECBAgAABAgQIECBAgAABAw4/QIAAAQIECBAgQIAAAQIECBAgQIAAAQIECBAgQIAAAQIECBCIBQw44gLEEyBAgAABAgQIECBAgAABAgQIECBAgAABAgQIECBAgAABAgQMOPwAAQIECBAgQIAAAQIECBAgQIAAAQIECBAgQIAAAQIECBAgQCAWMOCICxBPgAABAgQIECBAgAABAgQIECBAgAABAgQIECBAgAABAgQIEDDg8AMECBAgQIAAAQIECBAgQIAAAQIECBAgQIAAAQIECBAgQIAAgVjAgCMuQDwBAgQIECBAgAABAgQIECBAgAABAgQIECBAgAABAgQIECBAwIDDDxAgQIAAAQIECBAgQIAAAQIECBAgQIAAAQIECBAgQIAAAQIEYgEDjrgA8QQIECBAgAABAgQIECBAgAABAgQIECBAgAABAgQIECBAgAABAw4/QIAAAQIECBAgQIAAAQIECBAgQIAAAQIECBAgQIAAAQIECBCIBQw44gLEEyBAgAABAgQIECBAgAABAgQIECBAgAABAgQIECBAgAABAgQMOPwAAQIECBAgQIAAAQIECBAgQIAAAQIECBAgQIAAAQIECBAgQCAWMOCICxBPgAABAgQIECBAgAABAgQIECBAgAABAgQIECBAgAABAgQIEDDg8AMECBAgQIAAAQIECBAgQIAAAQIECBAgQIAAAQIECBAgQIAAgVjAgCMuQDwBAgQIECBAgAABAgQIECBAgAABAgQIECBAgAABAgQIECBAwIDDDxAgQIAAAQIECBAgQIAAAQIECBAgQIAAAQIECBAgQIAAAQIEYgEDjrgA8QQIECBAgAABAgQIECBAgAABAgQIECBAgAABAgQIECBAgAABAw4/QIAAAQIECBAgQIAAAQIECBAgQIAAAQIECBAgQIAAAQIECBCIBQw44gLEEyBAgAABAgQIECBAgAABAgQIECBAgAABAgQIECBAgAABAgQMOPwAAQIECBAgQIAAAQIECBAgQIAAAQIECBAgQIAAAQIECBAgQCAWMOCICxBPgAABAgQIECBAgAABAgQIECBAgAABAgQIECBAgAABAgQIEDDg8AMECBAgQIAAAQIECBAgQIAAAQIECBAgQIAAAQIECBAgQIAAgVjAgCMuQDwBAgQIECBAgAABAgQIECBAgAABAgQIECBAgAABAgQIECBAwIDDDxAgQIAAAQIECBAgQIAAAQIECBAgQIAAAQIECBAgQIAAAQIEYgEDjrgA8QQIECBAgAABAgQIECBAgAABAgQIECBAgAABAgQIECBAgAABAw4/QIAAAQIECBAgQIAAAQIECBAgQIAAAQIECBAgQIAAAQIECBCIBQw44gLEEyBAgAABAgQIECBAgAABAgQIECBAgAABAgQIECBAgAABAgQMOPwAAQIECBAgQIAAAQIECBAgQIAAAQIECBAgQIAAAQIECBAgQCAWMOCICxBPgAABAgQIECBAgAABAgQIECBAgAABAgQIECBAgAABAgQIEDDg8AMECBAgQIAAAQIECBAgQIAAAQIECBAgQIAAAQIECBAgQIAAgVjAgCMuQDwBAgQIECBAgAABAgQIECBAgAABAgQIECBAgAABAgQIECBAwIDDDxAgQIAAAQIECBAgQIAAAQIECBAgQIAAAQIECBAgQIAAAQIEYgEDjrgA8QQIECBAgAABAgQIECBAgAABAgQIECBAgAABAgQIECBAgAABAw4/QIAAAQIECBAgQIAAAQIECBAgQIAAAQIECBAgQIAAAQIECBCIBQw44gLEEyBAgAABAgQIECBAgAABAgQIECBAgAABAgQIECBAgAABAgQMOPwAAQIECBAgQIAAAQIECBAgQIAAAQIECBAgQIAAAQIECBAgQCAWMOCICxBPgAABAgQIECBAgAABAgQIECBAgAABAgQIECBAgAABAgQIEDDg8AMECBAgQIAAAQIECBAgQIAAAQIECBAgQIAAAQIECBAgQIAAgVjAgCMuQDwBAgQIECBAgAABAgQIECBAgAABAgQIECBAgAABAgQIECBAwIDDDxAgQIAAAQIECBAgQIAAAQIECBAgQIAAAQIECBAgQIAAAQIEYgEDjrgA8QQIECBAgAABAgQIECBAgAABAgQIECBAgAABAgQIECBAgAABAw4/QIAAAQIECBAgQIAAAQIECBAgQIAAAQIECBAgQIAAAQIECBCIBQw44gLEEyBAgAABAgQIECBAgAABAgQIECBAgAABAgQIECBAgAABAgQMOPwAAQIECBAgQIAAAQIECBAgQIAAAQIECBAgQIAAAQIECBAgQCAWMOCICxBPgAABAgQIECBAgAABAgQIECBAgAABAgQIECBAgAABAgQIEDDg8AMECBAgQIAAAQIECBAgQIAAAQIECBAgQIAAAQIECBAgQIAAgVjAgCMuQDwBAgQIECBAgAABAgQIECBAgAABAgQIECBAgAABAgQIECBAwIDDDxAgQIAAAQIECBAgQIAAAQIECBAgQIAAAQIECBAgQIAAAQIEYgEDjrgA8QQIECBAgAABAgQIECBAgAABAgQIECBAgAABAgQIECBAgAABAw4/QIAAAQIECBAgQIAAAQIECBAgQIAAAQIECBAgQIAAAQIECBCIBQw44gLEEyBAgAABAgQIECBAgAABAgQIECBAgAABAgQIECBAgAABAgQMOPwAAQIECBAgQIAAAQIECBAgQIAAAQIECBAgQIAAAQIECBAgQCAWMOCICxBPgAABAgQIECBAgAABAgQIECBAgAABAgQIECBAgAABAgQIEDDg8AMECBAgQIAAAQIECBAgQIAAAQIECBAgQIAAAQIECBAgQIAAgVjAgCMuQDwBAgQIECBAgAABAgQIECBAgAABAgQIECBAgAABAgQIECBAwIDDDxAgQIAAAQIECBAgQIAAAQIECBAgQIAAAQIECBAgQIAAAQIEYgEDjrgA8QQIECBAgAABAgQIECBAgAABAgQIECBAgAABAgQIECBAgAABAw4/QIAAAQIECBAgQIAAAQIECBAgQIAAAQIECBAgQIAAAQIECBCIBQw44gLEEyBAgAABAgQIECBAgAABAgQIECBAgAABAgQIECBAgAABAgQMOPwAAQIECBAgQIAAAQIECBAgQIAAAQIECBAgQIAAAQIECBAgQCAWMOCICxBPgAABAgQIECBAgAABAgQIECBAgAABAgQIECBAgAABAgQIEDDg8AMECBAgQIAAAQIECBAgQIAAAQIECBAgQIAAAQIECBAgQIAAgVjAgCMuQDwBAgQIECBAgAABAgQIECBAgAABAgQIECBAgAABAgQIECBAwIDDDxAgQIAAAQIECBAgQIAAAQIECBAgQIAAAQIECBAgQIAAAQIEYgEDjrgA8QQIECBAgAABAgQIECBAgAABAgQIECBAgAABAgQIECBAgAABAw4/QIAAAQIECBAgQIAAAQIECBAgQIAAAQIECBAgQIAAAQIECBCIBQw44gLEEyBAgAABAgQIECBAgAABAgQIECBAgAABAgQIECBAgAABAgQMOPwAAQIECBAgQIAAAQIECBAgQIAAAQIECBAgQIAAAQIECBAgQCAWMOCICxBPgAABAgQIECBAgAABAgQIECBAgAABAgQIECBAgAABAgQIEDDg8AMECBAgQIAAAQIECBAgQIAAAQIECBAgQIAAAQIECBAgQIAAgVjAgCMuQDwBAgQIECBAgAABAgQIECBAgAABAgQIECBAgAABAgQIECBAwIDDDxAgQIAAAQIECBAgQIAAAQIECBAgQIAAAQIECBAgQIAAAQIEYgEDjrgA8QQIECBAgAABAgQIECBAgAABAgQIECBAgAABAgQIECBAgAABAw4/QIAAAQIECBAgQIAAAQIECBAgQIAAAQIECBAgQIAAAQIECBCIBQw44gLEEyBAgAABAgQIECBAgAABAgQIECBAgAABAgQIECBAgAABAgQMOPwAAQIECBAgQIAAAQIECBAgQIAAAQIECBAgQIAAAQIECBAgQCAWMOCICxBPgAABAgQIECBAgAABAgQIECBAgAABAgQIECBAgAABAgQIEDDg8AMECBAgQIAAAQIECBAgQIAAAQIECBAgQIAAAQIECBAgQIAAgVjAgCMuQDwBAgQIECBAgAABAgQIECBAgAABAgQIECBAgAABAgQIECBAwIDDDxAgQIAAAQIECBAgQIAAAQIECBAgQIAAAQIECBAgQIAAAQIEYgEDjrgA8QQIECBAgAABAgQIECBAgAABAgQIECBAgAABAgQIECBAgAABAw4/QIAAAQIECBAgQIAAAQIECBAgQIAAAQIECBAgQIAAAQIECBCIBQw44gLEEyBAgAABAgQIECBAgAABAgQIECBAgAABAgQIECBAgAABAgQMOPwAAQIECBAgQIAAAQIECBAgQIAAAQIECBAgQIAAAQIECBAgQCAWMOCICxBPgAABAgQIECBAgAABAgQIECBAgAABAgQIECBAgAABAgQIEDDg8AMECBAgQIAAAQIECBAgQIAAAQIECBAgQIAAAQIECBAgQIAAgVjAgCMuQDwBAgQIECBAgAABAgQIECBAgAABAgQIECBAgAABAgQIECBAwIDDDxAgQIAAAQIECBAgQIAAAQIECBAgQIAAAQIECBAgQIAAAQIEYgEDjrgA8QQIECBAgAABAgQIECBAgAABAgQIECBAgAABAgQIECBAgAABAw4/QIAAAQIECBAgQIAAAQIECBAgQIAAAQIECBAgQIAAAQIECBCIBQw44gLEEyBAgAABAgQIECBAgAABAgQIECBAgAABAgQIECBAgAABAgQMOPwAAQIECBAgQIAAAQIECBAgQIAAAQIECBAgQIAAAQIECBAgQCAWMOCICxBPgAABAgQIECBAgAABAgQIECBAgAABAgQIECBAgAABAgQIEDDg8AMECBAgQIAAAQIECBAgQIAAAQIECBAgQIAAAQIECBAgQIAAgVjAgCMuQDwBAgQIECBAgAABAgQIECBAgAABAgQIECBAgAABAgQIECBAwIDDDxAgQIAAAQIECBAgQIAAAQIECBAgQIAAAQIECBAgQIAAAQIEYgEDjrgA8QQIECBAgAABAgQIECBAgAABAgQIECBAgAABAgQIECBAgAABAw4/QIAAAQIECBAgQIAAAQIECBAgQIAAAQIECBAgQIAAAQIECBCIBQw44gLEEyBAgAABAgQIECBAgAABAgQIECBAgAABAgQIECBAgAABAgQMOPwAAQIECBAgQIAAAQIECBAgQIAAAQIECBAgQIAAAQIECBAgQCAWMOCICxBPgAABAgQIECBAgAABAgQIECBAgAABAgQIECBAgAABAgQIEDDg8AMECBAgQIAAAQIECBAgQIAAAQIECBAgQIAAAQIECBAgQIAAgVjAgCMuQDwBAgQIECBAgAABAgQIECBAgAABAgQIECBAgAABAgQIECBAwIDDDxAgQIAAAQIECBAgQIAAAQIECBAgQIAAAQIECBAgQIAAAQIEYgEDjrgA8QQIECBAgAABAgQIECBAgAABAgQIECBAgAABAgQIECBAgAABAw4/QIAAAQIECBAgQIAAAQIECBAgQIAAAQIECBAgQIAAAQIECBCIBQw44gLEEyBAgAABAgQIECBAgAABAgQIECBAgAABAgQIECBAgAABAgQMOPwAAQIECBAgQIAAAQIECBAgQIAAAQIECBAgQIAAAQIECBAgQCAWMOCICxBPgAABAgQIECBAgAABAgQIECBAgAABAgQIECBAgAABAgQIEDDg8AMECBAgQIAAAQIECBAgQIAAAQIECBAgQIAAAQIECBAgQIAAgVjAgCMuQDwBAgQIECBAgAABAgQIECBAgAABAgQIECBAgAABAgQIECBAwIDDDxAgQIAAAQIECBAgQIAAAQIECBAgQIAAAQIECBAgQIAAAQIEYgEDjrgA8QQIECBAgAABAgQIECBAgAABAgQIECBAgAABAgQIECBAgAABAw4/QIAAAQIECBAgQIAAAQIECBAgQIAAAQIECBAgQIAAAQIECBCIBQw44gLEEyBAgAABAgQIECBAgAABAgQIECBAgAABAgQIECBAgAABAgQMOPwAAQIECBAgQIAAAQIECBAgQIAAAQIECBAgQIAAAQIECBAgQCAWMOCICxBPgAABAgQIECBAgAABAgQIECBAgAABAgQIECBAgAABAgQIEDDg8AMECBAgQIAAAQIECBAgQIAAAQIECBAgQIAAAQIECBAgQIAAgVjAgCMuQDwBAgQIECBAgAABAgQIECBAgAABAgQIECBAgAABAgQIECBAwIDDDxAgQIAAAQIECBAgQIAAAQIECBAgQIAAAQIECBAgQIAAAQIEYgEDjrgA8QQIECBAgAABAgQIECBAgAABAgQIECBAgAABAgQIECBAgAABAw4/QIAAAQIECBAgQIAAAQIECBAgQIAAAQIECBAgQIAAAQIECBCIBQw44gLEEyBAgAABAgQIECBAgAABAgQIECBAgAABAgQIECBAgAABAgQMOPwAAQIECBAgQIAAAQIECBAgQIAAAQIECBAgQIAAAQIECBAgQCAWMOCICxBPgAABAgQIECBAgAABAgQIECBAgAABAgQIECBAgAABAgQIEDDg8AMECBAgQIAAAQIECBAgQIAAAQIECBAgQIAAAQIECBAgQIAAgVjAgCMuQDwBAgQIECBAgAABAgQIECBAgAABAgQIECBAgAABAgQIECBAwIDDDxAgQIAAAQIECBAgQIAAAQIECBAgQIAAAQIECBAgQIAAAQIEYgEDjrgA8QQIECBAgAABAgQIECBAgAABAgQIECBAgAABAgQIECBAgAABAw4/QIAAAQIECBAgQIAAAQIECBAgQIAAAQIECBAgQIAAAQIECBCIBQw44gLEEyBAgAABAgQIECBAgAABAgQIECBAgAABAgQIECBAgAABAgQMOPwAAQIECBAgQIAAAQIECBAgQIAAAQIECBAgQIAAAQIECBAgQCAWMOCICxBPgAABAgQIECBAgAABAgQIECBAgAABAgQIECBAgAABAgQIEDDg8AMECBAgQIAAAQIECBAgQIAAAQIECBAgQIAAAQIECBAgQIAAgVjAgCMuQDwBAgQIECBAgAABAgQIECBAgAABAgQIECBAgAABAgQIECBAwIDDDxAgQIAAAQIECBAgQIAAAQIECBAgQIAAAQIECBAgQIAAAQIEYgEDjrgA8QQIECBAgAABAgQIECBAgAABAgQIECBAgAABAgQIECBAgAABAw4/QIAAAQIECBAgQIAAAQIECBAgQIAAAQIECBAgQIAAAQIECBCIBQw44gLEEyBAgAABAgQIECBAgAABAgQIECBAgAABAgQIECBAgAABAgQMOPwAAQIECBAgQIAAAQIECBAgQIAAAQIECBAgQIAAAQIECBAgQCAWMOCICxBPgAABAgQIECBAgAABAgQIECBAgAABAgQIECBAgAABAgQIEDDg8AMECBAgQIAAAQIECBAgQIAAAQIECBAgQIAAAQIECBAgQIAAgVjAgCMuQDwBAgQIECBAgAABAgQIECBAgAABAgQIECBAgAABAgQIECBAwIDDDxAgQIAAAQIECBAgQIAAAQIECBAgQIAAAQIECBAgQIAAAQIEYgEDjrgA8QQIECBAgAABAgQIECBAgAABAgQIECBAgAABAgQIECBAgAABAw4/QIAAAQIECBAgQIAAAQIECBAgQIAAAQIECBAgQIAAAQIECBCIBQw44gLEEyBAgAABAgQIECBAgAABAgQIECBAgAABAgQIECBAgAABAgQMOPwAAQIECBAgQIAAAQIECBAgQIAAAQIECBAgQIAAAQIECBAgQCAWMOCICxBPgAABAgQIECBAgAABAgQIECBAgAABAgQIECBAgAABAgQIEDDg8AMECBAgQIAAAQIECBAgQIAAAQIECBAgQIAAAQIECBAgQIAAgVjAgCMuQDwBAgQIECBAgAABAgQIECBAgAABAgQIECBAgAABAgQIECBAwIDDDxAgQIAAAQIECBAgQIAAAQIECBAgQIAAAQIECBAgQIAAAQIEYgEDjrgA8QQIECBAgAABAgQIECBAgAABAgQIECBAgAABAgQIECBAgAABAw4/QIAAAQIECBAgQIAAAQIECBAgQIAAAQIECBAgQIAAAQIECBCIBQw44gLEEyBAgAABAgQIECBAgAABAgQIECBAgAABAgQIECBAgAABAgQMOPwAAQIECBAgQIAAAQIECBAgQIAAAQIECBAgQIAAAQIECBAgQCAWMOCICxBPgAABAgQIECBAgAABAgQIECBAgAABAgQIECBAgAABAgQIEDDg8AMECBAgQIAAAQIECBAgQIAAAQIECBAgQIAAAQIECBAgQIAAgVjAgCMuQDwBAgQIECBAgAABAgQIECBAgAABAgQIECBAgAABAgQIECBAwIDDDxAgQIAAAQIECBAgQIAAAQIECBAgQIAAAQIECBAgQIAAAQIEYgEDjrgA8QQIECBAgAABAgQIECBAgAABAgQIECBAgAABAgQIECBAgAABAw4/QIAAAQIECBAgQIAAAQIECBAgQIAAAQIECBAgQIAAAQIECBCIBQw44gLEEyBAgAABAgQIECBAgAABAgQIECBAgAABAgQIECBAgAABAgQMOPwAAQIECBAgQIAAAQIECBAgQIAAAQIECBAgQIAAAQIECBAgQCAWMOCICxBPgAABAgQIECBAgAABAgQIECBAgAABAgQIECBAgAABAgQIEDDg8AMECBAgQIAAAQIECBAgQIAAAQIECBAgQIAAAQIECBAgQIAAgVjAgCMuQDwBAgQIECBAgAABAgQIECBAgAABAgQIECBAgAABAgQIECBAwIDDDxAgQIAAAQIECBAgQIAAAQIECBAgQIAAAQIECBAgQIAAAQIEYgEDjrgA8QQIECBAgAABAgQIECBAgAABAgQIECBAgAABAgQIECBAgAABAw4/QIAAAQIECBAgQIAAAQIECBAgQIAAAQIECBAgQIAAAQIECBCIBQw44gLEEyBAgAABAgQIECBAgAABAgQIECBAgAABAgQIECBAgAABAgQMOPwAAQIECBAgQIAAAQIECBAgQIAAAQIECBAgQIAAAQIECBAgQCAWMOCICxBPgAABAgQIECBAgAABAgQIECBAgAABAgQIECBAgAABAgQIEDDg8AMECBAgQIAAAQIECBAgQIAAAQIECBAgQIAAAQIECBAgQIAAgVjAgCMuQDwBAgQIECBAgAABAgQIECBAgAABAgQIECBAgAABAgQIECBAwIDDDxAgQIAAAQIECBAgQIAAAQIECBAgQIAAAQIECBAgQIAAAQIEYgEDjrgA8QQIECBAgAABAgQIECBAgAABAgQIEMxed2EAACAASURBVCBAgAABAgQIECBAgAABAw4/QIAAAQIECBAgQIAAAQIECBAgQIAAAQIECBAgQIAAAQIECBCIBQw44gLEEyBAgAABAgQIECBAgAABAgQIECBAgAABAgQIECBAgAABAgQMOPwAAQIECBAgQIAAAQIECBAgQIAAAQIECBAgQIAAAQIECBAgQCAWMOCICxBPgAABAgQIECBAgAABAgQIECBAgAABAgQIECBAgAABAgQIEDDg8AMECBAgQIAAAQIECBAgQIAAAQIECBAgQIAAAQIECBAgQIAAgVjAgCMuQDwBAgQIECBAgAABAgQIECBAgAABAgQIECBAgAABAgQIECBAwIDDDxAgQIAAAQIECBAgQIAAAQIECBAgQIAAAQIECBAgQIAAAQIEYgEDjrgA8QQIECBAgAABAgQIECBAgAABAgQIECBAgAABAgQIECBAgAABAw4/QIAAAQIECBAgQIAAAQIECBAgQIAAAQIECBAgQIAAAQIECBCIBQw44gLEEyBAgAABAgQIECBAgAABAgQIECBAgAABAgQIECBAgAABAgQMOPwAAQIECBAgQIAAAQIECBAgQIAAAQIECBAgQIAAAQIECBAgQCAWMOCICxBPgAABAgQIECBAgAABAgQIECBAgAABAgQIECBAgAABAgQIEDDg8AMECBAgQIAAAQIECBAgQIAAAQIECBAgQIAAAQIECBAgQIAAgVjAgCMuQDwBAgQIECBAgAABAgQIECBAgAABAgQIECBAgAABAgQIECBAwIDDDxAgQIAAAQIECBAgQIAAAQIECBAgQIAAAQIECBAgQIAAAQIEYgEDjrgA8QQIECBAgAABAgQIECBAgAABAgQIECBAgAABAgQIECBAgAABAw4/QIAAAQIECBAgQIAAAQIECBAgQIAAAQIECBAgQIAAAQIECBCIBQw44gLEEyBAgAABAgQIECBAgAABAgQIECBAgAABAgQIECBAgAABAgQMOPwAAQIECBAgQIAAAQIECBAgQIAAAQIECBAgQIAAAQIECBAgQCAWMOCICxBPgAABAgQIECBAgAABAgQIECBAgAABAgQIECBAgAABAgQIEDDg8AMECBAgQIAAAQIECBAgQIAAAQIECBAgQIAAAQIECBAgQIAAgVjAgCMuQDwBAgQIECBAgAABAgQIECBAgAABAgQIECBAgAABAgQIECBAwIDDDxAgQIAAAQIECBAgQIAAAQIECBAgQIAAAQIECBAgQIAAAQIEYgEDjrgA8QQIECBAgAABAgQIECBAgAABAgQIECBAgAABAgQIECBAgAABAw4/QIAAAQIECBAgQIAAAQIECBAgQIAAAQIECBAgQIAAAQIECBCIBQw44gLEEyBAgAABAgQIECBAgAABAgQIECBAgAABAgQIECBAgAABAgQMOPwAAQIECBAgQIAAAQIECBAgQIAAAQIECBAgQIAAAQIECBAgQCAWMOCICxBPgAABAgQIECBAgAABAgQIECBAgAABAgQIECBAgAABAgQIEDDg8AMECBAgQIAAAQIECBAgQIAAAQIECBAgQIAAAQIECBAgQIAAgVjAgCMuQDwBAgQIECBAgAABAgQIECBAgAABAgQIECBAgAABAgQIECBAwIDDDxAgQIAAAQIECBAgQIAAAQIECBAgQIAAAQIECBAgQIAAAQIEYgEDjrgA8QQIECBAgAABAgQIECBAgAABAgQIECBAgAABAgQIECBAgAABAw4/QIAAAQIECBAgQIAAAQIECBAgQIAAAQIECBAgQIAAAQIECBCIBQw44gLEEyBAgAABAgQIECBAgAABAgQIECBAgAABAgQIECBAgAABAgQMOPwAAQIECBAgQIAAAQIECBAgQIAAAQIECBAgQIAAAQIECBAgQCAWMOCICxBPgAABAgQIECBAgAABAgQIECBAgAABAgQIECBAgAABAgQIEDDg8AMECBAgQIAAAQIECBAgQIAAAQIECBAgQIAAAQIECBAgQIAAgVjAgCMuQDwBAgQIECBAgAABAgQIECBAgAABAgQIECBAgAABAgQIECBAwIDDDxAgQIAAAQIECBAgQIAAAQIECBAgQIAAAQIECBAgQIAAAQIEYgEDjrgA8QQIECBAgAABAgQIECBAgAABAgQIECBAgAABAgQIECBAgAABAw4/QIAAAQIECBAgQIAAAQIECBAgQIAAAQIECBAgQIAAAQIECBCIBQw44gLEEyBAgAABAgQIECBAgAABAgQIECBAgAABAgQIECBAgAABAgQMOPwAAQIECBAgQIAAAQIECBAgQIAAAQIECBAgQIAAAQIECBAgQCAWMOCICxBPgAABAgQIECBAgAABAgQIECBAgAABAgQIECBAgAABAgQIEDDg8AMECBAgQIAAAQIECBAgQIAAAQIECBAgQIAAAQIECBAgQIAAgVjAgCMuQDwBAgQIECBAgAABAgQIECBAgAABAgQIECBAgAABAgQIECBAwIDDDxAgQIAAAQIECBAgQIAAAQIECBAgQIAAAQIECBAgQIAAAQIEYgEDjrgA8QQIECBAgAABAgQIECBAgAABAgQIECBAgAABAgQIECBAgAABAw4/QIAAAQIECBAgQIAAAQIECBAgQIAAAQIECBAgQIAAAQIECBCIBQw44gLEEyBAgAABAgQIECBAgAABAgQIECBAgAABAgQIECBAgAABAgQMOPwAAQIECBAgQIAAAQIECBAgQIAAAQIECBAgQIAAAQIECBAgQCAWMOCICxBPgAABAgQIECBAgAABAgQIECBAgAABAgQIECBAgAABAgQIEDDg8AMECBAgQIAAAQIECBAgQIAAAQIECBAgQIAAAQIECBAgQIAAgVjAgCMuQDwBAgQIECBAgAABAgQIECBAgAABAgQIECBAgAABAgQIECBAwIDDDxAgQIAAAQIECBAgQIAAAQIECBAgQIAAAQIECBAgQIAAAQIEYgEDjrgA8QQIECBAgAABAgQIECBAgAABAgQIECBAgAABAgQIECBAgAABAw4/QIAAAQIECBAgQIAAAQIECBAgQIAAAQIECBAgQIAAAQIECBCIBQw44gLEEyBAgAABAgQIECBAgAABAgQIECBAgAABAgQIECBAgAABAgQMOPwAAQIECBAgQIAAAQIECBAgQIAAAQIECBAgQIAAAQIECBAgQCAWMOCICxBPgAABAgQIECBAgAABAgQIECBAgAABAgQIECBAgAABAgQIEDDg8AMECBAgQIAAAQIECBAgQIAAAQIECBAgQIAAAQIECBAgQIAAgVjAgCMuQDwBAgQIECBAgAABAgQIECBAgAABAgQIECBAgAABAgQIECBAwIDDDxAgQIAAAQIECBAgQIAAAQIECBAgQIAAAQIECBAgQIAAAQIEYgEDjrgA8QQIECBAgAABAgQIECBAgAABAgQIECBAgAABAgQIECBAgAABAw4/QIAAAQIECBAgQIAAAQIECBAgQIAAAQIECBAgQIAAAQIECBCIBQw44gLEEyBAgAABAgQIECBAgAABAgQIECBAgAABAgQIECBAgAABAgQMOPwAAQIECBAgQIAAAQIECBAgQIAAAQIECBAgQIAAAQIECBAgQCAWMOCICxBPgAABAgQIECBAgAABAgQIECBAgAABAgQIECBAgAABAgQIEDDg8AMECBAgQIAAAQIECBAgQIAAAQIECBAgQIAAAQIECBAgQIAAgVjAgCMuQDwBAgQIECBAgAABAgQIECBAgAABAgQIECBAgAABAgQIECBAwIDDDxAgQIAAAQIECBAgQIAAAQIECBAgQIAAAQIECBAgQIAAAQIEYgEDjrgA8QQIECBAgAABAgQIECBAgAABAgQIECBAgAABAgQIECBAgAABAw4/QIAAAQIECBAgQIAAAQIECBAgQIAAAQIECBAgQIAAAQIECBCIBQw44gLEEyBAgAABAgQIECBAgAABAgQIECBAgAABAgQIECBAgAABAgQMOPwAAQIECBAgQIAAAQIECBAgQIAAAQIECBAgQIAAAQIECBAgQCAWMOCICxBPgAABAgQIECBAgAABAgQIECBAgAABAgQIECBAgAABAgQIEDDg8AMECBAgQIAAAQIECBAgQIAAAQIECBAgQIAAAQIECBAgQIAAgVjAgCMuQDwBAgQIECBAgAABAgQIECBAgAABAgQIECBAgAABAgQIECBAwIDDDxAgQIAAAQIECBAgQIAAAQIECBAgQIAAAQIECBAgQIAAAQIEYgEDjrgA8QQIECBAgAABAgQIECBAgAABAgQIECBAgAABAgQIECBAgAABAw4/QIAAAQIECBAgQIAAAQIECBAgQIAAAQIECBAgQIAAAQIECBCIBQw44gLEEyBAgAABAgQIECBAgAABAgQIECBAgAABAgQIECBAgAABAgQMOPwAAQIECBAgQIAAAQIECBAgQIAAAQIECBAgQIAAAQIECBAgQCAWMOCICxBPgAABAgQIECBAgAABAgQIECBAgAABAgQIECBAgAABAgQIEDDg8AMECBAgQIAAAQIECBAgQIAAAQIECBAgQIAAAQIECBAgQIAAgVjAgCMuQDwBAgQIECBAgAABAgQIECBAgAABAgQIECBAgAABAgQIECBAwIDDDxAgQIAAAQIECBAgQIAAAQIECBAgQIAAAQIECBAgQIAAAQIEYgEDjrgA8QQIECBAgAABAgQIECBAgAABAgQIECBAgAABAgQIECBAgAABAw4/QIAAAQIECBAgQIAAAQIECBAgQIAAAQIECBAgQIAAAQIECBCIBQw44gLEEyBAgAABAgQIECBAgAABAgQIECBAgAABAgQIECBAgAABAgQMOPwAAQIECBAgQIAAAQIECBAgQIAAAQIECBAgQIAAAQIECBAgQCAWMOCICxBPgAABAgQIECBAgAABAgQIECBAgAABAgQIECBAgAABAgQIEDDg8AMECBAgQIAAAQIECBAgQIAAAQIECBAgQIAAAQIECBAgQIAAgVjAgCMuQDwBAgQIECBAgAABAgQIECBAgAABAgQIECBAgAABAgQIECBAwIDDDxAgQIAAAQIECBAgQIAAAQIECBAgQIAAAQIECBAgQIAAAQIEYgEDjrgA8QQIECBAgAABAgQIECBAgAABAgQIECBAgAABAgQIECBAgAABAw4/QIAAAQIECBAgQIAAAQIECBAgQIAAAQIECBAgQIAAAQIECBCIBQw44gLEEyBAgAABAgQIECBAgAABAgQIECBAgAABAgQIECBAgAABAgQMOPwAAQIECBAgQIAAAQIECBAgQIAAAQIECBAgQIAAAQIECBAgQCAWMOCICxBPgAABAgQIECBAgAABAgQIECBAgAABAgQIECBAgAABAgQIEDDg8AMECBAgQIAAAQIECBAgQIAAAQIECBAgQIAAAQIECBAgQIAAgVjAgCMuQDwBAgQIECBAgAABAgQIECBAgAABAgQIECBAgAABAgQIECBAwIDDDxAgQIAAAQIECBAgQIAAAQIECBAgQIAAAQIECBAgQIAAAQIEYgEDjrgA8QQIECBAgAABAgQIECBAgAABAgQIECBAgAABAgQIECBAgAABAw4/QIAAAQIECBAgQIAAAQIECBAgQIAAAQIECBAgQIAAAQIECBCIBQw44gLEEyBAgAABAgQIECBAgAABAgQIECBAgAABAgQIECBAgAABAgQMOPwAAQIECBAgQIAAAQIECBAgQIAAAQIECBAgQIAAAQIECBAgQCAWMOCICxBPgAABAgQIECBAgAABAgQIECBAgAABAgQIECBAgAABAgQIEDDg8AMECBAgQIAAAQIECBAgQIAAAQIECBAgQIAAAQIECBAgQIAAgVjAgCMuQDwBAgQIECBAgAABAgQIECBAgAABAgQIECBAgAABAgQIECBAwIDDDxAgQIAAAQIECBAgQIAAAQIECBAgQIAAAQIECBAgQIAAAQIEYgEDjrgA8QQIECBAgAABAgQIECBAgAABAgQIECBAgAABAgQIECBAgAABAw4/QIAAAQIECBAgQIAAAQIECBAgQIAAAQIECBAgQIAAAQIECBCIBQw44gLEEyBAgAABAgQIECBAgAABAgQIECBAgAABAgQIECBAgAABAgQMOPwAAQIECBAgQIAAAQIECBAgQIAAAQIECBAgQIAAAQIECBAgQCAWMOCICxBPgAABAgQIECBAgAABAgQIECBAgAABAgQIECBAgAABAgQIEDDg8AMECBAgQIAAAQIECBAgQIAAAQIECBAgQIAAAQIECBAgQIAAgVjAgCMuQDwBAgQIECBAgAABAgQIECBAgAABAgQIECBAgAABAgQIECBAwIDDDxAgQIAAAQIECBAgQIAAAQIECBAgQIAAAQIECBAgQIAAAQIEYgEDjrgA8QQIECBAgAABAgQIECBAgAABAgQIECBAgAABAgQIECBAgAABAw4/QIAAAQIECBAgQIAAAQIECBAgQIAAAQIECBAgQIAAAQIECBCIBQw44gLEEyBAgAABAgQIECBAgAABAgQIECBAgAABAgQIECBAgAABAgQMOPwAAQIECBAgQIAAAQIECBAgQIAAAQIECBAgQIAAAQIECBAgQCAWMOCICxBPgAABAgQIECBAgAABAgQIECBAgAABAgQIECBAgAABAgQIEDDg8AMECBAgQIAAAQIECBAgQIAAAQIECBAgQIAAAQIECBAgQIAAgVjAgCMuQDwBAgQIECBAgAABAgQIECBAgAABAgQIECBAgAABAgQIECBAwIDDDxAgQIAAAQIECBAgQIAAAQIECBAgQIAAAQIECBAgQIAAAQIEYgEDjrgA8QQIECBAgAABAgQIECBAgAABAgQIECBAgAABAgQIECBAgAABAw4/QIAAAQIECBAgQIAAAQIECBAgQIAAAQIECBAgQIAAAQIECBCIBQw44gLEEyBAgAABAgQIECBAgAABAgQIECBAgAABAgQIECBAgAABAgQMOPwAAQIECBAgQIAAAQIECBAgQIAAAQIECBAgQIAAAQIECBAgQCAWMOCICxBPgAABAgQIECBAgAABAgQIECBAgAABAgQIECBAgAABAgQIEDDg8AMECBAgQIAAAQIECBAgQIAAAQIECBAgQIAAAQIECBAgQIAAgVjAgCMuQDwBAgQIECBAgAABAgQIECBAgAABAgQIECBAgAABAgQIECBAwIDDDxAgQIAAAQIECBAgQIAAAQIECBAgQIAAAQIECBAgQIAAAQIEYgEDjrgA8QQIECBAgAABAgQIECBAgAABAgQIECBAgAABAgQIECBAgAABAw4/QIAAAQIECBAgQIAAAQIECBAgQIAAAQIECBAgQIAAAQIECBCIBQw44gLEEyBAgAABAgQIECBAgAABAgQIECBAgAABAgQIECBAgAABAgQMOPwAAQIECBAgQIAAAQIECBAgQIAAAQIECBAgQIAAAQIECBAgQCAWMOCICxBPgAABAgQIECBAgAABAgQIECBAgAABAgQIECBAgAABAgQIEDDg8AMECBAgQIAAAQIECBAgQIAAAQIECBAgQIAAAQIECBAgQIAAgVjAgCMuQDwBAgQIECBAgAABAgQIECBAgAABAgQIECBAgAABAgQIECBAwIDDDxAgQIAAAQIECBAgQIAAAQIECBAgQIAAAQIECBAgQIAAAQIEYgEDjrgA8QQIECBAgAABAgQIECBAgAABAgQIECBAgAABAgQIECBAgAABAw4/QIAAAQIECBAgQIAAAQIECBAgQIAAAQIECBAgQIAAAQIECBCIBQw44gLEEyBAgAABAgQIECBAgAABAgQIECBAgAABAgQIECBAgAABAgQMOPwAAQIECBAgQIAAAQIECBAgQIAAAQIECBAgQIAAAQIECBAgQCAWMOCICxBPgAABAgQIECBAgAABAgQIECBAgAABAgQIECBAgAABAgQIEDDg8AMECBAgQIAAAQIECBAgQIAAAQIECBAgQIAAAQIECBAgQIAAgVjAgCMuQDwBAgQIECBAgAABAgQIECBAgAABAgQIECBAgAABAgQIECBAwIDDDxAgQIAAAQIECBAgQIAAAQIECBAgQIAAAQIECBAgQIAAAQIEYgEDjrgA8QQIECBAgAABAgQIECBAgAABAgQIECBAgAABAgQIECBAgAABAw4/QIAAAQIECBAgQIAAAQIECBAgQIAAAQIECBAgQIAAAQIECBCIBQw44gLEEyBAgAABAgQIECBAgAABAgQIECBAgAABAgQIECBAgAABAgQMOPwAAQIECBAgQIAAAQIECBAgQIAAAQIECBAgQIAAAQIECBAgQCAWMOCICxBPgAABAgQIECBAgAABAgQIECBAgAABAgQIECBAgAABAgQIEDDg8AMECBAgQIAAAQIECBAgQIAAAQIECBAgQIAAAQIECBAgQIAAgVjAgCMuQDwBAgQIECBAgAABAgQIECBAgAABAgQIECBAgAABAgQIECBAwIDDDxAgQIAAAQIECBAgQIAAAQIECBAgQIAAAQIECBAgQIAAAQIEYgEDjrgA8QQIECBAgAABAgQIECBAgAABAgQIECBAgAABAgQIECBAgAABAw4/QIAAAQIECBAgQIAAAQIECBAgQIAAAQIECBAgQIAAAQIECBCIBQw44gLEEyBAgAABAgQIECBAgAABAgQIECBAgAABAgQIECBAgAABAgQMOPwAAQIECBAgQIAAAQIECBAgQIAAAQIECBAgQIAAAQIECBAgQCAWMOCICxBPgAABAgQIECBAgAABAgQIECBAgAABAgQIECBAgAABAgQIEDDg8AMECBAgQIAAAQIECBAgQIAAAQIECBAgQIAAAQIECBAgQIAAgVjAgCMuQDwBAgQIECBAgAABAgQIECBAgAABAgQIECBAgAABAgQIECBAwIDDDxAgQIAAAQIECBAgQIAAAQIECBAgQIAAAQIECBAgQIAAAQIEYgEDjrgA8QQIECBAgAABAgQIECBAgAABAgQIECBAgAABAgQIECBAgAABAw4/QIAAAQIECBAgQIAAAQIECBAgQIAAAQIECBAgQIAAAQIECBCIBQw44gLEEyBAgAABAgQIECBAgAABAgQIECBAgAABAgQIECBAgAABAgQMOPwAAQIECBAgQIAAAQIECBAgQIAAAQIECBAgQIAAAQIECBAgQCAWMOCICxBPgAABAgQIECBAgAABAgQIECBAgAABAgQIECBAgAABAgQIEDDg8AMECBAgQIAAAQIECBAgQIAAAQIECBAgQIAAAQIECBAgQIAAgVjAgCMuQDwBAgQIECBAgAABAgQIECBAgAABAgQIECBAgAABAgQIECBAwIDDDxAgQIAAAQIECBAgQIAAAQIECBAgQIAAAQIECBAgQIAAAQIEYgEDjrgA8QQIECBAgAABAgQIECBAgAABAgQIECBAgAABAgQIECBAgAABAw4/QIAAAQIECBAgQIAAAQIECBAgQIAAAQIECBAgQIAAAQIECBCIBQw44gLEEyBAgAABAgQIECBAgAABAgQIECBAgAABAgQIECBAgAABAgQMOPwAAQIECBAgQIAAAQIECBAgQIAAAQIECBAgQIAAAQIECBAgQCAWMOCICxBPgAABAgQIECBAgAABAgQIECBAgAABAgQIECBAgAABAgQIEDDg8AMECBAgQIAAAQIECBAgQIAAAQIECBAgQIAAAQIECBAgQIAAgVjAgCMuQDwBAgQIECBAgAABAgQIECBAgAABAgQIECBAgAABAgQIECBAwIDDDxAgQIAAAQIECBAgQIAAAQIECBAgQIAAAQIECBAgQIAAAQIEYgEDjrgA8QQIECBAgAABAgQIECBAgAABAgQIECBAgAABAgQIECBAgAABAw4/QIAAAQIECBAgQIAAAQIECBAgQIAAAQIECBAgQIAAAQIECBCIBQw44gLEEyBAgAABAgQIECBAgAABAgQIECBAgAABAgQIECBAgAABAgQMOPwAAQIECBAgQIAAAQIECBAgQIAAAQIECBAgQIAAAQIECBAgQCAWMOCICxBPgAABAgQIECBAgAABAgQIECBAgAABAgQIECBAgAABAgQIEDDg8AMECBAgQIAAAQIECBAgQIAAAQIECBAgQIAAAQIECBAgQIAAgVjAgCMuQDwBAgQIECBAgAABAgQIECBAgAABAgQIECBAgAABAgQIECBAwIDDDxAgQIAAAQIECBAgQIAAAQIECBAgQIAAAQIECBAgQIAAAQIEYgEDjrgA8QQIECBAgAABAgQIECBAgAABAgQIECBAgAABAgQIECBAgAABAw4/QIAAAQIECBAgQIAAAQIECBAgQIAAAQIECBAgQIAAAQIECBCIBQw44gLEEyBAgAABAgQIECBAgAABAgQIECBAgAABAgQIECBAgAABAgQMOPwAAQIECBAgQIAAAQIECBAgQIAAAQIECBAgQIAAAQIECBAgQCAWMOCICxBPgAABAgQIECBAgAABAgQIECBAgAABAgQIECBAgAABAgQIEDDg8AMECBAgQIAAAQIECBAgQIAAAQIECBAgQIAAAQIECBAgQIAAgVjAgCMuQDwBAgQIECBAgAABAgQIECBAgAABAgQIECBAgAABAgQIECBAwIDDDxAgQIAAAQIECBAgQIAAAQIECBAgQIAAAQIECBAgQIAAAQIEYgEDjrgA8QQIECBAgAABAgQIECBAgAABAgQIECBAgAABAgQIECBAgAABAw4/QIAAAQIECBAgQIAAAQIECBAgQIAAAQIECBAgQIAAAQIECBCIBQw44gLEEyBAgAABAgQIECBAgAABAgQIECBAgAABAgQIECBAgAABAgQMOPwAAQIECBAgQIAAAQIECBAgQIAAAQIECBAgQIAAAQIECBAgQCAWMOCICxBPgAABAgQIECBAgAABAgQIECBAgAABAgQIECBAXtbCRQAAIABJREFUgAABAgQIEDDg8AMECBAgQIAAAQIECBAgQIAAAQIECBAgQIAAAQIECBAgQIAAgVjAgCMuQDwBAgQIECBAgAABAgQIECBAgAABAgQIECBAgAABAgQIECBAwIDDDxAgQIAAAQIECBAgQIAAAQIECBAgQIAAAQIECBAgQIAAAQIEYgEDjrgA8QQIECBAgAABAgQIECBAgAABAgQIECBAgAABAgQIECBAgAABAw4/QIAAAQIECBAgQIAAAQIECBAgQIAAAQIECBAgQIAAAQIECBCIBQw44gLEEyBAgAABAgQIECBAgAABAgQIECBAgAABAgQIECBAgAABAgQMOPwAAQIECBAgQIAAAQIECBAgQIAAAQIECBAgQIAAAQIECBAgQCAWMOCICxBPgAABAgQIECBAgAABAgQIECBAgAABAgQIECBAgAABAgQIEDDg8AMECBAgQIAAAQIECBAgQIAAAQIECBAgQIAAAQIECBAgQIAAgVjAgCMuQDwBAgQIECBAgAABAgQIECBAgAABAgQIECBAgAABAgQIECBAwIDDDxAgQIAAAQIECBAgQIAAAQIECBAgQIAAAQIECBAgQIAAAQIEYgEDjrgA8QQIECBAgAABAgQIECBAgAABAgQIECBAgAABAgQIECBAgAABAw4/QIAAAQIECBAgQIAAAQIECBAgQIAAAQIECBAgQIAAAQIECBCIBQw44gLEEyBAgAABAgQIECBAgAABAgQIECBAgAABAgQIECBAgAABAgQMOPwAAQIECBAgQIAAAQIECBAgQIAAAQIECBAgQIAAAQIECBAgQCAWMOCICxBPgAABAgQIECBAgAABAgQIECBAgAABAgQIECBAgAABAgQIEDDg8AMECBAgQIAAAQIECBAgQIAAAQIECBAgQIAAAQIECBAgQIAAgVjAgCMuQDwBAgQIECBAgAABAgQIECBAgAABAgQIECBAgAABAgQIECBAwIDDDxAgQIAAAQIECBAgQIAAAQIECBAgQIAAAQIECBAgQIAAAQIEYgEDjrgA8QQIECBAgAABAgQIECBAgAABAgQIECBAgAABAgQIECBAgAABAw4/QIAAAQIECBAgQIAAAQIECBAgQIAAAQIECBAgQIAAAQIECBCIBQw44gLEEyBAgAABAgQIECBAgAABAgQIECBAgAABAgQIECBAgAABAgQMOPwAAQIECBAgQIAAAQIECBAgQIAAAQIECBAgQIAAAQIECBAgQCAWMOCICxBPgAABAgQIECBAgAABAgQIECBAgAABAgQIECBAgAABAgQIEDDg8AMECBAgQIAAAQIECBAgQIAAAQIECBAgQIAAAQIECBAgQIAAgVjAgCMuQDwBAgQIECBAgAABAgQIECBAgAABAgQIECBAgAABAgQIECBAwIDDDxAgQIAAAQIECBAgQIAAAQIECBAgQIAAAQIECBAgQIAAAQIEYgEDjrgA8QQIECBAgAABAgQIECBAgAABAgQIECBAgAABAgQIECBAgAABAw4/QIAAAQIECBAgQIAAAQIECBAgQIAAAQIECBAgQIAAAQIECBCIBQw44gLEEyBAgAABAgQIECBAgAABAgQIECBAgAABAgQIECBAgAABAgQMOPwAAQIECBAgQIAAAQIECBAgQIAAAQIECBAgQIAAAQIECBAgQCAWMOCICxBPgAABAgQIECBAgAABAgQIECBAgAABAgQIECBAgAABAgQIEDDg8AMECBAgQIAAAQIECBAgQIAAAQIECBAgQIAAAQIECBAgQIAAgVjAgCMuQDwBAgQIECBAgAABAgQIECBAgAABAgQIECBAgAABAgQIECBAwIDDDxAgQIAAAQIECBAgQIAAAQIECBAgQIAAAQIECBAgQIAAAQIEYgEDjrgA8QQIECBAgAABAgQIECBAgAABAgQIECBAgAABAgQIECBAgAABAw4/QIAAAQIECBAgQIAAAQIECBAgQIAAAQIECBAgQIAAAQIECBCIBQw44gLEEyBAgAABAgQIECBAgAABAgQIECBAgAABAgQIECBAgAABAgQMOPwAAQIECBAgQIAAAQIECBAgQIAAAQIECBAgQIAAAQIECBAgQCAWMOCICxBPgAABAgQIECBAgAABAgQIECBAgAABAgQIECBAgAABAgQIEDDg8AMECBAgQIAAAQIECBAgQIAAAQIECBAgQIAAAQIECBAgQIAAgVjAgCMuQDwBAgQIECBAgAABAgQIECBAgAABAgQIECBAgAABAgQIECBAwIDDDxAgQIAAAQIECBAgQIAAAQIECBAgQIAAAQIECBAgQIAAAQIEYgEDjrgA8QQIECBAgAABAgQIECBAgAABAgQIECBAgAABAgQIECBAgAABAw4/QIAAAQIECBAgQIAAAQIECBAgQIAAAQIECBAgQIAAAQIECBCIBQw44gLEEyBAgAABAgQIECBAgAABAgQIECBAgAABAgQIECBAgAABAgQMOPwAAQIECBAgQIAAAQIECBAgQIAAAQIECBAgQIAAAQIECBAgQCAWMOCICxBPgAABAgQIECBAgAABAgQIECBAgAABAgQIECBAgAABAgQIEDDg8AMECBAgQIAAAQIECBAgQIAAAQIECBAgQIAAAQIECBAgQIAAgVjAgCMuQDwBAgQIECBAgAABAgQIECBAgAABAgQIECBAgAABAgQIECBAwIDDDxAgQIAAAQIECBAgQIAAAQIECBAgQIAAAQIECBAgQIAAAQIEYgEDjrgA8QQIECBAgAABAgQIECBAgAABAgQIECBAgAABAgQIECBAgAABAw4/QIAAAQIECBAgQIAAAQIECBAgQIAAAQIECBAgQIAAAQIECBCIBQw44gLEEyBAgAABAgQIECBAgAABAgQIECBAgAABAgQIECBAgAABAgQMOPwAAQIECBAgQIAAAQIECBAgQIAAAQIECBAgQIAAAQIECBAgQCAWMOCICxBPgAABAgQIECBAgAABAgQIECBAgAABAgQIECBAgAABAgQIEDDg8AMECBAgQIAAAQIECBAgQIAAAQIECBAgQIAAAQIECBAgQIAAgVjAgCMuQDwBAgQIECBAgAABAgQIECBAgAABAgQIECBAgAABAgQIECBAwIDDDxAgQIAAAQIECBAgQIAAAQIECBAgQIAAAQIECBAgQIAAAQIEYgEDjrgA8QQIECBAgAABAgQIECBAgAABAgQIECBAgAABAgQIECBAgAABAw4/QIAAAQIECBAgQIAAAQIECBAgQIAAAQIECBAgQIAAAQIECBCIBQw44gLEEyBAgAABAgQIECBAgAABAgQIECBAgAABAgQIECBAgAABAgQMOPwAAQIECBAgQIAAAQIECBAgQIAAAQIECBAgQIAAAQIECBAgQCAWMOCICxBPgAABAgQIECBAgAABAgQIECBAgAABAgQIECBAgAABAgQIEDDg8AMECBAgQIAAAQIECBAgQIAAAQIECBAgQIAAAQIECBAgQIAAgVjAgCMuQDwBAgQIECBAgAABAgQIECBAgAABAgQIECBAgAABAgQIECBAwIDDDxAgQIAAAQIECBAgQIAAAQIECBAgQIAAAQIECBAgQIAAAQIEYgEDjrgA8QQIECBAgAABAgQIECBAgAABAgQIECBAgAABAgQIECBAgAABAw4/QIAAAQIECBAgQIAAAQIECBAgQIAAAQIECBAgQIAAAQIECBCIBQw44gLEEyBAgAABAgQIECBAgAABAgQIECBAgAABAgQIECBAgAABAgQMOPwAAQIECBAgQIAAAQIECBAgQIAAAQIECBAgQIAAAQIECBAgQCAWMOCICxBPgAABAgQIECBAgAABAgQIECBAgAABAgQIECBAgAABAgQIEDDg8AMECBAgQIAAAQIECBAgQIAAAQIECBAgQIAAAQIECBAgQIAAgVjAgCMuQDwBAgQIECBAgAABAgQIECBAgAABAgQIECDw7doxDQAAAMIw/64nY08VkBROCBAgQIAAAQIECDhw2AABAgQIECBAgAABAgQIECBAgAABAgQIECBAgAABAgQIECBAYBZw4JgLEE+AAAECBAgQIECAAAECBAgQIECAAAECBAgQIECAAAECBAgQcOCwAQIECBAgQIAAAQIECBAgQIAAAQIECBAgQIAAAQIECBAgQIDALODAMRcgngABAgQIECBAgAABAgQIECBAgAABAgQIECBAgAABAgQIECDgwGEDBAgQIECAAAECBAgQIECAAAECBAgQIECAAAECBAgQIECAAIFZwIFjLkA8AQIECBAgQIAAAQIECBAgQIAAAQIECBAgQIAAAQIECBAgQMCBwwYIECBAgAABAgQIECBAgAABAgQIECBAgAABAgQIECBAgAABArOAA8dcgHgCBAgQIECAAAECBAgQIECAAAECBAgQIECAAAECBAgQIECAgAOHDRAgQIAAAQIECBAgQIAAAQIECBAgQIAAAQIECBAgQIAAAQIEZgEHjrkA8QQIECBAgAABAgQIECBAgAABAgQIECBAgAABAgQIECBAgAABBw4bIECAAAECBAgQIECAAAECBAgQIECAAAECBAgQIECAAAECBAjMAg4ccwHiCRAgQIAAAQIECBAgQIAAAQIECBAgQIAAAQIECBAgQIAAAQIOHDZAgAABAgQIECBAgAABAgQIECBAgAABAgQIECBAgAABAgQIEJgFHDjmAsQTIECAAAECBAgQIECAAAECBAgQIECAAAECBAgQIECAAAECBBw4bIAAAQIECBAgQIAAAQIECBAgQIAAAQIECBAgQIAAAQIECBAgMAs4cMwFiCdAgAABAgQIECBAgAABAgQIECBAgAABAgQIECBAgAABAgQIOHDYAAECBAgQIECAAAECBAgQIECAAAECBAgQIECAAAECBAgQIEBgFnDgmAsQT4AAAQIECBAgQIAAAQIECBAgQIAAAQIECBAgQIAAAQIECBBw4LABAgQIECBAgAABAgQIECBAgAABAgQIECBAgAABAgQIECBAgMAs4MAxFyCeAAECBAgQIECAAAECBAgQIECAAAECBAgQIECAAAECBAgQIODAYQMECBAgQIAAAQIECBAgQIAAAQIECBAgQIAAAQIECBAgQIAAgVnAgWMuQDwBAgQIECBAgAABAgQIECBAgAABAgQIECBAgAABAgQIECBAwIHDBggQIECAAAECBAgQIECAAAECBAgQIECAAAECBAgQIECAAAECs4ADx1yAeAIECBAgQIAAAQIECBAgQIAAAQIECBAgQIAAAQIECBAgQICAA4cNECBAgAABAgQIECBAgAABAgQIECBAgAABAgQIECBAgAABAgRmAQeOuQDxBAgQIECAAAECBAgQIECAAAECBAgQIECAAAECBAgQIECAAAEHDhsgQIAAAQIECBAgQIAAAQIECBAgQIAAAQIECBAgQIAAAQIECMwCDhxzAeIJECBAgAABAgQIECBAgAABAgQIECBAgAABAgQIECBAgAABAg4cNkCAAAECBAgQIECAAAECBAgQIECAAAECBAgQIECAAAECBAgQmAUcOOYCxBMgQIAAAQIECBAgQIAAAQIECBAgQIAAAQIECBAgQIAAAQIEHDhsgAABAgQIECBAgAABAgQIECBAgAABAgQIECBAgAABAgQIECAwCzhwzAWIJ0CAAAECBAgQIECAAAECBAgQIECAAAECBAgQIECAAAECBAg4cNgAAQIECBAgQIAAAQIECBAgQIAAAQIECBAgQIAAAQIECBAgQGAWcOCYCxBPgAABAgQIECBAgAABAgQIECBAgAABAgQIECBAgAABAgQIEHDgsAECBAgQIECAAAECBAgQIECAAAECBAgQIECAAAECBAgQIECAwCzgwDEXIJ4AAQIECBAgQIAAAQIECBAgQIAAAQIECBAgQIAAAQIECBAg4MBhAwQIECBAgAABAgQIECBAgAABAgQIECBAgAABAgQIECBAgACBWcCBYy5APAECBAgQIECAAAECBAgQIECAAAECBAgQIECAAAECBAgQIEDAgcMGCBAgQIAAAQIECBAgQIAAAQIECBAgQIAAAQIECBAgQIAAAQKzgAPHXIB4AgQIECBAgAABAgQIECBAgAABAgQIECBAgAABAgQIECBAgIADhw0QIECAAAECBAgQIECAAAECBAgQIECAAAECBAgQIECAAAECBGYBB465APEECBAgQIAAAQIECBAgQIAAAQIECBAgQIAAAQIECBAgQIAAAQcOGyBAgAABAgQIECBAgAABAgQIECBAgAABAgQIECBAgAABAgQIzAIOHHMB4gkQIECAAAECBAgQIECAAAECBAgQIECAAAECBAgQIECAAAECDhw2QIAAAQIECBAgQIAAAQIECBAgQIAAAQIECBAgQIAAAQIECBCYBRw45gLEEyBAgAABAgQIECBAgAABAgQIECBAgAABAgQIECBAgAABAgQcOGyAAAECBAgQIECAAAECBAgQIECAAAECBAgQIECAAAECBAgQIDALOHDMBYgnQIAAAQIECBAgQIAAAQIECBAgQIAAAQIECBAgQIAAAQIECDhw2AABAgQIECBAgAABAgQIECBAgAABAgQIECBAgAABAgQIECBAYBZw4JgLEE+AAAECBAgQIECAAAECBAgQIECAAAECBAgQIECAAAECBAgQcOCwAQIECBAgQIAAAQIECBAgQIAAAQIECBAgQIAAAQIECBAgQIDALODAMRcgngABAgQIECBAgAABAgQIECBAgAABAgQIECBAgAABAgQIECDgwGEDBAgQIECAAAECBAgQIECAAAECBAgQIECAAAECBAgQIECAAIFZwIFjLkA8AQIECBAgQIAAAQIECBAgQIAAAQIECBAgQIAAAQIECBAgQMCBwwYIECBAgAABAgQIECBAgAABAgQIECBAgAABAgQIECBAgAABArOAA8dcgHgCBAgQIECAAAECBAgQIECAAAECBAgQIECAAAECBAgQIECAgAOHDRAgQIAAAQIECBAgQIAAAQIECBAgQIAAAQIECBAgQIAAAQIEZgEHjrkA8QQIECBAgAABAgQIECBAgAABAgQIECBAgAABAgQIECBAgAABBw4bIECAAAECBAgQIECAAAECBAgQIECAAAECBAgQIECAAAECBAjMAg4ccwHiCRAgQIAAAQIECBAgQIAAAQIECBAgQIAAAQIECBAgQIAAAQIOHDZAgAABAgQIECBAgAABAgQIECBAgAABAgQIECBAgAABAgQIEJgFHDjmAsQTIECAAAECBAgQIECAAAECBAgQIECAAAECBAgQIECAAAECBBw4bIAAAQIECBAgQIAAAQIECBAgQIAAAQIECBAgQIAAAQIECBAgMAs4cMwFiCdAgAABAgQIECBAgAABAgQIECBAgAABAgQIECBAgAABAgQIOHDYAAECBAgQIECAAAECBAgQIECAAAECBAgQIECAAAECBAgQIEBgFnDgmAsQT4AAAQIECBAgQIAAAQIECBAgQIAAAQIECBAgQIAAAQIECBBw4LABAgQIECBAgAABAgQIECBAgAABAgQIECBAgAABAgQIECBAgMAs4MAxFyCeAAECBAgQIECAAAECBAgQIECAAAECBAgQIECAAAECBAgQIODAYQMECBAgQIAAAQIECBAgQIAAAQIECBAgQIAAAQIECBAgQIAAgVnAgWMuQDwBAgQIECBAgAABAgQIECBAgAABAgQIECBAgAABAgQIECBAwIHDBggQIECAAAECBAgQIECAAAECBAgQIECAAAECBAgQIECAAAECs4ADx1yAeAIECBAgQIAAAQIECBAgQIAAAQIECBAgQIAAAQIECBAgQICAA4cNECBAgAABAgQIECBAgAABAgQIECBAgAABAgQIECBAgAABAgRmAQeOuQDxBAgQIECAAAECBAgQIECAAAECBAgQIECAAAECBAgQIECAAAEHDhsgQIAAAQIECBAgQIAAAQIECBAgQIAAAQIECBAgQIAAAQIECMwCDhxzAeIJECBAgAABAgQIECBAgAABAgQIECBAgAABAgQIECBAgAABAg4cNkCAAAECBAgQIECAAAECBAgQIECAAAECBAgQIECAAAECBAgQmAUcOOYCxBMgQIAAAQIECBAgQIAAAQIECBAgQIAAAQIECBAgQIAAAQIEHDhsgAABAgQIECBAgAABAgQIECBAgAABAgQIECBAgAABAgQIECAwCzhwzAWIJ0CAAAECBAgQIECAAAECBAgQIECAAAECBAgQIECAAAECBAg4cNgAAQIECBAgQIAAAQIECBAgQIAAAQIECBAgQIAAAQIECBAgQGAWcOCYCxBPgAABAgQIECBAgAABAgQIECBAgAABAgQIECBAgAABAgQIEHDgsAECBAgQIECAAAECBAgQIECAAAECBAgQIECAAAECBAgQIECAwCzgwDEXIJ4AAQIECBAgQIAAAQIECBAgQIAAAQIECBAgQIAAAQIECBAg4MBhAwQIECBAgAABAgQIECBAgAABAgQIECBAgAABAgQIECBAgACBWcCBYy5APAECBAgQIECAAAECBAgQIECAAAECBAgQIECAAAECBAgQIEDAgcMGCBAgQIAAAQIECBAgQIAAAQIECBAgQIAAAQIECBAgQIAAAQKzgAPHXIB4AgQIECBAgAABAgQIECBAgAABAgQIECBAgAABAgQIECBAgIADhw0QIECAAAECBAgQIECAAAECBAgQIECAAAECBAgQIECAAAECBGYBB465APEECBAgQIAAAQIECBAgQIAAAQIECBAgQIAAAQIECBAgQIAAAQcOGyBAgAABAgQIECBAgAABAgQIECBAgAABAgQIECBAgAABAgQIzAIOHHMB4gkQIECAAAECBAgQIECAAAECBAgQIECAAAECBAgQIECAAAECDhw2QIAAAQIECBAgQIAAAQIECBAgQIAAAQIECBAgQIAAAQIECBCYBRw45gLEEyBAgAABAgQIECBAgAABAgQIECBAgAABAgQIECBAgAABAgQcOGyAAAECBAgQIECAAAECBAgQIECAAAECBAgQIECAAAECBAgQIDALOHDMBYgnQIAAAQIECBAgQIAAAQIECBAgQIAAAQIECBAgQIAAAQIECDhw2AABAgQIECBAgAABAgQIECBAgAABAgQIECBAgAABAgQIECBAYBZw4JgLEE+AAAECBAgQIECAAAECBAgQIECAAAECBAgQIECAAAECBAgQcOCwAQIECBAgQIAAAQIECBAgQIAAAQIECBAgQIAAAQIECBAgQIDALODAMRcgngABAgQIECBAgAABAgQIECBAgAABAgQIECBAgAABAgQIECDgwGEDBAgQIECAAAECBAgQIECAAAECBAgQIECAAAECBAgQIECAAIFZwIFjLkA8AQIECBAgQIAAAQIECBAgQIAAAQIECBAgQIAAAQIECBAgQMCBwwYIECBAgAABAgQIECBAgAABAgQIECBAgAABAgQIECBAgAABArOAA8dcgHgCBAgQIECAAAECBAgQIECAAAECBAgQIECAAAECBAgQIECAgAOHDRAgQIAAAQIECBAgQIAAAQIECBAgQIAAAQIECBAgQIAAAQIEZgEHjrkA8QQIECBAgAABAgQIECBAgAABAgQIECBAgAABAgQIECBAgAABBw4bIECAAAECBAgQIECAAAECBAgQIECAAAECBAgQIECAAAECBAjMAg4ccwHiCRAgQIAAAQIECBAgQIAAAQIECBAgQIAAAQIECBAgQIAAAQIOHDZAgAABAgQIECBAgAABAgQIECBAgAABAgQIECBAgAABAgQIEJgFHDjmAsQTIECAAAECBAgQIECAAAECBAgQIECAAAECBAgQIECAAAECBBw4bIAAAQIECBAgQIAAAQIECBAgQIAAAQIECBAgQIAAAQIECBAgMAs4cMwFiCdAgAABAgQIECBAgAABAgQIECBAgAABAgQIECBAgAABAgQIOHDYAAECBAgQIECAAAECBAgQIECAAAECBAgQIECAAAECBAgQIEBgFnDgmAsQT4AAAQIECBAgQIAAAQIECBAgQIAAAQIECBAgQIAAAQIECBBw4LABAgQIECBAgAABAgQIECBAgAABAgQIECBAgAABAgQIECBAgMAs4MAxFyCeAAECBAgQIECAAAECBAgQIECAAAECBAgQIECAAAECBAgQIODAYQMECBAgQIAAAQIECBAgQIAAAQIECBAgQIAAAQIECBAgQIAAgVnAgWMuQDwBAgQIECBAgAABAgQIECBAgAABAgQIECBAgAABAgQIECBAwIHDBggQIECAAAECBAgQIECAAAECBAgQIECAAAECBAgQIECAAAECs4ADx1yAeAIECBAgQIAAAQIECBAgQIAAAQIECBAgQIAAAQIECBAgQICAA4cNECBAgAABAgQIECBAgAABAgQIECBAgAABAgQIECBAgAABAgRmAQeOuQDxBAgQIECAAAECBAgQIECAAAECBAgQIECAAAECBAgQIECAAAEHDhsgQIAAAQIECBAgQIAAAQIECBAgQIAAAQIECBAgQIAAAQIECMwCDhxzAeIJECBAgAABAgQIECBAgAABAgQIECBAgAABAgQIECBAgAABAg4cNkCAAAECBAgQIECAAAECBAgQIECAAAECBAgQIECAAAECBAgQmAUcOOYCxBMgQIAAAQIECBAgQIAAAQIECBAgQIAAAQIECBAgQIAAAQIEHDhsgAABAgQIECBAgAABAgQIECBAgAABAgQIECBAgAABAgQIECAwCzhwzAWIJ0CAAAECBAgQIECAAAECBAgQIECAAAECBAgQIECAAAECBAg4cNgAAQIECBAgQIAAAQIECBAgQIAAAQIECBAgQIAAAQIECBAgQGAWcOCYCxBPgAABAgQIECBAgAABAgQIECBAgAABAgTmzJ/6AAAQ90lEQVQIECBAgAABAgQIEHDgsAECBAgQIECAAAECBAgQIECAAAECBAgQIECAAAECBAgQIECAwCzgwDEXIJ4AAQIECBAgQIAAAQIECBAgQIAAAQIECBAgQIAAAQIECBAg4MBhAwQIECBAgAABAgQIECBAgAABAgQIECBAgAABAgQIECBAgACBWcCBYy5APAECBAgQIECAAAECBAgQIECAAAECBAgQIECAAAECBAgQIEDAgcMGCBAgQIAAAQIECBAgQIAAAQIECBAgQIAAAQIECBAgQIAAAQKzgAPHXIB4AgQIECBAgAABAgQIECBAgAABAgQIECBAgAABAgQIECBAgIADhw0QIECAAAECBAgQIECAAAECBAgQIECAAAECBAgQIECAAAECBGYBB465APEECBAgQIAAAQIECBAgQIAAAQIECBAgQIAAAQIECBAgQIAAAQcOGyBAgAABAgQIECBAgAABAgQIECBAgAABAgQIECBAgAABAgQIzAIOHHMB4gkQIECAAAECBAgQIECAAAECBAgQIECAAAECBAgQIECAAAECDhw2QIAAAQIECBAgQIAAAQIECBAgQIAAAQIECBAgQIAAAQIECBCYBRw45gLEEyBAgAABAgQIECBAgAABAgQIECBAgAABAgQIECBAgAABAgQcOGyAAAECBAgQIECAAAECBAgQIECAAAECBAgQIECAAAECBAgQIDALOHDMBYgnQIAAAQIECBAgQIAAAQIECBAgQIAAAQIECBAgQIAAAQIECDhw2AABAgQIECBAgAABAgQIECBAgAABAgQIECBAgAABAgQIECBAYBZw4JgLEE+AAAECBAgQIECAAAECBAgQIECAAAECBAgQIECAAAECBAgQcOCwAQIECBAgQIAAAQIECBAgQIAAAQIECBAgQIAAAQIECBAgQIDALODAMRcgngABAgQIECBAgAABAgQIECBAgAABAgQIECBAgAABAgQIECDgwGEDBAgQIECAAAECBAgQIECAAAECBAgQIECAAAECBAgQIECAAIFZwIFjLkA8AQIECBAgQIAAAQIECBAgQIAAAQIECBAgQIAAAQIECBAgQMCBwwYIECBAgAABAgQIECBAgAABAgQIECBAgAABAgQIECBAgAABArOAA8dcgHgCBAgQIECAAAECBAgQIECAAAECBAgQIECAAAECBAgQIECAgAOHDRAgQIAAAQIECBAgQIAAAQIECBAgQIAAAQIECBAgQIAAAQIEZgEHjrkA8QQIECBAgAABAgQIECBAgAABAgQIECBAgAABAgQIECBAgAABBw4bIECAAAECBAgQIECAAAECBAgQIECAAAECBAgQIECAAAECBAjMAg4ccwHiCRAgQIAAAQIECBAgQIAAAQIECBAgQIAAAQIECBAgQIAAAQIOHDZAgAABAgQIECBAgAABAgQIECBAgAABAgQIECBAgAABAgQIEJgFHDjmAsQTIECAAAECBAgQIECAAAECBAgQIECAAAECBAgQIECAAAECBBw4bIAAAQIECBAgQIAAAQIECBAgQIAAAQIECBAgQIAAAQIECBAgMAs4cMwFiCdAgAABAgQIECBAgAABAgQIECBAgAABAgQIECBAgAABAgQIOHDYAAECBAgQIECAAAECBAgQIECAAAECBAgQIECAAAECBAgQIEBgFnDgmAsQT4AAAQIECBAgQIAAAQIECBAgQIAAAQIECBAgQIAAAQIECBBw4LABAgQIECBAgAABAgQIECBAgAABAgQIECBAgAABAgQIECBAgMAs4MAxFyCeAAECBAgQIECAAAECBAgQIECAAAECBAgQIECAAAECBAgQIODAYQMECBAgQIAAAQIECBAgQIAAAQIECBAgQIAAAQIECBAgQIAAgVnAgWMuQDwBAgQIECBAgAABAgQIECBAgAABAgQIECBAgAABAgQIECBAwIHDBggQIECAAAECBAgQIECAAAECBAgQIECAAAECBAgQIECAAAECs4ADx1yAeAIECBAgQIAAAQIECBAgQIAAAQIECBAgQIAAAQIECBAgQICAA4cNECBAgAABAgQIECBAgAABAgQIECBAgAABAgQIECBAgAABAgRmAQeOuQDxBAgQIECAAAECBAgQIECAAAECBAgQIECAAAECBAgQIECAAAEHDhsgQIAAAQIECBAgQIAAAQIECBAgQIAAAQIECBAgQIAAAQIECMwCDhxzAeIJECBAgAABAgQIECBAgAABAgQIECBAgAABAgQIECBAgAABAg4cNkCAAAECBAgQIECAAAECBAgQIECAAAECBAgQIECAAAECBAgQmAUcOOYCxBMgQIAAAQIECBAgQIAAAQIECBAgQIAAAQIECBAgQIAAAQIEHDhsgAABAgQIECBAgAABAgQIECBAgAABAgQIECBAgAABAgQIECAwCzhwzAWIJ0CAAAECBAgQIECAAAECBAgQIECAAAECBAgQIECAAAECBAg4cNgAAQIECBAgQIAAAQIECBAgQIAAAQIECBAgQIAAAQIECBAgQGAWcOCYCxBPgAABAgQIECBAgAABAgQIECBAgAABAgQIECBAgAABAgQIEHDgsAECBAgQIECAAAECBAgQIECAAAECBAgQIECAAAECBAgQIECAwCzgwDEXIJ4AAQIECBAgQIAAAQIECBAgQIAAAQIECBAgQIAAAQIECBAg4MBhAwQIECBAgAABAgQIECBAgAABAgQIECBAgAABAgQIECBAgACBWcCBYy5APAECBAgQIECAAAECBAgQIECAAAECBAgQIECAAAECBAgQIEDAgcMGCBAgQIAAAQIECBAgQIAAAQIECBAgQIAAAQIECBAgQIAAAQKzgAPHXIB4AgQIECBAgAABAgQIECBAgAABAgQIECBAgAABAgQIECBAgIADhw0QIECAAAECBAgQIECAAAECBAgQIECAAAECBAgQIECAAAECBGYBB465APEECBAgQIAAAQIECBAgQIAAAQIECBAgQIAAAQIECBAgQIAAAQcOGyBAgAABAgQIECBAgAABAgQIECBAgAABAgQIECBAgAABAgQIzAIOHHMB4gkQIECAAAECBAgQIECAAAECBAgQIECAAAECBAgQIECAAAECDhw2QIAAAQIECBAgQIAAAQIECBAgQIAAAQIECBAgQIAAAQIECBCYBRw45gLEEyBAgAABAgQIECBAgAABAgQIECBAgAABAgQIECBAgAABAgQcOGyAAAECBAgQIECAAAECBAgQIECAAAECBAgQIECAAAECBAgQIDALOHDMBYgnQIAAAQIECBAgQIAAAQIECBAgQIAAAQIECBAgQIAAAQIECDhw2AABAgQIECBAgAABAgQIECBAgAABAgQIECBAgAABAgQIECBAYBZw4JgLEE+AAAECBAgQIECAAAECBAgQIECAAAECBAgQIECAAAECBAgQcOCwAQIECBAgQIAAAQIECBAgQIAAAQIECBAgQIAAAQIECBAgQIDALODAMRcgngABAgQIECBAgAABAgQIECBAgAABAgQIECBAgAABAgQIECDgwGEDBAgQIECAAAECBAgQIECAAAECBAgQIECAAAECBAgQIECAAIFZwIFjLkA8AQIECBAgQIAAAQIECBAgQIAAAQIECBAgQIAAAQIECBAgQMCBwwYIECBAgAABAgQIECBAgAABAgQIECBAgAABAgQIECBAgAABArOAA8dcgHgCBAgQIECAAAECBAgQIECAAAECBAgQIECAAAECBAgQIECAgAOHDRAgQIAAAQIECBAgQIAAAQIECBAgQIAAAQIECBAgQIAAAQIEZgEHjrkA8QQIECBAgAABAgQIECBAgAABAgQIECBAgAABAgQIECBAgAABBw4bIECAAAECBAgQIECAAAECBAgQIECAAAECBAgQIECAAAECBAjMAg4ccwHiCRAgQIAAAQIECBAgQIAAAQIECBAgQIAAAQIECBAgQIAAAQIOHDZAgAABAgQIECBAgAABAgQIECBAgAABAgQIECBAgAABAgQIEJgFHDjmAsQTIECAAAECBAgQIECAAAECBAgQIECAAAECBAgQIECAAAECBBw4bIAAAQIECBAgQIAAAQIECBAgQIAAAQIECBAgQIAAAQIECBAgMAs4cMwFiCdAgAABAgQIECBAgAABAgQIECBAgAABAgQIECBAgAABAgQIOHDYAAECBAgQIECAAAECBAgQIECAAAECBAgQIECAAAECBAgQIEBgFnDgmAsQT4AAAQIECBAgQIAAAQIECBAgQIAAAQIECBAgQIAAAQIECBBw4LABAgQIECBAgAABAgQIECBAgAABAgQIECBAgAABAgQIECBAgMAs4MAxFyCeAAECBAgQIECAAAECBAgQIECAAAECBAgQIECAAAECBAgQIODAYQMECBAgQIAAAQIECBAgQIAAAQIECBAgQIAAAQIECBAgQIAAgVnAgWMuQDwBAgQIECBAgAABAgQIECBAgAABAgQIECBAgAABAgQIECBAwIHDBggQIECAAAECBAgQIECAAAECBAgQIECAAAECBAgQIECAAAECs4ADx1yAeAIECBAgQIAAAQIECBAgQIAAAQIECBAgQIAAAQIECBAgQICAA4cNECBAgAABAgQIECBAgAABAgQIECBAgAABAgQIECBAgAABAgRmAQeOuQDxBAgQIECAAAECBAgQIECAAAECBAgQIECAAAECBAgQIECAAAEHDhsgQIAAAQIECBAgQIAAAQIECBAgQIAAAQIECBAgQIAAAQIECMwCDhxzAeIJECBAgAABAgQIECBAgAABAgQIECBAgAABAgQIECBAgAABAg4cNkCAAAECBAgQIECAAAECBAgQIECAAAECBAgQIECAAAECBAgQmAUcOOYCxBMgQIAAAQIECBAgQIAAAQIECBAgQIAAAQIECBAgQIAAAQIEHDhsgAABAgQIECBAgAABAgQIECBAgAABAgQIECBAgAABAgQIECAwCzhwzAWIJ0CAAAECBAgQIECAAAECBAgQIECAAAECBAgQIECAAAECBAg4cNgAAQIECBAgQIAAAQIECBAgQIAAAQIECBAgQIAAAQIECBAgQGAWcOCYCxBPgAABAgQIECBAgAABAgQIECBAgAABAgQIECBAgAABAgQIEHDgsAECBAgQIECAAAECBAgQIECAAAECBAgQIECAAAECBAgQIECAwCzgwDEXIJ4AAQIECBAgQIAAAQIECBAgQIAAAQIECBAgQIAAAQIECBAg4MBhAwQIECBAgAABAgQIECBAgAABAgQIECBAgAABAgQIECBAgACBWcCBYy5APAECBAgQIECAAAECBAgQIECAAAECBAgQIECAAAECBAgQIEDAgcMGCBAgQIAAAQIECBAgQIAAAQIECBAgQIAAAQIECBAgQIAAAQKzgAPHXIB4AgQIECBAgAABAgQIECBAgAABAgQIECBAgAABAgQIECBAgIADhw0QIECAAAECBAgQIECAAAECBAgQIECAAAECBAgQIECAAAECBGYBB465APEECBAgQIAAAQIECBAgQIAAAQIECBAgQIAAAQIECBAgQIAAAQcOGyBAgAABAgQIECBAgAABAgQIECBAgAABAgQIECBAgAABAgQIzAIOHHMB4gkQIECAAAECBAgQIECAAAECBAgQIECAAAECBAgQIECAAAECDhw2QIAAAQIECBAgQIAAAQIECBAgQIAAAQIECBAgQIAAAQIECBCYBRw45gLEEyBAgAABAgQIECBAgAABAgQIECBAgAABAgQIECBAgAABAgQCFgIC0afsbo8AAAAASUVORK5CYII=\" width=\"2160\">"
      ],
      "text/plain": [
       "<IPython.core.display.HTML object>"
      ]
     },
     "metadata": {},
     "output_type": "display_data"
    },
    {
     "data": {
      "application/javascript": [
       "/* Put everything inside the global mpl namespace */\n",
       "window.mpl = {};\n",
       "\n",
       "\n",
       "mpl.get_websocket_type = function() {\n",
       "    if (typeof(WebSocket) !== 'undefined') {\n",
       "        return WebSocket;\n",
       "    } else if (typeof(MozWebSocket) !== 'undefined') {\n",
       "        return MozWebSocket;\n",
       "    } else {\n",
       "        alert('Your browser does not have WebSocket support.' +\n",
       "              'Please try Chrome, Safari or Firefox ≥ 6. ' +\n",
       "              'Firefox 4 and 5 are also supported but you ' +\n",
       "              'have to enable WebSockets in about:config.');\n",
       "    };\n",
       "}\n",
       "\n",
       "mpl.figure = function(figure_id, websocket, ondownload, parent_element) {\n",
       "    this.id = figure_id;\n",
       "\n",
       "    this.ws = websocket;\n",
       "\n",
       "    this.supports_binary = (this.ws.binaryType != undefined);\n",
       "\n",
       "    if (!this.supports_binary) {\n",
       "        var warnings = document.getElementById(\"mpl-warnings\");\n",
       "        if (warnings) {\n",
       "            warnings.style.display = 'block';\n",
       "            warnings.textContent = (\n",
       "                \"This browser does not support binary websocket messages. \" +\n",
       "                    \"Performance may be slow.\");\n",
       "        }\n",
       "    }\n",
       "\n",
       "    this.imageObj = new Image();\n",
       "\n",
       "    this.context = undefined;\n",
       "    this.message = undefined;\n",
       "    this.canvas = undefined;\n",
       "    this.rubberband_canvas = undefined;\n",
       "    this.rubberband_context = undefined;\n",
       "    this.format_dropdown = undefined;\n",
       "\n",
       "    this.image_mode = 'full';\n",
       "\n",
       "    this.root = $('<div/>');\n",
       "    this._root_extra_style(this.root)\n",
       "    this.root.attr('style', 'display: inline-block');\n",
       "\n",
       "    $(parent_element).append(this.root);\n",
       "\n",
       "    this._init_header(this);\n",
       "    this._init_canvas(this);\n",
       "    this._init_toolbar(this);\n",
       "\n",
       "    var fig = this;\n",
       "\n",
       "    this.waiting = false;\n",
       "\n",
       "    this.ws.onopen =  function () {\n",
       "            fig.send_message(\"supports_binary\", {value: fig.supports_binary});\n",
       "            fig.send_message(\"send_image_mode\", {});\n",
       "            if (mpl.ratio != 1) {\n",
       "                fig.send_message(\"set_dpi_ratio\", {'dpi_ratio': mpl.ratio});\n",
       "            }\n",
       "            fig.send_message(\"refresh\", {});\n",
       "        }\n",
       "\n",
       "    this.imageObj.onload = function() {\n",
       "            if (fig.image_mode == 'full') {\n",
       "                // Full images could contain transparency (where diff images\n",
       "                // almost always do), so we need to clear the canvas so that\n",
       "                // there is no ghosting.\n",
       "                fig.context.clearRect(0, 0, fig.canvas.width, fig.canvas.height);\n",
       "            }\n",
       "            fig.context.drawImage(fig.imageObj, 0, 0);\n",
       "        };\n",
       "\n",
       "    this.imageObj.onunload = function() {\n",
       "        fig.ws.close();\n",
       "    }\n",
       "\n",
       "    this.ws.onmessage = this._make_on_message_function(this);\n",
       "\n",
       "    this.ondownload = ondownload;\n",
       "}\n",
       "\n",
       "mpl.figure.prototype._init_header = function() {\n",
       "    var titlebar = $(\n",
       "        '<div class=\"ui-dialog-titlebar ui-widget-header ui-corner-all ' +\n",
       "        'ui-helper-clearfix\"/>');\n",
       "    var titletext = $(\n",
       "        '<div class=\"ui-dialog-title\" style=\"width: 100%; ' +\n",
       "        'text-align: center; padding: 3px;\"/>');\n",
       "    titlebar.append(titletext)\n",
       "    this.root.append(titlebar);\n",
       "    this.header = titletext[0];\n",
       "}\n",
       "\n",
       "\n",
       "\n",
       "mpl.figure.prototype._canvas_extra_style = function(canvas_div) {\n",
       "\n",
       "}\n",
       "\n",
       "\n",
       "mpl.figure.prototype._root_extra_style = function(canvas_div) {\n",
       "\n",
       "}\n",
       "\n",
       "mpl.figure.prototype._init_canvas = function() {\n",
       "    var fig = this;\n",
       "\n",
       "    var canvas_div = $('<div/>');\n",
       "\n",
       "    canvas_div.attr('style', 'position: relative; clear: both; outline: 0');\n",
       "\n",
       "    function canvas_keyboard_event(event) {\n",
       "        return fig.key_event(event, event['data']);\n",
       "    }\n",
       "\n",
       "    canvas_div.keydown('key_press', canvas_keyboard_event);\n",
       "    canvas_div.keyup('key_release', canvas_keyboard_event);\n",
       "    this.canvas_div = canvas_div\n",
       "    this._canvas_extra_style(canvas_div)\n",
       "    this.root.append(canvas_div);\n",
       "\n",
       "    var canvas = $('<canvas/>');\n",
       "    canvas.addClass('mpl-canvas');\n",
       "    canvas.attr('style', \"left: 0; top: 0; z-index: 0; outline: 0\")\n",
       "\n",
       "    this.canvas = canvas[0];\n",
       "    this.context = canvas[0].getContext(\"2d\");\n",
       "\n",
       "    var backingStore = this.context.backingStorePixelRatio ||\n",
       "\tthis.context.webkitBackingStorePixelRatio ||\n",
       "\tthis.context.mozBackingStorePixelRatio ||\n",
       "\tthis.context.msBackingStorePixelRatio ||\n",
       "\tthis.context.oBackingStorePixelRatio ||\n",
       "\tthis.context.backingStorePixelRatio || 1;\n",
       "\n",
       "    mpl.ratio = (window.devicePixelRatio || 1) / backingStore;\n",
       "\n",
       "    var rubberband = $('<canvas/>');\n",
       "    rubberband.attr('style', \"position: absolute; left: 0; top: 0; z-index: 1;\")\n",
       "\n",
       "    var pass_mouse_events = true;\n",
       "\n",
       "    canvas_div.resizable({\n",
       "        start: function(event, ui) {\n",
       "            pass_mouse_events = false;\n",
       "        },\n",
       "        resize: function(event, ui) {\n",
       "            fig.request_resize(ui.size.width, ui.size.height);\n",
       "        },\n",
       "        stop: function(event, ui) {\n",
       "            pass_mouse_events = true;\n",
       "            fig.request_resize(ui.size.width, ui.size.height);\n",
       "        },\n",
       "    });\n",
       "\n",
       "    function mouse_event_fn(event) {\n",
       "        if (pass_mouse_events)\n",
       "            return fig.mouse_event(event, event['data']);\n",
       "    }\n",
       "\n",
       "    rubberband.mousedown('button_press', mouse_event_fn);\n",
       "    rubberband.mouseup('button_release', mouse_event_fn);\n",
       "    // Throttle sequential mouse events to 1 every 20ms.\n",
       "    rubberband.mousemove('motion_notify', mouse_event_fn);\n",
       "\n",
       "    rubberband.mouseenter('figure_enter', mouse_event_fn);\n",
       "    rubberband.mouseleave('figure_leave', mouse_event_fn);\n",
       "\n",
       "    canvas_div.on(\"wheel\", function (event) {\n",
       "        event = event.originalEvent;\n",
       "        event['data'] = 'scroll'\n",
       "        if (event.deltaY < 0) {\n",
       "            event.step = 1;\n",
       "        } else {\n",
       "            event.step = -1;\n",
       "        }\n",
       "        mouse_event_fn(event);\n",
       "    });\n",
       "\n",
       "    canvas_div.append(canvas);\n",
       "    canvas_div.append(rubberband);\n",
       "\n",
       "    this.rubberband = rubberband;\n",
       "    this.rubberband_canvas = rubberband[0];\n",
       "    this.rubberband_context = rubberband[0].getContext(\"2d\");\n",
       "    this.rubberband_context.strokeStyle = \"#000000\";\n",
       "\n",
       "    this._resize_canvas = function(width, height) {\n",
       "        // Keep the size of the canvas, canvas container, and rubber band\n",
       "        // canvas in synch.\n",
       "        canvas_div.css('width', width)\n",
       "        canvas_div.css('height', height)\n",
       "\n",
       "        canvas.attr('width', width * mpl.ratio);\n",
       "        canvas.attr('height', height * mpl.ratio);\n",
       "        canvas.attr('style', 'width: ' + width + 'px; height: ' + height + 'px;');\n",
       "\n",
       "        rubberband.attr('width', width);\n",
       "        rubberband.attr('height', height);\n",
       "    }\n",
       "\n",
       "    // Set the figure to an initial 600x600px, this will subsequently be updated\n",
       "    // upon first draw.\n",
       "    this._resize_canvas(600, 600);\n",
       "\n",
       "    // Disable right mouse context menu.\n",
       "    $(this.rubberband_canvas).bind(\"contextmenu\",function(e){\n",
       "        return false;\n",
       "    });\n",
       "\n",
       "    function set_focus () {\n",
       "        canvas.focus();\n",
       "        canvas_div.focus();\n",
       "    }\n",
       "\n",
       "    window.setTimeout(set_focus, 100);\n",
       "}\n",
       "\n",
       "mpl.figure.prototype._init_toolbar = function() {\n",
       "    var fig = this;\n",
       "\n",
       "    var nav_element = $('<div/>')\n",
       "    nav_element.attr('style', 'width: 100%');\n",
       "    this.root.append(nav_element);\n",
       "\n",
       "    // Define a callback function for later on.\n",
       "    function toolbar_event(event) {\n",
       "        return fig.toolbar_button_onclick(event['data']);\n",
       "    }\n",
       "    function toolbar_mouse_event(event) {\n",
       "        return fig.toolbar_button_onmouseover(event['data']);\n",
       "    }\n",
       "\n",
       "    for(var toolbar_ind in mpl.toolbar_items) {\n",
       "        var name = mpl.toolbar_items[toolbar_ind][0];\n",
       "        var tooltip = mpl.toolbar_items[toolbar_ind][1];\n",
       "        var image = mpl.toolbar_items[toolbar_ind][2];\n",
       "        var method_name = mpl.toolbar_items[toolbar_ind][3];\n",
       "\n",
       "        if (!name) {\n",
       "            // put a spacer in here.\n",
       "            continue;\n",
       "        }\n",
       "        var button = $('<button/>');\n",
       "        button.addClass('ui-button ui-widget ui-state-default ui-corner-all ' +\n",
       "                        'ui-button-icon-only');\n",
       "        button.attr('role', 'button');\n",
       "        button.attr('aria-disabled', 'false');\n",
       "        button.click(method_name, toolbar_event);\n",
       "        button.mouseover(tooltip, toolbar_mouse_event);\n",
       "\n",
       "        var icon_img = $('<span/>');\n",
       "        icon_img.addClass('ui-button-icon-primary ui-icon');\n",
       "        icon_img.addClass(image);\n",
       "        icon_img.addClass('ui-corner-all');\n",
       "\n",
       "        var tooltip_span = $('<span/>');\n",
       "        tooltip_span.addClass('ui-button-text');\n",
       "        tooltip_span.html(tooltip);\n",
       "\n",
       "        button.append(icon_img);\n",
       "        button.append(tooltip_span);\n",
       "\n",
       "        nav_element.append(button);\n",
       "    }\n",
       "\n",
       "    var fmt_picker_span = $('<span/>');\n",
       "\n",
       "    var fmt_picker = $('<select/>');\n",
       "    fmt_picker.addClass('mpl-toolbar-option ui-widget ui-widget-content');\n",
       "    fmt_picker_span.append(fmt_picker);\n",
       "    nav_element.append(fmt_picker_span);\n",
       "    this.format_dropdown = fmt_picker[0];\n",
       "\n",
       "    for (var ind in mpl.extensions) {\n",
       "        var fmt = mpl.extensions[ind];\n",
       "        var option = $(\n",
       "            '<option/>', {selected: fmt === mpl.default_extension}).html(fmt);\n",
       "        fmt_picker.append(option)\n",
       "    }\n",
       "\n",
       "    // Add hover states to the ui-buttons\n",
       "    $( \".ui-button\" ).hover(\n",
       "        function() { $(this).addClass(\"ui-state-hover\");},\n",
       "        function() { $(this).removeClass(\"ui-state-hover\");}\n",
       "    );\n",
       "\n",
       "    var status_bar = $('<span class=\"mpl-message\"/>');\n",
       "    nav_element.append(status_bar);\n",
       "    this.message = status_bar[0];\n",
       "}\n",
       "\n",
       "mpl.figure.prototype.request_resize = function(x_pixels, y_pixels) {\n",
       "    // Request matplotlib to resize the figure. Matplotlib will then trigger a resize in the client,\n",
       "    // which will in turn request a refresh of the image.\n",
       "    this.send_message('resize', {'width': x_pixels, 'height': y_pixels});\n",
       "}\n",
       "\n",
       "mpl.figure.prototype.send_message = function(type, properties) {\n",
       "    properties['type'] = type;\n",
       "    properties['figure_id'] = this.id;\n",
       "    this.ws.send(JSON.stringify(properties));\n",
       "}\n",
       "\n",
       "mpl.figure.prototype.send_draw_message = function() {\n",
       "    if (!this.waiting) {\n",
       "        this.waiting = true;\n",
       "        this.ws.send(JSON.stringify({type: \"draw\", figure_id: this.id}));\n",
       "    }\n",
       "}\n",
       "\n",
       "\n",
       "mpl.figure.prototype.handle_save = function(fig, msg) {\n",
       "    var format_dropdown = fig.format_dropdown;\n",
       "    var format = format_dropdown.options[format_dropdown.selectedIndex].value;\n",
       "    fig.ondownload(fig, format);\n",
       "}\n",
       "\n",
       "\n",
       "mpl.figure.prototype.handle_resize = function(fig, msg) {\n",
       "    var size = msg['size'];\n",
       "    if (size[0] != fig.canvas.width || size[1] != fig.canvas.height) {\n",
       "        fig._resize_canvas(size[0], size[1]);\n",
       "        fig.send_message(\"refresh\", {});\n",
       "    };\n",
       "}\n",
       "\n",
       "mpl.figure.prototype.handle_rubberband = function(fig, msg) {\n",
       "    var x0 = msg['x0'] / mpl.ratio;\n",
       "    var y0 = (fig.canvas.height - msg['y0']) / mpl.ratio;\n",
       "    var x1 = msg['x1'] / mpl.ratio;\n",
       "    var y1 = (fig.canvas.height - msg['y1']) / mpl.ratio;\n",
       "    x0 = Math.floor(x0) + 0.5;\n",
       "    y0 = Math.floor(y0) + 0.5;\n",
       "    x1 = Math.floor(x1) + 0.5;\n",
       "    y1 = Math.floor(y1) + 0.5;\n",
       "    var min_x = Math.min(x0, x1);\n",
       "    var min_y = Math.min(y0, y1);\n",
       "    var width = Math.abs(x1 - x0);\n",
       "    var height = Math.abs(y1 - y0);\n",
       "\n",
       "    fig.rubberband_context.clearRect(\n",
       "        0, 0, fig.canvas.width, fig.canvas.height);\n",
       "\n",
       "    fig.rubberband_context.strokeRect(min_x, min_y, width, height);\n",
       "}\n",
       "\n",
       "mpl.figure.prototype.handle_figure_label = function(fig, msg) {\n",
       "    // Updates the figure title.\n",
       "    fig.header.textContent = msg['label'];\n",
       "}\n",
       "\n",
       "mpl.figure.prototype.handle_cursor = function(fig, msg) {\n",
       "    var cursor = msg['cursor'];\n",
       "    switch(cursor)\n",
       "    {\n",
       "    case 0:\n",
       "        cursor = 'pointer';\n",
       "        break;\n",
       "    case 1:\n",
       "        cursor = 'default';\n",
       "        break;\n",
       "    case 2:\n",
       "        cursor = 'crosshair';\n",
       "        break;\n",
       "    case 3:\n",
       "        cursor = 'move';\n",
       "        break;\n",
       "    }\n",
       "    fig.rubberband_canvas.style.cursor = cursor;\n",
       "}\n",
       "\n",
       "mpl.figure.prototype.handle_message = function(fig, msg) {\n",
       "    fig.message.textContent = msg['message'];\n",
       "}\n",
       "\n",
       "mpl.figure.prototype.handle_draw = function(fig, msg) {\n",
       "    // Request the server to send over a new figure.\n",
       "    fig.send_draw_message();\n",
       "}\n",
       "\n",
       "mpl.figure.prototype.handle_image_mode = function(fig, msg) {\n",
       "    fig.image_mode = msg['mode'];\n",
       "}\n",
       "\n",
       "mpl.figure.prototype.updated_canvas_event = function() {\n",
       "    // Called whenever the canvas gets updated.\n",
       "    this.send_message(\"ack\", {});\n",
       "}\n",
       "\n",
       "// A function to construct a web socket function for onmessage handling.\n",
       "// Called in the figure constructor.\n",
       "mpl.figure.prototype._make_on_message_function = function(fig) {\n",
       "    return function socket_on_message(evt) {\n",
       "        if (evt.data instanceof Blob) {\n",
       "            /* FIXME: We get \"Resource interpreted as Image but\n",
       "             * transferred with MIME type text/plain:\" errors on\n",
       "             * Chrome.  But how to set the MIME type?  It doesn't seem\n",
       "             * to be part of the websocket stream */\n",
       "            evt.data.type = \"image/png\";\n",
       "\n",
       "            /* Free the memory for the previous frames */\n",
       "            if (fig.imageObj.src) {\n",
       "                (window.URL || window.webkitURL).revokeObjectURL(\n",
       "                    fig.imageObj.src);\n",
       "            }\n",
       "\n",
       "            fig.imageObj.src = (window.URL || window.webkitURL).createObjectURL(\n",
       "                evt.data);\n",
       "            fig.updated_canvas_event();\n",
       "            fig.waiting = false;\n",
       "            return;\n",
       "        }\n",
       "        else if (typeof evt.data === 'string' && evt.data.slice(0, 21) == \"data:image/png;base64\") {\n",
       "            fig.imageObj.src = evt.data;\n",
       "            fig.updated_canvas_event();\n",
       "            fig.waiting = false;\n",
       "            return;\n",
       "        }\n",
       "\n",
       "        var msg = JSON.parse(evt.data);\n",
       "        var msg_type = msg['type'];\n",
       "\n",
       "        // Call the  \"handle_{type}\" callback, which takes\n",
       "        // the figure and JSON message as its only arguments.\n",
       "        try {\n",
       "            var callback = fig[\"handle_\" + msg_type];\n",
       "        } catch (e) {\n",
       "            console.log(\"No handler for the '\" + msg_type + \"' message type: \", msg);\n",
       "            return;\n",
       "        }\n",
       "\n",
       "        if (callback) {\n",
       "            try {\n",
       "                // console.log(\"Handling '\" + msg_type + \"' message: \", msg);\n",
       "                callback(fig, msg);\n",
       "            } catch (e) {\n",
       "                console.log(\"Exception inside the 'handler_\" + msg_type + \"' callback:\", e, e.stack, msg);\n",
       "            }\n",
       "        }\n",
       "    };\n",
       "}\n",
       "\n",
       "// from http://stackoverflow.com/questions/1114465/getting-mouse-location-in-canvas\n",
       "mpl.findpos = function(e) {\n",
       "    //this section is from http://www.quirksmode.org/js/events_properties.html\n",
       "    var targ;\n",
       "    if (!e)\n",
       "        e = window.event;\n",
       "    if (e.target)\n",
       "        targ = e.target;\n",
       "    else if (e.srcElement)\n",
       "        targ = e.srcElement;\n",
       "    if (targ.nodeType == 3) // defeat Safari bug\n",
       "        targ = targ.parentNode;\n",
       "\n",
       "    // jQuery normalizes the pageX and pageY\n",
       "    // pageX,Y are the mouse positions relative to the document\n",
       "    // offset() returns the position of the element relative to the document\n",
       "    var x = e.pageX - $(targ).offset().left;\n",
       "    var y = e.pageY - $(targ).offset().top;\n",
       "\n",
       "    return {\"x\": x, \"y\": y};\n",
       "};\n",
       "\n",
       "/*\n",
       " * return a copy of an object with only non-object keys\n",
       " * we need this to avoid circular references\n",
       " * http://stackoverflow.com/a/24161582/3208463\n",
       " */\n",
       "function simpleKeys (original) {\n",
       "  return Object.keys(original).reduce(function (obj, key) {\n",
       "    if (typeof original[key] !== 'object')\n",
       "        obj[key] = original[key]\n",
       "    return obj;\n",
       "  }, {});\n",
       "}\n",
       "\n",
       "mpl.figure.prototype.mouse_event = function(event, name) {\n",
       "    var canvas_pos = mpl.findpos(event)\n",
       "\n",
       "    if (name === 'button_press')\n",
       "    {\n",
       "        this.canvas.focus();\n",
       "        this.canvas_div.focus();\n",
       "    }\n",
       "\n",
       "    var x = canvas_pos.x * mpl.ratio;\n",
       "    var y = canvas_pos.y * mpl.ratio;\n",
       "\n",
       "    this.send_message(name, {x: x, y: y, button: event.button,\n",
       "                             step: event.step,\n",
       "                             guiEvent: simpleKeys(event)});\n",
       "\n",
       "    /* This prevents the web browser from automatically changing to\n",
       "     * the text insertion cursor when the button is pressed.  We want\n",
       "     * to control all of the cursor setting manually through the\n",
       "     * 'cursor' event from matplotlib */\n",
       "    event.preventDefault();\n",
       "    return false;\n",
       "}\n",
       "\n",
       "mpl.figure.prototype._key_event_extra = function(event, name) {\n",
       "    // Handle any extra behaviour associated with a key event\n",
       "}\n",
       "\n",
       "mpl.figure.prototype.key_event = function(event, name) {\n",
       "\n",
       "    // Prevent repeat events\n",
       "    if (name == 'key_press')\n",
       "    {\n",
       "        if (event.which === this._key)\n",
       "            return;\n",
       "        else\n",
       "            this._key = event.which;\n",
       "    }\n",
       "    if (name == 'key_release')\n",
       "        this._key = null;\n",
       "\n",
       "    var value = '';\n",
       "    if (event.ctrlKey && event.which != 17)\n",
       "        value += \"ctrl+\";\n",
       "    if (event.altKey && event.which != 18)\n",
       "        value += \"alt+\";\n",
       "    if (event.shiftKey && event.which != 16)\n",
       "        value += \"shift+\";\n",
       "\n",
       "    value += 'k';\n",
       "    value += event.which.toString();\n",
       "\n",
       "    this._key_event_extra(event, name);\n",
       "\n",
       "    this.send_message(name, {key: value,\n",
       "                             guiEvent: simpleKeys(event)});\n",
       "    return false;\n",
       "}\n",
       "\n",
       "mpl.figure.prototype.toolbar_button_onclick = function(name) {\n",
       "    if (name == 'download') {\n",
       "        this.handle_save(this, null);\n",
       "    } else {\n",
       "        this.send_message(\"toolbar_button\", {name: name});\n",
       "    }\n",
       "};\n",
       "\n",
       "mpl.figure.prototype.toolbar_button_onmouseover = function(tooltip) {\n",
       "    this.message.textContent = tooltip;\n",
       "};\n",
       "mpl.toolbar_items = [[\"Home\", \"Reset original view\", \"fa fa-home icon-home\", \"home\"], [\"Back\", \"Back to  previous view\", \"fa fa-arrow-left icon-arrow-left\", \"back\"], [\"Forward\", \"Forward to next view\", \"fa fa-arrow-right icon-arrow-right\", \"forward\"], [\"\", \"\", \"\", \"\"], [\"Pan\", \"Pan axes with left mouse, zoom with right\", \"fa fa-arrows icon-move\", \"pan\"], [\"Zoom\", \"Zoom to rectangle\", \"fa fa-square-o icon-check-empty\", \"zoom\"], [\"\", \"\", \"\", \"\"], [\"Download\", \"Download plot\", \"fa fa-floppy-o icon-save\", \"download\"]];\n",
       "\n",
       "mpl.extensions = [\"eps\", \"jpeg\", \"pdf\", \"png\", \"ps\", \"raw\", \"svg\", \"tif\"];\n",
       "\n",
       "mpl.default_extension = \"png\";var comm_websocket_adapter = function(comm) {\n",
       "    // Create a \"websocket\"-like object which calls the given IPython comm\n",
       "    // object with the appropriate methods. Currently this is a non binary\n",
       "    // socket, so there is still some room for performance tuning.\n",
       "    var ws = {};\n",
       "\n",
       "    ws.close = function() {\n",
       "        comm.close()\n",
       "    };\n",
       "    ws.send = function(m) {\n",
       "        //console.log('sending', m);\n",
       "        comm.send(m);\n",
       "    };\n",
       "    // Register the callback with on_msg.\n",
       "    comm.on_msg(function(msg) {\n",
       "        //console.log('receiving', msg['content']['data'], msg);\n",
       "        // Pass the mpl event to the overridden (by mpl) onmessage function.\n",
       "        ws.onmessage(msg['content']['data'])\n",
       "    });\n",
       "    return ws;\n",
       "}\n",
       "\n",
       "mpl.mpl_figure_comm = function(comm, msg) {\n",
       "    // This is the function which gets called when the mpl process\n",
       "    // starts-up an IPython Comm through the \"matplotlib\" channel.\n",
       "\n",
       "    var id = msg.content.data.id;\n",
       "    // Get hold of the div created by the display call when the Comm\n",
       "    // socket was opened in Python.\n",
       "    var element = $(\"#\" + id);\n",
       "    var ws_proxy = comm_websocket_adapter(comm)\n",
       "\n",
       "    function ondownload(figure, format) {\n",
       "        window.open(figure.imageObj.src);\n",
       "    }\n",
       "\n",
       "    var fig = new mpl.figure(id, ws_proxy,\n",
       "                           ondownload,\n",
       "                           element.get(0));\n",
       "\n",
       "    // Call onopen now - mpl needs it, as it is assuming we've passed it a real\n",
       "    // web socket which is closed, not our websocket->open comm proxy.\n",
       "    ws_proxy.onopen();\n",
       "\n",
       "    fig.parent_element = element.get(0);\n",
       "    fig.cell_info = mpl.find_output_cell(\"<div id='\" + id + \"'></div>\");\n",
       "    if (!fig.cell_info) {\n",
       "        console.error(\"Failed to find cell for figure\", id, fig);\n",
       "        return;\n",
       "    }\n",
       "\n",
       "    var output_index = fig.cell_info[2]\n",
       "    var cell = fig.cell_info[0];\n",
       "\n",
       "};\n",
       "\n",
       "mpl.figure.prototype.handle_close = function(fig, msg) {\n",
       "    var width = fig.canvas.width/mpl.ratio\n",
       "    fig.root.unbind('remove')\n",
       "\n",
       "    // Update the output cell to use the data from the current canvas.\n",
       "    fig.push_to_output();\n",
       "    var dataURL = fig.canvas.toDataURL();\n",
       "    // Re-enable the keyboard manager in IPython - without this line, in FF,\n",
       "    // the notebook keyboard shortcuts fail.\n",
       "    IPython.keyboard_manager.enable()\n",
       "    $(fig.parent_element).html('<img src=\"' + dataURL + '\" width=\"' + width + '\">');\n",
       "    fig.close_ws(fig, msg);\n",
       "}\n",
       "\n",
       "mpl.figure.prototype.close_ws = function(fig, msg){\n",
       "    fig.send_message('closing', msg);\n",
       "    // fig.ws.close()\n",
       "}\n",
       "\n",
       "mpl.figure.prototype.push_to_output = function(remove_interactive) {\n",
       "    // Turn the data on the canvas into data in the output cell.\n",
       "    var width = this.canvas.width/mpl.ratio\n",
       "    var dataURL = this.canvas.toDataURL();\n",
       "    this.cell_info[1]['text/html'] = '<img src=\"' + dataURL + '\" width=\"' + width + '\">';\n",
       "}\n",
       "\n",
       "mpl.figure.prototype.updated_canvas_event = function() {\n",
       "    // Tell IPython that the notebook contents must change.\n",
       "    IPython.notebook.set_dirty(true);\n",
       "    this.send_message(\"ack\", {});\n",
       "    var fig = this;\n",
       "    // Wait a second, then push the new image to the DOM so\n",
       "    // that it is saved nicely (might be nice to debounce this).\n",
       "    setTimeout(function () { fig.push_to_output() }, 1000);\n",
       "}\n",
       "\n",
       "mpl.figure.prototype._init_toolbar = function() {\n",
       "    var fig = this;\n",
       "\n",
       "    var nav_element = $('<div/>')\n",
       "    nav_element.attr('style', 'width: 100%');\n",
       "    this.root.append(nav_element);\n",
       "\n",
       "    // Define a callback function for later on.\n",
       "    function toolbar_event(event) {\n",
       "        return fig.toolbar_button_onclick(event['data']);\n",
       "    }\n",
       "    function toolbar_mouse_event(event) {\n",
       "        return fig.toolbar_button_onmouseover(event['data']);\n",
       "    }\n",
       "\n",
       "    for(var toolbar_ind in mpl.toolbar_items){\n",
       "        var name = mpl.toolbar_items[toolbar_ind][0];\n",
       "        var tooltip = mpl.toolbar_items[toolbar_ind][1];\n",
       "        var image = mpl.toolbar_items[toolbar_ind][2];\n",
       "        var method_name = mpl.toolbar_items[toolbar_ind][3];\n",
       "\n",
       "        if (!name) { continue; };\n",
       "\n",
       "        var button = $('<button class=\"btn btn-default\" href=\"#\" title=\"' + name + '\"><i class=\"fa ' + image + ' fa-lg\"></i></button>');\n",
       "        button.click(method_name, toolbar_event);\n",
       "        button.mouseover(tooltip, toolbar_mouse_event);\n",
       "        nav_element.append(button);\n",
       "    }\n",
       "\n",
       "    // Add the status bar.\n",
       "    var status_bar = $('<span class=\"mpl-message\" style=\"text-align:right; float: right;\"/>');\n",
       "    nav_element.append(status_bar);\n",
       "    this.message = status_bar[0];\n",
       "\n",
       "    // Add the close button to the window.\n",
       "    var buttongrp = $('<div class=\"btn-group inline pull-right\"></div>');\n",
       "    var button = $('<button class=\"btn btn-mini btn-primary\" href=\"#\" title=\"Stop Interaction\"><i class=\"fa fa-power-off icon-remove icon-large\"></i></button>');\n",
       "    button.click(function (evt) { fig.handle_close(fig, {}); } );\n",
       "    button.mouseover('Stop Interaction', toolbar_mouse_event);\n",
       "    buttongrp.append(button);\n",
       "    var titlebar = this.root.find($('.ui-dialog-titlebar'));\n",
       "    titlebar.prepend(buttongrp);\n",
       "}\n",
       "\n",
       "mpl.figure.prototype._root_extra_style = function(el){\n",
       "    var fig = this\n",
       "    el.on(\"remove\", function(){\n",
       "\tfig.close_ws(fig, {});\n",
       "    });\n",
       "}\n",
       "\n",
       "mpl.figure.prototype._canvas_extra_style = function(el){\n",
       "    // this is important to make the div 'focusable\n",
       "    el.attr('tabindex', 0)\n",
       "    // reach out to IPython and tell the keyboard manager to turn it's self\n",
       "    // off when our div gets focus\n",
       "\n",
       "    // location in version 3\n",
       "    if (IPython.notebook.keyboard_manager) {\n",
       "        IPython.notebook.keyboard_manager.register_events(el);\n",
       "    }\n",
       "    else {\n",
       "        // location in version 2\n",
       "        IPython.keyboard_manager.register_events(el);\n",
       "    }\n",
       "\n",
       "}\n",
       "\n",
       "mpl.figure.prototype._key_event_extra = function(event, name) {\n",
       "    var manager = IPython.notebook.keyboard_manager;\n",
       "    if (!manager)\n",
       "        manager = IPython.keyboard_manager;\n",
       "\n",
       "    // Check for shift+enter\n",
       "    if (event.shiftKey && event.which == 13) {\n",
       "        this.canvas_div.blur();\n",
       "        event.shiftKey = false;\n",
       "        // Send a \"J\" for go to next cell\n",
       "        event.which = 74;\n",
       "        event.keyCode = 74;\n",
       "        manager.command_mode();\n",
       "        manager.handle_keydown(event);\n",
       "    }\n",
       "}\n",
       "\n",
       "mpl.figure.prototype.handle_save = function(fig, msg) {\n",
       "    fig.ondownload(fig, null);\n",
       "}\n",
       "\n",
       "\n",
       "mpl.find_output_cell = function(html_output) {\n",
       "    // Return the cell and output element which can be found *uniquely* in the notebook.\n",
       "    // Note - this is a bit hacky, but it is done because the \"notebook_saving.Notebook\"\n",
       "    // IPython event is triggered only after the cells have been serialised, which for\n",
       "    // our purposes (turning an active figure into a static one), is too late.\n",
       "    var cells = IPython.notebook.get_cells();\n",
       "    var ncells = cells.length;\n",
       "    for (var i=0; i<ncells; i++) {\n",
       "        var cell = cells[i];\n",
       "        if (cell.cell_type === 'code'){\n",
       "            for (var j=0; j<cell.output_area.outputs.length; j++) {\n",
       "                var data = cell.output_area.outputs[j];\n",
       "                if (data.data) {\n",
       "                    // IPython >= 3 moved mimebundle to data attribute of output\n",
       "                    data = data.data;\n",
       "                }\n",
       "                if (data['text/html'] == html_output) {\n",
       "                    return [cell, data, j];\n",
       "                }\n",
       "            }\n",
       "        }\n",
       "    }\n",
       "}\n",
       "\n",
       "// Register the function which deals with the matplotlib target/channel.\n",
       "// The kernel may be null if the page has been refreshed.\n",
       "if (IPython.notebook.kernel != null) {\n",
       "    IPython.notebook.kernel.comm_manager.register_target('matplotlib', mpl.mpl_figure_comm);\n",
       "}\n"
      ],
      "text/plain": [
       "<IPython.core.display.Javascript object>"
      ]
     },
     "metadata": {},
     "output_type": "display_data"
    },
    {
     "data": {
      "text/html": [
       "<img src=\"data:image/png;base64,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\" width=\"2160\">"
      ],
      "text/plain": [
       "<IPython.core.display.HTML object>"
      ]
     },
     "metadata": {},
     "output_type": "display_data"
    },
    {
     "data": {
      "application/javascript": [
       "/* Put everything inside the global mpl namespace */\n",
       "window.mpl = {};\n",
       "\n",
       "\n",
       "mpl.get_websocket_type = function() {\n",
       "    if (typeof(WebSocket) !== 'undefined') {\n",
       "        return WebSocket;\n",
       "    } else if (typeof(MozWebSocket) !== 'undefined') {\n",
       "        return MozWebSocket;\n",
       "    } else {\n",
       "        alert('Your browser does not have WebSocket support.' +\n",
       "              'Please try Chrome, Safari or Firefox ≥ 6. ' +\n",
       "              'Firefox 4 and 5 are also supported but you ' +\n",
       "              'have to enable WebSockets in about:config.');\n",
       "    };\n",
       "}\n",
       "\n",
       "mpl.figure = function(figure_id, websocket, ondownload, parent_element) {\n",
       "    this.id = figure_id;\n",
       "\n",
       "    this.ws = websocket;\n",
       "\n",
       "    this.supports_binary = (this.ws.binaryType != undefined);\n",
       "\n",
       "    if (!this.supports_binary) {\n",
       "        var warnings = document.getElementById(\"mpl-warnings\");\n",
       "        if (warnings) {\n",
       "            warnings.style.display = 'block';\n",
       "            warnings.textContent = (\n",
       "                \"This browser does not support binary websocket messages. \" +\n",
       "                    \"Performance may be slow.\");\n",
       "        }\n",
       "    }\n",
       "\n",
       "    this.imageObj = new Image();\n",
       "\n",
       "    this.context = undefined;\n",
       "    this.message = undefined;\n",
       "    this.canvas = undefined;\n",
       "    this.rubberband_canvas = undefined;\n",
       "    this.rubberband_context = undefined;\n",
       "    this.format_dropdown = undefined;\n",
       "\n",
       "    this.image_mode = 'full';\n",
       "\n",
       "    this.root = $('<div/>');\n",
       "    this._root_extra_style(this.root)\n",
       "    this.root.attr('style', 'display: inline-block');\n",
       "\n",
       "    $(parent_element).append(this.root);\n",
       "\n",
       "    this._init_header(this);\n",
       "    this._init_canvas(this);\n",
       "    this._init_toolbar(this);\n",
       "\n",
       "    var fig = this;\n",
       "\n",
       "    this.waiting = false;\n",
       "\n",
       "    this.ws.onopen =  function () {\n",
       "            fig.send_message(\"supports_binary\", {value: fig.supports_binary});\n",
       "            fig.send_message(\"send_image_mode\", {});\n",
       "            if (mpl.ratio != 1) {\n",
       "                fig.send_message(\"set_dpi_ratio\", {'dpi_ratio': mpl.ratio});\n",
       "            }\n",
       "            fig.send_message(\"refresh\", {});\n",
       "        }\n",
       "\n",
       "    this.imageObj.onload = function() {\n",
       "            if (fig.image_mode == 'full') {\n",
       "                // Full images could contain transparency (where diff images\n",
       "                // almost always do), so we need to clear the canvas so that\n",
       "                // there is no ghosting.\n",
       "                fig.context.clearRect(0, 0, fig.canvas.width, fig.canvas.height);\n",
       "            }\n",
       "            fig.context.drawImage(fig.imageObj, 0, 0);\n",
       "        };\n",
       "\n",
       "    this.imageObj.onunload = function() {\n",
       "        fig.ws.close();\n",
       "    }\n",
       "\n",
       "    this.ws.onmessage = this._make_on_message_function(this);\n",
       "\n",
       "    this.ondownload = ondownload;\n",
       "}\n",
       "\n",
       "mpl.figure.prototype._init_header = function() {\n",
       "    var titlebar = $(\n",
       "        '<div class=\"ui-dialog-titlebar ui-widget-header ui-corner-all ' +\n",
       "        'ui-helper-clearfix\"/>');\n",
       "    var titletext = $(\n",
       "        '<div class=\"ui-dialog-title\" style=\"width: 100%; ' +\n",
       "        'text-align: center; padding: 3px;\"/>');\n",
       "    titlebar.append(titletext)\n",
       "    this.root.append(titlebar);\n",
       "    this.header = titletext[0];\n",
       "}\n",
       "\n",
       "\n",
       "\n",
       "mpl.figure.prototype._canvas_extra_style = function(canvas_div) {\n",
       "\n",
       "}\n",
       "\n",
       "\n",
       "mpl.figure.prototype._root_extra_style = function(canvas_div) {\n",
       "\n",
       "}\n",
       "\n",
       "mpl.figure.prototype._init_canvas = function() {\n",
       "    var fig = this;\n",
       "\n",
       "    var canvas_div = $('<div/>');\n",
       "\n",
       "    canvas_div.attr('style', 'position: relative; clear: both; outline: 0');\n",
       "\n",
       "    function canvas_keyboard_event(event) {\n",
       "        return fig.key_event(event, event['data']);\n",
       "    }\n",
       "\n",
       "    canvas_div.keydown('key_press', canvas_keyboard_event);\n",
       "    canvas_div.keyup('key_release', canvas_keyboard_event);\n",
       "    this.canvas_div = canvas_div\n",
       "    this._canvas_extra_style(canvas_div)\n",
       "    this.root.append(canvas_div);\n",
       "\n",
       "    var canvas = $('<canvas/>');\n",
       "    canvas.addClass('mpl-canvas');\n",
       "    canvas.attr('style', \"left: 0; top: 0; z-index: 0; outline: 0\")\n",
       "\n",
       "    this.canvas = canvas[0];\n",
       "    this.context = canvas[0].getContext(\"2d\");\n",
       "\n",
       "    var backingStore = this.context.backingStorePixelRatio ||\n",
       "\tthis.context.webkitBackingStorePixelRatio ||\n",
       "\tthis.context.mozBackingStorePixelRatio ||\n",
       "\tthis.context.msBackingStorePixelRatio ||\n",
       "\tthis.context.oBackingStorePixelRatio ||\n",
       "\tthis.context.backingStorePixelRatio || 1;\n",
       "\n",
       "    mpl.ratio = (window.devicePixelRatio || 1) / backingStore;\n",
       "\n",
       "    var rubberband = $('<canvas/>');\n",
       "    rubberband.attr('style', \"position: absolute; left: 0; top: 0; z-index: 1;\")\n",
       "\n",
       "    var pass_mouse_events = true;\n",
       "\n",
       "    canvas_div.resizable({\n",
       "        start: function(event, ui) {\n",
       "            pass_mouse_events = false;\n",
       "        },\n",
       "        resize: function(event, ui) {\n",
       "            fig.request_resize(ui.size.width, ui.size.height);\n",
       "        },\n",
       "        stop: function(event, ui) {\n",
       "            pass_mouse_events = true;\n",
       "            fig.request_resize(ui.size.width, ui.size.height);\n",
       "        },\n",
       "    });\n",
       "\n",
       "    function mouse_event_fn(event) {\n",
       "        if (pass_mouse_events)\n",
       "            return fig.mouse_event(event, event['data']);\n",
       "    }\n",
       "\n",
       "    rubberband.mousedown('button_press', mouse_event_fn);\n",
       "    rubberband.mouseup('button_release', mouse_event_fn);\n",
       "    // Throttle sequential mouse events to 1 every 20ms.\n",
       "    rubberband.mousemove('motion_notify', mouse_event_fn);\n",
       "\n",
       "    rubberband.mouseenter('figure_enter', mouse_event_fn);\n",
       "    rubberband.mouseleave('figure_leave', mouse_event_fn);\n",
       "\n",
       "    canvas_div.on(\"wheel\", function (event) {\n",
       "        event = event.originalEvent;\n",
       "        event['data'] = 'scroll'\n",
       "        if (event.deltaY < 0) {\n",
       "            event.step = 1;\n",
       "        } else {\n",
       "            event.step = -1;\n",
       "        }\n",
       "        mouse_event_fn(event);\n",
       "    });\n",
       "\n",
       "    canvas_div.append(canvas);\n",
       "    canvas_div.append(rubberband);\n",
       "\n",
       "    this.rubberband = rubberband;\n",
       "    this.rubberband_canvas = rubberband[0];\n",
       "    this.rubberband_context = rubberband[0].getContext(\"2d\");\n",
       "    this.rubberband_context.strokeStyle = \"#000000\";\n",
       "\n",
       "    this._resize_canvas = function(width, height) {\n",
       "        // Keep the size of the canvas, canvas container, and rubber band\n",
       "        // canvas in synch.\n",
       "        canvas_div.css('width', width)\n",
       "        canvas_div.css('height', height)\n",
       "\n",
       "        canvas.attr('width', width * mpl.ratio);\n",
       "        canvas.attr('height', height * mpl.ratio);\n",
       "        canvas.attr('style', 'width: ' + width + 'px; height: ' + height + 'px;');\n",
       "\n",
       "        rubberband.attr('width', width);\n",
       "        rubberband.attr('height', height);\n",
       "    }\n",
       "\n",
       "    // Set the figure to an initial 600x600px, this will subsequently be updated\n",
       "    // upon first draw.\n",
       "    this._resize_canvas(600, 600);\n",
       "\n",
       "    // Disable right mouse context menu.\n",
       "    $(this.rubberband_canvas).bind(\"contextmenu\",function(e){\n",
       "        return false;\n",
       "    });\n",
       "\n",
       "    function set_focus () {\n",
       "        canvas.focus();\n",
       "        canvas_div.focus();\n",
       "    }\n",
       "\n",
       "    window.setTimeout(set_focus, 100);\n",
       "}\n",
       "\n",
       "mpl.figure.prototype._init_toolbar = function() {\n",
       "    var fig = this;\n",
       "\n",
       "    var nav_element = $('<div/>')\n",
       "    nav_element.attr('style', 'width: 100%');\n",
       "    this.root.append(nav_element);\n",
       "\n",
       "    // Define a callback function for later on.\n",
       "    function toolbar_event(event) {\n",
       "        return fig.toolbar_button_onclick(event['data']);\n",
       "    }\n",
       "    function toolbar_mouse_event(event) {\n",
       "        return fig.toolbar_button_onmouseover(event['data']);\n",
       "    }\n",
       "\n",
       "    for(var toolbar_ind in mpl.toolbar_items) {\n",
       "        var name = mpl.toolbar_items[toolbar_ind][0];\n",
       "        var tooltip = mpl.toolbar_items[toolbar_ind][1];\n",
       "        var image = mpl.toolbar_items[toolbar_ind][2];\n",
       "        var method_name = mpl.toolbar_items[toolbar_ind][3];\n",
       "\n",
       "        if (!name) {\n",
       "            // put a spacer in here.\n",
       "            continue;\n",
       "        }\n",
       "        var button = $('<button/>');\n",
       "        button.addClass('ui-button ui-widget ui-state-default ui-corner-all ' +\n",
       "                        'ui-button-icon-only');\n",
       "        button.attr('role', 'button');\n",
       "        button.attr('aria-disabled', 'false');\n",
       "        button.click(method_name, toolbar_event);\n",
       "        button.mouseover(tooltip, toolbar_mouse_event);\n",
       "\n",
       "        var icon_img = $('<span/>');\n",
       "        icon_img.addClass('ui-button-icon-primary ui-icon');\n",
       "        icon_img.addClass(image);\n",
       "        icon_img.addClass('ui-corner-all');\n",
       "\n",
       "        var tooltip_span = $('<span/>');\n",
       "        tooltip_span.addClass('ui-button-text');\n",
       "        tooltip_span.html(tooltip);\n",
       "\n",
       "        button.append(icon_img);\n",
       "        button.append(tooltip_span);\n",
       "\n",
       "        nav_element.append(button);\n",
       "    }\n",
       "\n",
       "    var fmt_picker_span = $('<span/>');\n",
       "\n",
       "    var fmt_picker = $('<select/>');\n",
       "    fmt_picker.addClass('mpl-toolbar-option ui-widget ui-widget-content');\n",
       "    fmt_picker_span.append(fmt_picker);\n",
       "    nav_element.append(fmt_picker_span);\n",
       "    this.format_dropdown = fmt_picker[0];\n",
       "\n",
       "    for (var ind in mpl.extensions) {\n",
       "        var fmt = mpl.extensions[ind];\n",
       "        var option = $(\n",
       "            '<option/>', {selected: fmt === mpl.default_extension}).html(fmt);\n",
       "        fmt_picker.append(option)\n",
       "    }\n",
       "\n",
       "    // Add hover states to the ui-buttons\n",
       "    $( \".ui-button\" ).hover(\n",
       "        function() { $(this).addClass(\"ui-state-hover\");},\n",
       "        function() { $(this).removeClass(\"ui-state-hover\");}\n",
       "    );\n",
       "\n",
       "    var status_bar = $('<span class=\"mpl-message\"/>');\n",
       "    nav_element.append(status_bar);\n",
       "    this.message = status_bar[0];\n",
       "}\n",
       "\n",
       "mpl.figure.prototype.request_resize = function(x_pixels, y_pixels) {\n",
       "    // Request matplotlib to resize the figure. Matplotlib will then trigger a resize in the client,\n",
       "    // which will in turn request a refresh of the image.\n",
       "    this.send_message('resize', {'width': x_pixels, 'height': y_pixels});\n",
       "}\n",
       "\n",
       "mpl.figure.prototype.send_message = function(type, properties) {\n",
       "    properties['type'] = type;\n",
       "    properties['figure_id'] = this.id;\n",
       "    this.ws.send(JSON.stringify(properties));\n",
       "}\n",
       "\n",
       "mpl.figure.prototype.send_draw_message = function() {\n",
       "    if (!this.waiting) {\n",
       "        this.waiting = true;\n",
       "        this.ws.send(JSON.stringify({type: \"draw\", figure_id: this.id}));\n",
       "    }\n",
       "}\n",
       "\n",
       "\n",
       "mpl.figure.prototype.handle_save = function(fig, msg) {\n",
       "    var format_dropdown = fig.format_dropdown;\n",
       "    var format = format_dropdown.options[format_dropdown.selectedIndex].value;\n",
       "    fig.ondownload(fig, format);\n",
       "}\n",
       "\n",
       "\n",
       "mpl.figure.prototype.handle_resize = function(fig, msg) {\n",
       "    var size = msg['size'];\n",
       "    if (size[0] != fig.canvas.width || size[1] != fig.canvas.height) {\n",
       "        fig._resize_canvas(size[0], size[1]);\n",
       "        fig.send_message(\"refresh\", {});\n",
       "    };\n",
       "}\n",
       "\n",
       "mpl.figure.prototype.handle_rubberband = function(fig, msg) {\n",
       "    var x0 = msg['x0'] / mpl.ratio;\n",
       "    var y0 = (fig.canvas.height - msg['y0']) / mpl.ratio;\n",
       "    var x1 = msg['x1'] / mpl.ratio;\n",
       "    var y1 = (fig.canvas.height - msg['y1']) / mpl.ratio;\n",
       "    x0 = Math.floor(x0) + 0.5;\n",
       "    y0 = Math.floor(y0) + 0.5;\n",
       "    x1 = Math.floor(x1) + 0.5;\n",
       "    y1 = Math.floor(y1) + 0.5;\n",
       "    var min_x = Math.min(x0, x1);\n",
       "    var min_y = Math.min(y0, y1);\n",
       "    var width = Math.abs(x1 - x0);\n",
       "    var height = Math.abs(y1 - y0);\n",
       "\n",
       "    fig.rubberband_context.clearRect(\n",
       "        0, 0, fig.canvas.width, fig.canvas.height);\n",
       "\n",
       "    fig.rubberband_context.strokeRect(min_x, min_y, width, height);\n",
       "}\n",
       "\n",
       "mpl.figure.prototype.handle_figure_label = function(fig, msg) {\n",
       "    // Updates the figure title.\n",
       "    fig.header.textContent = msg['label'];\n",
       "}\n",
       "\n",
       "mpl.figure.prototype.handle_cursor = function(fig, msg) {\n",
       "    var cursor = msg['cursor'];\n",
       "    switch(cursor)\n",
       "    {\n",
       "    case 0:\n",
       "        cursor = 'pointer';\n",
       "        break;\n",
       "    case 1:\n",
       "        cursor = 'default';\n",
       "        break;\n",
       "    case 2:\n",
       "        cursor = 'crosshair';\n",
       "        break;\n",
       "    case 3:\n",
       "        cursor = 'move';\n",
       "        break;\n",
       "    }\n",
       "    fig.rubberband_canvas.style.cursor = cursor;\n",
       "}\n",
       "\n",
       "mpl.figure.prototype.handle_message = function(fig, msg) {\n",
       "    fig.message.textContent = msg['message'];\n",
       "}\n",
       "\n",
       "mpl.figure.prototype.handle_draw = function(fig, msg) {\n",
       "    // Request the server to send over a new figure.\n",
       "    fig.send_draw_message();\n",
       "}\n",
       "\n",
       "mpl.figure.prototype.handle_image_mode = function(fig, msg) {\n",
       "    fig.image_mode = msg['mode'];\n",
       "}\n",
       "\n",
       "mpl.figure.prototype.updated_canvas_event = function() {\n",
       "    // Called whenever the canvas gets updated.\n",
       "    this.send_message(\"ack\", {});\n",
       "}\n",
       "\n",
       "// A function to construct a web socket function for onmessage handling.\n",
       "// Called in the figure constructor.\n",
       "mpl.figure.prototype._make_on_message_function = function(fig) {\n",
       "    return function socket_on_message(evt) {\n",
       "        if (evt.data instanceof Blob) {\n",
       "            /* FIXME: We get \"Resource interpreted as Image but\n",
       "             * transferred with MIME type text/plain:\" errors on\n",
       "             * Chrome.  But how to set the MIME type?  It doesn't seem\n",
       "             * to be part of the websocket stream */\n",
       "            evt.data.type = \"image/png\";\n",
       "\n",
       "            /* Free the memory for the previous frames */\n",
       "            if (fig.imageObj.src) {\n",
       "                (window.URL || window.webkitURL).revokeObjectURL(\n",
       "                    fig.imageObj.src);\n",
       "            }\n",
       "\n",
       "            fig.imageObj.src = (window.URL || window.webkitURL).createObjectURL(\n",
       "                evt.data);\n",
       "            fig.updated_canvas_event();\n",
       "            fig.waiting = false;\n",
       "            return;\n",
       "        }\n",
       "        else if (typeof evt.data === 'string' && evt.data.slice(0, 21) == \"data:image/png;base64\") {\n",
       "            fig.imageObj.src = evt.data;\n",
       "            fig.updated_canvas_event();\n",
       "            fig.waiting = false;\n",
       "            return;\n",
       "        }\n",
       "\n",
       "        var msg = JSON.parse(evt.data);\n",
       "        var msg_type = msg['type'];\n",
       "\n",
       "        // Call the  \"handle_{type}\" callback, which takes\n",
       "        // the figure and JSON message as its only arguments.\n",
       "        try {\n",
       "            var callback = fig[\"handle_\" + msg_type];\n",
       "        } catch (e) {\n",
       "            console.log(\"No handler for the '\" + msg_type + \"' message type: \", msg);\n",
       "            return;\n",
       "        }\n",
       "\n",
       "        if (callback) {\n",
       "            try {\n",
       "                // console.log(\"Handling '\" + msg_type + \"' message: \", msg);\n",
       "                callback(fig, msg);\n",
       "            } catch (e) {\n",
       "                console.log(\"Exception inside the 'handler_\" + msg_type + \"' callback:\", e, e.stack, msg);\n",
       "            }\n",
       "        }\n",
       "    };\n",
       "}\n",
       "\n",
       "// from http://stackoverflow.com/questions/1114465/getting-mouse-location-in-canvas\n",
       "mpl.findpos = function(e) {\n",
       "    //this section is from http://www.quirksmode.org/js/events_properties.html\n",
       "    var targ;\n",
       "    if (!e)\n",
       "        e = window.event;\n",
       "    if (e.target)\n",
       "        targ = e.target;\n",
       "    else if (e.srcElement)\n",
       "        targ = e.srcElement;\n",
       "    if (targ.nodeType == 3) // defeat Safari bug\n",
       "        targ = targ.parentNode;\n",
       "\n",
       "    // jQuery normalizes the pageX and pageY\n",
       "    // pageX,Y are the mouse positions relative to the document\n",
       "    // offset() returns the position of the element relative to the document\n",
       "    var x = e.pageX - $(targ).offset().left;\n",
       "    var y = e.pageY - $(targ).offset().top;\n",
       "\n",
       "    return {\"x\": x, \"y\": y};\n",
       "};\n",
       "\n",
       "/*\n",
       " * return a copy of an object with only non-object keys\n",
       " * we need this to avoid circular references\n",
       " * http://stackoverflow.com/a/24161582/3208463\n",
       " */\n",
       "function simpleKeys (original) {\n",
       "  return Object.keys(original).reduce(function (obj, key) {\n",
       "    if (typeof original[key] !== 'object')\n",
       "        obj[key] = original[key]\n",
       "    return obj;\n",
       "  }, {});\n",
       "}\n",
       "\n",
       "mpl.figure.prototype.mouse_event = function(event, name) {\n",
       "    var canvas_pos = mpl.findpos(event)\n",
       "\n",
       "    if (name === 'button_press')\n",
       "    {\n",
       "        this.canvas.focus();\n",
       "        this.canvas_div.focus();\n",
       "    }\n",
       "\n",
       "    var x = canvas_pos.x * mpl.ratio;\n",
       "    var y = canvas_pos.y * mpl.ratio;\n",
       "\n",
       "    this.send_message(name, {x: x, y: y, button: event.button,\n",
       "                             step: event.step,\n",
       "                             guiEvent: simpleKeys(event)});\n",
       "\n",
       "    /* This prevents the web browser from automatically changing to\n",
       "     * the text insertion cursor when the button is pressed.  We want\n",
       "     * to control all of the cursor setting manually through the\n",
       "     * 'cursor' event from matplotlib */\n",
       "    event.preventDefault();\n",
       "    return false;\n",
       "}\n",
       "\n",
       "mpl.figure.prototype._key_event_extra = function(event, name) {\n",
       "    // Handle any extra behaviour associated with a key event\n",
       "}\n",
       "\n",
       "mpl.figure.prototype.key_event = function(event, name) {\n",
       "\n",
       "    // Prevent repeat events\n",
       "    if (name == 'key_press')\n",
       "    {\n",
       "        if (event.which === this._key)\n",
       "            return;\n",
       "        else\n",
       "            this._key = event.which;\n",
       "    }\n",
       "    if (name == 'key_release')\n",
       "        this._key = null;\n",
       "\n",
       "    var value = '';\n",
       "    if (event.ctrlKey && event.which != 17)\n",
       "        value += \"ctrl+\";\n",
       "    if (event.altKey && event.which != 18)\n",
       "        value += \"alt+\";\n",
       "    if (event.shiftKey && event.which != 16)\n",
       "        value += \"shift+\";\n",
       "\n",
       "    value += 'k';\n",
       "    value += event.which.toString();\n",
       "\n",
       "    this._key_event_extra(event, name);\n",
       "\n",
       "    this.send_message(name, {key: value,\n",
       "                             guiEvent: simpleKeys(event)});\n",
       "    return false;\n",
       "}\n",
       "\n",
       "mpl.figure.prototype.toolbar_button_onclick = function(name) {\n",
       "    if (name == 'download') {\n",
       "        this.handle_save(this, null);\n",
       "    } else {\n",
       "        this.send_message(\"toolbar_button\", {name: name});\n",
       "    }\n",
       "};\n",
       "\n",
       "mpl.figure.prototype.toolbar_button_onmouseover = function(tooltip) {\n",
       "    this.message.textContent = tooltip;\n",
       "};\n",
       "mpl.toolbar_items = [[\"Home\", \"Reset original view\", \"fa fa-home icon-home\", \"home\"], [\"Back\", \"Back to  previous view\", \"fa fa-arrow-left icon-arrow-left\", \"back\"], [\"Forward\", \"Forward to next view\", \"fa fa-arrow-right icon-arrow-right\", \"forward\"], [\"\", \"\", \"\", \"\"], [\"Pan\", \"Pan axes with left mouse, zoom with right\", \"fa fa-arrows icon-move\", \"pan\"], [\"Zoom\", \"Zoom to rectangle\", \"fa fa-square-o icon-check-empty\", \"zoom\"], [\"\", \"\", \"\", \"\"], [\"Download\", \"Download plot\", \"fa fa-floppy-o icon-save\", \"download\"]];\n",
       "\n",
       "mpl.extensions = [\"eps\", \"jpeg\", \"pdf\", \"png\", \"ps\", \"raw\", \"svg\", \"tif\"];\n",
       "\n",
       "mpl.default_extension = \"png\";var comm_websocket_adapter = function(comm) {\n",
       "    // Create a \"websocket\"-like object which calls the given IPython comm\n",
       "    // object with the appropriate methods. Currently this is a non binary\n",
       "    // socket, so there is still some room for performance tuning.\n",
       "    var ws = {};\n",
       "\n",
       "    ws.close = function() {\n",
       "        comm.close()\n",
       "    };\n",
       "    ws.send = function(m) {\n",
       "        //console.log('sending', m);\n",
       "        comm.send(m);\n",
       "    };\n",
       "    // Register the callback with on_msg.\n",
       "    comm.on_msg(function(msg) {\n",
       "        //console.log('receiving', msg['content']['data'], msg);\n",
       "        // Pass the mpl event to the overridden (by mpl) onmessage function.\n",
       "        ws.onmessage(msg['content']['data'])\n",
       "    });\n",
       "    return ws;\n",
       "}\n",
       "\n",
       "mpl.mpl_figure_comm = function(comm, msg) {\n",
       "    // This is the function which gets called when the mpl process\n",
       "    // starts-up an IPython Comm through the \"matplotlib\" channel.\n",
       "\n",
       "    var id = msg.content.data.id;\n",
       "    // Get hold of the div created by the display call when the Comm\n",
       "    // socket was opened in Python.\n",
       "    var element = $(\"#\" + id);\n",
       "    var ws_proxy = comm_websocket_adapter(comm)\n",
       "\n",
       "    function ondownload(figure, format) {\n",
       "        window.open(figure.imageObj.src);\n",
       "    }\n",
       "\n",
       "    var fig = new mpl.figure(id, ws_proxy,\n",
       "                           ondownload,\n",
       "                           element.get(0));\n",
       "\n",
       "    // Call onopen now - mpl needs it, as it is assuming we've passed it a real\n",
       "    // web socket which is closed, not our websocket->open comm proxy.\n",
       "    ws_proxy.onopen();\n",
       "\n",
       "    fig.parent_element = element.get(0);\n",
       "    fig.cell_info = mpl.find_output_cell(\"<div id='\" + id + \"'></div>\");\n",
       "    if (!fig.cell_info) {\n",
       "        console.error(\"Failed to find cell for figure\", id, fig);\n",
       "        return;\n",
       "    }\n",
       "\n",
       "    var output_index = fig.cell_info[2]\n",
       "    var cell = fig.cell_info[0];\n",
       "\n",
       "};\n",
       "\n",
       "mpl.figure.prototype.handle_close = function(fig, msg) {\n",
       "    var width = fig.canvas.width/mpl.ratio\n",
       "    fig.root.unbind('remove')\n",
       "\n",
       "    // Update the output cell to use the data from the current canvas.\n",
       "    fig.push_to_output();\n",
       "    var dataURL = fig.canvas.toDataURL();\n",
       "    // Re-enable the keyboard manager in IPython - without this line, in FF,\n",
       "    // the notebook keyboard shortcuts fail.\n",
       "    IPython.keyboard_manager.enable()\n",
       "    $(fig.parent_element).html('<img src=\"' + dataURL + '\" width=\"' + width + '\">');\n",
       "    fig.close_ws(fig, msg);\n",
       "}\n",
       "\n",
       "mpl.figure.prototype.close_ws = function(fig, msg){\n",
       "    fig.send_message('closing', msg);\n",
       "    // fig.ws.close()\n",
       "}\n",
       "\n",
       "mpl.figure.prototype.push_to_output = function(remove_interactive) {\n",
       "    // Turn the data on the canvas into data in the output cell.\n",
       "    var width = this.canvas.width/mpl.ratio\n",
       "    var dataURL = this.canvas.toDataURL();\n",
       "    this.cell_info[1]['text/html'] = '<img src=\"' + dataURL + '\" width=\"' + width + '\">';\n",
       "}\n",
       "\n",
       "mpl.figure.prototype.updated_canvas_event = function() {\n",
       "    // Tell IPython that the notebook contents must change.\n",
       "    IPython.notebook.set_dirty(true);\n",
       "    this.send_message(\"ack\", {});\n",
       "    var fig = this;\n",
       "    // Wait a second, then push the new image to the DOM so\n",
       "    // that it is saved nicely (might be nice to debounce this).\n",
       "    setTimeout(function () { fig.push_to_output() }, 1000);\n",
       "}\n",
       "\n",
       "mpl.figure.prototype._init_toolbar = function() {\n",
       "    var fig = this;\n",
       "\n",
       "    var nav_element = $('<div/>')\n",
       "    nav_element.attr('style', 'width: 100%');\n",
       "    this.root.append(nav_element);\n",
       "\n",
       "    // Define a callback function for later on.\n",
       "    function toolbar_event(event) {\n",
       "        return fig.toolbar_button_onclick(event['data']);\n",
       "    }\n",
       "    function toolbar_mouse_event(event) {\n",
       "        return fig.toolbar_button_onmouseover(event['data']);\n",
       "    }\n",
       "\n",
       "    for(var toolbar_ind in mpl.toolbar_items){\n",
       "        var name = mpl.toolbar_items[toolbar_ind][0];\n",
       "        var tooltip = mpl.toolbar_items[toolbar_ind][1];\n",
       "        var image = mpl.toolbar_items[toolbar_ind][2];\n",
       "        var method_name = mpl.toolbar_items[toolbar_ind][3];\n",
       "\n",
       "        if (!name) { continue; };\n",
       "\n",
       "        var button = $('<button class=\"btn btn-default\" href=\"#\" title=\"' + name + '\"><i class=\"fa ' + image + ' fa-lg\"></i></button>');\n",
       "        button.click(method_name, toolbar_event);\n",
       "        button.mouseover(tooltip, toolbar_mouse_event);\n",
       "        nav_element.append(button);\n",
       "    }\n",
       "\n",
       "    // Add the status bar.\n",
       "    var status_bar = $('<span class=\"mpl-message\" style=\"text-align:right; float: right;\"/>');\n",
       "    nav_element.append(status_bar);\n",
       "    this.message = status_bar[0];\n",
       "\n",
       "    // Add the close button to the window.\n",
       "    var buttongrp = $('<div class=\"btn-group inline pull-right\"></div>');\n",
       "    var button = $('<button class=\"btn btn-mini btn-primary\" href=\"#\" title=\"Stop Interaction\"><i class=\"fa fa-power-off icon-remove icon-large\"></i></button>');\n",
       "    button.click(function (evt) { fig.handle_close(fig, {}); } );\n",
       "    button.mouseover('Stop Interaction', toolbar_mouse_event);\n",
       "    buttongrp.append(button);\n",
       "    var titlebar = this.root.find($('.ui-dialog-titlebar'));\n",
       "    titlebar.prepend(buttongrp);\n",
       "}\n",
       "\n",
       "mpl.figure.prototype._root_extra_style = function(el){\n",
       "    var fig = this\n",
       "    el.on(\"remove\", function(){\n",
       "\tfig.close_ws(fig, {});\n",
       "    });\n",
       "}\n",
       "\n",
       "mpl.figure.prototype._canvas_extra_style = function(el){\n",
       "    // this is important to make the div 'focusable\n",
       "    el.attr('tabindex', 0)\n",
       "    // reach out to IPython and tell the keyboard manager to turn it's self\n",
       "    // off when our div gets focus\n",
       "\n",
       "    // location in version 3\n",
       "    if (IPython.notebook.keyboard_manager) {\n",
       "        IPython.notebook.keyboard_manager.register_events(el);\n",
       "    }\n",
       "    else {\n",
       "        // location in version 2\n",
       "        IPython.keyboard_manager.register_events(el);\n",
       "    }\n",
       "\n",
       "}\n",
       "\n",
       "mpl.figure.prototype._key_event_extra = function(event, name) {\n",
       "    var manager = IPython.notebook.keyboard_manager;\n",
       "    if (!manager)\n",
       "        manager = IPython.keyboard_manager;\n",
       "\n",
       "    // Check for shift+enter\n",
       "    if (event.shiftKey && event.which == 13) {\n",
       "        this.canvas_div.blur();\n",
       "        event.shiftKey = false;\n",
       "        // Send a \"J\" for go to next cell\n",
       "        event.which = 74;\n",
       "        event.keyCode = 74;\n",
       "        manager.command_mode();\n",
       "        manager.handle_keydown(event);\n",
       "    }\n",
       "}\n",
       "\n",
       "mpl.figure.prototype.handle_save = function(fig, msg) {\n",
       "    fig.ondownload(fig, null);\n",
       "}\n",
       "\n",
       "\n",
       "mpl.find_output_cell = function(html_output) {\n",
       "    // Return the cell and output element which can be found *uniquely* in the notebook.\n",
       "    // Note - this is a bit hacky, but it is done because the \"notebook_saving.Notebook\"\n",
       "    // IPython event is triggered only after the cells have been serialised, which for\n",
       "    // our purposes (turning an active figure into a static one), is too late.\n",
       "    var cells = IPython.notebook.get_cells();\n",
       "    var ncells = cells.length;\n",
       "    for (var i=0; i<ncells; i++) {\n",
       "        var cell = cells[i];\n",
       "        if (cell.cell_type === 'code'){\n",
       "            for (var j=0; j<cell.output_area.outputs.length; j++) {\n",
       "                var data = cell.output_area.outputs[j];\n",
       "                if (data.data) {\n",
       "                    // IPython >= 3 moved mimebundle to data attribute of output\n",
       "                    data = data.data;\n",
       "                }\n",
       "                if (data['text/html'] == html_output) {\n",
       "                    return [cell, data, j];\n",
       "                }\n",
       "            }\n",
       "        }\n",
       "    }\n",
       "}\n",
       "\n",
       "// Register the function which deals with the matplotlib target/channel.\n",
       "// The kernel may be null if the page has been refreshed.\n",
       "if (IPython.notebook.kernel != null) {\n",
       "    IPython.notebook.kernel.comm_manager.register_target('matplotlib', mpl.mpl_figure_comm);\n",
       "}\n"
      ],
      "text/plain": [
       "<IPython.core.display.Javascript object>"
      ]
     },
     "metadata": {},
     "output_type": "display_data"
    },
    {
     "data": {
      "text/html": [
       "<img src=\"data:image/png;base64,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\" width=\"432\">"
      ],
      "text/plain": [
       "<IPython.core.display.HTML object>"
      ]
     },
     "metadata": {},
     "output_type": "display_data"
    },
    {
     "name": "stdout",
     "output_type": "stream",
     "text": [
      "Plots created! Please check the directory \"plot-poses\" within the video directory\n"
     ]
    }
   ],
   "source": [
    "%matplotlib notebook\n",
    "deeplabcut.plot_trajectories(path_config_file,videofile_path)"
   ]
  },
  {
   "cell_type": "code",
   "execution_count": null,
   "metadata": {},
   "outputs": [],
   "source": []
  }
 ],
 "metadata": {
  "accelerator": "GPU",
  "colab": {
   "name": "Demo-yourowndata.ipynb",
   "provenance": [],
   "version": "0.3.2"
  },
  "kernelspec": {
   "display_name": "Python [conda env:DLC2_copy]",
   "language": "python",
   "name": "conda-env-DLC2_copy-py"
  },
  "language_info": {
   "codemirror_mode": {
    "name": "ipython",
    "version": 3
   },
   "file_extension": ".py",
   "mimetype": "text/x-python",
   "name": "python",
   "nbconvert_exporter": "python",
   "pygments_lexer": "ipython3",
   "version": "3.6.7"
  },
  "varInspector": {
   "cols": {
    "lenName": 16,
    "lenType": 16,
    "lenVar": 40
   },
   "kernels_config": {
    "python": {
     "delete_cmd_postfix": "",
     "delete_cmd_prefix": "del ",
     "library": "var_list.py",
     "varRefreshCmd": "print(var_dic_list())"
    },
    "r": {
     "delete_cmd_postfix": ") ",
     "delete_cmd_prefix": "rm(",
     "library": "var_list.r",
     "varRefreshCmd": "cat(var_dic_list()) "
    }
   },
   "types_to_exclude": [
    "module",
    "function",
    "builtin_function_or_method",
    "instance",
    "_Feature"
   ],
   "window_display": false
  }
 },
 "nbformat": 4,
 "nbformat_minor": 1
}
